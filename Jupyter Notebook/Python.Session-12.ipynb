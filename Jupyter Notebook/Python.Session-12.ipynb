{
 "cells": [
  {
   "cell_type": "code",
   "execution_count": null,
   "metadata": {},
   "outputs": [],
   "source": [
    "benim = [\"kagit\", \"kalem\", \"masa\", \"kitap\"]"
   ]
  },
  {
   "cell_type": "code",
   "execution_count": null,
   "metadata": {},
   "outputs": [],
   "source": [
    "\"kagit\" in benim"
   ]
  },
  {
   "cell_type": "code",
   "execution_count": null,
   "metadata": {},
   "outputs": [],
   "source": [
    "score = int(input(\"notunuzu giriniz :\"))"
   ]
  },
  {
   "cell_type": "code",
   "execution_count": null,
   "metadata": {},
   "outputs": [],
   "source": [
    "if score >= 90:\n",
    "    if score >= 95:\n",
    "        score_letter = \"A+\"\n",
    "    else : score_letter = \"A\" \n",
    "        \n",
    "elif score >= 80:\n",
    "    if score >= 85:\n",
    "        score_letter = \"B+\"\n",
    "    else : score_letter = \"B\"\n",
    "    \n",
    "else : score_letter = \"B-\"\n",
    "    \n",
    "print(score_letter)"
   ]
  },
  {
   "cell_type": "code",
   "execution_count": null,
   "metadata": {},
   "outputs": [],
   "source": [
    "number = 0\n",
    "\n",
    "while number < 6:\n",
    "    print(number)\n",
    "    number += 1\n",
    "\n",
    "print(\"now, number is bigger or equal to 6\")"
   ]
  },
  {
   "cell_type": "code",
   "execution_count": null,
   "metadata": {},
   "outputs": [],
   "source": [
    "# True, if all chars in the string are digits\n",
    "# False, if at leatst one char is not a digit\n",
    "\n",
    "# string method\n",
    "\n",
    "\"13.12\".isdigit()"
   ]
  },
  {
   "cell_type": "code",
   "execution_count": 3,
   "metadata": {},
   "outputs": [
    {
     "name": "stdout",
     "output_type": "stream",
     "text": [
      "Let's play the guessing game!\n",
      "What a two-digit number am I thinking of? 33\n",
      "little lower\n",
      "What a two-digit number am I thinking of? 22\n",
      "little higher\n",
      "What a two-digit number am I thinking of? 25\n",
      "little higher\n",
      "What a two-digit number am I thinking of? 28\n",
      "Are you a MINDREADER!!\n"
     ]
    }
   ],
   "source": [
    "answer = 28\n",
    "\n",
    "question = \"What a two-digit number am I thinking of? \"\n",
    "\n",
    "print(\"Let's play the guessing game!\")\n",
    "\n",
    "while True :\n",
    "    \n",
    "    guess = int(input(question))\n",
    "    \n",
    "    if guess < answer:\n",
    "        print(\"little higher\")\n",
    "    elif guess > answer:\n",
    "        print(\"little lower\")\n",
    "    else : # guess == answer\n",
    "        print(\"Are you a MINDREADER!!\")\n",
    "        break"
   ]
  },
  {
   "cell_type": "code",
   "execution_count": 30,
   "metadata": {},
   "outputs": [
    {
     "name": "stdout",
     "output_type": "stream",
     "text": [
      "noktalama işareti içermeyen bir cümle gir:bana clarusway çok iyi geldi\n",
      "bana clarusway çok iyi geldi\n",
      "clarusway\n"
     ]
    }
   ],
   "source": [
    "sentence = input(\"noktalama işareti içermeyen bir cümle gir:\")\n",
    "\n",
    "word_list = sentence.split()\n",
    "i = 0\n",
    "#word_list\n",
    "longest = 0\n",
    "\n",
    "while i <= (len(word_list)-1) :\n",
    "    if len(word_list[i]) > longest:\n",
    "        longest = len(word_list[i])\n",
    "        longest_word = word_list[i]\n",
    "    i = i + 1\n",
    "    \n",
    "print(sentence, longest_word, sep=\"\\n\")"
   ]
  },
  {
   "cell_type": "code",
   "execution_count": 6,
   "metadata": {},
   "outputs": [
    {
     "data": {
      "text/plain": [
       "['b', 'ir', 'iki', 'ü', 'ç']"
      ]
     },
     "execution_count": 6,
     "metadata": {},
     "output_type": "execute_result"
    }
   ],
   "source": [
    "\"b-ir-iki-ü-ç\".split(\"-\")"
   ]
  },
  {
   "cell_type": "code",
   "execution_count": 12,
   "metadata": {},
   "outputs": [
    {
     "name": "stdout",
     "output_type": "stream",
     "text": [
      "[1, 2, 3, 4, 5]\n"
     ]
    }
   ],
   "source": [
    "numbers = []\n",
    "\n",
    "for i in range(1, 6):\n",
    "    numbers.append(i)\n",
    "print(numbers)"
   ]
  },
  {
   "cell_type": "code",
   "execution_count": 13,
   "metadata": {},
   "outputs": [],
   "source": [
    "number = []\n",
    "\n",
    "number.append(0)\n"
   ]
  },
  {
   "cell_type": "code",
   "execution_count": 14,
   "metadata": {},
   "outputs": [
    {
     "data": {
      "text/plain": [
       "[0]"
      ]
     },
     "execution_count": 14,
     "metadata": {},
     "output_type": "execute_result"
    }
   ],
   "source": [
    "number"
   ]
  },
  {
   "cell_type": "code",
   "execution_count": 15,
   "metadata": {},
   "outputs": [],
   "source": [
    "number.append(1)"
   ]
  },
  {
   "cell_type": "code",
   "execution_count": 16,
   "metadata": {},
   "outputs": [
    {
     "data": {
      "text/plain": [
       "[0, 1]"
      ]
     },
     "execution_count": 16,
     "metadata": {},
     "output_type": "execute_result"
    }
   ],
   "source": [
    "number"
   ]
  },
  {
   "cell_type": "code",
   "execution_count": 17,
   "metadata": {},
   "outputs": [],
   "source": [
    "number.append(2)"
   ]
  },
  {
   "cell_type": "code",
   "execution_count": 18,
   "metadata": {},
   "outputs": [
    {
     "data": {
      "text/plain": [
       "[0, 1, 2]"
      ]
     },
     "execution_count": 18,
     "metadata": {},
     "output_type": "execute_result"
    }
   ],
   "source": [
    "number"
   ]
  },
  {
   "cell_type": "code",
   "execution_count": 19,
   "metadata": {},
   "outputs": [],
   "source": [
    "number.append(3)"
   ]
  },
  {
   "cell_type": "code",
   "execution_count": 20,
   "metadata": {},
   "outputs": [
    {
     "data": {
      "text/plain": [
       "[0, 1, 2, 3]"
      ]
     },
     "execution_count": 20,
     "metadata": {},
     "output_type": "execute_result"
    }
   ],
   "source": [
    "number"
   ]
  },
  {
   "cell_type": "code",
   "execution_count": 23,
   "metadata": {},
   "outputs": [],
   "source": [
    "tuple_listesi = [(\"ali\", \"veli\", \"deli\"), (\"zeynep\", \"ayşe\", \"esra\")]"
   ]
  },
  {
   "cell_type": "code",
   "execution_count": 26,
   "metadata": {},
   "outputs": [
    {
     "name": "stdout",
     "output_type": "stream",
     "text": [
      "('ali', 'veli', 'deli')\n",
      "('zeynep', 'ayşe', 'esra')\n"
     ]
    }
   ],
   "source": [
    "for i in tuple_listesi:\n",
    "    print(i)"
   ]
  },
  {
   "cell_type": "code",
   "execution_count": null,
   "metadata": {},
   "outputs": [],
   "source": []
  }
 ],
 "metadata": {
  "kernelspec": {
   "display_name": "Python 3",
   "language": "python",
   "name": "python3"
  },
  "language_info": {
   "codemirror_mode": {
    "name": "ipython",
    "version": 3
   },
   "file_extension": ".py",
   "mimetype": "text/x-python",
   "name": "python",
   "nbconvert_exporter": "python",
   "pygments_lexer": "ipython3",
   "version": "3.7.3"
  }
 },
 "nbformat": 4,
 "nbformat_minor": 4
}
