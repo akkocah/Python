{
 "cells": [
  {
   "cell_type": "code",
   "execution_count": 1,
   "metadata": {
    "tags": []
   },
   "outputs": [
    {
     "output_type": "stream",
     "name": "stdout",
     "text": "inner variable\nouter variable\n"
    }
   ],
   "source": [
    "my_var = 'outer variable'\n",
    "\n",
    "def func_var(): \n",
    "\tmy_var= 'inner variable'\n",
    "\tprint(my_var) \n",
    "\n",
    "func_var() \n",
    "print(my_var)"
   ]
  },
  {
   "cell_type": "code",
   "execution_count": 2,
   "metadata": {
    "tags": []
   },
   "outputs": [
    {
     "output_type": "stream",
     "name": "stdout",
     "text": "I am the global one\nI am the global one\nThe globals are valid everywhere \nI am the local one\n"
    },
    {
     "output_type": "error",
     "ename": "NameError",
     "evalue": "name 'local_text' is not defined",
     "traceback": [
      "\u001b[0;31m---------------------------------------------------------------------------\u001b[0m",
      "\u001b[0;31mNameError\u001b[0m                                 Traceback (most recent call last)",
      "\u001b[0;32m<ipython-input-2-0864727daf5c>\u001b[0m in \u001b[0;36m<module>\u001b[0;34m\u001b[0m\n\u001b[1;32m     19\u001b[0m \u001b[0mlocal_func\u001b[0m\u001b[0;34m(\u001b[0m\u001b[0;34m)\u001b[0m  \u001b[0;31m# 'I am the local one' will be printed as expected\u001b[0m\u001b[0;34m\u001b[0m\u001b[0;34m\u001b[0m\u001b[0m\n\u001b[1;32m     20\u001b[0m \u001b[0;34m\u001b[0m\u001b[0m\n\u001b[0;32m---> 21\u001b[0;31m \u001b[0mprint\u001b[0m\u001b[0;34m(\u001b[0m\u001b[0mlocal_text\u001b[0m\u001b[0;34m)\u001b[0m  \u001b[0;31m# NameError will be raised\u001b[0m\u001b[0;34m\u001b[0m\u001b[0;34m\u001b[0m\u001b[0m\n\u001b[0m\u001b[1;32m     22\u001b[0m \u001b[0;31m# because we can't use local variable outside of its function\u001b[0m\u001b[0;34m\u001b[0m\u001b[0;34m\u001b[0m\u001b[0;34m\u001b[0m\u001b[0m\n",
      "\u001b[0;31mNameError\u001b[0m: name 'local_text' is not defined"
     ]
    }
   ],
   "source": [
    "text = \"I am the global one\"\n",
    " \n",
    "def global_func():\n",
    "    print(text)  # we can use 'text' in a function\n",
    "                 # because it's a global variable\n",
    "\n",
    "global_func()  # 'I am the global one' will be printed\n",
    "print(text)  # it can also be printed outside of the function\n",
    " \n",
    "text = \"The globals are valid everywhere \"\n",
    " \n",
    "global_func()  # we changed the value of 'text'\n",
    "# 'The globals are valid everywhere' will be printed\n",
    " \n",
    "def local_func():\n",
    "    local_text = \"I am the local one\"\n",
    "    print(local_text)  # local_text is a local variable\n",
    "\n",
    "local_func()  # 'I am the local one' will be printed as expected\n",
    " \n",
    "print(local_text)  # NameError will be raised\n",
    "# because we can't use local variable outside of its function"
   ]
  },
  {
   "cell_type": "code",
   "execution_count": 3,
   "metadata": {
    "tags": []
   },
   "outputs": [
    {
     "output_type": "stream",
     "name": "stdout",
     "text": "local\nglobal\n"
    }
   ],
   "source": [
    "variable = \"global\"\n",
    "\n",
    "def func_outer():\n",
    "    variable = \"enclosing outer local\"\n",
    "    def func_inner():\n",
    "        variable = \"enclosing inner local\"\n",
    "        def func_local():\n",
    "            variable = \"local\"\n",
    "            print(variable)\n",
    "        func_local()\n",
    "    func_inner()\n",
    " \n",
    "func_outer()  # prints 'local' defined in the innermost function\n",
    "print(variable)  # 'global' level variable holds its value"
   ]
  },
  {
   "cell_type": "code",
   "execution_count": 5,
   "metadata": {
    "tags": []
   },
   "outputs": [
    {
     "output_type": "stream",
     "name": "stdout",
     "text": "1\n\n1\n"
    }
   ],
   "source": [
    "count = 1\n",
    "\n",
    "def print_global():\n",
    "    print(count)\n",
    " \n",
    "print_global()\n",
    " \n",
    "def counter():\n",
    "    print(count)\n",
    "    #count += 1  # we're trying to change its value  #hata verir \n",
    " \n",
    "print()  # just empty line\n",
    "counter() "
   ]
  },
  {
   "cell_type": "code",
   "execution_count": 11,
   "metadata": {
    "tags": []
   },
   "outputs": [
    {
     "output_type": "stream",
     "name": "stdout",
     "text": "0\n1\n"
    }
   ],
   "source": [
    "count = 0\n",
    "def counter():\n",
    "    global count\n",
    "    print(count)\n",
    "    count +=1\n",
    "counter()\n",
    "print(count)"
   ]
  },
  {
   "cell_type": "code",
   "execution_count": 12,
   "metadata": {
    "tags": []
   },
   "outputs": [
    {
     "output_type": "stream",
     "name": "stdout",
     "text": "inner: inner variable\nouter: outer variable\n"
    }
   ],
   "source": [
    "def func_enclosing1():\n",
    "    x = 'outer variable'\n",
    "    def func_enclosing2():\n",
    "        x = 'inner variable'\n",
    "        print(\"inner:\", x)\n",
    "    func_enclosing2()\n",
    "    print(\"outer:\", x)\n",
    "\n",
    "func_enclosing1() \n"
   ]
  },
  {
   "cell_type": "code",
   "execution_count": 13,
   "metadata": {
    "tags": []
   },
   "outputs": [
    {
     "output_type": "stream",
     "name": "stdout",
     "text": "inner: inner variable\nouter: inner variable\n"
    }
   ],
   "source": [
    "def enclosing_func1():\n",
    "    x = 'outer variable'\n",
    "    def enclosing_func2():\n",
    "        nonlocal x  # its inner-value can be used in the outer scope\n",
    "        x = 'inner variable'\n",
    "        print(\"inner:\", x)\n",
    "    enclosing_func2()\n",
    "    print(\"outer:\", x)\n",
    "\n",
    "enclosing_func1() "
   ]
  },
  {
   "cell_type": "code",
   "execution_count": 17,
   "metadata": {
    "tags": []
   },
   "outputs": [
    {
     "output_type": "stream",
     "name": "stdout",
     "text": "15\n15\n"
    }
   ],
   "source": [
    "x = 10\n",
    "  \n",
    "def my_function(): \n",
    "    global x\n",
    "    x += 5 \n",
    "    print(x)\n",
    "my_function()\n",
    "print(x) "
   ]
  },
  {
   "cell_type": "code",
   "execution_count": null,
   "metadata": {},
   "outputs": [],
   "source": []
  },
  {
   "cell_type": "code",
   "execution_count": null,
   "metadata": {},
   "outputs": [],
   "source": []
  },
  {
   "cell_type": "code",
   "execution_count": null,
   "metadata": {},
   "outputs": [],
   "source": []
  },
  {
   "cell_type": "code",
   "execution_count": 18,
   "metadata": {
    "tags": []
   },
   "outputs": [
    {
     "output_type": "stream",
     "name": "stdout",
     "text": "hello\n"
    }
   ],
   "source": [
    "def myfunc1():\n",
    "  x = \"hi\"\n",
    "  def myfunc2():\n",
    "    nonlocal x\n",
    "    x = \"hello\"\n",
    "  myfunc2() \n",
    "  return x\n",
    "\n",
    "print(myfunc1())"
   ]
  },
  {
   "cell_type": "code",
   "execution_count": 34,
   "metadata": {
    "tags": []
   },
   "outputs": [
    {
     "output_type": "stream",
     "name": "stdout",
     "text": "25\n"
    },
    {
     "output_type": "execute_result",
     "data": {
      "text/plain": "100"
     },
     "metadata": {},
     "execution_count": 34
    }
   ],
   "source": [
    "def square(x):\n",
    "    return x**2\n",
    "print(square(5))\n",
    "lambda x : x ** 2 #Note that you do not need to use return statement in lambda functions.  The formula syntax is : (lambda parameters : expression)(arguments)\n",
    "(lambda x: x**2)(10)"
   ]
  },
  {
   "cell_type": "code",
   "execution_count": 40,
   "metadata": {
    "tags": []
   },
   "outputs": [
    {
     "output_type": "execute_result",
     "data": {
      "text/plain": "'even'"
     },
     "metadata": {},
     "execution_count": 40
    }
   ],
   "source": [
    "x = 5\n",
    "(lambda x: 'odd' if x%2 !=0 else 'even')(50)\n"
   ]
  },
  {
   "cell_type": "code",
   "execution_count": 42,
   "metadata": {
    "tags": []
   },
   "outputs": [
    {
     "output_type": "stream",
     "name": "stdout",
     "text": "4.5\n"
    }
   ],
   "source": [
    "print((lambda x, y : (x+y)/2) (5,4))"
   ]
  },
  {
   "cell_type": "code",
   "execution_count": 45,
   "metadata": {
    "tags": []
   },
   "outputs": [
    {
     "output_type": "stream",
     "name": "stdout",
     "text": "4.5\n"
    }
   ],
   "source": [
    "a = (lambda x, y : (x+y)/2) (5,4)\n",
    "print(a)"
   ]
  },
  {
   "cell_type": "code",
   "execution_count": 48,
   "metadata": {
    "tags": []
   },
   "outputs": [
    {
     "output_type": "stream",
     "name": "stdout",
     "text": "4.5\n"
    }
   ],
   "source": [
    "average = lambda x,y : (x+y)/2\n",
    "print(average(5,4))"
   ]
  },
  {
   "cell_type": "code",
   "execution_count": 50,
   "metadata": {
    "tags": []
   },
   "outputs": [
    {
     "output_type": "stream",
     "name": "stdout",
     "text": "125\n"
    }
   ],
   "source": [
    "print((lambda x: x**3)(5))"
   ]
  },
  {
   "cell_type": "code",
   "execution_count": 53,
   "metadata": {
    "tags": []
   },
   "outputs": [
    {
     "output_type": "stream",
     "name": "stdout",
     "text": "hellohellohello\n"
    }
   ],
   "source": [
    "echo_word = (lambda x,y : (x * y))(\"hello\",3) \n",
    "print(echo_word)"
   ]
  },
  {
   "cell_type": "code",
   "execution_count": 14,
   "metadata": {
    "tags": []
   },
   "outputs": [
    {
     "output_type": "stream",
     "name": "stdout",
     "text": "<class 'map'>\n"
    },
    {
     "output_type": "error",
     "ename": "TypeError",
     "evalue": "'list' object is not callable",
     "traceback": [
      "\u001b[0;31m---------------------------------------------------------------------------\u001b[0m",
      "\u001b[0;31mTypeError\u001b[0m                                 Traceback (most recent call last)",
      "\u001b[0;32m<ipython-input-14-ad8931c62d90>\u001b[0m in \u001b[0;36m<module>\u001b[0;34m\u001b[0m\n\u001b[1;32m      5\u001b[0m \u001b[0mprint\u001b[0m\u001b[0;34m(\u001b[0m\u001b[0mtype\u001b[0m\u001b[0;34m(\u001b[0m\u001b[0mresult\u001b[0m\u001b[0;34m)\u001b[0m\u001b[0;34m)\u001b[0m  \u001b[0;31m# it's a map type\u001b[0m\u001b[0;34m\u001b[0m\u001b[0;34m\u001b[0m\u001b[0m\n\u001b[1;32m      6\u001b[0m \u001b[0;34m\u001b[0m\u001b[0m\n\u001b[0;32m----> 7\u001b[0;31m \u001b[0mprint\u001b[0m\u001b[0;34m(\u001b[0m\u001b[0mlist\u001b[0m\u001b[0;34m(\u001b[0m\u001b[0mresult\u001b[0m\u001b[0;34m)\u001b[0m\u001b[0;34m)\u001b[0m  \u001b[0;31m# we've converted it to list type to print\u001b[0m\u001b[0;34m\u001b[0m\u001b[0;34m\u001b[0m\u001b[0m\n\u001b[0m\u001b[1;32m      8\u001b[0m \u001b[0;34m\u001b[0m\u001b[0m\n\u001b[1;32m      9\u001b[0m \u001b[0mprint\u001b[0m\u001b[0;34m(\u001b[0m\u001b[0mlist\u001b[0m\u001b[0;34m(\u001b[0m\u001b[0mmap\u001b[0m\u001b[0;34m(\u001b[0m\u001b[0;32mlambda\u001b[0m \u001b[0mx\u001b[0m\u001b[0;34m:\u001b[0m\u001b[0mx\u001b[0m\u001b[0;34m**\u001b[0m\u001b[0;36m2\u001b[0m\u001b[0;34m,\u001b[0m \u001b[0miterable\u001b[0m\u001b[0;34m)\u001b[0m\u001b[0;34m)\u001b[0m\u001b[0;34m)\u001b[0m  \u001b[0;31m# you can print directly\u001b[0m\u001b[0;34m\u001b[0m\u001b[0;34m\u001b[0m\u001b[0m\n",
      "\u001b[0;31mTypeError\u001b[0m: 'list' object is not callable"
     ]
    }
   ],
   "source": [
    "# map() returns a list of the outputs after applying the given function to each element of a given iterable object such as list, tuple, etc.\n",
    "iterable = [1, 2, 3, 4, 5]\n",
    "map(lambda x:x**2, iterable)\n",
    "result = map(lambda x:x**2, iterable)\n",
    "print(type(result))  # it's a map type\n",
    "\n",
    "print(list(result))  # we've converted it to list type to print\n",
    "\n",
    "print(list(map(lambda x:x**2, iterable)))  # you can print directly"
   ]
  },
  {
   "cell_type": "code",
   "execution_count": 63,
   "metadata": {
    "tags": []
   },
   "outputs": [
    {
     "output_type": "stream",
     "name": "stdout",
     "text": "[100, 122, 148, 178, 212, 250, 292, 338, 388, 442, 500]\n"
    }
   ],
   "source": [
    "numbers = list(range(11))\n",
    "numbers1 = list(range(10,21))\n",
    "map(lambda x, y: x**2 + y**2, numbers, numbers1)\n",
    "print(list(map(lambda x, y: x**2 + y**2, numbers, numbers1)))"
   ]
  },
  {
   "cell_type": "code",
   "execution_count": 64,
   "metadata": {
    "tags": []
   },
   "outputs": [
    {
     "output_type": "stream",
     "name": "stdout",
     "text": "[1, 4, 9, 16, 25]\n"
    }
   ],
   "source": [
    "def square(n):   # at least two additional lines of code\n",
    "    return n**2  \n",
    "  \n",
    "iterable = [1, 2, 3, 4, 5]\n",
    "result = map(square, iterable) \n",
    "print(list(result))"
   ]
  },
  {
   "cell_type": "code",
   "execution_count": 65,
   "metadata": {
    "tags": []
   },
   "outputs": [
    {
     "output_type": "stream",
     "name": "stdout",
     "text": "[1, 8, 27, 64, 125]\n"
    }
   ],
   "source": [
    "iterable = [1, 2, 3, 4, 5]\n",
    "print(list(map(lambda x : x**3, iterable)))"
   ]
  },
  {
   "cell_type": "code",
   "execution_count": 68,
   "metadata": {
    "tags": []
   },
   "outputs": [
    {
     "output_type": "stream",
     "name": "stdout",
     "text": "['one', 'six', 'ten', 'two']\n"
    }
   ],
   "source": [
    "#Note that map() takes each element from iterable objects one by one and in order. \n",
    "letter1 = ['o', 's', 't', 't']\n",
    "letter2 = ['n', 'i', 'e', 'w']\n",
    "letter3 = ['e', 'x', 'n', 'o']\n",
    "print(list(map(lambda x,y,z : x + y+z, letter1,letter2,letter3)))\n"
   ]
  },
  {
   "cell_type": "code",
   "execution_count": 71,
   "metadata": {
    "tags": []
   },
   "outputs": [
    {
     "output_type": "stream",
     "name": "stdout",
     "text": "abc\n"
    }
   ],
   "source": [
    "print((lambda x,y,z : x + y+ z)(\"a\",\"b\",\"c\"))"
   ]
  },
  {
   "cell_type": "code",
   "execution_count": 73,
   "metadata": {
    "tags": []
   },
   "outputs": [
    {
     "output_type": "stream",
     "name": "stdout",
     "text": "[3, 6, 9, 12, 15]\n"
    }
   ],
   "source": [
    "number_list = [1, 2, 3, 4, 5]\n",
    "\n",
    "result = list(map(lambda x : x*3, number_list))\n",
    "print(result)"
   ]
  },
  {
   "cell_type": "code",
   "execution_count": 75,
   "metadata": {
    "tags": []
   },
   "outputs": [
    {
     "output_type": "stream",
     "name": "stdout",
     "text": "5\n"
    }
   ],
   "source": [
    "def outerFun(a,b):\n",
    "    def innerFun(c, d):\n",
    "        return c + d\n",
    "\n",
    "    return a  # ilk değeri verir ilk return değerini alır\n",
    "    return innerFun(a,b)\n",
    "    \n",
    "result = outerFun(5,10)\n",
    "print(result)       \n",
    "      "
   ]
  },
  {
   "cell_type": "code",
   "execution_count": 77,
   "metadata": {
    "tags": []
   },
   "outputs": [
    {
     "output_type": "stream",
     "name": "stdout",
     "text": "10\n"
    }
   ],
   "source": [
    "x = 0\n",
    "while x < 10:\n",
    "    x = x +1\n",
    "print(x)"
   ]
  },
  {
   "cell_type": "code",
   "execution_count": 5,
   "metadata": {
    "tags": []
   },
   "outputs": [
    {
     "output_type": "stream",
     "name": "stdout",
     "text": "<class 'filter'>\nEven numbers are : [0, 2, 4, 6, 8]\n"
    }
   ],
   "source": [
    "#     • Lambda within filter() function : \n",
    "# filter() filters the given sequence (iterable objects) with the help of a function (lambda) that tests each element in the sequence to be true or not.\n",
    "\n",
    "first_ten = [0, 1, 2, 3, 4, 5, 6, 7, 8, 9] \n",
    "even = filter(lambda x : x % 2 == 0, first_ten)\n",
    "print(type(even))\n",
    "print(\"Even numbers are :\", list(even))"
   ]
  },
  {
   "cell_type": "code",
   "execution_count": 8,
   "metadata": {
    "tags": []
   },
   "outputs": [
    {
     "output_type": "stream",
     "name": "stdout",
     "text": "Vowels are : ['a', 'e', 'i']\n"
    }
   ],
   "source": [
    "vowel_list = ['a', 'e', 'i', 'o', 'u']\n",
    "first_ten = ['a', 'b', 'c', 'd', 'e', 'f', 'g', 'h', 'i', 'j']\n",
    "vowels = filter(lambda x: True if x in vowel_list else False ,first_ten)\n",
    "print('Vowels are :', list(vowels))"
   ]
  },
  {
   "cell_type": "code",
   "execution_count": 50,
   "metadata": {
    "tags": []
   },
   "outputs": [
    {
     "output_type": "stream",
     "name": "stdout",
     "text": "[6, 7, 8, 9, 10, 11]\n"
    }
   ],
   "source": [
    "number_list = [1, 2, 3, 4, 5, 6, 7, 8, 9, 10,11]\n",
    "result = filter(lambda x: x>=6, number_list)\n",
    "#result = filter(lambda x: True if x >= 6 else False, number_list)\n",
    "print(list(result))"
   ]
  },
  {
   "cell_type": "code",
   "execution_count": 24,
   "metadata": {
    "tags": []
   },
   "outputs": [
    {
     "output_type": "stream",
     "name": "stdout",
     "text": "[6, 7, 8, 9, 10]\n"
    }
   ],
   "source": [
    "number_list = [1, 2, 3, 4, 5, 6, 7, 8, 9, 10]\n",
    "def greatnum (x):\n",
    "    #for x in number_list:\n",
    "        if x >= 6:\n",
    "            return True\n",
    "        else:\n",
    "            return False\n",
    "\n",
    "result = filter(greatnum, number_list)\n",
    "print(list(result))"
   ]
  },
  {
   "cell_type": "code",
   "execution_count": 25,
   "metadata": {
    "tags": []
   },
   "outputs": [
    {
     "output_type": "stream",
     "name": "stdout",
     "text": "4\n8\n16\n"
    }
   ],
   "source": [
    "def modular_function(n):\n",
    "    return lambda x: x ** n\n",
    "    \n",
    "power_of_2 = modular_function(2)  # first sub-function derived from def\n",
    "power_of_3 = modular_function(3)  # second sub-function derived from def\n",
    "power_of_4 = modular_function(4)  # third sub-function derived from def\n",
    "\n",
    "print(power_of_2(2))  # 2 to the power of 2\n",
    "print(power_of_3(2))  # 2 to the power of 3\n",
    "print(power_of_4(2))  # 2 to the power of 4"
   ]
  },
  {
   "cell_type": "code",
   "execution_count": 31,
   "metadata": {
    "tags": []
   },
   "outputs": [
    {
     "output_type": "stream",
     "name": "stdout",
     "text": "alex alex \nlara lara lara \nlinda linda linda linda \n"
    }
   ],
   "source": [
    "def repeater(n):\n",
    "    return lambda x: x * n\n",
    "    \n",
    "repeat_2_times = repeater(2)  # repeats 2 times\n",
    "repeat_3_times = repeater(3)  # repeats 3 times\n",
    "repeat_4_times = repeater(4)  # repeats 4 times\n",
    "\n",
    "print(repeat_2_times('alex '))\n",
    "print(repeat_3_times('lara '))\n",
    "print(repeat_4_times('linda '))"
   ]
  },
  {
   "cell_type": "code",
   "execution_count": 30,
   "metadata": {
    "tags": []
   },
   "outputs": [
    {
     "output_type": "stream",
     "name": "stdout",
     "text": "hasohasohasohasohasohasohasohasohasohaso\n"
    }
   ],
   "source": [
    "def repeater(n):\n",
    "    return lambda x: x * n\n",
    "repeathasan = repeater(10)\n",
    "print(repeathasan(\"haso\"))"
   ]
  },
  {
   "cell_type": "code",
   "execution_count": 31,
   "metadata": {
    "tags": []
   },
   "outputs": [
    {
     "output_type": "stream",
     "name": "stdout",
     "text": "125\n"
    }
   ],
   "source": [
    "def modular_function(n):\n",
    "    return lambda x: x ** n\n",
    "\n",
    "power_of_3 = modular_function(3)\n",
    "print(power_of_3(5))"
   ]
  },
  {
   "cell_type": "code",
   "execution_count": 35,
   "metadata": {
    "tags": []
   },
   "outputs": [
    {
     "output_type": "stream",
     "name": "stdout",
     "text": "125\n"
    }
   ],
   "source": [
    "print((lambda x : x**3)(5))"
   ]
  },
  {
   "cell_type": "code",
   "execution_count": 40,
   "metadata": {
    "tags": []
   },
   "outputs": [
    {
     "output_type": "stream",
     "name": "stdout",
     "text": "9.0\n"
    }
   ],
   "source": [
    "mean = lambda x,y : (x+y)/2\n",
    "print(mean(8, 10))"
   ]
  },
  {
   "cell_type": "code",
   "execution_count": 38,
   "metadata": {
    "tags": []
   },
   "outputs": [
    {
     "output_type": "stream",
     "name": "stdout",
     "text": "9.0\n"
    }
   ],
   "source": [
    "print((lambda x,y : (x+y)/2)(8,10))"
   ]
  },
  {
   "cell_type": "code",
   "execution_count": 41,
   "metadata": {
    "tags": []
   },
   "outputs": [
    {
     "output_type": "stream",
     "name": "stdout",
     "text": "45\n"
    }
   ],
   "source": [
    "multiply = lambda x: x * 4\n",
    "add = lambda x, y: x + y\n",
    "print(add(multiply(10), 5))"
   ]
  },
  {
   "cell_type": "code",
   "execution_count": 43,
   "metadata": {
    "tags": []
   },
   "outputs": [
    {
     "output_type": "stream",
     "name": "stdout",
     "text": "60\n"
    }
   ],
   "source": [
    "carpım = lambda x: x*10\n",
    "toplam = lambda x,y: x+y\n",
    "print(toplam(carpım(5), 10))"
   ]
  },
  {
   "cell_type": "code",
   "execution_count": 44,
   "metadata": {
    "tags": []
   },
   "outputs": [
    {
     "output_type": "stream",
     "name": "stdout",
     "text": "[1, 8, 27, 64]\n"
    }
   ],
   "source": [
    "number_list = [1, 2, 3, 4]\n",
    "result = map(lambda x:x**3, number_list)\n",
    "print(list(result)) "
   ]
  },
  {
   "cell_type": "code",
   "execution_count": 46,
   "metadata": {
    "tags": []
   },
   "outputs": [
    {
     "output_type": "stream",
     "name": "stdout",
     "text": "[1, 81, 625, 2401]\n"
    }
   ],
   "source": [
    "numbers = [1,3,5,7]\n",
    "result = map(lambda x : x**4, numbers)\n",
    "print(list(result))"
   ]
  },
  {
   "cell_type": "code",
   "execution_count": null,
   "metadata": {},
   "outputs": [],
   "source": [
    "number_list = [0, 1, 2, 3, 4, 5, 6, 7, 8, 9, 10, 11, 12] \n",
    "divisible_list = filter(lambda x:x%3==0, number_list) \n",
    "print(list(divisible_list))"
   ]
  },
  {
   "cell_type": "code",
   "execution_count": 52,
   "metadata": {
    "tags": []
   },
   "outputs": [
    {
     "output_type": "stream",
     "name": "stdout",
     "text": "[5, 6, 7, 8]\n"
    }
   ],
   "source": [
    "number_list = [0, 1, 2, 3, 4, 5, 6, 7, 8, 9, 10, 11, 12] \n",
    "great = filter(lambda x: x > 4 and x<9, number_list)\n",
    "print(list(great))"
   ]
  },
  {
   "cell_type": "code",
   "execution_count": 56,
   "metadata": {
    "tags": []
   },
   "outputs": [
    {
     "output_type": "stream",
     "name": "stdout",
     "text": "60\n"
    }
   ],
   "source": [
    "# Given two integer values, return their sum. If the two values are the same, then return double their sum.\n",
    "\n",
    "def double(x,y):\n",
    "    if x == y:\n",
    "        return (x+y)*2\n",
    "    else:\n",
    "        return x+y\n",
    "print(double(15,15))\n"
   ]
  },
  {
   "cell_type": "code",
   "execution_count": 65,
   "metadata": {
    "tags": []
   },
   "outputs": [
    {
     "output_type": "stream",
     "name": "stdout",
     "text": "20\n"
    }
   ],
   "source": [
    "#result = (lambda x,y : (x+y)*2 if x == y  else x+y)(5,4)\n",
    "result = (lambda x,y : (x+y)*2 if x == y  else x+y)\n",
    "\n",
    "#print(result)\n",
    "print(result(5,5))"
   ]
  },
  {
   "cell_type": "code",
   "execution_count": 69,
   "metadata": {
    "tags": []
   },
   "outputs": [
    {
     "output_type": "stream",
     "name": "stdout",
     "text": "yawsuralC\n"
    }
   ],
   "source": [
    "text = \"Clarusway\"\n",
    "newtext = \"\"\n",
    "for i in range(len(text)-1,-1, -1):\n",
    "   newtext += text[i]\n",
    "print(newtext)"
   ]
  },
  {
   "cell_type": "code",
   "execution_count": null,
   "metadata": {},
   "outputs": [],
   "source": [
    "######################DERS BAŞLANGICI ####################3#\n",
    "######################DERS BAŞLANGICI ####################3#\n",
    "######################DERS BAŞLANGICI ####################3#"
   ]
  },
  {
   "cell_type": "code",
   "execution_count": 7,
   "metadata": {
    "tags": []
   },
   "outputs": [
    {
     "output_type": "stream",
     "name": "stdout",
     "text": "2555\n5\n"
    }
   ],
   "source": [
    "x = 5\n",
    "def foo():\n",
    "    # x = x+2 hata verir\n",
    "    x = 2555\n",
    "    print(x)\n",
    "foo()\n",
    "print(x)"
   ]
  },
  {
   "cell_type": "code",
   "execution_count": 8,
   "metadata": {},
   "outputs": [
    {
     "output_type": "error",
     "ename": "NameError",
     "evalue": "name 'y' is not defined",
     "traceback": [
      "\u001b[0;31m---------------------------------------------------------------------------\u001b[0m",
      "\u001b[0;31mNameError\u001b[0m                                 Traceback (most recent call last)",
      "\u001b[0;32m<ipython-input-8-1502637677d5>\u001b[0m in \u001b[0;36m<module>\u001b[0;34m\u001b[0m\n\u001b[1;32m      2\u001b[0m     \u001b[0my\u001b[0m \u001b[0;34m=\u001b[0m \u001b[0;34m'localh'\u001b[0m\u001b[0;34m\u001b[0m\u001b[0;34m\u001b[0m\u001b[0m\n\u001b[1;32m      3\u001b[0m \u001b[0mfoo\u001b[0m\u001b[0;34m(\u001b[0m\u001b[0;34m)\u001b[0m\u001b[0;34m\u001b[0m\u001b[0;34m\u001b[0m\u001b[0m\n\u001b[0;32m----> 4\u001b[0;31m \u001b[0mprint\u001b[0m\u001b[0;34m(\u001b[0m\u001b[0my\u001b[0m\u001b[0;34m)\u001b[0m\u001b[0;34m\u001b[0m\u001b[0;34m\u001b[0m\u001b[0m\n\u001b[0m",
      "\u001b[0;31mNameError\u001b[0m: name 'y' is not defined"
     ]
    }
   ],
   "source": [
    "def foo():\n",
    "    y = 'localh'\n",
    "foo()\n",
    "print(y)# hata verir çünkü local"
   ]
  },
  {
   "cell_type": "code",
   "execution_count": 10,
   "metadata": {
    "tags": []
   },
   "outputs": [
    {
     "output_type": "stream",
     "name": "stdout",
     "text": "enclosing outer local\nenclosing inner local\nlocal\nglobal\n"
    }
   ],
   "source": [
    "variable = \"global\"\n",
    "\n",
    "def func_outer():\n",
    "    variable = \"enclosing outer local\"\n",
    "    print(variable)\n",
    "    def func_inner():\n",
    "        variable = \"enclosing inner local\"\n",
    "        print(variable)\n",
    "        def func_local():\n",
    "            variable = \"local\"\n",
    "            print(variable)\n",
    "        func_local()\n",
    "    func_inner()\n",
    " \n",
    "func_outer()  # prints 'local' defined in the innermost function\n",
    "print(variable)  # 'global' level variable holds its value\n"
   ]
  },
  {
   "cell_type": "code",
   "execution_count": 11,
   "metadata": {
    "tags": []
   },
   "outputs": [
    {
     "output_type": "stream",
     "name": "stdout",
     "text": "local\nenclosing inner local\nenclosing outer local\nglobal\n"
    }
   ],
   "source": [
    "def func_outer():\n",
    "    variable = \"enclosing outer local\"\n",
    "    \n",
    "    def func_inner():\n",
    "        variable = \"enclosing inner local\"\n",
    "        \n",
    "        def func_local():\n",
    "            variable = \"local\"\n",
    "            print(variable)\n",
    "        func_local()\n",
    "        print(variable)\n",
    "    func_inner()\n",
    "    print(variable)\n",
    " \n",
    "func_outer()  # prints 'local' defined in the innermost function\n",
    "print(variable)  # 'global' level variable holds its value"
   ]
  },
  {
   "cell_type": "code",
   "execution_count": 12,
   "metadata": {
    "tags": []
   },
   "outputs": [
    {
     "output_type": "stream",
     "name": "stdout",
     "text": "0\n1\n"
    }
   ],
   "source": [
    "count = 0\n",
    "def counter():\n",
    "    global count\n",
    "    print(count)\n",
    "    count +=1\n",
    "counter()\n",
    "print(count)"
   ]
  },
  {
   "cell_type": "code",
   "execution_count": 1,
   "metadata": {
    "tags": []
   },
   "outputs": [
    {
     "output_type": "stream",
     "name": "stdout",
     "text": "After local assignment: test spam\nAfter nonlocal assignment: nonlocal spam\nAfter global assignment: nonlocal spam\nIn global scope: global spam\n"
    }
   ],
   "source": [
    "def scope_test():\n",
    "    def do_local():\n",
    "        spam = \"local spam\"\n",
    "\n",
    "    def do_nonlocal():\n",
    "        nonlocal spam\n",
    "        spam = \"nonlocal spam\"\n",
    "\n",
    "    def do_global():\n",
    "        global spam  #global seviyedki spamı değiştirir.\n",
    "        spam = \"global spam\"\n",
    "\n",
    "    spam = \"test spam\"\n",
    "    do_local()\n",
    "    print(\"After local assignment:\", spam)\n",
    "    do_nonlocal()\n",
    "    print(\"After nonlocal assignment:\", spam)\n",
    "    do_global()\n",
    "    print(\"After global assignment:\", spam)\n",
    "\n",
    "scope_test()\n",
    "print(\"In global scope:\", spam)"
   ]
  },
  {
   "cell_type": "code",
   "execution_count": 8,
   "metadata": {
    "tags": []
   },
   "outputs": [
    {
     "output_type": "stream",
     "name": "stdout",
     "text": "one\none\n"
    }
   ],
   "source": [
    "var = 1\n",
    "def assigner(a):\n",
    "    global var \n",
    "    var = a\n",
    "    print(var)\n",
    "assigner(\"one\")\n",
    "print(var)"
   ]
  },
  {
   "cell_type": "code",
   "execution_count": null,
   "metadata": {},
   "outputs": [],
   "source": [
    "################################LAMBDAAAAAAAAAAAAAAAAAAAAAAAAAAAAAAAAAA#######################\n",
    "                   #lambda x: x**2"
   ]
  },
  {
   "cell_type": "code",
   "execution_count": null,
   "metadata": {},
   "outputs": [],
   "source": [
    "def square(x):\n",
    "    return x**2"
   ]
  },
  {
   "cell_type": "code",
   "execution_count": null,
   "metadata": {},
   "outputs": [],
   "source": [
    "lambda x: x**2"
   ]
  },
  {
   "cell_type": "code",
   "execution_count": 14,
   "metadata": {
    "tags": []
   },
   "outputs": [
    {
     "output_type": "stream",
     "name": "stdout",
     "text": "4.0\n"
    }
   ],
   "source": [
    "average = (lambda x,y : (x+y)/2)(3,5)\n",
    "print(average)"
   ]
  },
  {
   "cell_type": "code",
   "execution_count": 12,
   "metadata": {
    "tags": []
   },
   "outputs": [
    {
     "output_type": "execute_result",
     "data": {
      "text/plain": "<function __main__.<lambda>(x)>"
     },
     "metadata": {},
     "execution_count": 12
    }
   ],
   "source": [
    "lambda x: \"odd\" if x%2 != 0 else \"even\"\n"
   ]
  },
  {
   "cell_type": "code",
   "execution_count": 13,
   "metadata": {
    "tags": []
   },
   "outputs": [
    {
     "output_type": "stream",
     "name": "stdout",
     "text": "4\n"
    }
   ],
   "source": [
    "print((lambda x: x**2)(2))"
   ]
  },
  {
   "cell_type": "code",
   "execution_count": 16,
   "metadata": {
    "tags": []
   },
   "outputs": [
    {
     "output_type": "stream",
     "name": "stdout",
     "text": "yawsuralc\n"
    }
   ],
   "source": [
    "reverse = (lambda x: x[::-1])(\"clarusway\")\n",
    "print(reverse)\n"
   ]
  },
  {
   "cell_type": "code",
   "execution_count": 17,
   "metadata": {
    "tags": []
   },
   "outputs": [
    {
     "output_type": "stream",
     "name": "stdout",
     "text": "yawsuralc\n"
    }
   ],
   "source": [
    "iterable = \"clarusway\"\n",
    "reverse = (lambda x: x[::-1])(iterable)\n",
    "print(reverse)"
   ]
  },
  {
   "cell_type": "code",
   "execution_count": 24,
   "metadata": {
    "tags": []
   },
   "outputs": [
    {
     "output_type": "stream",
     "name": "stdout",
     "text": "1 : odd\n2 : even\n3 : odd\n4 : even\n5 : odd\n6 : even\n7 : odd\n8 : even\n9 : odd\n10 : even\n"
    }
   ],
   "source": [
    "list1 = [1,2,3,4,5,6,7,8,9,10]\n",
    "for x in list1:\n",
    "    print(x, \":\", (lambda a: \"odd\" if a % 2 != 0 else \"even\")(x))"
   ]
  },
  {
   "cell_type": "code",
   "execution_count": 21,
   "metadata": {
    "tags": []
   },
   "outputs": [
    {
     "output_type": "stream",
     "name": "stdout",
     "text": "\nNumber of even numbers :  [2, 8, 10]\n\nNumber of odd numbers :  [1, 3, 5, 7, 9]\n"
    }
   ],
   "source": [
    "nums = [1, 2, 3, 5, 7, 8, 9, 10]\n",
    "odd_list = (list(filter(lambda x: (x%2 != 0) , nums)))\n",
    "even_list = (list(filter(lambda x: (x%2 == 0) , nums)))\n",
    "print(\"\\nNumber of even numbers : \", even_list)\n",
    "print(\"\\nNumber of odd numbers : \", odd_list)"
   ]
  },
  {
   "cell_type": "code",
   "execution_count": 26,
   "metadata": {
    "tags": []
   },
   "outputs": [
    {
     "output_type": "stream",
     "name": "stdout",
     "text": "1 is odd\n2 is even\n3 is odd\n-4 is even\n5 is odd\n6 is even\n"
    }
   ],
   "source": [
    "print(*map((lambda x: str(x)+\" is even\" if x %2 ==0 else str(x)+\" is odd\"), [1,2,3,-4,5,6]), sep = \"\\n\")"
   ]
  },
  {
   "cell_type": "code",
   "execution_count": 3,
   "metadata": {
    "tags": []
   },
   "outputs": [
    {
     "output_type": "stream",
     "name": "stdout",
     "text": "I love London!\n"
    }
   ],
   "source": [
    "city = \"I love Paris!\"\n",
    "\n",
    "def my_function(): \n",
    "    global city\n",
    "    city = \"I love London!\"\n",
    "    print(city)\n",
    "my_function() "
   ]
  },
  {
   "cell_type": "code",
   "execution_count": 8,
   "metadata": {
    "tags": []
   },
   "outputs": [
    {
     "output_type": "stream",
     "name": "stdout",
     "text": "inner: later\nouter: later\n"
    }
   ],
   "source": [
    "def outer():\n",
    "    x = \"previous\"\n",
    "    \n",
    "    def inner():\n",
    "        nonlocal x\n",
    "        x = \"later\"\n",
    "        print(\"inner:\", x)\n",
    "    \n",
    "    inner()\n",
    "    print(\"outer:\", x)\n",
    "outer() "
   ]
  },
  {
   "cell_type": "code",
   "execution_count": 9,
   "metadata": {
    "tags": []
   },
   "outputs": [
    {
     "output_type": "stream",
     "name": "stdout",
     "text": "25\n"
    }
   ],
   "source": [
    "square = lambda x: x**2\n",
    "print(square(5))"
   ]
  },
  {
   "cell_type": "code",
   "execution_count": 11,
   "metadata": {
    "tags": []
   },
   "outputs": [
    {
     "output_type": "stream",
     "name": "stdout",
     "text": "[1, 4, 9, 16, 25]\n"
    }
   ],
   "source": [
    "number_list=[1, 2, 3, 4, 5]\n",
    "result = list(map(lambda x: x**2, number_list))\n",
    "print(result)"
   ]
  },
  {
   "cell_type": "code",
   "execution_count": 14,
   "metadata": {
    "tags": []
   },
   "outputs": [
    {
     "output_type": "stream",
     "name": "stdout",
     "text": "[1, 3, 5, 7, 9, 11, 13, 15, 17, 19, 21, 23, 25, 27, 29, 31, 33, 35, 37, 39, 41, 43, 45, 47, 49, 51, 53, 55, 57, 59, 61, 63, 65, 67, 69, 71, 73, 75, 77, 79, 81, 83, 85, 87, 89, 91, 93, 95, 97, 99]\n"
    }
   ],
   "source": [
    "#number_list=[1, 2, 3, 4, 5, 6, 7, 8, 9, 10]\n",
    "number_list = range(1,100)\n",
    "result = list(filter(lambda x: x % 2 != 0, number_list))\n",
    "print(result)"
   ]
  },
  {
   "cell_type": "code",
   "execution_count": 2,
   "metadata": {
    "tags": []
   },
   "outputs": [
    {
     "output_type": "stream",
     "name": "stdout",
     "text": "3125\n"
    }
   ],
   "source": [
    "a = (lambda x:x**5)(5)\n",
    "print(a)"
   ]
  },
  {
   "cell_type": "code",
   "execution_count": 3,
   "metadata": {},
   "outputs": [
    {
     "output_type": "execute_result",
     "data": {
      "text/plain": "16"
     },
     "metadata": {},
     "execution_count": 3
    }
   ],
   "source": [
    "kare = lambda x: x**2\n",
    "kare(4)"
   ]
  },
  {
   "cell_type": "code",
   "execution_count": 5,
   "metadata": {},
   "outputs": [
    {
     "output_type": "execute_result",
     "data": {
      "text/plain": "15.0"
     },
     "metadata": {},
     "execution_count": 5
    }
   ],
   "source": [
    "ortalama = lambda x, y: (x+y) / 2\n",
    "ortalama(5,25)"
   ]
  },
  {
   "cell_type": "code",
   "execution_count": 10,
   "metadata": {
    "tags": []
   },
   "outputs": [
    {
     "output_type": "stream",
     "name": "stdout",
     "text": "yawsuralc\n"
    }
   ],
   "source": [
    "reverse1 = lambda x: x[::-1] \n",
    "print(reverse1(\"clarusway\"))"
   ]
  },
  {
   "cell_type": "code",
   "execution_count": 2,
   "metadata": {
    "tags": []
   },
   "outputs": [
    {
     "output_type": "stream",
     "name": "stdout",
     "text": "[5, 4, 3, 2, 1]\n"
    }
   ],
   "source": [
    "liste = [1,2,3,4,5]\n",
    "print((lambda x: x[::-1])(liste))"
   ]
  },
  {
   "cell_type": "code",
   "execution_count": null,
   "metadata": {},
   "outputs": [],
   "source": [
    "###################################################33\n",
    "###############LAMBDA WITH map###############  \n",
    "###########map(function, iterable)"
   ]
  },
  {
   "cell_type": "code",
   "execution_count": 4,
   "metadata": {
    "tags": []
   },
   "outputs": [
    {
     "output_type": "stream",
     "name": "stdout",
     "text": "<class 'map'>\n[1, 4, 9, 16, 25]\n[1, 4, 9, 16, 25]\n"
    }
   ],
   "source": [
    "# map() returns a list of the outputs after applying the given function to each element of a given iterable object such as list, tuple, etc.\n",
    "\n",
    "iterable = [1, 2, 3, 4, 5]\n",
    "map(lambda x:x**2, iterable)\n",
    "result = map(lambda x:x**2, iterable)\n",
    "print(type(result))  # it's a map type\n",
    "\n",
    "print(list(result))  # we've converted it to list type to print\n",
    "\n",
    "print(list(map(lambda x:x**2, iterable)))  # you can print directly"
   ]
  },
  {
   "cell_type": "code",
   "execution_count": 15,
   "metadata": {
    "tags": []
   },
   "outputs": [
    {
     "output_type": "stream",
     "name": "stdout",
     "text": "1\n4\n9\n16\n25\n"
    }
   ],
   "source": [
    "numbers = [1, 2, 3, 4, 5]\n",
    "def karem(x):\n",
    "    return x**2\n",
    "for i in map(karem, numbers):\n",
    "    print(i)"
   ]
  },
  {
   "cell_type": "code",
   "execution_count": 17,
   "metadata": {
    "tags": []
   },
   "outputs": [
    {
     "output_type": "stream",
     "name": "stdout",
     "text": "[1, 4, 9, 16, 25]\n"
    }
   ],
   "source": [
    "numbers = [1, 2, 3, 4, 5]\n",
    "def kare(x):\n",
    "    return x**2\n",
    "result = map(kare, numbers)\n",
    "print(list(result))"
   ]
  },
  {
   "cell_type": "code",
   "execution_count": 16,
   "metadata": {
    "tags": []
   },
   "outputs": [
    {
     "output_type": "stream",
     "name": "stdout",
     "text": "['one', 'six', 'ten', 'two']\n"
    }
   ],
   "source": [
    "letter1 = ['o', 's', 't', 't']\n",
    "letter2 = ['n', 'i', 'e', 'w']\n",
    "letter3 = ['e', 'x', 'n', 'o']\n",
    "print(list(map(lambda x,y,z : x + y+z, letter1,letter2,letter3)))"
   ]
  },
  {
   "cell_type": "code",
   "execution_count": 18,
   "metadata": {
    "tags": []
   },
   "outputs": [
    {
     "output_type": "stream",
     "name": "stdout",
     "text": "[3.0, 5.0, 6.0, 7.0, 10.0]\n"
    }
   ],
   "source": [
    "nums1 = [1, 2, 3, 4, 5]\n",
    "nums2 = [5,8,9,10,15,20]\n",
    "average = map((lambda x, y: (x+y)/2),nums1,nums2) \n",
    "print(list(average))"
   ]
  },
  {
   "cell_type": "code",
   "execution_count": 21,
   "metadata": {
    "tags": []
   },
   "outputs": [
    {
     "output_type": "stream",
     "name": "stdout",
     "text": "i you love\nyou much ate\nhe hard works\n"
    }
   ],
   "source": [
    "words1 = [\"you\",\"much\",\"hard\"]\n",
    "words2 = [\"i\",\"you\",\"he\"]\n",
    "words3 = [\"love\",\"ate\",\"works\"]\n",
    "result = map(lambda x,y,z : x +\" \" + y + \" \"+ z, words2,words3,words2)\n",
    "for i in result:\n",
    "    print(i)\n"
   ]
  },
  {
   "cell_type": "code",
   "execution_count": null,
   "metadata": {},
   "outputs": [],
   "source": [
    "########################################filter    ##########################\n",
    "# filter(function, sequence)   BURADA FUNCTION TRUE YADA FFALSE VERMELİ"
   ]
  },
  {
   "cell_type": "code",
   "execution_count": 22,
   "metadata": {
    "tags": []
   },
   "outputs": [
    {
     "output_type": "stream",
     "name": "stdout",
     "text": "<class 'filter'>\nEven numbers are : [0, 2, 4, 6, 8]\n"
    }
   ],
   "source": [
    "first_ten = [0, 1, 2, 3, 4, 5, 6, 7, 8, 9] \n",
    "even = filter(lambda x : x % 2 == 0, first_ten)\n",
    "print(type(even))\n",
    "print(\"Even numbers are :\", list(even))"
   ]
  },
  {
   "cell_type": "code",
   "execution_count": 23,
   "metadata": {
    "tags": []
   },
   "outputs": [
    {
     "output_type": "stream",
     "name": "stdout",
     "text": "swim\nme\nkiwi\n"
    }
   ],
   "source": [
    "words = [\"apple\", \"swim\", \"clock\", \"me\",\"kiwi\",\"banana\"]\n",
    "chars = filter(lambda x: len(x) < 5, words)\n",
    "for i in chars:\n",
    "    print(i)"
   ]
  },
  {
   "cell_type": "code",
   "execution_count": 25,
   "metadata": {
    "tags": []
   },
   "outputs": [
    {
     "output_type": "stream",
     "name": "stdout",
     "text": "swim\nme\nkiwi\n"
    }
   ],
   "source": [
    "words = [\"apple\", \"swim\", \"clock\", \"me\",\"kiwi\",\"banana\"]\n",
    "def bes(x):\n",
    "    return len(x)<5\n",
    "for i in filter(bes,words):\n",
    "    print(i)"
   ]
  },
  {
   "cell_type": "code",
   "execution_count": 27,
   "metadata": {},
   "outputs": [
    {
     "output_type": "execute_result",
     "data": {
      "text/plain": "False"
     },
     "metadata": {},
     "execution_count": 27
    }
   ],
   "source": [
    "def bes(x):\n",
    "    return len(x)<5\n",
    "bes(\"hasan\")"
   ]
  },
  {
   "cell_type": "code",
   "execution_count": 28,
   "metadata": {
    "tags": []
   },
   "outputs": [
    {
     "output_type": "stream",
     "name": "stdout",
     "text": "['a', 'e', 'i']\n"
    }
   ],
   "source": [
    "vowel_list = ['a', 'e', 'i', 'o', 'u']\n",
    "first_ten = ['a', 'b', 'c', 'd', 'e', 'f', 'g', 'h', 'i', 'j']\n",
    "vowels = filter(lambda x: True if x in vowel_list else False, first_ten)\n",
    "print(list(vowels))"
   ]
  },
  {
   "cell_type": "code",
   "execution_count": 36,
   "metadata": {
    "tags": []
   },
   "outputs": [
    {
     "output_type": "stream",
     "name": "stdout",
     "text": "alex  alex  \nhasan hasan hasan hasan hasan \nidil idil idil idil idil idil idil idil idil idil \n"
    }
   ],
   "source": [
    "def repeater(n):\n",
    "    return lambda x: x*n\n",
    "repeat_2_times = repeater(2)\n",
    "repeat_5_times = repeater(5)\n",
    "repeat_10_times = repeater(10)\n",
    "\n",
    "print(repeat_2_times(\"alex  \"))\n",
    "print(repeat_5_times(\"hasan \"))\n",
    "print(repeat_10_times(\"idil \"))\n"
   ]
  },
  {
   "cell_type": "code",
   "execution_count": null,
   "metadata": {},
   "outputs": [],
   "source": [
    "def repeater(n):\n",
    "    return lambda x: x * n\n",
    "    \n",
    "repeat_2_times = repeater(2)  # repeats 2 times\n",
    "repeat_3_times = repeater(3)  # repeats 3 times\n",
    "repeat_4_times = repeater(4)  # repeats 4 times\n",
    "\n",
    "print(repeat_2_times('alex '))\n",
    "print(repeat_3_times('lara '))\n",
    "print(repeat_4_times('linda '))"
   ]
  },
  {
   "cell_type": "code",
   "execution_count": 2,
   "metadata": {
    "tags": []
   },
   "outputs": [
    {
     "output_type": "stream",
     "name": "stdout",
     "text": "earth\n"
    }
   ],
   "source": [
    "my_var = \"earth\"\n",
    "def myfunc():\n",
    "    my_var = \"universe\"\n",
    "print(my_var)"
   ]
  },
  {
   "cell_type": "code",
   "execution_count": 9,
   "metadata": {
    "tags": []
   },
   "outputs": [
    {
     "output_type": "stream",
     "name": "stdout",
     "text": "Clarusway Clarusway Clarusway \nPython Python Python Python \nNice Nice Nice Nice Nice \n"
    }
   ],
   "source": [
    "def repeater(n):\n",
    "    return lambda x: x*n\n",
    "repeat_3 = repeater(3)\n",
    "repeat_4 = repeater(4)\n",
    "repeat_5 = repeater(5)\n",
    "\n",
    "print(repeat_3(\"Clarusway \"))\n",
    "print(repeat_4(\"Python \"))\n",
    "print(repeat_5(\"Nice \"))\n"
   ]
  },
  {
   "cell_type": "code",
   "execution_count": 12,
   "metadata": {
    "tags": []
   },
   "outputs": [
    {
     "output_type": "stream",
     "name": "stdout",
     "text": "hello world :)\nhello world :(\nhello world :!\n"
    }
   ],
   "source": [
    "def functioner(emoji):\n",
    "    return lambda message: print(message, emoji)\n",
    "myPrint_smile = functioner(\":)\")\n",
    "myPrint_sad = functioner(\":(\")\n",
    "myPrint_notr = functioner(\":!\")\n",
    "\n",
    "\n",
    "myPrint_smile(\"hello world\")\n",
    "myPrint_sad(\"hello world\")\n",
    "myPrint_notr(\"hello world\")"
   ]
  },
  {
   "cell_type": "code",
   "execution_count": 13,
   "metadata": {},
   "outputs": [
    {
     "output_type": "execute_result",
     "data": {
      "text/plain": "'joseph :)'"
     },
     "metadata": {},
     "execution_count": 13
    }
   ],
   "source": [
    "(lambda x: x + \":)\")(\"joseph \")"
   ]
  },
  {
   "cell_type": "code",
   "execution_count": 15,
   "metadata": {},
   "outputs": [
    {
     "output_type": "execute_result",
     "data": {
      "text/plain": "'hasan:)))))))))))))'"
     },
     "metadata": {},
     "execution_count": 15
    }
   ],
   "source": [
    "def functioner(emoji):\n",
    "    return lambda x: x + emoji\n",
    "\n",
    "gulenyuz = functioner(\":)))))))))))))\")\n",
    "gulenyuz(\"hasan\")"
   ]
  },
  {
   "cell_type": "code",
   "execution_count": 16,
   "metadata": {},
   "outputs": [
    {
     "output_type": "execute_result",
     "data": {
      "text/plain": "(1, 2, 3, 4)"
     },
     "metadata": {},
     "execution_count": 16
    }
   ],
   "source": [
    "def x():\n",
    "    return 1,2,3,4  # tuple döner\n",
    "x()"
   ]
  },
  {
   "cell_type": "code",
   "execution_count": 17,
   "metadata": {
    "tags": []
   },
   "outputs": [
    {
     "output_type": "stream",
     "name": "stdout",
     "text": "1 2 3 4\n"
    }
   ],
   "source": [
    "a,b,c,d = x()\n",
    "print(a,b,c,d)"
   ]
  },
  {
   "cell_type": "code",
   "execution_count": 19,
   "metadata": {
    "tags": []
   },
   "outputs": [
    {
     "output_type": "stream",
     "name": "stdout",
     "text": "1\n2\n3\n4\n"
    }
   ],
   "source": [
    "# for i in x():\n",
    "#     print(i)  #aşağıdaki ile aynısı\n",
    "\n",
    "for i in (1,2,3,4):\n",
    "    print(i)"
   ]
  },
  {
   "cell_type": "code",
   "execution_count": 22,
   "metadata": {},
   "outputs": [
    {
     "output_type": "execute_result",
     "data": {
      "text/plain": "888"
     },
     "metadata": {},
     "execution_count": 22
    }
   ],
   "source": [
    "def funcgenerator(function):\n",
    "    return lambda x: function(x)\n",
    "my_max = func_generator(max)\n",
    "my_max([1,6,8,9,10,12,888])"
   ]
  },
  {
   "cell_type": "code",
   "execution_count": 20,
   "metadata": {
    "tags": []
   },
   "outputs": [
    {
     "output_type": "stream",
     "name": "stdout",
     "text": "hello world\n"
    }
   ],
   "source": [
    "def func_generator(function):\n",
    "    return lambda x: function(x)\n",
    "my_print = func_generator(print)\n",
    "my_print(\"hello world\")"
   ]
  },
  {
   "cell_type": "code",
   "execution_count": 23,
   "metadata": {
    "tags": []
   },
   "outputs": [
    {
     "output_type": "stream",
     "name": "stdout",
     "text": "hasan\n"
    }
   ],
   "source": [
    "(lambda x: print(x))(\"hasan\")"
   ]
  },
  {
   "cell_type": "code",
   "execution_count": 24,
   "metadata": {},
   "outputs": [
    {
     "output_type": "execute_result",
     "data": {
      "text/plain": "888"
     },
     "metadata": {},
     "execution_count": 24
    }
   ],
   "source": [
    "(lambda x: max(x))([1,6,8,9,10,12,888])"
   ]
  },
  {
   "cell_type": "code",
   "execution_count": 25,
   "metadata": {
    "tags": []
   },
   "outputs": [
    {
     "output_type": "stream",
     "name": "stdout",
     "text": "naber\n"
    }
   ],
   "source": [
    "my_print = (lambda x: print(x))\n",
    "my_print(\"naber\")"
   ]
  },
  {
   "cell_type": "code",
   "execution_count": 28,
   "metadata": {},
   "outputs": [
    {
     "output_type": "execute_result",
     "data": {
      "text/plain": "3"
     },
     "metadata": {},
     "execution_count": 28
    }
   ],
   "source": [
    "def equal(a,b,c):\n",
    "    numbers = [a,b,c]\n",
    "    res = numbers.count(max(numbers, key=numbers.count))\n",
    "    return res if res > 1 else 0\n",
    "equal(2,1,2)\n",
    "equal(1,2,3)\n",
    "equal(1,1,1)"
   ]
  },
  {
   "cell_type": "code",
   "execution_count": 34,
   "metadata": {},
   "outputs": [
    {
     "output_type": "execute_result",
     "data": {
      "text/plain": "2"
     },
     "metadata": {},
     "execution_count": 34
    }
   ],
   "source": [
    "#numbers = [a,b,c]\n",
    "#res = numbers.count(max(numbers, key=numbers.count))\n",
    "#yenires = [x,y,z].count(max([x,y,z], key = [x,y,z].count))\n",
    "equal = (lambda x,y,z: [x,y,z].count(max([x,y,z], key = [x,y,z].count)) if [x,y,z].count(max([x,y,z], key = [x,y,z].count)) >1 else 0)\n",
    "equal(3,2,3)"
   ]
  },
  {
   "cell_type": "code",
   "execution_count": 35,
   "metadata": {
    "tags": []
   },
   "outputs": [
    {
     "output_type": "stream",
     "name": "stdout",
     "text": "x y z\n10 20 30\n1 2 3\n"
    }
   ],
   "source": [
    "def test(x, y, z):\n",
    "    print(x, y, z)\n",
    "testDict = {'x' : 1, 'y' : 2, 'z' : 3}\n",
    "testList = [10, 20, 30]\n",
    "test(*testDict)\n",
    "test(*testList)\n",
    "test(**testDict)"
   ]
  },
  {
   "cell_type": "code",
   "execution_count": 42,
   "metadata": {
    "tags": []
   },
   "outputs": [
    {
     "output_type": "execute_result",
     "data": {
      "text/plain": "'not x'"
     },
     "metadata": {},
     "execution_count": 42
    }
   ],
   "source": [
    "\n",
    "def not_string(word):\n",
    "    # return lambda x : print(x, word)\n",
    "    return lambda x: word if word.startswith(\"not \") else x +\" \" + word \n",
    "myword = not_string('x')\n",
    "myword(\"not\")"
   ]
  },
  {
   "cell_type": "code",
   "execution_count": null,
   "metadata": {},
   "outputs": [],
   "source": [
    "def functioner(emoji):\n",
    "    return lambda message: print(message, emoji)\n",
    "myPrint_smile = functioner(\":)\")\n",
    "myPrint_sad = functioner(\":(\")\n",
    "myPrint_notr = functioner(\":!\")\n",
    "\n",
    "\n",
    "myPrint_smile(\"hello world\")\n",
    "myPrint_sad(\"hello world\")\n",
    "myPrint_notr(\"hello world\")"
   ]
  },
  {
   "cell_type": "code",
   "execution_count": 49,
   "metadata": {},
   "outputs": [
    {
     "output_type": "execute_result",
     "data": {
      "text/plain": "'not sugar'"
     },
     "metadata": {},
     "execution_count": 49
    }
   ],
   "source": [
    "def not_string(word):\n",
    "    return lambda x: word if word.startswith(\"not \") else x +\" \" + word \n",
    "myword = not_string(\"sugar\")\n",
    "myword(\"not\")"
   ]
  },
  {
   "cell_type": "code",
   "execution_count": 47,
   "metadata": {
    "tags": []
   },
   "outputs": [
    {
     "output_type": "stream",
     "name": "stdout",
     "text": "not sur\n"
    }
   ],
   "source": [
    "def not_string(word):\n",
    "    if word.startswith(\"not \"):\n",
    "        return word\n",
    "    else:\n",
    "        return \"not \" + word\n",
    "print(not_string('not sur'))"
   ]
  },
  {
   "cell_type": "code",
   "execution_count": 1,
   "metadata": {
    "tags": []
   },
   "outputs": [
    {
     "output_type": "stream",
     "name": "stdout",
     "text": "1\n2\nBuzz\n4\nBuzz\nBuzz\n7\n8\nBuzz\nBuzz\n11\nBuzz\n13\n14\nFizzBuzz\n16\n17\nBuzz\n19\nBuzz\n"
    }
   ],
   "source": [
    "numbers = range(1,21)\n",
    "x = list(filter(lambda x: print(\"FizzBuzz\") if x%3==0 and x%5==0 else (print(\"Buzz\") if x%5==0 else (print(\"Buzz\") if x%3==0 else print(x))),numbers))\n"
   ]
  },
  {
   "cell_type": "code",
   "execution_count": 2,
   "metadata": {
    "tags": []
   },
   "outputs": [
    {
     "output_type": "stream",
     "name": "stdout",
     "text": "1\n2\nfizz\n4\nbuzz\nfizz\n7\n8\nfizz\nbuzz\n11\nfizz\n13\n14\nFizzbuzz\n"
    }
   ],
   "source": [
    "numbers = range(1,16)\n",
    "for i in numbers :\n",
    "   print((lambda x: \"Fizzbuzz\" if x % 3 == 0 and x % 5 == 0 else(\"fizz\" if x % 3 == 0 else (\"buzz\" if x % 5 == 0 else x)))(i))"
   ]
  },
  {
   "cell_type": "code",
   "execution_count": 1,
   "metadata": {
    "tags": []
   },
   "outputs": [
    {
     "output_type": "stream",
     "name": "stdout",
     "text": "2\n"
    }
   ],
   "source": [
    "liste = [1,2,3,4]\n",
    "print(liste[1])"
   ]
  },
  {
   "cell_type": "code",
   "execution_count": 2,
   "metadata": {},
   "outputs": [
    {
     "output_type": "execute_result",
     "data": {
      "text/plain": "8"
     },
     "metadata": {},
     "execution_count": 2
    }
   ],
   "source": [
    "(lambda x: x**3)(2)"
   ]
  },
  {
   "cell_type": "code",
   "execution_count": 25,
   "metadata": {
    "tags": []
   },
   "outputs": [
    {
     "output_type": "stream",
     "name": "stdout",
     "text": "[22, 88, 2]\n"
    }
   ],
   "source": [
    "# list1 = [1,2,3,4,5,6,7,8,9,10]\n",
    "# for x in list1:\n",
    "#     print(x, \":\", (lambda a: \"odd\" if a % 2 != 0 else \"even\")(x))\n",
    "\n",
    "say = [22,33,55,88,2,3,9]\n",
    "cift = []\n",
    "for i in say:\n",
    "    (lambda x: cift.append(x) if x % 2 == 0 else None)(i)\n",
    "print(cift)"
   ]
  },
  {
   "cell_type": "code",
   "execution_count": 30,
   "metadata": {
    "tags": []
   },
   "outputs": [
    {
     "output_type": "stream",
     "name": "stdout",
     "text": "[22, 88, 2]\n"
    }
   ],
   "source": [
    "say = [22,33,55,88,2,3,9]\n",
    "cift = list(filter(lambda x : x % 2 == 0,say))\n",
    "print(cift)"
   ]
  },
  {
   "cell_type": "code",
   "execution_count": 29,
   "metadata": {
    "tags": []
   },
   "outputs": [
    {
     "output_type": "error",
     "ename": "TypeError",
     "evalue": "'function' object is not iterable",
     "traceback": [
      "\u001b[0;31m---------------------------------------------------------------------------\u001b[0m",
      "\u001b[0;31mTypeError\u001b[0m                                 Traceback (most recent call last)",
      "\u001b[0;32m<ipython-input-29-7ae5b6a31cd9>\u001b[0m in \u001b[0;36m<module>\u001b[0;34m\u001b[0m\n\u001b[1;32m      1\u001b[0m \u001b[0msay\u001b[0m \u001b[0;34m=\u001b[0m \u001b[0;34m[\u001b[0m\u001b[0;36m22\u001b[0m\u001b[0;34m,\u001b[0m\u001b[0;36m33\u001b[0m\u001b[0;34m,\u001b[0m\u001b[0;36m55\u001b[0m\u001b[0;34m,\u001b[0m\u001b[0;36m88\u001b[0m\u001b[0;34m,\u001b[0m\u001b[0;36m2\u001b[0m\u001b[0;34m,\u001b[0m\u001b[0;36m3\u001b[0m\u001b[0;34m,\u001b[0m\u001b[0;36m9\u001b[0m\u001b[0;34m]\u001b[0m\u001b[0;34m\u001b[0m\u001b[0;34m\u001b[0m\u001b[0m\n\u001b[1;32m      2\u001b[0m \u001b[0mc\u001b[0m \u001b[0;34m=\u001b[0m \u001b[0;34m(\u001b[0m\u001b[0;32mlambda\u001b[0m \u001b[0mx\u001b[0m\u001b[0;34m:\u001b[0m \u001b[0;34m(\u001b[0m\u001b[0mi\u001b[0m \u001b[0;32mfor\u001b[0m \u001b[0mi\u001b[0m \u001b[0;32min\u001b[0m \u001b[0msay\u001b[0m \u001b[0;32mif\u001b[0m \u001b[0mi\u001b[0m \u001b[0;34m%\u001b[0m \u001b[0;36m2\u001b[0m \u001b[0;34m==\u001b[0m \u001b[0;36m0\u001b[0m\u001b[0;34m)\u001b[0m\u001b[0;34m)\u001b[0m\u001b[0;34m\u001b[0m\u001b[0;34m\u001b[0m\u001b[0m\n\u001b[0;32m----> 3\u001b[0;31m \u001b[0mprint\u001b[0m\u001b[0;34m(\u001b[0m\u001b[0mlist\u001b[0m\u001b[0;34m(\u001b[0m\u001b[0mc\u001b[0m\u001b[0;34m)\u001b[0m\u001b[0;34m)\u001b[0m\u001b[0;34m\u001b[0m\u001b[0;34m\u001b[0m\u001b[0m\n\u001b[0m",
      "\u001b[0;31mTypeError\u001b[0m: 'function' object is not iterable"
     ]
    }
   ],
   "source": []
  },
  {
   "cell_type": "code",
   "execution_count": null,
   "metadata": {},
   "outputs": [],
   "source": []
  }
 ],
 "metadata": {
  "language_info": {
   "codemirror_mode": {
    "name": "ipython",
    "version": 3
   },
   "file_extension": ".py",
   "mimetype": "text/x-python",
   "name": "python",
   "nbconvert_exporter": "python",
   "pygments_lexer": "ipython3",
   "version": "3.8.2-final"
  },
  "orig_nbformat": 2,
  "kernelspec": {
   "name": "python36964bit03789e678b2849149d608e9dc1d904bf",
   "display_name": "Python 3.6.9 64-bit"
  }
 },
 "nbformat": 4,
 "nbformat_minor": 2
}