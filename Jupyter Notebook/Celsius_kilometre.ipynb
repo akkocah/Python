{
 "cells": [
  {
   "cell_type": "code",
   "execution_count": 1,
   "metadata": {},
   "outputs": [
    {
     "name": "stdout",
     "output_type": "stream",
     "text": [
      " 41.00 Celsius Degree equal = 105.80 Farenheit Degree\n"
     ]
    }
   ],
   "source": [
    "celsius_temp = 41\n",
    "fahrenheit_temp = (celsius_temp * 9/5) + 32\n",
    "\n",
    "# result = \"%.2f Celsius Degree equal = %.2f Farenheit Degree\" %(celsius_temp, fahrenheit_temp)\n",
    "\n",
    "result = f\"{celsius_temp : .2f} Celsius Degree equal = {fahrenheit_temp:0.2f} Farenheit Degree\"\n",
    "\n",
    "# result = \"{:.2f} Celsius Degree equal = {:.2f} Farenheit Degree \".format(celsius_temp, fahrenheit_temp)\n",
    "\n",
    "print(result)"
   ]
  },
  {
   "cell_type": "code",
   "execution_count": 2,
   "metadata": {},
   "outputs": [
    {
     "name": "stdout",
     "output_type": "stream",
     "text": [
      "1000.00 Kilometers equal = 539.96 miles \n"
     ]
    }
   ],
   "source": [
    "# km = float(input(\"Mesafe kaç km : \"))\n",
    "km = 1000\n",
    "mil = (km / 1.852)\n",
    "# result = \"%.2f Kilometers equal = %.2f miles\" %(km, mil)\n",
    "# result = \"{:0.2f} Kilometers equal = {:0.2f} miles\".format(km, mil) \n",
    "result = f\"{km:0.2f} Kilometers equal = {mil:0.2f} miles \"\n",
    "\n",
    "print(result)"
   ]
  },
  {
   "cell_type": "code",
   "execution_count": null,
   "metadata": {},
   "outputs": [],
   "source": []
  }
 ],
 "metadata": {
  "kernelspec": {
   "display_name": "Python 3",
   "language": "python",
   "name": "python3"
  },
  "language_info": {
   "codemirror_mode": {
    "name": "ipython",
    "version": 3
   },
   "file_extension": ".py",
   "mimetype": "text/x-python",
   "name": "python",
   "nbconvert_exporter": "python",
   "pygments_lexer": "ipython3",
   "version": "3.7.6"
  }
 },
 "nbformat": 4,
 "nbformat_minor": 4
}
