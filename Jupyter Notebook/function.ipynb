{
 "cells": [
  {
   "cell_type": "code",
   "execution_count": 3,
   "metadata": {
    "tags": []
   },
   "outputs": [
    {
     "output_type": "stream",
     "name": "stdout",
     "text": "True\n"
    }
   ],
   "source": [
    "def is_anagram(s1, s2):\n",
    "    return set(s1) == set(s2)\n",
    "print(is_anagram(\"elvis\", \"lives\")) # True"
   ]
  },
  {
   "cell_type": "code",
   "execution_count": 4,
   "metadata": {
    "tags": []
   },
   "outputs": [
    {
     "output_type": "stream",
     "name": "stdout",
     "text": "True\n"
    }
   ],
   "source": [
    "def is_palindrome(phrase):\n",
    "    return phrase == phrase[::-1]\n",
    "print(is_palindrome(\"anna\")) # True"
   ]
  },
  {
   "cell_type": "code",
   "execution_count": 7,
   "metadata": {
    "tags": []
   },
   "outputs": [
    {
     "output_type": "stream",
     "name": "stdout",
     "text": "True\n"
    }
   ],
   "source": [
    "def is_palindrome(phrase):\n",
    "    return phrase == phrase[::-1]\n",
    "print(is_palindrome(\"kayak\"))"
   ]
  },
  {
   "cell_type": "code",
   "execution_count": 1,
   "metadata": {
    "tags": []
   },
   "outputs": [
    {
     "output_type": "stream",
     "name": "stdout",
     "text": "34\n"
    }
   ],
   "source": [
    "def first_function(argument1, argument2):\n",
    "    print(argument1**2 + argument2**2)\n",
    "first_function(3,5)"
   ]
  },
  {
   "cell_type": "code",
   "execution_count": 3,
   "metadata": {
    "tags": []
   },
   "outputs": [
    {
     "output_type": "stream",
     "name": "stdout",
     "text": "30\n-2.5\namazing amazing amazing amazing amazing \n"
    }
   ],
   "source": [
    "def multiply(a,b):\n",
    "    print(a*b)\n",
    "multiply(5,6)\n",
    "multiply(-1, 2.5)\n",
    "multiply(\"amazing \",5)"
   ]
  },
  {
   "cell_type": "code",
   "execution_count": 4,
   "metadata": {
    "tags": []
   },
   "outputs": [
    {
     "output_type": "stream",
     "name": "stdout",
     "text": "Don't hesitate to reinvent yourself!\n"
    }
   ],
   "source": [
    "def motto() :\n",
    "    print(\"Don't hesitate to reinvent yourself!\")\n",
    "\n",
    "motto()  # it takes no argument"
   ]
  },
  {
   "cell_type": "code",
   "execution_count": 6,
   "metadata": {
    "tags": []
   },
   "outputs": [
    {
     "output_type": "stream",
     "name": "stdout",
     "text": "12\n"
    }
   ],
   "source": [
    "def my_function(a, b):\n",
    "    area = a * b\n",
    "    print(area)\n",
    "my_function(3, 4)"
   ]
  },
  {
   "cell_type": "code",
   "execution_count": 8,
   "metadata": {
    "tags": []
   },
   "outputs": [
    {
     "output_type": "stream",
     "name": "stdout",
     "text": "50\n50\n20\n<class 'NoneType'>\n<class 'int'>\n"
    }
   ],
   "source": [
    "def multiply_1(a, b) :\n",
    "    print(a * b)  # it prints something\n",
    "\n",
    "def multiply_2(a, b) :\n",
    "    return a * b  # returns any numeric data type value\n",
    "\n",
    "multiply_1(10, 5)\n",
    "print(multiply_2(10, 5))\n",
    "print(type(multiply_1(10, 2)))\n",
    "print(type(multiply_2(10, 5)))"
   ]
  },
  {
   "cell_type": "code",
   "execution_count": 1,
   "metadata": {
    "tags": []
   },
   "outputs": [
    {
     "output_type": "stream",
     "name": "stdout",
     "text": "Your first name is : Guido\nYour last name is : van Rossum\n\nYour first name is : Marry\nYour last name is : Bold\n"
    }
   ],
   "source": [
    "def who(first, last) :  # 'first' and 'last' are the parameters(or variables)\n",
    "    print('Your first name is :', first)\n",
    "    print('Your last name is :', last)\n",
    "\n",
    "who('Guido', 'van Rossum')  # 'Guido' and 'van Rossum' are the arguments\n",
    "print()\n",
    "who('Marry', 'Bold')  # 'Marry' and 'Bold' are also the arguments"
   ]
  },
  {
   "cell_type": "code",
   "execution_count": 4,
   "metadata": {
    "tags": []
   },
   "outputs": [
    {
     "output_type": "stream",
     "name": "stdout",
     "text": "-- This parrot wouldn't jump if you put a million volts through it.\n-- Lovely plumage, the Norwegian Blue\n-- It's bereft of life !\n"
    }
   ],
   "source": [
    "# In a function call, keyword arguments must follow positional arguments.\n",
    "def parrot(voltage, state='a stiff', action='voom', type='Norwegian Blue'):\n",
    "    print(\"-- This parrot wouldn't\", action, end=' ')\n",
    "    print(\"if you put\", voltage, \"volts through it.\")\n",
    "    print(\"-- Lovely plumage, the\", type)\n",
    "    print(\"-- It's\", state, \"!\")\n",
    "# parrot(1000)                                          # 1 positional argument\n",
    "# parrot(voltage=1000)                                  # 1 keyword argument\n",
    "# parrot(voltage=1000000, action='VOOOOOM')             # 2 keyword arguments\n",
    "# parrot(action='VOOOOOM', voltage=1000000)             # 2 keyword arguments \n",
    "parrot('a million', 'bereft of life', 'jump')         # 3 positional arguments\n",
    "# parrot('a thousand', state='pushing up the daisies')  # 1 positional, 1 keyword"
   ]
  },
  {
   "cell_type": "code",
   "execution_count": 6,
   "metadata": {},
   "outputs": [
    {
     "output_type": "error",
     "ename": "TypeError",
     "evalue": "parrot() got multiple values for argument 'voltage'",
     "traceback": [
      "\u001b[0;31m---------------------------------------------------------------------------\u001b[0m",
      "\u001b[0;31mTypeError\u001b[0m                                 Traceback (most recent call last)",
      "\u001b[0;32m<ipython-input-6-66f70786ee7d>\u001b[0m in \u001b[0;36m<module>\u001b[0;34m\u001b[0m\n\u001b[1;32m      1\u001b[0m \u001b[0;31m# parrot()                     # required argument missing\u001b[0m\u001b[0;34m\u001b[0m\u001b[0;34m\u001b[0m\u001b[0;34m\u001b[0m\u001b[0m\n\u001b[1;32m      2\u001b[0m \u001b[0;31m# parrot(voltage=5.0, 'dead')  # non-keyword argument after a keyword argument\u001b[0m\u001b[0;34m\u001b[0m\u001b[0;34m\u001b[0m\u001b[0;34m\u001b[0m\u001b[0m\n\u001b[0;32m----> 3\u001b[0;31m \u001b[0mparrot\u001b[0m\u001b[0;34m(\u001b[0m\u001b[0;36m110\u001b[0m\u001b[0;34m,\u001b[0m \u001b[0mvoltage\u001b[0m\u001b[0;34m=\u001b[0m\u001b[0;36m220\u001b[0m\u001b[0;34m)\u001b[0m     \u001b[0;31m# duplicate value for the same argument\u001b[0m\u001b[0;34m\u001b[0m\u001b[0;34m\u001b[0m\u001b[0m\n\u001b[0m\u001b[1;32m      4\u001b[0m \u001b[0;31m# parrot(actor='John Cleese')  # unknown keyword argument\u001b[0m\u001b[0;34m\u001b[0m\u001b[0;34m\u001b[0m\u001b[0;34m\u001b[0m\u001b[0m\n",
      "\u001b[0;31mTypeError\u001b[0m: parrot() got multiple values for argument 'voltage'"
     ]
    }
   ],
   "source": [
    "# parrot()                     # required argument missing\n",
    "# parrot(voltage=5.0, 'dead')  # non-keyword argument after a keyword argument\n",
    "# parrot(110, voltage=220)     # duplicate value for the same argument\n",
    "# parrot(actor='John Cleese')  # unknown keyword argument"
   ]
  },
  {
   "cell_type": "code",
   "execution_count": 3,
   "metadata": {
    "tags": []
   },
   "outputs": [
    {
     "output_type": "stream",
     "name": "stdout",
     "text": "konya in Europe\nAthens in Europe\nUlaanbaatar in Asia\nCape Town in Africa\n"
    }
   ],
   "source": [
    "def city(capital, continent='Europe'):\n",
    "    print(capital, 'in', continent)\n",
    "\n",
    "city(\"konya\")\n",
    "city('Athens')  # we don't have to pass any arguments into 'continent'\n",
    "city('Ulaanbaatar', continent='Asia')  # we can change the default value by kwargs\n",
    "city('Cape Town', 'Africa')  # we can change the default value by positional args."
   ]
  },
  {
   "cell_type": "code",
   "execution_count": 4,
   "metadata": {
    "tags": []
   },
   "outputs": [
    {
     "output_type": "stream",
     "name": "stdout",
     "text": "15\n"
    }
   ],
   "source": [
    "def topla(sayi1,sayi2,sayi3):\n",
    "    print(sum([sayi1,sayi2,sayi3]))\n",
    " \n",
    "topla(5,3,7)"
   ]
  },
  {
   "cell_type": "code",
   "execution_count": 9,
   "metadata": {
    "tags": []
   },
   "outputs": [
    {
     "output_type": "stream",
     "name": "stdout",
     "text": "15\n55\n"
    }
   ],
   "source": [
    "def topla(*args):\n",
    "    print(sum(args))\n",
    "topla(5,3,7)\n",
    "\n",
    "topla(* range(1,11))"
   ]
  },
  {
   "cell_type": "code",
   "execution_count": 13,
   "metadata": {
    "tags": []
   },
   "outputs": [
    {
     "output_type": "stream",
     "name": "stdout",
     "text": "{'sayi1': 5, 'sayi2': 6, 'sayi3': 7}\n"
    }
   ],
   "source": [
    "def yazdir(**kwargs):\n",
    "    print(kwargs)\n",
    " \n",
    "yazdir(sayi1=5,sayi2=6,sayi3=7)  "
   ]
  },
  {
   "cell_type": "code",
   "execution_count": 14,
   "metadata": {
    "tags": []
   },
   "outputs": [
    {
     "output_type": "stream",
     "name": "stdout",
     "text": "{'sayi5': 5, 'sayi10': 15, 'sayi16': 25}\n"
    }
   ],
   "source": [
    "def oku(**kwargs):\n",
    "    print(kwargs)\n",
    "oku(sayi5 = 5, sayi10 = 15, sayi16 = 25)"
   ]
  },
  {
   "cell_type": "code",
   "execution_count": 15,
   "metadata": {
    "tags": []
   },
   "outputs": [
    {
     "output_type": "stream",
     "name": "stdout",
     "text": "I want to get :\n- orange\n- banana\n- melon\n- ananas\n"
    }
   ],
   "source": [
    "def fruiterer(*fruit):\n",
    "    print(\"I want to get :\")\n",
    "    for i in fruit:\n",
    "        print(\"-\", i)\n",
    "fruiterer(\"orange\",'banana', 'melon', 'ananas' )"
   ]
  },
  {
   "cell_type": "code",
   "execution_count": 17,
   "metadata": {
    "tags": []
   },
   "outputs": [
    {
     "output_type": "stream",
     "name": "stdout",
     "text": "Lions are Carnivores\nBears are Omnivores\nDeers are Herbivores\nHuman are Nomnivores\n"
    }
   ],
   "source": [
    "def animals(**kwargs):\n",
    "    for key,value in kwargs.items():\n",
    "        print(value, \"are\", key)\n",
    "animals(Carnivores=\"Lions\", Omnivores=\"Bears\", Herbivores=\"Deers\", Nomnivores=\"Human\")"
   ]
  },
  {
   "cell_type": "code",
   "execution_count": 22,
   "metadata": {
    "tags": []
   },
   "outputs": [
    {
     "output_type": "stream",
     "name": "stdout",
     "text": "{'kid': {'tom': {'class': 'intermediate', 'age': 10}, 'sue': {'class': 'elementary', 'age': 8}}, 'teen': {'joseph': {'class': 'college', 'age': 19}, 'marry': {'class': 'high school', 'age': 16}}} are personal_info\n{'kid': {'tom': {'math': 88, 'speech': 69}, 'sue': {'math': 90, 'speech': 81}}, 'teen': {'joseph': {'coding': 80, 'math': 89}, 'marry': {'coding': 70, 'math': 96}}} are grades_info\n"
    }
   ],
   "source": [
    "def animals(**kwargs):\n",
    "    for key,value in kwargs.items():\n",
    "        print(value, \"are\", key)\n",
    "\n",
    "school_records={\n",
    "    \"personal_info\":\n",
    "        {\"kid\":{\"tom\": {\"class\": \"intermediate\", \"age\": 10},\n",
    "                \"sue\": {\"class\": \"elementary\", \"age\": 8}\n",
    "               },\n",
    "         \"teen\":{\"joseph\":{\"class\": \"college\", \"age\": 19},\n",
    "                 \"marry\":{\"class\": \"high school\", \"age\": 16}\n",
    "               },               \n",
    "        },\n",
    "        \n",
    "    \"grades_info\":\n",
    "        {\"kid\":{\"tom\": {\"math\": 88, \"speech\": 69},\n",
    "                \"sue\": {\"math\": 90, \"speech\": 81}\n",
    "               },\n",
    "         \"teen\":{\"joseph\":{\"coding\": 80, \"math\": 89},\n",
    "                 \"marry\":{\"coding\": 70, \"math\": 96}\n",
    "               },               \n",
    "        },        \n",
    "}\n",
    "animals(**school_records) "
   ]
  },
  {
   "cell_type": "code",
   "execution_count": 23,
   "metadata": {
    "tags": []
   },
   "outputs": [
    {
     "output_type": "stream",
     "name": "stdout",
     "text": "here are the names of brothers :\ntom\nsue\ntim\n"
    }
   ],
   "source": [
    "def brothers(bro1, bro2, bro3):\n",
    "    print(\"here are the names of brothers :\")\n",
    "    print(bro1,bro2,bro3, sep='\\n')\n",
    "family = [\"tom\", \"sue\",\"tim\"]\n",
    "brothers(*family)"
   ]
  },
  {
   "cell_type": "code",
   "execution_count": 24,
   "metadata": {
    "tags": []
   },
   "outputs": [
    {
     "output_type": "stream",
     "name": "stdout",
     "text": "Fred belongs to Generation X\nMarry belongs to Generation Y\n"
    }
   ],
   "source": [
    "def gene(x, y):  # defined by positional args\n",
    "    print(x, \"belongs to Generation X\")\n",
    "    print(y, \"belongs to Generation Y\")\n",
    " \n",
    "dict_gene = {'y' : \"Marry\", 'x' : \"Fred\"}\n",
    "gene(**dict_gene)  # we call the function by a single argument(variable)"
   ]
  },
  {
   "cell_type": "code",
   "execution_count": 25,
   "metadata": {
    "tags": []
   },
   "outputs": [
    {
     "output_type": "stream",
     "name": "stdout",
     "text": "Fred belongs to Generation X\nMarry belongs to Generation Y\n"
    }
   ],
   "source": [
    "def gene(x='Solomon', y='David'):  # defined by kwargs (default values assigned to x and y)\n",
    "    print(x, \"belongs to Generation X\")\n",
    "    print(y, \"belongs to Generation Y\")\n",
    "    dict_gene = {'y' : \"Marry\", 'x' : \"Fred\"}\n",
    "gene(**dict_gene)"
   ]
  },
  {
   "cell_type": "code",
   "execution_count": 26,
   "metadata": {
    "tags": []
   },
   "outputs": [
    {
     "output_type": "stream",
     "name": "stdout",
     "text": "Liverpool in Premier League\n"
    }
   ],
   "source": [
    "def team_league(team, league='Premier League'):\n",
    "    print(team, 'in', league)\n",
    "\n",
    "team_league('Liverpool')"
   ]
  },
  {
   "cell_type": "code",
   "execution_count": 27,
   "metadata": {
    "tags": []
   },
   "outputs": [
    {
     "output_type": "stream",
     "name": "stdout",
     "text": "Your first name is : Richard\nYour last name is : Rice\n"
    }
   ],
   "source": [
    "def my_function(first, last) : \n",
    "    print('Your first name is :', first)\n",
    "    print('Your last name is :', last)\n",
    "\n",
    "my_function(first='Richard', last='Rice') "
   ]
  },
  {
   "cell_type": "code",
   "execution_count": 6,
   "metadata": {
    "tags": []
   },
   "outputs": [
    {
     "output_type": "stream",
     "name": "stdout",
     "text": "C (Medium)\n"
    }
   ],
   "source": [
    "###################### ders başladı################################"
   ]
  },
  {
   "cell_type": "code",
   "execution_count": 2,
   "metadata": {
    "tags": []
   },
   "outputs": [
    {
     "output_type": "stream",
     "name": "stdout",
     "text": "True\nFalse\nTrue\n"
    }
   ],
   "source": [
    "names = [\"susan\", \"tom\", \"False\"] #and gibi çalışır\n",
    "mood = [\"happy\", \"sad\", 0]\n",
    "empty = {}\n",
    "\n",
    "print(all(names), all(mood), all(empty), sep=\"\\n\")"
   ]
  },
  {
   "cell_type": "code",
   "execution_count": 4,
   "metadata": {
    "tags": []
   },
   "outputs": [
    {
     "output_type": "stream",
     "name": "stdout",
     "text": "True\nFalse\nFalse\n"
    }
   ],
   "source": [
    "names = [\"susan\", \"tom\", False] #or gibi çalışır\n",
    "mood = [None, (), 0]\n",
    "empty = {}\n",
    "print(any(names), any(mood), any(empty), sep=\"\\n\")"
   ]
  },
  {
   "cell_type": "code",
   "execution_count": 5,
   "metadata": {
    "tags": []
   },
   "outputs": [
    {
     "output_type": "stream",
     "name": "stdout",
     "text": "The filtered elements are : \nsusan\ntom\n0\n"
    }
   ],
   "source": [
    "#filter(function, iterable)\n",
    "\n",
    "listA = [\"susan\", \"tom\", False, 0, \"0\"]\n",
    "filter_list = filter(None, listA) #bunu çıktısını almak için for döngüsüne sokarız.\n",
    "print(\"The filtered elements are : \")\n",
    "for i in filter_list:\n",
    "    print(i)"
   ]
  },
  {
   "cell_type": "code",
   "execution_count": 15,
   "metadata": {
    "tags": []
   },
   "outputs": [
    {
     "output_type": "stream",
     "name": "stdout",
     "text": "<class 'enumerate'>\n[(0, 'bread'), (1, 'water'), (2, 'olive')]\n[(10, 'bread'), (11, 'water'), (12, 'olive')]\n"
    }
   ],
   "source": [
    "#enumerate(iterable) numara verir\n",
    "grocery = [\"bread\",\"water\",\"olive\"]\n",
    "enum_grocery = enumerate(grocery)\n",
    "\n",
    "print(type(enum_grocery))\n",
    "print(list(enum_grocery))\n",
    "\n",
    "\n",
    "enum_grocery = enumerate(grocery, 10)\n",
    "print(list(enum_grocery))\n"
   ]
  },
  {
   "cell_type": "code",
   "execution_count": 14,
   "metadata": {
    "tags": []
   },
   "outputs": [
    {
     "output_type": "stream",
     "name": "stdout",
     "text": "(0, 'bread')\n(1, 'water')\n(2, 'olive')\n"
    }
   ],
   "source": [
    "grocery = [\"bread\",\"water\",\"olive\"]\n",
    "enum_grocery = enumerate(grocery)\n",
    "for i in list(enum_grocery):\n",
    "    print(i)"
   ]
  },
  {
   "cell_type": "code",
   "execution_count": 13,
   "metadata": {
    "tags": []
   },
   "outputs": [
    {
     "output_type": "stream",
     "name": "stdout",
     "text": "{0: 'bread', 1: 'water', 2: 'olive'}\n"
    }
   ],
   "source": [
    "grocery = [\"bread\",\"water\",\"olive\"]\n",
    "enum_grocery = enumerate(grocery)\n",
    "print(dict(enum_grocery))"
   ]
  },
  {
   "cell_type": "code",
   "execution_count": 17,
   "metadata": {
    "tags": []
   },
   "outputs": [
    {
     "output_type": "stream",
     "name": "stdout",
     "text": "25\n"
    }
   ],
   "source": [
    "# max(iterable), min(iterable)\n",
    "\n",
    "numbers = 1,2,3,6,25\n",
    "print(max(numbers)) "
   ]
  },
  {
   "cell_type": "code",
   "execution_count": 19,
   "metadata": {
    "tags": []
   },
   "outputs": [
    {
     "output_type": "stream",
     "name": "stdout",
     "text": "21.5\n41.5\n"
    }
   ],
   "source": [
    "#sum(iterable)\n",
    "numbers = [2.5, 30, 4, -15]\n",
    "print(sum(numbers))\n",
    "print(sum(numbers, 20))"
   ]
  },
  {
   "cell_type": "code",
   "execution_count": 24,
   "metadata": {
    "tags": []
   },
   "outputs": [
    {
     "output_type": "stream",
     "name": "stdout",
     "text": "12\n11\n3.67\n3.67\n334\n"
    }
   ],
   "source": [
    "#round\n",
    "# For example- If the number is 346.5 then it will be rounded off to 346 because the digit before decimal is even. And if the number is 345.5 then it will be rounded off to 346\n",
    "print(round(12))\n",
    "print(round(10.8))\n",
    "print(round(3.665, 2))\n",
    "print(round(3.675, 2))\n",
    "print(round(334.5))"
   ]
  },
  {
   "cell_type": "code",
   "execution_count": 31,
   "metadata": {
    "tags": []
   },
   "outputs": [
    {
     "output_type": "stream",
     "name": "stdout",
     "text": "34\n34\n<class 'NoneType'>\n"
    }
   ],
   "source": [
    "def kare(a, b):\n",
    "    print(a ** 2 + b ** 2)\n",
    "kare(3, 5)\n",
    "print(type (kare(3, 5)))"
   ]
  },
  {
   "cell_type": "code",
   "execution_count": 32,
   "metadata": {
    "tags": []
   },
   "outputs": [
    {
     "output_type": "stream",
     "name": "stdout",
     "text": "15\n-2.5\namazing amazing amazing \n"
    }
   ],
   "source": [
    "def multiply(a, b):\n",
    "    print(a * b)\n",
    "multiply(3,5)\n",
    "multiply(-1, 2.5)\n",
    "multiply('amazing ',3)"
   ]
  },
  {
   "cell_type": "code",
   "execution_count": 33,
   "metadata": {
    "tags": []
   },
   "outputs": [
    {
     "output_type": "stream",
     "name": "stdout",
     "text": "-25\n"
    }
   ],
   "source": [
    "def add(a, b):\n",
    "    print(a + b)\n",
    "add(20, -45)"
   ]
  },
  {
   "cell_type": "code",
   "execution_count": 39,
   "metadata": {
    "tags": []
   },
   "outputs": [
    {
     "output_type": "stream",
     "name": "stdout",
     "text": "2000\n"
    }
   ],
   "source": [
    "def calculator(x, y, opr):\n",
    "    if opr == \"+\":\n",
    "        print(x + y)\n",
    "    elif opr == \"-\":\n",
    "        print(x - y)\n",
    "    elif opr == \"*\":\n",
    "        print(x * y)\n",
    "    elif opr == \"/\":\n",
    "        print(x / y)\n",
    "    else: print(\"enter valid arg\")\n",
    "\n",
    "calculator(100,20,\"*\")\n"
   ]
  },
  {
   "cell_type": "code",
   "execution_count": 44,
   "metadata": {
    "tags": []
   },
   "outputs": [
    {
     "output_type": "stream",
     "name": "stdout",
     "text": "(12, 2.0)\n"
    }
   ],
   "source": [
    "#return type da döndürür daha sonra başka değişkenlere atayabiliriz.\n",
    "\n",
    "def karışık(a, b):\n",
    "    x = a * b\n",
    "    y = a + b\n",
    "    z = a / b\n",
    "    return y, z\n",
    "\n",
    "karışık(8, 4)\n",
    "print(karışık(8,4))\n"
   ]
  },
  {
   "cell_type": "code",
   "execution_count": 1,
   "metadata": {
    "tags": []
   },
   "outputs": [
    {
     "output_type": "stream",
     "name": "stdout",
     "text": "7\n"
    }
   ],
   "source": [
    "def toplam(a, b):\n",
    "    return a + b\n",
    "toplam(3, 4)\n",
    "yeni = toplam(3, 4)\n",
    "print(yeni)"
   ]
  },
  {
   "cell_type": "code",
   "execution_count": 50,
   "metadata": {
    "tags": []
   },
   "outputs": [],
   "source": [
    "def multi1(a, b):\n",
    "    print(a * b)\n",
    "degisken = multi1(5, 4) # none verir çünkü return tanımlamadık\n",
    "print(degisken)"
   ]
  },
  {
   "cell_type": "code",
   "execution_count": 53,
   "metadata": {
    "tags": []
   },
   "outputs": [
    {
     "output_type": "stream",
     "name": "stdout",
     "text": "2000\n"
    }
   ],
   "source": [
    "def calculator(x, y, opr):\n",
    "    if opr == \"+\":\n",
    "        return (x + y)\n",
    "    elif opr == \"-\":\n",
    "        return (x - y)\n",
    "    elif opr == \"*\":\n",
    "        return (x * y)\n",
    "    elif opr == \"/\":\n",
    "        return (x / y)\n",
    "    else: return (\"enter valid arg\")\n",
    "\n",
    "# calculator(100,20,\"*\")\n",
    "# calculator(100,20,\"+\")\n",
    "print(calculator(100,20,\"*\"))"
   ]
  },
  {
   "cell_type": "code",
   "execution_count": 54,
   "metadata": {},
   "outputs": [
    {
     "output_type": "execute_result",
     "data": {
      "text/plain": "5"
     },
     "metadata": {},
     "execution_count": 54
    }
   ],
   "source": [
    "def hangisi(x, z):\n",
    "    return x\n",
    "    return z\n",
    "hangisi(5,2)"
   ]
  },
  {
   "cell_type": "code",
   "execution_count": 1,
   "metadata": {
    "tags": []
   },
   "outputs": [
    {
     "output_type": "stream",
     "name": "stdout",
     "text": "\n    this function is returns the absolute value\n    \n"
    },
    {
     "output_type": "execute_result",
     "data": {
      "text/plain": "5"
     },
     "metadata": {},
     "execution_count": 1
    }
   ],
   "source": [
    "def absolute_value(x):\n",
    "    \"\"\"\n",
    "    this function is returns the absolute value\n",
    "    \"\"\"\n",
    "    if x >= 0:\n",
    "        return x\n",
    "    else:\n",
    "        return -x\n",
    "\n",
    "print(absolute_value.__doc__)\n",
    "absolute_value(-5)"
   ]
  },
  {
   "cell_type": "code",
   "execution_count": 4,
   "metadata": {
    "tags": []
   },
   "outputs": [],
   "source": [
    "###################ARGUMENTS VS PARAMETERS ###################3\n"
   ]
  },
  {
   "cell_type": "code",
   "execution_count": 6,
   "metadata": {
    "tags": []
   },
   "outputs": [
    {
     "output_type": "stream",
     "name": "stdout",
     "text": "Your first name is : Guido\nYour last name is : van Rossum\n\nYour first name is : Marry\nYour last name is : Bold\n"
    },
    {
     "output_type": "error",
     "ename": "TypeError",
     "evalue": "who() missing 1 required positional argument: 'last'",
     "traceback": [
      "\u001b[0;31m---------------------------------------------------------------------------\u001b[0m",
      "\u001b[0;31mTypeError\u001b[0m                                 Traceback (most recent call last)",
      "\u001b[0;32m<ipython-input-6-d82be8006dbc>\u001b[0m in \u001b[0;36m<module>\u001b[0;34m\u001b[0m\n\u001b[1;32m      6\u001b[0m \u001b[0mprint\u001b[0m\u001b[0;34m(\u001b[0m\u001b[0;34m)\u001b[0m\u001b[0;34m\u001b[0m\u001b[0;34m\u001b[0m\u001b[0m\n\u001b[1;32m      7\u001b[0m \u001b[0mwho\u001b[0m\u001b[0;34m(\u001b[0m\u001b[0;34m'Marry'\u001b[0m\u001b[0;34m,\u001b[0m \u001b[0;34m'Bold'\u001b[0m\u001b[0;34m)\u001b[0m  \u001b[0;31m# 'Marry' and 'Bold' are also the arguments\u001b[0m\u001b[0;34m\u001b[0m\u001b[0;34m\u001b[0m\u001b[0m\n\u001b[0;32m----> 8\u001b[0;31m \u001b[0mwho\u001b[0m\u001b[0;34m(\u001b[0m\u001b[0;34m'Marry'\u001b[0m\u001b[0;34m)\u001b[0m\u001b[0;34m\u001b[0m\u001b[0;34m\u001b[0m\u001b[0m\n\u001b[0m",
      "\u001b[0;31mTypeError\u001b[0m: who() missing 1 required positional argument: 'last'"
     ]
    }
   ],
   "source": [
    "def who(first, last) :  # 'first' and 'last' are the parameters(or variables)\n",
    "    print('Your first name is :', first)\n",
    "    print('Your last name is :', last)\n",
    "\n",
    "who('Guido', 'van Rossum')  # 'Guido' and 'van Rossum' are the arguments\n",
    "print()\n",
    "who('Marry', 'Bold')  # 'Marry' and 'Bold' are also the arguments\n",
    "who('Marry') # HATA VERİR çünkü positional"
   ]
  },
  {
   "cell_type": "code",
   "execution_count": 8,
   "metadata": {
    "tags": []
   },
   "outputs": [
    {
     "output_type": "stream",
     "name": "stdout",
     "text": "first\nsecond\n\nsecond\nfirst\n"
    }
   ],
   "source": [
    "def pos_arg(a,b):\n",
    "    print(a)\n",
    "    print(b)\n",
    "pos_arg(\"first\", \"second\")\n",
    "print()\n",
    "pos_arg(\"second\", \"first\")"
   ]
  },
  {
   "cell_type": "code",
   "execution_count": 9,
   "metadata": {
    "tags": []
   },
   "outputs": [
    {
     "output_type": "stream",
     "name": "stdout",
     "text": "i love you\n"
    }
   ],
   "source": [
    "def texter(t1, t2, t3):\n",
    "    print(f\"{t2} {t3} {t1}\")\n",
    "a = \"i\"\n",
    "b = \"love\"\n",
    "c = \"you\"\n",
    "texter(c,a,b) "
   ]
  },
  {
   "cell_type": "code",
   "execution_count": null,
   "metadata": {},
   "outputs": [],
   "source": [
    "#Keyword Arguments The formula syntax is : kwargs=values.#\n",
    "# ÖNCE POSITIONAL LAR GELIR KEYWORD LER SONRA GELIR"
   ]
  },
  {
   "cell_type": "code",
   "execution_count": 17,
   "metadata": {
    "tags": []
   },
   "outputs": [
    {
     "output_type": "stream",
     "name": "stdout",
     "text": "-- This parrot wouldn't voom if you put 1000 volts through it.\n-- Lovely plumage, the Norwegian Blue\n-- It's a stiff !\n"
    }
   ],
   "source": [
    "# In a function call, keyword arguments must follow positional arguments.\n",
    "def parrot(voltage, state='a stiff', action='voom', type='Norwegian Blue'):\n",
    "    print(\"-- This parrot wouldn't\", action, end=' ')\n",
    "    print(\"if you put\", voltage, \"volts through it.\")\n",
    "    print(\"-- Lovely plumage, the\", type)\n",
    "    print(\"-- It's\", state, \"!\")\n",
    "parrot(1000)                                          # 1 positional argument\n",
    "# parrot(voltage=1000)                                  # 1 keyword argument\n",
    "# parrot(voltage=1000000, action='VOOOOOM')             # 2 keyword arguments\n",
    "# parrot(action='VOOOOOM', voltage=1000000)             # 2 keyword arguments \n",
    "#parrot('a million', 'bereft of life', 'jump')         # 3 positional arguments\n",
    "# parrot('a thousand', state='pushing up the daisies')  # 1 positional, 1 keyword\n",
    "#parrot(voltage = 5, \"dead\")# hata verir positional argument follows keyword argument keywordler positionallardan sonra gelemez"
   ]
  },
  {
   "cell_type": "code",
   "execution_count": 19,
   "metadata": {},
   "outputs": [],
   "source": [
    "def function(a):\n",
    "    pass\n",
    "#function(0, a=0) #function() got multiple values for argument 'a'  hata verir \n",
    "function(0)"
   ]
  },
  {
   "cell_type": "code",
   "execution_count": null,
   "metadata": {},
   "outputs": [],
   "source": [
    "# *args and **kwargs fonksiyonu tanımlarken * veya ** koyarız"
   ]
  },
  {
   "cell_type": "code",
   "execution_count": 20,
   "metadata": {
    "tags": []
   },
   "outputs": [
    {
     "output_type": "stream",
     "name": "stdout",
     "text": "I want to get :\n- orange\n- banana\n- melon\n- ananas\n"
    }
   ],
   "source": [
    "def fruiterer(*fruit) : # başındaki yıldızı unutma\n",
    "    print('I want to get :')\n",
    "    for i in fruit :\n",
    "        print('-', i)\n",
    "        \n",
    "fruiterer('orange', 'banana', 'melon', 'ananas')"
   ]
  },
  {
   "cell_type": "code",
   "execution_count": 21,
   "metadata": {
    "tags": []
   },
   "outputs": [
    {
     "output_type": "stream",
     "name": "stdout",
     "text": "ı want to eat :\n--- egg\n--- bread\n"
    }
   ],
   "source": [
    "def foods(*food):\n",
    "    print(\"ı want to eat :\")\n",
    "    for i in food:\n",
    "        print(\"---\", i)\n",
    "foods(\"egg\",\"bread\")"
   ]
  },
  {
   "cell_type": "code",
   "execution_count": 1,
   "metadata": {
    "tags": []
   },
   "outputs": [
    {
     "output_type": "stream",
     "name": "stdout",
     "text": "even list : [2, 4, 6, 8, 10]\nodd list : [1, 3, 5, 7, 9]\n"
    }
   ],
   "source": [
    "even=[]\n",
    "odd = []\n",
    "def slicer(*numbers):\n",
    "    for i in numbers:\n",
    "        if i % 2 == 0:\n",
    "            even.append(i)\n",
    "        else:\n",
    "            odd.append(i)\n",
    "    print(f\"even list : {even}\")\n",
    "    print(f\"odd list : {odd}\")\n",
    "slicer(1,2,3,4,5,6,7,8,9,10)\n"
   ]
  },
  {
   "cell_type": "code",
   "execution_count": 2,
   "metadata": {
    "tags": []
   },
   "outputs": [
    {
     "output_type": "stream",
     "name": "stdout",
     "text": "even list :  [2, 4, 6, 8]\nodd list :  [1, 3, 5, 7, 9]\n"
    }
   ],
   "source": [
    "def slicer(*args):\n",
    "    print(f\"even list : \", [i for i in args if not i%2])\n",
    "    print(f\"odd list : \", [i for i in args if i%2])\n",
    "slicer(1,2,3,4,5,6,7,8,9)"
   ]
  },
  {
   "cell_type": "code",
   "execution_count": 6,
   "metadata": {
    "tags": []
   },
   "outputs": [
    {
     "output_type": "stream",
     "name": "stdout",
     "text": "[2, 4, 6, 8, 10, 12, 14, 16, 18, 20, 22, 24, 26, 28]\n[1, 3, 5, 7, 9, 11, 13, 15, 17, 19, 21, 23, 25, 27, 29]\n"
    }
   ],
   "source": [
    "def slicer(*num):\n",
    "    even = [i for i in num if i % 2 ==0]\n",
    "    odd = [i for i in num if i % 2 !=0]\n",
    "    print(even)\n",
    "    print(odd)\n",
    "\n",
    "# slicer(1,2,3,4,5,6,7,8,9,10,11,12)\n",
    "slicer(* range(1,30)) #çalışmadı"
   ]
  },
  {
   "cell_type": "code",
   "execution_count": 8,
   "metadata": {
    "tags": []
   },
   "outputs": [
    {
     "output_type": "stream",
     "name": "stdout",
     "text": "Lions are Carnivores\nbears are omnivores\ndeers are Herbivores\nhuman are nomnivores\n"
    }
   ],
   "source": [
    "def animals(**kwargs):\n",
    "    for key, value in kwargs.items():\n",
    "        print(value, \"are\", key)\n",
    "animals(Carnivores = \"Lions\", omnivores = \"bears\", Herbivores = \"deers\", nomnivores=\"human\")"
   ]
  },
  {
   "cell_type": "code",
   "execution_count": 12,
   "metadata": {
    "tags": []
   },
   "outputs": [
    {
     "output_type": "stream",
     "name": "stdout",
     "text": "[('ali', 25), ('veli', 35)]\n[('ali', 25), ('veli', 35)]\n"
    }
   ],
   "source": [
    "def organizer(**kwargs):\n",
    "    names = [key for key in kwargs.items()]\n",
    "    age = [value for value in kwargs.items()]\n",
    "    print(names)\n",
    "    print(age)\n",
    "organizer(ali = 25, veli = 35)"
   ]
  },
  {
   "cell_type": "code",
   "execution_count": 14,
   "metadata": {
    "tags": []
   },
   "outputs": [
    {
     "output_type": "stream",
     "name": "stdout",
     "text": "['Beth', 'Oscar', 'Justin', 'Frank']\n[26, 42, 18, 33]\n"
    }
   ],
   "source": [
    "def organizer(**people):\n",
    "    name = []\n",
    "    age = []\n",
    "    for key, value in people.items():\n",
    "        name.append(key)\n",
    "        age.append(value)\n",
    "    print(name)\n",
    "    print(age)\n",
    "\n",
    "organizer(Beth=26, Oscar=42, Justin=18,Frank=33)"
   ]
  },
  {
   "cell_type": "code",
   "execution_count": 32,
   "metadata": {
    "tags": []
   },
   "outputs": [
    {
     "output_type": "stream",
     "name": "stdout",
     "text": "['Beth', 'Oscar', 'Justin', 'Frank']\n[26, 42, 18, 33]\n"
    }
   ],
   "source": [
    "def organizer(**kwargs):\n",
    "    list_name=[]\n",
    "    list_ages=[]\n",
    "    for key,value in kwargs.items():\n",
    "        list_name.append(key)\n",
    "        list_ages.append(value)\n",
    "    print(list_name)\n",
    "    print(list_ages)\n",
    "    \n",
    "organizer(Beth=26,Oscar=42,Justin=18,Frank=33)"
   ]
  },
  {
   "cell_type": "code",
   "execution_count": 33,
   "metadata": {
    "tags": []
   },
   "outputs": [
    {
     "output_type": "stream",
     "name": "stdout",
     "text": "here are the names of brothers :\ntom\nsue\ntim\n"
    }
   ],
   "source": [
    "def brothers(bro1, bro2, bro3):\n",
    "    print(\"here are the names of brothers :\")\n",
    "    print(bro1,bro2,bro3, sep='\\n')\n",
    "family = [\"tom\", \"sue\",\"tim\"]\n",
    "brothers(*family)"
   ]
  },
  {
   "cell_type": "code",
   "execution_count": 35,
   "metadata": {
    "tags": []
   },
   "outputs": [
    {
     "output_type": "stream",
     "name": "stdout",
     "text": "Forme  Bill Gates and  Rossum Guido van are geniuses\n"
    }
   ],
   "source": [
    "def merger(bro1, bro2, bro3, bro4):\n",
    "    print (\"For me \",bro1,bro4, \"and \", bro2, bro3, \"are geniuses\")\n",
    "genius=(\"Bill\", 'Rossum', 'Guido van', \"Gates\")\n",
    "merger(*genius)"
   ]
  },
  {
   "cell_type": "code",
   "execution_count": 36,
   "metadata": {
    "tags": []
   },
   "outputs": [
    {
     "output_type": "stream",
     "name": "stdout",
     "text": "For me, Bill Gates and Goido van Rossum are geniuses\n"
    }
   ],
   "source": [
    "def merger(x, y, z, a):\n",
    "    print(f\"For me, {x} {a} and {z} {y} are geniuses\")\n",
    "d = (\"Bill\", \"Rossum\", \"Goido van\", \"Gates\")\n",
    "merger(*d)"
   ]
  },
  {
   "cell_type": "code",
   "execution_count": null,
   "metadata": {},
   "outputs": [],
   "source": []
  },
  {
   "cell_type": "code",
   "execution_count": 39,
   "metadata": {
    "tags": []
   },
   "outputs": [
    {
     "output_type": "stream",
     "name": "stdout",
     "text": "average : 35.0\n"
    }
   ],
   "source": [
    "def meaner(cemo, memo, haso): #buradaki değerler key ile aynı olmalı\n",
    "    avg = (cemo + memo + haso)/3\n",
    "    return avg\n",
    "\n",
    "\n",
    "friend = {\"cemo\": 35, \"memo\" : 28, \"haso\" : 42}\n",
    "print(\"average :\" ,meaner(**friend))"
   ]
  },
  {
   "cell_type": "code",
   "execution_count": 40,
   "metadata": {
    "tags": []
   },
   "outputs": [
    {
     "output_type": "stream",
     "name": "stdout",
     "text": "Fred belongs to Generation X\nMarry belongs to Generation Y\n"
    }
   ],
   "source": [
    "def gene(x, y):  # defined by positional args\n",
    "    print(x, \"belongs to Generation X\")\n",
    "    print(y, \"belongs to Generation Y\")\n",
    " \n",
    "dict_gene = {'y' : \"Marry\", 'x' : \"Fred\"}\n",
    "gene(**dict_gene)  # we call the function by a single argument(variable)"
   ]
  },
  {
   "cell_type": "code",
   "execution_count": 43,
   "metadata": {
    "tags": []
   },
   "outputs": [
    {
     "output_type": "stream",
     "name": "stdout",
     "text": "[('marry', 'fred'), ('bella', 'paul'), ('susan', 'bahadır')]\n"
    }
   ],
   "source": [
    "bayan = {\"f\" :[\"marry\",\"bella\",\"susan\"], \"m\" : [\"fred\", \"paul\", \"bahadır\"]}\n",
    "\n",
    "def muruvvet(f, m): #listede f ve m olduğu için\n",
    "    x_list = []\n",
    "    for x in zip(f, m):\n",
    "        x_list.append(x)\n",
    "   \n",
    "    return x_list\n",
    "muruvvet(**bayan)\n",
    "\n",
    "print(muruvvet(**bayan))\n"
   ]
  },
  {
   "cell_type": "code",
   "execution_count": 45,
   "metadata": {
    "tags": []
   },
   "outputs": [
    {
     "output_type": "stream",
     "name": "stdout",
     "text": "o\nnewline\n"
    }
   ],
   "source": [
    "str1 = \"hello\"\n",
    "print(str1[-1:])\n",
    "print(\"new\" \"line\")"
   ]
  },
  {
   "cell_type": "code",
   "execution_count": 10,
   "metadata": {
    "tags": []
   },
   "outputs": [
    {
     "output_type": "stream",
     "name": "stdout",
     "text": "False\nFalse\n"
    }
   ],
   "source": [
    "# We have a loud talking parrot. We are in trouble if the parrot is talking and the hour is before 6 or after 21. \n",
    "def parrot_trouble(talking, hour):\n",
    "    if talking and (hour <6 or hour >21):\n",
    "        return True\n",
    "    else:\n",
    "        return False\n",
    "print(parrot_trouble(False, 22))\n",
    "print(parrot_trouble(True, 18))"
   ]
  },
  {
   "cell_type": "code",
   "execution_count": null,
   "metadata": {},
   "outputs": [],
   "source": [
    "#####################3tekrar#######################333"
   ]
  },
  {
   "cell_type": "code",
   "execution_count": 3,
   "metadata": {
    "tags": []
   },
   "outputs": [
    {
     "output_type": "stream",
     "name": "stdout",
     "text": "ı want to eat :\n**--  somon\n**--  ala\n**--  sazan\n"
    }
   ],
   "source": [
    "def fishs(*args):\n",
    "    print(\"ı want to eat :\")\n",
    "    for i in args:\n",
    "        print(\"**-- \",i  )\n",
    "fishs(\"somon\",\"ala\",\"sazan\")"
   ]
  },
  {
   "cell_type": "code",
   "execution_count": 9,
   "metadata": {
    "tags": []
   },
   "outputs": [
    {
     "output_type": "stream",
     "name": "stdout",
     "text": "odd = [1, 3, 5, 7, 9]\neven [2, 4, 6, 8, 10]\nodd = [1, 3, 5, 7, 9, 1, 3, 5, 7, 9, 11, 13, 15, 17, 19, 21, 23, 25, 27, 29, 31, 33, 35, 37, 39, 41, 43, 45, 47, 49]\neven [2, 4, 6, 8, 10, 2, 4, 6, 8, 10, 12, 14, 16, 18, 20, 22, 24, 26, 28, 30, 32, 34, 36, 38, 40, 42, 44, 46, 48]\n"
    }
   ],
   "source": [
    "num = int(input(\"enter number\"))\n",
    "odd = []\n",
    "even = []\n",
    "def slicers(*args):\n",
    "    for i in args:\n",
    "        if i % 2 == 0:\n",
    "            even.append(i)\n",
    "        else:\n",
    "            odd.append(i)\n",
    "    print(\"odd =\",odd)\n",
    "    print(\"even\",even)\n",
    "slicers(1,2,3,4,5,6,7,8,9,10)\n",
    "slicers(* range(1,num))"
   ]
  },
  {
   "cell_type": "code",
   "execution_count": 11,
   "metadata": {
    "tags": []
   },
   "outputs": [
    {
     "output_type": "stream",
     "name": "stdout",
     "text": "[2, 4, 6, 8, 10, 12, 14, 16, 18, 20, 22, 24]\n[1, 3, 5, 7, 9, 11, 13, 15, 17, 19, 21, 23]\n"
    }
   ],
   "source": [
    "num = int(input(\"enter number\"))\n",
    "def slicers(*args):\n",
    "    even = [i for i in args if i % 2 == 0]\n",
    "    odd = [i for i in args if i % 2 != 0]\n",
    "    print(even)\n",
    "    print(odd)\n",
    "#slicers(1,2,3,4,5,6,7,8,9,10)\n",
    "slicers(* range(1,num))"
   ]
  },
  {
   "cell_type": "code",
   "execution_count": 24,
   "metadata": {
    "tags": []
   },
   "outputs": [
    {
     "output_type": "stream",
     "name": "stdout",
     "text": "[26, 42, 18, 33] ['Beth', 'Oscar', 'Justin', 'Frank']\n"
    }
   ],
   "source": [
    "def organizer(**kwargs):\n",
    "    listn = []\n",
    "    lista = []\n",
    "    for key, value in kwargs.items():\n",
    "        listn.append(key)\n",
    "        lista.append(value)\n",
    "    print(lista, listn)\n",
    "organizer(Beth=26,Oscar=42,Justin=18,Frank=33)"
   ]
  },
  {
   "cell_type": "code",
   "execution_count": 9,
   "metadata": {
    "tags": []
   },
   "outputs": [
    {
     "output_type": "stream",
     "name": "stdout",
     "text": "76.0 608\ndict_keys(['Mary', 'Susan', 'Barry', 'Alexis', 'Jane', 'Tina', 'Tom', 'Tim'])\n"
    }
   ],
   "source": [
    "# Write a Python code that calculates the average of scores that students took in a math class at below.\n",
    "scores = {\"Mary\" : 85, \"Susan\": 75, \"Barry\" : 65, \"Alexis\" : 88, \"Jane\" : 45, \"Tina\" : 100, \"Tom\" : 90, \"Tim\": 60}\n",
    "# ANSWER:\n",
    "scores = {\"Mary\" : 85, \"Susan\": 75, \"Barry\" : 65, \"Alexis\" : 88, \"Jane\" : 45, \"Tina\" : 100, \"Tom\" : 90, \"Tim\": 60}\n",
    "summ = sum(scores.values())\n",
    "average = sum(scores.values()) / len(scores)\n",
    "print(average,summ)\n",
    "#a = scr\n",
    "print(scores.keys())"
   ]
  },
  {
   "cell_type": "code",
   "execution_count": 2,
   "metadata": {
    "tags": []
   },
   "outputs": [
    {
     "output_type": "stream",
     "name": "stdout",
     "text": "200\n"
    }
   ],
   "source": [
    "def my_function(a,b):\n",
    "    print(a*b)\n",
    "my_function(10,20)"
   ]
  },
  {
   "cell_type": "code",
   "execution_count": 3,
   "metadata": {
    "tags": []
   },
   "outputs": [
    {
     "output_type": "stream",
     "name": "stdout",
     "text": "5.0\n"
    }
   ],
   "source": [
    "def my_function(a, b):\n",
    "    hypotenuse = (a**2 + b**2)**0.5\n",
    "    return hypotenuse\n",
    "print(my_function(3,4))"
   ]
  },
  {
   "cell_type": "code",
   "execution_count": 4,
   "metadata": {
    "tags": []
   },
   "outputs": [
    {
     "output_type": "stream",
     "name": "stdout",
     "text": "12\n"
    }
   ],
   "source": [
    "def my_function(a, b):\n",
    "    area = (a*b)\n",
    "    return area\n",
    "print(my_function(3,4))"
   ]
  },
  {
   "cell_type": "code",
   "execution_count": 6,
   "metadata": {
    "tags": []
   },
   "outputs": [
    {
     "output_type": "stream",
     "name": "stdout",
     "text": "Johddddn\n"
    }
   ],
   "source": [
    "def longer(a, b):\n",
    "    if len(a) >= len(b):\n",
    "        return a\n",
    "    else:\n",
    "        return b\n",
    "\n",
    "print(longer('Richard', 'Johddddn'))"
   ]
  },
  {
   "cell_type": "code",
   "execution_count": 7,
   "metadata": {
    "tags": []
   },
   "outputs": [
    {
     "output_type": "stream",
     "name": "stdout",
     "text": "My name is Richard\n"
    }
   ],
   "source": [
    "x = 'My name is Richard'\n",
    "def my_function_1(): \n",
    "    x = 'My name is John'\n",
    "print(x)"
   ]
  },
  {
   "cell_type": "code",
   "execution_count": 1,
   "metadata": {
    "tags": []
   },
   "outputs": [
    {
     "output_type": "stream",
     "name": "stdout",
     "text": "331.0\n"
    }
   ],
   "source": [
    "def spec_opr(*numbers):\n",
    "    #global sum_total\n",
    "    sum_total = 0\n",
    "    for i in numbers:\n",
    "        if i % 2 == 0:\n",
    "            sum_total += (i/2)\n",
    "        else:\n",
    "            sum_total += (i*3)\n",
    "    return sum_total\n",
    "print(spec_opr(93, 12, 5, 84, -22) )\n",
    "#print(sum_total)"
   ]
  },
  {
   "cell_type": "code",
   "execution_count": 3,
   "metadata": {},
   "outputs": [
    {
     "output_type": "error",
     "ename": "NameError",
     "evalue": "name 'num_list' is not defined",
     "traceback": [
      "\u001b[0;31m---------------------------------------------------------------------------\u001b[0m",
      "\u001b[0;31mNameError\u001b[0m                                 Traceback (most recent call last)",
      "\u001b[0;32m<ipython-input-3-f4dc5e8a1ed3>\u001b[0m in \u001b[0;36m<module>\u001b[0;34m\u001b[0m\n\u001b[1;32m      8\u001b[0m             \u001b[0mnum_list\u001b[0m\u001b[0;34m.\u001b[0m\u001b[0mappend\u001b[0m\u001b[0;34m(\u001b[0m\u001b[0mi\u001b[0m\u001b[0;34m)\u001b[0m\u001b[0;34m\u001b[0m\u001b[0;34m\u001b[0m\u001b[0m\n\u001b[1;32m      9\u001b[0m     \u001b[0mprint\u001b[0m\u001b[0;34m(\u001b[0m\u001b[0mint\u001b[0m\u001b[0;34m(\u001b[0m\u001b[0msum\u001b[0m\u001b[0;34m(\u001b[0m\u001b[0mnum_list\u001b[0m\u001b[0;34m)\u001b[0m\u001b[0;34m)\u001b[0m\u001b[0;34m)\u001b[0m\u001b[0;34m\u001b[0m\u001b[0;34m\u001b[0m\u001b[0m\n\u001b[0;32m---> 10\u001b[0;31m \u001b[0mspec_opr\u001b[0m\u001b[0;34m(\u001b[0m\u001b[0;36m93\u001b[0m\u001b[0;34m,\u001b[0m \u001b[0;36m12\u001b[0m\u001b[0;34m,\u001b[0m \u001b[0;36m5\u001b[0m\u001b[0;34m,\u001b[0m \u001b[0;36m84\u001b[0m\u001b[0;34m,\u001b[0m \u001b[0;34m-\u001b[0m\u001b[0;36m22\u001b[0m\u001b[0;34m)\u001b[0m\u001b[0;34m\u001b[0m\u001b[0;34m\u001b[0m\u001b[0m\n\u001b[0m",
      "\u001b[0;32m<ipython-input-3-f4dc5e8a1ed3>\u001b[0m in \u001b[0;36mspec_opr\u001b[0;34m(*numbers)\u001b[0m\n\u001b[1;32m      6\u001b[0m         \u001b[0;32melse\u001b[0m\u001b[0;34m:\u001b[0m\u001b[0;34m\u001b[0m\u001b[0;34m\u001b[0m\u001b[0m\n\u001b[1;32m      7\u001b[0m             \u001b[0mi\u001b[0m \u001b[0;34m*=\u001b[0m \u001b[0;36m3\u001b[0m\u001b[0;34m\u001b[0m\u001b[0;34m\u001b[0m\u001b[0m\n\u001b[0;32m----> 8\u001b[0;31m             \u001b[0mnum_list\u001b[0m\u001b[0;34m.\u001b[0m\u001b[0mappend\u001b[0m\u001b[0;34m(\u001b[0m\u001b[0mi\u001b[0m\u001b[0;34m)\u001b[0m\u001b[0;34m\u001b[0m\u001b[0;34m\u001b[0m\u001b[0m\n\u001b[0m\u001b[1;32m      9\u001b[0m     \u001b[0mprint\u001b[0m\u001b[0;34m(\u001b[0m\u001b[0mint\u001b[0m\u001b[0;34m(\u001b[0m\u001b[0msum\u001b[0m\u001b[0;34m(\u001b[0m\u001b[0mnum_list\u001b[0m\u001b[0;34m)\u001b[0m\u001b[0;34m)\u001b[0m\u001b[0;34m)\u001b[0m\u001b[0;34m\u001b[0m\u001b[0;34m\u001b[0m\u001b[0m\n\u001b[1;32m     10\u001b[0m \u001b[0mspec_opr\u001b[0m\u001b[0;34m(\u001b[0m\u001b[0;36m93\u001b[0m\u001b[0;34m,\u001b[0m \u001b[0;36m12\u001b[0m\u001b[0;34m,\u001b[0m \u001b[0;36m5\u001b[0m\u001b[0;34m,\u001b[0m \u001b[0;36m84\u001b[0m\u001b[0;34m,\u001b[0m \u001b[0;34m-\u001b[0m\u001b[0;36m22\u001b[0m\u001b[0;34m)\u001b[0m\u001b[0;34m\u001b[0m\u001b[0;34m\u001b[0m\u001b[0m\n",
      "\u001b[0;31mNameError\u001b[0m: name 'num_list' is not defined"
     ]
    }
   ],
   "source": [
    "def spec_opr(*numbers):\n",
    "    for i in list(numbers):\n",
    "        if i % 2 == 0:\n",
    "            i /= 2\n",
    "            num_list.append(i)\n",
    "        else:\n",
    "            i *= 3 \n",
    "            num_list.append(i)\n",
    "    print(int(sum(num_list)))\n",
    "spec_opr(93, 12, 5, 84, -22)"
   ]
  },
  {
   "cell_type": "code",
   "execution_count": 2,
   "metadata": {
    "tags": []
   },
   "outputs": [
    {
     "output_type": "stream",
     "name": "stdout",
     "text": "9\n"
    }
   ],
   "source": [
    "n = int(input())\n",
    "arr = map(int, input().split())\n",
    "print((sorted(list(set(arr)),reverse=True))[1])"
   ]
  },
  {
   "cell_type": "code",
   "execution_count": null,
   "metadata": {},
   "outputs": [],
   "source": []
  },
  {
   "cell_type": "code",
   "execution_count": null,
   "metadata": {},
   "outputs": [],
   "source": []
  }
 ],
 "metadata": {
  "language_info": {
   "codemirror_mode": {
    "name": "ipython",
    "version": 3
   },
   "file_extension": ".py",
   "mimetype": "text/x-python",
   "name": "python",
   "nbconvert_exporter": "python",
   "pygments_lexer": "ipython3",
   "version": "3.8.2-final"
  },
  "orig_nbformat": 2,
  "kernelspec": {
   "name": "python36964bit03789e678b2849149d608e9dc1d904bf",
   "display_name": "Python 3.6.9 64-bit"
  }
 },
 "nbformat": 4,
 "nbformat_minor": 2
}