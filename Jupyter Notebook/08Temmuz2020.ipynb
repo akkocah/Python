{
 "cells": [
  {
   "cell_type": "code",
   "execution_count": 10,
   "metadata": {
    "tags": []
   },
   "outputs": [
    {
     "output_type": "stream",
     "name": "stdout",
     "text": "[1, 2, 3, 4, 5, 6, 7, 8, 9, 10]\n[10, 9, 8, 7, 6, 5, 4, 3, 2, 1]\n"
    }
   ],
   "source": [
    "numbers = list(range(1,11))\n",
    "print(numbers)\n",
    "numbers.sort(reverse=True)\n",
    "print(numbers)"
   ]
  },
  {
   "cell_type": "code",
   "execution_count": 15,
   "metadata": {
    "tags": []
   },
   "outputs": [
    {
     "output_type": "stream",
     "name": "stdout",
     "text": "[11, 10, 9, 8, 7, 6, 5, 4, 3, 2]\n"
    }
   ],
   "source": [
    "numbers1 = list(range(11,1,-1))\n",
    "print(numbers1)\n"
   ]
  },
  {
   "cell_type": "code",
   "execution_count": 18,
   "metadata": {
    "tags": []
   },
   "outputs": [
    {
     "output_type": "stream",
     "name": "stdout",
     "text": "[11, 50, 50, 50, 10, 9, 8, 7, 6, 5, 4, 3, 2]\n"
    }
   ],
   "source": [
    "numbers1.insert(1,50)\n",
    "print(numbers1)"
   ]
  },
  {
   "cell_type": "code",
   "execution_count": 21,
   "metadata": {
    "tags": []
   },
   "outputs": [
    {
     "output_type": "stream",
     "name": "stdout",
     "text": "13130\nThe profit is $13130\n"
    }
   ],
   "source": [
    "sales = {\n",
    "    \"cost_value\" : 31.87,\n",
    "    \"sell_value\" : 45.00,\n",
    "    \"inventory\"  : 1000\n",
    "}\n",
    "profit = round((sales[\"sell_value\"]-sales[\"cost_value\"])*sales[\"inventory\"])\n",
    "print(profit)\n",
    "print(\"The profit is $\" + str(profit))"
   ]
  },
  {
   "cell_type": "code",
   "execution_count": 25,
   "metadata": {
    "tags": []
   },
   "outputs": [
    {
     "output_type": "stream",
     "name": "stdout",
     "text": "$85.00\n"
    }
   ],
   "source": [
    "amount = float(input(\"Enter payroll for employess\"))\n",
    "print(\"$%.2f\" % amount)\n"
   ]
  },
  {
   "cell_type": "code",
   "execution_count": 40,
   "metadata": {
    "tags": []
   },
   "outputs": [
    {
     "output_type": "stream",
     "name": "stdout",
     "text": "Hello, Cengo! The password is : 'b!78.9*e'\n"
    }
   ],
   "source": [
    "name = input(\"what is your name?: \").title().strip()\n",
    "\n",
    "if name == \"Joseph\" :\n",
    "    message = \"Hello, {name1}! The password is : W@12\".format(name1 = name)\n",
    "elif name == \"Cengo\" :\n",
    "    message=(f\"Hello, {name.title()}! The password is : 'b!78.9*e'\")\n",
    "else:\n",
    "    message = \"Hello, {}! See you later.\".format(name)\n",
    "print(message)"
   ]
  },
  {
   "cell_type": "code",
   "execution_count": 64,
   "metadata": {
    "tags": []
   },
   "outputs": [
    {
     "output_type": "stream",
     "name": "stdout",
     "text": "age answer: False \nchronic answer: False \nimmune answer: False\nYou are not in the risky group\n"
    }
   ],
   "source": [
    "age = input(\"Are you cigaratte addict older than 75 years old? (Yes/No) \").title().strip() == \"Yes\"\n",
    "chronic = input(\"Do you have a severe chronic disease? : (Yes/No) \").title().strip() == \"Yes\"\n",
    "immune = input(\"Is your immune system too weak? : (Yes/No) \").title().strip() == \"Yes\"\n",
    "print(\"age answer:\", age, \"\\nchronic answer:\", chronic, \"\\nimmune answer:\", immune)\n",
    "if age or chronic or immune :\n",
    "    print(\"You are in the risky group\")\n",
    "else :\n",
    "    print(\"You are not in the risky group\")\n"
   ]
  },
  {
   "cell_type": "code",
   "execution_count": 52,
   "metadata": {
    "tags": []
   },
   "outputs": [
    {
     "output_type": "stream",
     "name": "stdout",
     "text": "this number does not satisfy the rules\n"
    }
   ],
   "source": [
    "number = int(input(\"Enter an integer value: \"))\n",
    "if number % 7 == 0 and number %3 == 0:\n",
    "    print(\"yes this number satisfies the rules\")\n",
    "elif number % 7 == 0 and number %3 != 0:\n",
    "    print(\"this number can be diveded to 7.\")\n",
    "else:\n",
    "    print(\"this number does not satisfy the rules\")"
   ]
  },
  {
   "cell_type": "code",
   "execution_count": 67,
   "metadata": {
    "tags": []
   },
   "outputs": [
    {
     "output_type": "stream",
     "name": "stdout",
     "text": "[1505, 1540, 1575, 1610, 1645, 1680, 1715, 1750, 1785, 1820, 1855, 1890, 1925, 1960, 1995, 2030, 2065, 2100, 2135, 2170, 2205, 2240, 2275, 2310, 2345, 2380, 2415, 2450, 2485, 2520, 2555, 2590, 2625, 2660, 2695]\n"
    }
   ],
   "source": [
    "#  1. Write a Python program to find those numbers which are divisible by 7 and multiple of 5, between 1500 and 2700 (both included).\n",
    "\n",
    "list1= []\n",
    "for i in range(1500,2701):\n",
    "    if i % 7 == 0 and i % 5 == 0:\n",
    "        list1.append(i)\n",
    "print(list1)"
   ]
  },
  {
   "cell_type": "code",
   "execution_count": 68,
   "metadata": {
    "tags": []
   },
   "outputs": [
    {
     "output_type": "stream",
     "name": "stdout",
     "text": "74\n"
    }
   ],
   "source": [
    "list1 = [11, 5 , 17, 18, 23]\n",
    "toplam = 0\n",
    "for i in list1:\n",
    "    toplam += i\n",
    "print(toplam)"
   ]
  },
  {
   "cell_type": "code",
   "execution_count": null,
   "metadata": {},
   "outputs": [],
   "source": []
  }
 ],
 "metadata": {
  "language_info": {
   "codemirror_mode": {
    "name": "ipython",
    "version": 3
   },
   "file_extension": ".py",
   "mimetype": "text/x-python",
   "name": "python",
   "nbconvert_exporter": "python",
   "pygments_lexer": "ipython3",
   "version": "3.8.2-final"
  },
  "orig_nbformat": 2,
  "kernelspec": {
   "name": "python36964bit03789e678b2849149d608e9dc1d904bf",
   "display_name": "Python 3.6.9 64-bit"
  }
 },
 "nbformat": 4,
 "nbformat_minor": 2
}