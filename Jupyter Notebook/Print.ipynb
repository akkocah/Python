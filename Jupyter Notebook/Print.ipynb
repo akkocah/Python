{
 "cells": [
  {
   "cell_type": "code",
   "execution_count": 1,
   "metadata": {},
   "outputs": [
    {
     "name": "stdout",
     "output_type": "stream",
     "text": [
      "ben 2 yakup\n"
     ]
    }
   ],
   "source": [
    "sen = \"yakup\"\n",
    "print(\"ben\", 2, sen)"
   ]
  },
  {
   "cell_type": "code",
   "execution_count": 2,
   "metadata": {},
   "outputs": [
    {
     "name": "stdout",
     "output_type": "stream",
     "text": [
      "ahmet mehmet aslı\n"
     ]
    }
   ],
   "source": [
    "print(\"ahmet\", \"mehmet\", \"aslı\")"
   ]
  },
  {
   "cell_type": "code",
   "execution_count": 4,
   "metadata": {},
   "outputs": [
    {
     "name": "stdout",
     "output_type": "stream",
     "text": [
      "ahmet-,mehmet-,aslı\n"
     ]
    }
   ],
   "source": [
    "print(\"ahmet\", \"mehmet\", \"aslı\", sep = \"-,\")"
   ]
  },
  {
   "cell_type": "code",
   "execution_count": 6,
   "metadata": {},
   "outputs": [
    {
     "name": "stdout",
     "output_type": "stream",
     "text": [
      "ahmet mehmet aslı\n",
      "ahmet mehmet aslı\n"
     ]
    }
   ],
   "source": [
    "print(\"ahmet\", \"mehmet\", \"aslı\", end = \"\\n\") # default \n",
    "print(\"ahmet\", \"mehmet\", \"aslı\")"
   ]
  },
  {
   "cell_type": "code",
   "execution_count": 9,
   "metadata": {},
   "outputs": [
    {
     "name": "stdout",
     "output_type": "stream",
     "text": [
      "ahmet*mehmet*aslı - ahmet mehmet aslı\n"
     ]
    }
   ],
   "source": [
    "print(\"ahmet\", \"mehmet\", \"aslı\", sep = \"*\", end = \" - \")\n",
    "print(\"ahmet\", \"mehmet\", \"aslı\")"
   ]
  },
  {
   "cell_type": "code",
   "execution_count": 19,
   "metadata": {},
   "outputs": [
    {
     "name": "stdout",
     "output_type": "stream",
     "text": [
      "value of x             : 5\n",
      "2 more of x            : 7 \n",
      "\n",
      "\n",
      "\n",
      "\n",
      "\n",
      "value of y             : 10\n",
      "2 minus y                : 8 \n",
      "\n"
     ]
    }
   ],
   "source": [
    "x = 5\n",
    "print ('value of x             :', x )\n",
    "\n",
    "x+=2\n",
    "print (\"2 more of x            :\", x, 5*(\"\\n\"))\n",
    "\n",
    "y = 10\n",
    "print (\"value of y             :\",y )\n",
    "\n",
    "y -= 2\n",
    "print(\"2 minus y                :\", y, \"\\n\")"
   ]
  },
  {
   "cell_type": "code",
   "execution_count": 20,
   "metadata": {},
   "outputs": [
    {
     "name": "stdout",
     "output_type": "stream",
     "text": [
      "hasan eve \n",
      " gel\n"
     ]
    }
   ],
   "source": [
    "print (\"hasan eve \\ngel\")"
   ]
  },
  {
   "cell_type": "code",
   "execution_count": 30,
   "metadata": {},
   "outputs": [
    {
     "name": "stdout",
     "output_type": "stream",
     "text": [
      "C:\\north pole \n",
      "oise_penguins.txt\n",
      "---------------------\n",
      "\tfirst \tsecond \tthird\n",
      "first\tsecond\tthird\n",
      "benim \"bugün\" en mutlu günüm\n"
     ]
    }
   ],
   "source": [
    "print(\"C:\\\\north pole \\noise_penguins.txt\")\n",
    "print(\"---------------------\")\n",
    "print(\"\\tfirst\",\"\\tsecond\", \"\\tthird\")\n",
    "print(\"first\",\"second\", \"third\", sep = \"\\t\")\n",
    "print(\"benim \\\"bugün\\\" en mutlu günüm\")"
   ]
  },
  {
   "cell_type": "code",
   "execution_count": 29,
   "metadata": {},
   "outputs": [
    {
     "name": "stdout",
     "output_type": "stream",
     "text": [
      "Clarusway, Clarusway, Clarusway, \n",
      " \t Clarusway, Clarusway, Clarusway, \n",
      " \t \t Clarusway, Clarusway, Clarusway \n"
     ]
    }
   ],
   "source": [
    "text = \"Clarusway, Clarusway, Clarusway, \\n \\t Clarusway,Clarusway,Clarusway, \\n\\t\\tClarusway, Clarusway, Clarusway \"\n",
    "\n",
    "print(text)"
   ]
  },
  {
   "cell_type": "code",
   "execution_count": null,
   "metadata": {},
   "outputs": [],
   "source": []
  }
 ],
 "metadata": {
  "kernelspec": {
   "display_name": "Python 3",
   "language": "python",
   "name": "python3"
  },
  "language_info": {
   "codemirror_mode": {
    "name": "ipython",
    "version": 3
   },
   "file_extension": ".py",
   "mimetype": "text/x-python",
   "name": "python",
   "nbconvert_exporter": "python",
   "pygments_lexer": "ipython3",
   "version": "3.7.6"
  }
 },
 "nbformat": 4,
 "nbformat_minor": 4
}
