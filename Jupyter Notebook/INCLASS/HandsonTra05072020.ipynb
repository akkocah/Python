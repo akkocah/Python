{
 "cells": [
  {
   "cell_type": "code",
   "execution_count": 1,
   "metadata": {
    "tags": []
   },
   "outputs": [
    {
     "output_type": "stream",
     "name": "stdout",
     "text": "\n"
    }
   ],
   "source": [
    "# leap year"
   ]
  },
  {
   "cell_type": "code",
   "execution_count": 9,
   "metadata": {
    "tags": []
   },
   "outputs": [
    {
     "output_type": "stream",
     "name": "stdout",
     "text": "True\n2020 is a leap year\n2020, artik bir yildir \n"
    }
   ],
   "source": [
    "year = int(input(\"dört rakamlı bir yıl giriniz\"))\n",
    "leap = ((year % 4 == 0) and (year % 100 != 0)) or (year % 400 == 0)\n",
    "print(leap)\n",
    "print((leap == True)*f\"{year} is a leap year\" or (leap == False)*f\"{year} is not a leap year\")\n",
    "print((leap == True) * (\"{}, artik bir yildir\".format(year)), (leap == False) * (\"{}, artik yil degildir\".format(year)))\n"
   ]
  },
  {
   "cell_type": "code",
   "execution_count": 7,
   "metadata": {},
   "outputs": [],
   "source": [
    "############# Comfortable Words ###############"
   ]
  },
  {
   "cell_type": "code",
   "execution_count": 12,
   "metadata": {
    "tags": []
   },
   "outputs": [
    {
     "output_type": "stream",
     "name": "stdout",
     "text": "True\n"
    }
   ],
   "source": [
    "left = {\"q\", \"a\", \"z\", \"w\", \"s\", \"x\", \"e\", \"d\",\n",
    "             \"c\", \"r\", \"f\", \"v\", \"t\", \"g\", \"b\"}\n",
    "right = {\"y\", \"h\", \"n\", \"u\", \"j\", \"m\", \"ı\", \"k\",\n",
    "              \"ö\", \"o\", \"l\", \"ç\", \"p\", \"ş\", \"ğ\", \"i\", \"ü\"}\n",
    "word = \"testplato\"\n",
    "set_word = set(word)\n",
    "left_bool = bool(set_word.difference(left))\n",
    "right_bool = bool(set_word.difference(right))\n",
    "print(left_bool and right_bool)"
   ]
  },
  {
   "cell_type": "code",
   "execution_count": null,
   "metadata": {},
   "outputs": [],
   "source": [
    "##############most frequent number#####################"
   ]
  },
  {
   "cell_type": "code",
   "execution_count": 16,
   "metadata": {
    "tags": []
   },
   "outputs": [
    {
     "output_type": "stream",
     "name": "stdout",
     "text": "the most frequent number is 3 and it was 4 times repeated\n"
    }
   ],
   "source": [
    "#key = \"neye göre fonksiyonu çalıştırmam lazım\"\n",
    "numbers = [1, 3, 7, 4, 3, 0, 3, 6, 3]\n",
    "item = max(numbers, key = numbers.count)\n",
    "repetition = numbers.count(item)\n",
    "print(\"the most frequent number is {} and it was {} times repeated\".format(item, repetition))"
   ]
  },
  {
   "cell_type": "code",
   "execution_count": 21,
   "metadata": {
    "tags": []
   },
   "outputs": [
    {
     "output_type": "stream",
     "name": "stdout",
     "text": "['addis ababa', 'istanbul', 'tokyo', 'rome']\n"
    }
   ],
   "source": [
    "# key neye göre sıralayacağız reverse ile büyükten küçüğe\n",
    "sehir = [\"addis ababa\", \"tokyo\", \"rome\", \"istanbul\"]\n",
    "print(sorted(sehir, reverse=True, key=len))"
   ]
  },
  {
   "cell_type": "code",
   "execution_count": 23,
   "metadata": {
    "tags": []
   },
   "outputs": [
    {
     "output_type": "stream",
     "name": "stdout",
     "text": "4\n"
    }
   ],
   "source": [
    "samanlık = [\"yumurta\", \"saman\", \"tırpan\", \"tezek\",\"iğne\",\"inek\", \"su\", \"tavuk\"]\n",
    "print(samanlık.index(\"iğne\"))"
   ]
  },
  {
   "cell_type": "code",
   "execution_count": 25,
   "metadata": {
    "tags": []
   },
   "outputs": [
    {
     "output_type": "stream",
     "name": "stdout",
     "text": "five\n5\nTrue\n"
    }
   ],
   "source": [
    "#tuple kullanarak çoklu değer assign etmek\n",
    "v = (\"five\", 5, True)\n",
    "x, y, z = v\n",
    "print(x, y, z, sep=\"\\n\")"
   ]
  },
  {
   "cell_type": "code",
   "execution_count": 27,
   "metadata": {
    "tags": []
   },
   "outputs": [
    {
     "output_type": "stream",
     "name": "stdout",
     "text": "2\n"
    }
   ],
   "source": [
    "(monday, tuesday, wednesday, thursday, friday, saturday,sunday) =\\\n",
    "    tuple(range(1,8))\n",
    "print(tuesday)"
   ]
  },
  {
   "cell_type": "code",
   "execution_count": 28,
   "metadata": {},
   "outputs": [
    {
     "output_type": "execute_result",
     "data": {
      "text/plain": "[1, 2, 3, 4, '11', '22', '33']"
     },
     "metadata": {},
     "execution_count": 28
    }
   ],
   "source": [
    "[1,2,3,4] + [\"11\", \"22\", \"33\"]"
   ]
  },
  {
   "cell_type": "code",
   "execution_count": 33,
   "metadata": {
    "tags": []
   },
   "outputs": [
    {
     "output_type": "stream",
     "name": "stdout",
     "text": "(1, 2, ['eklendi', 1, 3, 5, '1'])\n"
    }
   ],
   "source": [
    "tt = (1,2, [1, 3, 5])\n",
    "#string bir ekle listeye\n",
    "tt[2].append(\"1\")\n",
    "tt[2].insert(0,\"eklendi\")\n",
    "print(tt)"
   ]
  },
  {
   "cell_type": "code",
   "execution_count": 34,
   "metadata": {},
   "outputs": [],
   "source": [
    "items = (10,20)\n",
    "x, y = (10, 20)"
   ]
  },
  {
   "cell_type": "code",
   "execution_count": 35,
   "metadata": {},
   "outputs": [
    {
     "output_type": "error",
     "ename": "ValueError",
     "evalue": "too many values to unpack (expected 2)",
     "traceback": [
      "\u001b[0;31m---------------------------------------------------------------------------\u001b[0m",
      "\u001b[0;31mValueError\u001b[0m                                Traceback (most recent call last)",
      "\u001b[0;32m<ipython-input-35-2f0d04495767>\u001b[0m in \u001b[0;36m<module>\u001b[0;34m\u001b[0m\n\u001b[0;32m----> 1\u001b[0;31m \u001b[0ma\u001b[0m\u001b[0;34m,\u001b[0m \u001b[0mb\u001b[0m \u001b[0;34m=\u001b[0m \u001b[0;34m(\u001b[0m\u001b[0;36m10\u001b[0m\u001b[0;34m,\u001b[0m \u001b[0;36m20\u001b[0m\u001b[0;34m,\u001b[0m \u001b[0;36m30\u001b[0m\u001b[0;34m,\u001b[0m \u001b[0;36m40\u001b[0m\u001b[0;34m)\u001b[0m\u001b[0;34m\u001b[0m\u001b[0;34m\u001b[0m\u001b[0m\n\u001b[0m\u001b[1;32m      2\u001b[0m \u001b[0mprint\u001b[0m\u001b[0;34m(\u001b[0m\u001b[0ma\u001b[0m\u001b[0;34m,\u001b[0m \u001b[0mb\u001b[0m\u001b[0;34m)\u001b[0m\u001b[0;34m\u001b[0m\u001b[0;34m\u001b[0m\u001b[0m\n",
      "\u001b[0;31mValueError\u001b[0m: too many values to unpack (expected 2)"
     ]
    }
   ],
   "source": [
    "a, _, b, _ = (10, 20, 30, 40)\n",
    "print(a, b)"
   ]
  },
  {
   "cell_type": "code",
   "execution_count": null,
   "metadata": {},
   "outputs": [],
   "source": []
  },
  {
   "cell_type": "code",
   "execution_count": null,
   "metadata": {},
   "outputs": [],
   "source": []
  }
 ],
 "metadata": {
  "language_info": {
   "codemirror_mode": {
    "name": "ipython",
    "version": 3
   },
   "file_extension": ".py",
   "mimetype": "text/x-python",
   "name": "python",
   "nbconvert_exporter": "python",
   "pygments_lexer": "ipython3",
   "version": "3.8.2-final"
  },
  "orig_nbformat": 2,
  "kernelspec": {
   "name": "python36964bit03789e678b2849149d608e9dc1d904bf",
   "display_name": "Python 3.6.9 64-bit"
  }
 },
 "nbformat": 4,
 "nbformat_minor": 2
}