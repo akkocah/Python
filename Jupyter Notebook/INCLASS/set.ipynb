{
 "cells": [
  {
   "cell_type": "code",
   "execution_count": 1,
   "metadata": {
    "tags": []
   },
   "outputs": [
    {
     "output_type": "stream",
     "name": "stdout",
     "text": "<class 'set'>\n"
    }
   ],
   "source": [
    "# Basic uses include membership testing and eliminating duplicate entries. Set objects also support mathematical operations like union, intersection, difference, and symmetric difference.\n",
    "# Curly braces '{}' or the set() function can be used to create sets. But the only way to create an empty set is: use the set() function.\n",
    "empty_set = set()\n",
    "print(type(empty_set))"
   ]
  },
  {
   "cell_type": "code",
   "execution_count": 4,
   "metadata": {
    "tags": []
   },
   "outputs": [
    {
     "output_type": "stream",
     "name": "stdout",
     "text": "{'purple', 'red', 'orange', 'darkblue', 'yellow'}\n{'purple', 'red', 'orange', 'darkblue', 'yellow'}\n"
    }
   ],
   "source": [
    "colorset = {'purple', 'orange', 'red','darkblue','yellow',\n",
    "'red'}\n",
    "print(colorset)\n",
    "print(colorset)"
   ]
  },
  {
   "cell_type": "code",
   "execution_count": 6,
   "metadata": {
    "tags": []
   },
   "outputs": [
    {
     "output_type": "stream",
     "name": "stdout",
     "text": "{'u', 's', 'n', 'l', 'e', 'h', 'f', 'i'}\n"
    }
   ],
   "source": [
    "s = set('unselfishness')\n",
    "print(s)"
   ]
  },
  {
   "cell_type": "code",
   "execution_count": 7,
   "metadata": {
    "tags": []
   },
   "outputs": [
    {
     "output_type": "stream",
     "name": "stdout",
     "text": "{'rose', 'carnation', 'violet', 'orchid'}\n['rose', 'carnation', 'violet', 'orchid']\n"
    }
   ],
   "source": [
    "flower_list = ['rose', 'violet', 'carnation', 'rose', 'orchid', 'rose', 'orchid']\n",
    "flowerset = set(flower_list) #fazlalıkları eler\n",
    "flower_list=list(flowerset)\n",
    "\n",
    "print(flowerset)\n",
    "print(flower_list)"
   ]
  },
  {
   "cell_type": "code",
   "execution_count": 12,
   "metadata": {
    "tags": []
   },
   "outputs": [
    {
     "output_type": "stream",
     "name": "stdout",
     "text": "{'c', 'r', 'b', 'd', 'a'}\n"
    }
   ],
   "source": [
    "a = set('abracadabra')\n",
    "print(a)"
   ]
  },
  {
   "cell_type": "code",
   "execution_count": 14,
   "metadata": {
    "tags": []
   },
   "outputs": [
    {
     "output_type": "stream",
     "name": "stdout",
     "text": "{'r', 'b', 'd'}\n{'r', 'b', 'd'}\n"
    }
   ],
   "source": [
    "a = set('abracadabra')\n",
    "b = set('alacazm')\n",
    "print(a-b) #same as '.difference()' method\n",
    "print(a.difference(b)) # a difference from b"
   ]
  },
  {
   "cell_type": "code",
   "execution_count": 16,
   "metadata": {
    "tags": []
   },
   "outputs": [
    {
     "output_type": "stream",
     "name": "stdout",
     "text": "{'c', 'r', 'b', 'd', 'a', 'l', 'm', 'z'}\n{'c', 'r', 'b', 'd', 'a', 'l', 'm', 'z'}\n"
    }
   ],
   "source": [
    "a = set('abracadabra')\n",
    "b = set('alacazm')\n",
    "print(a | b) # same as '.union()' method\n",
    "print(a.union(b)) # unification of a with b"
   ]
  },
  {
   "cell_type": "code",
   "execution_count": 18,
   "metadata": {
    "tags": []
   },
   "outputs": [
    {
     "output_type": "stream",
     "name": "stdout",
     "text": "{'a', 'c'}\n{'a', 'c'}\n"
    }
   ],
   "source": [
    "a = set('abracadabra')\n",
    "b = set('alacazm')\n",
    "print(a & b) #  same as '.intersection()' method\n",
    "print(a.intersection(b)) #  same as '.intersection()' method"
   ]
  },
  {
   "cell_type": "code",
   "execution_count": 22,
   "metadata": {
    "tags": []
   },
   "outputs": [
    {
     "output_type": "stream",
     "name": "stdout",
     "text": "{'r', 'b', 'd', 'a'}\n"
    }
   ],
   "source": [
    "a = set('abracadabra')\n",
    "a.remove('c') # we delete 'c' from the set\n",
    "print(a)"
   ]
  },
  {
   "cell_type": "code",
   "execution_count": 23,
   "metadata": {
    "tags": []
   },
   "outputs": [
    {
     "output_type": "stream",
     "name": "stdout",
     "text": "{'c', 'r', 'b', 'd', 'k', 'a'}\n"
    }
   ],
   "source": [
    "a = set('abracadabra')\n",
    "a.add('k')\n",
    "print(a)"
   ]
  },
  {
   "cell_type": "code",
   "execution_count": 24,
   "metadata": {
    "tags": []
   },
   "outputs": [
    {
     "output_type": "stream",
     "name": "stdout",
     "text": "6\n"
    }
   ],
   "source": [
    "print(len(a))"
   ]
  },
  {
   "cell_type": "code",
   "execution_count": 28,
   "metadata": {
    "tags": []
   },
   "outputs": [
    {
     "output_type": "stream",
     "name": "stdout",
     "text": "True\nFalse\nTrue\n"
    }
   ],
   "source": [
    "a = set('abracadabra')\n",
    "print('a' in a)\n",
    "print('a' not in a)\n",
    "print('b' in a)"
   ]
  },
  {
   "cell_type": "code",
   "execution_count": 3,
   "metadata": {
    "tags": []
   },
   "outputs": [
    {
     "output_type": "stream",
     "name": "stdout",
     "text": "{' ', 'h', 'd', 'o', 'n', 'v', 'c', 'i', 't', 'e', 'f', 's', 'l'}\n13\n"
    }
   ],
   "source": [
    "print(set('listen to the voice of enlisted'))\n",
    "print(len(set('listen to the voice of enlisted')))"
   ]
  },
  {
   "cell_type": "code",
   "execution_count": null,
   "metadata": {},
   "outputs": [],
   "source": [
    "###########################################################33\n",
    "###########DERS INCLAS########################333333\n",
    "#{} set() oluşturulabilir. boş set is sadece set() ile oluşturulur\n",
    "empty_set = set()"
   ]
  },
  {
   "cell_type": "code",
   "execution_count": 2,
   "metadata": {
    "tags": []
   },
   "outputs": [
    {
     "output_type": "stream",
     "name": "stdout",
     "text": "{'blue', 'red', 'pink'}\n{'blue', 'red', 'pink'}\n('red', 'blue', 'pink', 'red')\n"
    }
   ],
   "source": [
    "set_1 = {\"red\",\"blue\",\"pink\",\"red\"} # set\n",
    "colors = \"red\",\"blue\",\"pink\",\"red\" # tuple\n",
    "set_2 = set(colors) #set \n",
    "print(set_1)\n",
    "print(set_2)\n",
    "print(colors)"
   ]
  },
  {
   "cell_type": "code",
   "execution_count": 5,
   "metadata": {
    "tags": []
   },
   "outputs": [
    {
     "output_type": "stream",
     "name": "stdout",
     "text": "['a', 'b', 'c', 'd', 'e', 'f', 'g', 'h', 'i', 'j', 'k', 'l', 'm', 'n', 'o', 'p', 'r', 's', 't', 'u', 'y', 'v', 'x', 'w', 'z']\n*************************\n{'n', 'c', 'f', 'a', 'o', 'x', 's', 'd', 'm', 'b', 'l', 'y', 'e', 'w', 'z', 'h', 'i', 'u', 't', 'k', 'j', 'v', 'r', 'p', 'g'}\n"
    }
   ],
   "source": [
    "letter = \"a b c d e f g h i j k l m n o p r s t u y v x w z\".split()\n",
    "print(letter)\n",
    "print(\"*************************\")\n",
    "print(set(letter)) # random sıralar"
   ]
  },
  {
   "cell_type": "code",
   "execution_count": 7,
   "metadata": {
    "tags": []
   },
   "outputs": [
    {
     "output_type": "stream",
     "name": "stdout",
     "text": "{'carnation', 'orchid', 'rose', 'violet'}\n['carnation', 'orchid', 'rose', 'violet']\n"
    }
   ],
   "source": [
    "flower_list = ['rose', 'violet', 'carnation', 'rose', 'orchid', 'rose', 'orchid']\n",
    "flowerset = set(flower_list) #fazlalıkları eler\n",
    "flower_list=list(flowerset)\n",
    "print(flowerset)\n",
    "print(flower_list)"
   ]
  },
  {
   "cell_type": "code",
   "execution_count": 8,
   "metadata": {
    "tags": []
   },
   "outputs": [
    {
     "output_type": "stream",
     "name": "stdout",
     "text": "{'carnation', 'rose', 'orchid', 'violet'}\n{'carnation', 'orchid', 'rose', 'violet'}\n"
    }
   ],
   "source": [
    "a = {\"carnation\", 'orchid', 'rose', 'violet'}\n",
    "b = {'rose', 'violet', 'carnation', 'rose', 'orchid', 'rose', 'orchid'}\n",
    "print(a)\n",
    "print(b)"
   ]
  },
  {
   "cell_type": "code",
   "execution_count": 9,
   "metadata": {
    "tags": []
   },
   "outputs": [
    {
     "output_type": "stream",
     "name": "stdout",
     "text": "{'e', 'd', 'h', 'i', 'l', 'p', 'a'} {'o', 'n', 'd', 'h', 'l', 'i', 'p'}\n"
    }
   ],
   "source": [
    "a = set('philadelphia')\n",
    "b = set('dolphin')\n",
    "print(a,b)"
   ]
  },
  {
   "cell_type": "code",
   "execution_count": 10,
   "metadata": {
    "tags": []
   },
   "outputs": [
    {
     "output_type": "stream",
     "name": "stdout",
     "text": "{'a', 'e'}\n{'a', 'e'}\n"
    }
   ],
   "source": [
    "a = set('philadelphia')\n",
    "b = set('dolphin')\n",
    "print(a-b)\n",
    "print(a.difference(b))"
   ]
  },
  {
   "cell_type": "code",
   "execution_count": 12,
   "metadata": {
    "tags": []
   },
   "outputs": [
    {
     "output_type": "stream",
     "name": "stdout",
     "text": "{'o', 'n'}\n{'o', 'n'}\n"
    }
   ],
   "source": [
    "a = set('philadelphia')\n",
    "b = set('dolphin')\n",
    "print(b-a)\n",
    "print(b.difference(a))"
   ]
  },
  {
   "cell_type": "code",
   "execution_count": 13,
   "metadata": {
    "tags": []
   },
   "outputs": [
    {
     "output_type": "stream",
     "name": "stdout",
     "text": "{'o', 'n', 'e', 'd', 'h', 'i', 'l', 'p', 'a'}\n{'o', 'n', 'e', 'd', 'h', 'i', 'l', 'p', 'a'}\n"
    }
   ],
   "source": [
    "a = set('philadelphia')\n",
    "b = set('dolphin')\n",
    "print(a | b)\n",
    "print(a.union(b)) #a birleşim b #aynı zamanda or anlamıda vardır"
   ]
  },
  {
   "cell_type": "code",
   "execution_count": 14,
   "metadata": {
    "tags": []
   },
   "outputs": [
    {
     "output_type": "stream",
     "name": "stdout",
     "text": "{'d', 'h', 'l', 'i', 'p'}\n{'d', 'h', 'l', 'i', 'p'}\n"
    }
   ],
   "source": [
    "a = set('philadelphia')\n",
    "b = set('dolphin')\n",
    "print(a & b)\n",
    "print(a.intersection(b)) # a kesişim b #aynı zamanda and anlamı da vardır"
   ]
  },
  {
   "cell_type": "code",
   "execution_count": 16,
   "metadata": {
    "tags": []
   },
   "outputs": [
    {
     "output_type": "stream",
     "name": "stdout",
     "text": "{'7', '4', '2', '0', '/'}\n{'07/04/2020'}\n"
    }
   ],
   "source": [
    "date_today = \"07/04/2020\" \n",
    "date_set = set(date_today) #ayrı ayrı çıktı verir. ıterable gelir\n",
    "print(date_set)\n",
    "date_set1 = {\"07/04/2020\"} # tek elemanlı çıktı verir. set fonksiyonu kullanmadık\n",
    "print(date_set1)"
   ]
  },
  {
   "cell_type": "code",
   "execution_count": 17,
   "metadata": {
    "tags": []
   },
   "outputs": [
    {
     "output_type": "stream",
     "name": "stdout",
     "text": "{1, 2, 3, 4, 5}\n"
    }
   ],
   "source": [
    "given_list = [1,2,3,3,3,3,4,4,5,5]\n",
    "a = set(given_list)\n",
    "print(a)"
   ]
  },
  {
   "cell_type": "code",
   "execution_count": 18,
   "metadata": {
    "tags": []
   },
   "outputs": [
    {
     "output_type": "stream",
     "name": "stdout",
     "text": "{1, 2, 3, 4, 5}\n"
    }
   ],
   "source": [
    "given_list = {1,2,3,3,3,3,4,4,5,5}\n",
    "print(given_list)"
   ]
  },
  {
   "cell_type": "code",
   "execution_count": 21,
   "metadata": {
    "tags": []
   },
   "outputs": [
    {
     "output_type": "stream",
     "name": "stdout",
     "text": "{'o', 'n', 'W', 'i', 't', 'g'}\n{'o', 'n', 'W', 'i', 't', 'g'}\n"
    }
   ],
   "source": [
    "capital_usa = set(\"Washington\")\n",
    "capital_NZ = set(\"Wellington\")\n",
    "print(capital_NZ.intersection(capital_usa))\n",
    "print(capital_NZ & capital_usa)"
   ]
  },
  {
   "cell_type": "code",
   "execution_count": 23,
   "metadata": {
    "tags": []
   },
   "outputs": [
    {
     "output_type": "stream",
     "name": "stdout",
     "text": "{'l', 'e'}\n{'l', 'e'}\n"
    }
   ],
   "source": [
    "capital_usa = set(\"Washington\")\n",
    "capital_NZ = set(\"Wellington\")\n",
    "print(capital_NZ - capital_usa)\n",
    "print(capital_NZ.difference(capital_usa))"
   ]
  },
  {
   "cell_type": "code",
   "execution_count": 25,
   "metadata": {
    "tags": []
   },
   "outputs": [
    {
     "output_type": "stream",
     "name": "stdout",
     "text": "{'o', 'n', 'e', 's', 'W', 'h', 'i', 'l', 't', 'a', 'g'}\n{'o', 'n', 'e', 's', 'W', 'h', 'i', 'l', 't', 'a', 'g'}\n"
    }
   ],
   "source": [
    "capital_usa = set(\"Washington\")\n",
    "capital_NZ = set(\"Wellington\")\n",
    "print(capital_NZ | capital_usa)\n",
    "print(capital_NZ.union(capital_usa))"
   ]
  },
  {
   "cell_type": "code",
   "execution_count": null,
   "metadata": {},
   "outputs": [],
   "source": []
  },
  {
   "cell_type": "code",
   "execution_count": null,
   "metadata": {},
   "outputs": [],
   "source": []
  }
 ],
 "metadata": {
  "language_info": {
   "codemirror_mode": {
    "name": "ipython",
    "version": 3
   },
   "file_extension": ".py",
   "mimetype": "text/x-python",
   "name": "python",
   "nbconvert_exporter": "python",
   "pygments_lexer": "ipython3",
   "version": "3.7.6-final"
  },
  "orig_nbformat": 2,
  "kernelspec": {
   "name": "python37664bitbaseconda9a20b4a3b7cd4508ae732f7e651c4b25",
   "display_name": "Python 3.7.6 64-bit ('base': conda)"
  }
 },
 "nbformat": 4,
 "nbformat_minor": 2
}