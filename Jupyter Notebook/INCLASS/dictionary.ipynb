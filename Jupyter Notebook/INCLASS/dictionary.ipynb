{
 "cells": [
  {
   "cell_type": "code",
   "execution_count": 1,
   "metadata": {
    "tags": []
   },
   "outputs": [
    {
     "output_type": "stream",
     "name": "stdout",
     "text": "<class 'dict'>\n"
    }
   ],
   "source": [
    "#Dictionaries liste tipidir. {} kullanılır veya dict() kullan\n",
    "empty_dict = {}\n",
    "empty_dict1 = dict()\n",
    "print(type(empty_dict))"
   ]
  },
  {
   "cell_type": "code",
   "execution_count": 2,
   "metadata": {
    "tags": []
   },
   "outputs": [
    {
     "output_type": "stream",
     "name": "stdout",
     "text": "{'key1': 'value1', 'key2': 'value2', 'key3': 'value3'}\n"
    }
   ],
   "source": [
    "my_dict = {'key1': 'value1',\n",
    "            'key2': 'value2',\n",
    "            'key3': 'value3'\n",
    "            }\n",
    "print(my_dict) #key value pairlerinden oluşur. bunada item denir."
   ]
  },
  {
   "cell_type": "code",
   "execution_count": 11,
   "metadata": {
    "tags": []
   },
   "outputs": [
    {
     "output_type": "stream",
     "name": "stdout",
     "text": "Denver\n{'Arkanas': 'Little Rock', 'Coloroda': 'Denver', 'California': 'Sacremonto', 'Georgia': 'Atlanta'}\n"
    }
   ],
   "source": [
    "state_capitals = {'Arkanas' : 'Little Rock', #virgülü unutma !!!!!\n",
    "                  'Coloroda': 'Denver',\n",
    "                  'California' : 'Sacremonto',\n",
    "                  'Georgia'    : 'Atlanta'\n",
    "                  }\n",
    "print(state_capitals['Coloroda'])\n",
    "print(state_capitals)\n"
   ]
  },
  {
   "cell_type": "code",
   "execution_count": 15,
   "metadata": {
    "tags": []
   },
   "outputs": [
    {
     "output_type": "stream",
     "name": "stdout",
     "text": "{'Arkanas': 'Little Rock', 'Coloroda': 'Denver', 'California': 'Sacremonto', 'Georgia': 'Atlanta', 'Virginia': 'Richmond'}\nRichmond\n"
    }
   ],
   "source": [
    "state_capitals = {'Arkanas' : 'Little Rock', #virgülü unutma !!!!!\n",
    "                  'Coloroda': 'Denver',\n",
    "                  'California' : 'Sacremonto',\n",
    "                  'Georgia'    : 'Atlanta'\n",
    "                  }\n",
    "state_capitals['Virginia'] = 'Richmond' ##adding new item\n",
    "print(state_capitals)\n",
    "print(state_capitals['Virginia'])"
   ]
  },
  {
   "cell_type": "code",
   "execution_count": 18,
   "metadata": {
    "tags": []
   },
   "outputs": [
    {
     "output_type": "stream",
     "name": "stdout",
     "text": "('dog', 'cat')\nSaturn\n"
    }
   ],
   "source": [
    "#Farklı tiplerde veri saklayabiliyoruz\n",
    "mix_dict = {'animal': ('dog', 'cat'),  # tuple type \n",
    "            'planet': ['Neptun', 'Saturn', 'Jupiter'], # list type\n",
    "            'number': 40,  # int type\n",
    "            'pi': 3.14,  # float type\n",
    "            'is_good': True}  # bool type\n",
    "print(mix_dict['animal'])\n",
    "print(mix_dict['planet'][1])"
   ]
  },
  {
   "cell_type": "code",
   "execution_count": 19,
   "metadata": {
    "tags": []
   },
   "outputs": [
    {
     "output_type": "stream",
     "name": "stdout",
     "text": "{'animal': 'dog', 'planet': ['Neptun', 'Saturn', 'Jupiter'], 'number': 40, 'pi': 3.14, 'is_good': True}\n"
    }
   ],
   "source": [
    "dict_fonk = dict(animal = 'dog', planet = ['Neptun', 'Saturn', 'Jupiter'], \\\n",
    "            number = 40, pi = 3.14, is_good = True)\n",
    "print(dict_fonk)"
   ]
  },
  {
   "cell_type": "code",
   "execution_count": 26,
   "metadata": {
    "tags": []
   },
   "outputs": [
    {
     "output_type": "stream",
     "name": "stdout",
     "text": "dict_items([('animal', ('dog', 'cat')), ('planet', ['Neptun', 'Saturn', 'Jupiter']), ('number', 40), ('pi', 3.14), ('is_good', True)]) \n\ndict_keys(['animal', 'planet', 'number', 'pi', 'is_good']) \n\ndict_values([('dog', 'cat'), ['Neptun', 'Saturn', 'Jupiter'], 40, 3.14, True])\n"
    }
   ],
   "source": [
    "#You can access all items using the items() method, all keys using the .keys() method, and all values using the .values() method:\n",
    "mix_dict = {'animal': ('dog', 'cat'),   \n",
    "            'planet': ['Neptun', 'Saturn', 'Jupiter'], \n",
    "            'number': 40,  \n",
    "            'pi': 3.14,  \n",
    "            'is_good': True}  \n",
    "print(mix_dict.items(), '\\n')\n",
    "print(mix_dict.keys(), '\\n')\n",
    "print(mix_dict.values())"
   ]
  },
  {
   "cell_type": "code",
   "execution_count": 32,
   "metadata": {
    "tags": []
   },
   "outputs": [
    {
     "output_type": "stream",
     "name": "stdout",
     "text": "{'animal': 'dog', 'planet': 'neptun', 'number': 40, 'pi': 3.14, 'is_good': True, 'is_bad': False}\n{'animal': 'dog', 'planet': 'neptun', 'number': 40, 'pi': 3.14, 'is_good': True, 'is_bad': False, 'fruit': 'cherry'}\n"
    }
   ],
   "source": [
    "#item ekleme .update metodu veya state_capitals['Virginia'] = 'Richmond' ##adding new item ekleyebiliriz\n",
    "dict_by_dict = {'animal': 'dog', \n",
    "                'planet': 'neptun',\n",
    "                'number': 40,\n",
    "                'pi': 3.14,\n",
    "                'is_good': True}\n",
    "dict_by_dict.update({'is_bad': False})\n",
    "print(dict_by_dict)\n",
    "dict_by_dict.update({'fruit' : 'cherry'})\n",
    "print(dict_by_dict)"
   ]
  },
  {
   "cell_type": "code",
   "execution_count": 33,
   "metadata": {
    "tags": []
   },
   "outputs": [
    {
     "output_type": "stream",
     "name": "stdout",
     "text": "{'animal': 'dog', 'planet': 'neptun', 'number': 40, 'pi': 3.14, 'is_good': True, 'is_bad': False}\n{'animal': 'dog', 'planet': 'neptun', 'number': 40, 'pi': 3.14, 'is_good': True, 'is_bad': False, 'fruit': 'cherry'}\n{'animal': 'dog', 'planet': 'neptun', 'number': 40, 'pi': 3.14, 'is_good': True, 'fruit': 'cherry'}\n"
    }
   ],
   "source": [
    "# You can also remove an item using the del function:\n",
    "# The formula syntax is : del dictionary_name['key'].\n",
    "dict_by_dict = {'animal': 'dog', \n",
    "                'planet': 'neptun',\n",
    "                'number': 40,\n",
    "                'pi': 3.14,\n",
    "                'is_good': True}\n",
    "dict_by_dict.update({'is_bad': False})\n",
    "print(dict_by_dict)\n",
    "dict_by_dict.update({'fruit' : 'cherry'})\n",
    "print(dict_by_dict)\n",
    "del dict_by_dict['is_bad']\n",
    "print(dict_by_dict)"
   ]
  },
  {
   "cell_type": "code",
   "execution_count": 37,
   "metadata": {
    "tags": []
   },
   "outputs": [
    {
     "output_type": "stream",
     "name": "stdout",
     "text": "True\nTrue\nTrue\nFalse\n"
    }
   ],
   "source": [
    "# Using the in and the not in operator, you can check if the key is in the dictionary.\n",
    "dict_by_dict = {'animal': 'dog', \n",
    "                'planet': 'neptun',\n",
    "                'number': 40,\n",
    "                'pi': 3.14,\n",
    "                'is_good': True}\n",
    "print('pi' in dict_by_dict)\n",
    "print('is_bad' not in dict_by_dict) #is bad i silmiştik.\n",
    "print('fruit' not in dict_by_dict)\n",
    "print('fruit'  in dict_by_dict)"
   ]
  },
  {
   "cell_type": "code",
   "execution_count": 38,
   "metadata": {
    "tags": []
   },
   "outputs": [
    {
     "output_type": "stream",
     "name": "stdout",
     "text": "32\n"
    }
   ],
   "source": [
    "student_ages = {\"Harry\": 29,\n",
    "                \"Clark\": 32,\n",
    "                \"Peter\": 22,\n",
    "                \"Bruce\": 36\n",
    "                }\n",
    "print(student_ages['Clark'])"
   ]
  },
  {
   "cell_type": "code",
   "execution_count": 45,
   "metadata": {
    "tags": []
   },
   "outputs": [
    {
     "output_type": "stream",
     "name": "stdout",
     "text": "16\n16\n"
    }
   ],
   "source": [
    "#Nested Dictionaries\n",
    "school_records={\n",
    "    \"personal_info\":\n",
    "        {\"kid\":{\"tom\": {\"class\": \"intermediate\", \"age\": 10},\n",
    "                \"sue\": {\"class\": \"elementary\", \"age\": 8}\n",
    "               },\n",
    "         \"teen\":{\"joseph\":{\"class\": \"college\", \"age\": 19},\n",
    "                 \"marry\":{\"class\": \"high school\", \"age\": 16}\n",
    "               },               \n",
    "        },\n",
    "        \n",
    "    \"grades_info\":\n",
    "        {\"kid\":{\"tom\": {\"math\": 88, \"speech\": 69},\n",
    "                \"sue\": {\"math\": 90, \"speech\": 81}\n",
    "               },\n",
    "         \"teen\":{\"joseph\":{\"coding\": 80, \"math\": 89},\n",
    "                 \"marry\":{\"coding\": 70, \"math\": 96}\n",
    "               },               \n",
    "        },        \n",
    "}       \n",
    "print(school_records['personal_info']['teen']['marry']['age'])\n",
    "print(school_records['personal_info']['teen']['marry']['age'])"
   ]
  },
  {
   "cell_type": "code",
   "execution_count": 41,
   "metadata": {
    "tags": []
   },
   "outputs": [
    {
     "output_type": "stream",
     "name": "stdout",
     "text": "16\n"
    }
   ],
   "source": [
    "school_records={\n",
    "    \"personal_info\":\n",
    "        {\"kid\":{\"tom\": {\"class\":\"intermediate\", \"age\":10},\n",
    "                \"sue\": {\"class\":\"elementary\", \"age\":8}\n",
    "               },\n",
    "         \"teen\":{\"joseph\":{\"class\":\"college\", \"age\":19},\n",
    "                 \"marry\":{\"class\":\"high school\", \"age\":16}\n",
    "               },               \n",
    "        },\n",
    "}\n",
    "\n",
    "print(school_records['personal_info']['teen']['marry']['age'])"
   ]
  },
  {
   "cell_type": "code",
   "execution_count": null,
   "metadata": {},
   "outputs": [],
   "source": [
    "##############################burası dersden itibaren#########3"
   ]
  },
  {
   "cell_type": "code",
   "execution_count": 2,
   "metadata": {
    "tags": []
   },
   "outputs": [
    {
     "output_type": "stream",
     "name": "stdout",
     "text": "{'fruit': 'apple', 'drink': 'water'}\n{'fruit': 'apple', 'drink': 'water'}\n"
    }
   ],
   "source": [
    "grocer1 = {\"fruit\":\"apple\", \"drink\" : \"water\"}\n",
    "grocer2 = dict(fruit=\"apple\", drink = \"water\")\n",
    "print(grocer1)\n",
    "print(grocer2)"
   ]
  },
  {
   "cell_type": "code",
   "execution_count": 3,
   "metadata": {
    "tags": []
   },
   "outputs": [
    {
     "output_type": "stream",
     "name": "stdout",
     "text": "Denver\n{'Arkanas': 'Little Rock', 'Coloroda': 'Denver', 'California': 'Sacremonto', 'Georgia': 'Atlanta'}\n"
    }
   ],
   "source": [
    "state_capitals = {'Arkanas' : 'Little Rock', #virgülü unutma !!!!!\n",
    "                  'Coloroda': 'Denver',\n",
    "                  'California' : 'Sacremonto',\n",
    "                  'Georgia'    : 'Atlanta'\n",
    "                  }\n",
    "print(state_capitals['Coloroda']) # access işlemi key ile yapılır\n",
    "print(state_capitals)"
   ]
  },
  {
   "cell_type": "code",
   "execution_count": 4,
   "metadata": {
    "tags": []
   },
   "outputs": [
    {
     "output_type": "stream",
     "name": "stdout",
     "text": "Denver\n{'Arkanas': 'Little Rock', 'Coloroda': 'Denver', 'California': 'Sacremonto', 'Georgia': 'Atlanta', 'Konya': 'Hadim'}\n"
    }
   ],
   "source": [
    "state_capitals = {'Arkanas' : 'Little Rock', #virgülü unutma !!!!!\n",
    "                  'Coloroda': 'Denver',\n",
    "                  'California' : 'Sacremonto',\n",
    "                  'Georgia'    : 'Atlanta'\n",
    "                  }\n",
    "state_capitals['Konya'] = 'Hadim'\n",
    "print(state_capitals['Coloroda']) # access işlemi key ile yapılır\n",
    "print(state_capitals)"
   ]
  },
  {
   "cell_type": "code",
   "execution_count": 5,
   "metadata": {
    "tags": []
   },
   "outputs": [
    {
     "output_type": "stream",
     "name": "stdout",
     "text": "{'name1': 'hasan', 'name2': 'hakan', 'name3': 'ayşe'}\n"
    }
   ],
   "source": [
    "family_name = {\"name1\" : \"hasan\",\n",
    "               \"name2\" : \"hakan\",\n",
    "               \"name3\" : \"ayşe\"\n",
    "               }\n",
    "print(family_name)"
   ]
  },
  {
   "cell_type": "code",
   "execution_count": 7,
   "metadata": {
    "tags": []
   },
   "outputs": [
    {
     "output_type": "stream",
     "name": "stdout",
     "text": "{'name1': 'hasan', 'name2': 'hakan', 'name3': 'ayşe', 'name4': 'Süleyman'}\n"
    }
   ],
   "source": [
    "family_name[\"name4\"] = \"Süleyman\"\n",
    "print(family_name)"
   ]
  },
  {
   "cell_type": "code",
   "execution_count": 8,
   "metadata": {
    "tags": []
   },
   "outputs": [
    {
     "output_type": "stream",
     "name": "stdout",
     "text": "{'animal': 'dog', 'planet': 'neptun', 'number': 40, 'pi': 3.14, 'is_good': True}\n"
    }
   ],
   "source": [
    "dict_by_dict = dict(animal = \"dog\", planet = \"neptun\", number = 40, pi=3.14, is_good = True)\n",
    "print(dict_by_dict) #keylere \"\" eklenmez"
   ]
  },
  {
   "cell_type": "code",
   "execution_count": 11,
   "metadata": {
    "tags": []
   },
   "outputs": [
    {
     "output_type": "stream",
     "name": "stdout",
     "text": "{'name1': 'hasan', 'name2': 'hakan', 'name3': 'ayşe', 'name4': 'süleyman', 'name': 5}\n"
    }
   ],
   "source": [
    "family_name = dict(name1 = \"hasan\", name2 = \"hakan\", name3 = \"ayşe\", name4 = \"süleyman\", name = 5 ) #key değeri integer olamaz\n",
    "print(family_name)"
   ]
  },
  {
   "cell_type": "code",
   "execution_count": 12,
   "metadata": {
    "tags": []
   },
   "outputs": [
    {
     "output_type": "stream",
     "name": "stdout",
     "text": "{'name1': 'hasan', 'name2': 'hakan', 'name3': 'ayşe', 'name4': 'süleyman', 'name': 5, 'name6': 'emin'}\n"
    }
   ],
   "source": [
    "family_name[\"name6\"] = \"emin\"\n",
    "print(family_name)"
   ]
  },
  {
   "cell_type": "code",
   "execution_count": 15,
   "metadata": {
    "tags": []
   },
   "outputs": [
    {
     "output_type": "stream",
     "name": "stdout",
     "text": "{1: 'bir', 2: 'iki', 40: 'adana'}\nadana\n"
    }
   ],
   "source": [
    "dict_int= {1: \"bir\", 2: \"iki\", 40: \"adana\"}\n",
    "print(dict_int)\n",
    "print(dict_int[40])"
   ]
  },
  {
   "cell_type": "code",
   "execution_count": 22,
   "metadata": {
    "tags": []
   },
   "outputs": [
    {
     "output_type": "stream",
     "name": "stdout",
     "text": "dict_items([('name1', 'hasan'), ('name2', 'hakan'), ('name3', 'ayşe'), ('name4', 'süleyman')])\n['name1', 'name2', 'name3', 'name4']\n['hasan', 'hakan', 'ayşe', 'süleyman']\n"
    }
   ],
   "source": [
    "family_name = dict(name1 = \"hasan\", name2 = \"hakan\", name3 = \"ayşe\", name4 = \"süleyman\")\n",
    "print(family_name.items())\n",
    "print(list(family_name.keys()))\n",
    "print(list(family_name.values()))\n"
   ]
  },
  {
   "cell_type": "code",
   "execution_count": 27,
   "metadata": {
    "tags": []
   },
   "outputs": [
    {
     "output_type": "stream",
     "name": "stdout",
     "text": "{'name1': 'hasan', 'name2': 'hakan', 'name3': 'ayşe', 'name4': 'süleyman', 'name5': 'emel', 'name6': 'hasibe', 800: 'kenan'}\n"
    }
   ],
   "source": [
    "family_name.update({\"name5\" : \"emel\", \"name6\" : \"hasibe\", 800: \"kenan\"})\n",
    "print(family_name)"
   ]
  },
  {
   "cell_type": "code",
   "execution_count": 28,
   "metadata": {
    "tags": []
   },
   "outputs": [
    {
     "output_type": "stream",
     "name": "stdout",
     "text": "{'name1': 'hasan', 'name2': 'hakan', 'name3': 'ayşe', 'name4': 'süleyman', 'name5': 'emel', 'name6': 'hasibe'}\n"
    }
   ],
   "source": [
    "del family_name[800]\n",
    "print(family_name)"
   ]
  },
  {
   "cell_type": "code",
   "execution_count": 32,
   "metadata": {
    "tags": []
   },
   "outputs": [
    {
     "output_type": "stream",
     "name": "stdout",
     "text": "{'name1': 'hasan', 'name2': 'hakan', 'name4': 'süleyman'}\n"
    }
   ],
   "source": [
    "del (family_name[\"name3\"], family_name[\"name5\"], family_name[\"name6\"])\n",
    "print(family_name) #birden fazla silme işlemi"
   ]
  },
  {
   "cell_type": "code",
   "execution_count": 35,
   "metadata": {
    "tags": []
   },
   "outputs": [
    {
     "output_type": "stream",
     "name": "stdout",
     "text": "True\nTrue\nFalse\n"
    }
   ],
   "source": [
    "family_name = dict(name1 = \"hasan\", name2 = \"hakan\", name3 = \"ayşe\", name4 = \"süleyman\")\n",
    "print(\"name1\" in family_name)\n",
    "print(\"name8\" not in family_name)\n",
    "print(\"name8\" in family_name)"
   ]
  },
  {
   "cell_type": "code",
   "execution_count": 38,
   "metadata": {
    "tags": []
   },
   "outputs": [
    {
     "output_type": "stream",
     "name": "stdout",
     "text": "False\nTrue\n"
    }
   ],
   "source": [
    "xx = [22,33,44]\n",
    "print(55 in xx)\n",
    "print(33 in xx)"
   ]
  },
  {
   "cell_type": "code",
   "execution_count": 39,
   "metadata": {
    "tags": []
   },
   "outputs": [
    {
     "output_type": "stream",
     "name": "stdout",
     "text": "16\n16\n"
    }
   ],
   "source": [
    "#Nested Dictionaries\n",
    "school_records={\n",
    "    \"personal_info\":\n",
    "        {\"kid\":{\"tom\": {\"class\": \"intermediate\", \"age\": 10},\n",
    "                \"sue\": {\"class\": \"elementary\", \"age\": 8}\n",
    "               },\n",
    "         \"teen\":{\"joseph\":{\"class\": \"college\", \"age\": 19},\n",
    "                 \"marry\":{\"class\": \"high school\", \"age\": 16}\n",
    "               },               \n",
    "        },\n",
    "        \n",
    "    \"grades_info\":\n",
    "        {\"kid\":{\"tom\": {\"math\": 88, \"speech\": 69},\n",
    "                \"sue\": {\"math\": 90, \"speech\": 81}\n",
    "               },\n",
    "         \"teen\":{\"joseph\":{\"coding\": 80, \"math\": 89},\n",
    "                 \"marry\":{\"coding\": 70, \"math\": 96}\n",
    "               },               \n",
    "        },        \n",
    "}       \n",
    "print(school_records['personal_info']['teen']['marry']['age'])\n",
    "print(school_records['personal_info']['teen']['marry']['age'])"
   ]
  },
  {
   "cell_type": "code",
   "execution_count": 50,
   "metadata": {
    "tags": []
   },
   "outputs": [
    {
     "output_type": "stream",
     "name": "stdout",
     "text": "{'coding': 80, 'math': 89}\ndict_items([('coding', 80), ('math', 89)])\n[('coding', 80), ('math', 89)]\n"
    }
   ],
   "source": [
    "print(school_records[\"grades_info\"][\"teen\"][\"joseph\"])\n",
    "print(school_records[\"grades_info\"][\"teen\"][\"joseph\"].items())\n",
    "print(list(school_records[\"grades_info\"][\"teen\"][\"joseph\"].items()))"
   ]
  },
  {
   "cell_type": "code",
   "execution_count": 56,
   "metadata": {
    "tags": []
   },
   "outputs": [
    {
     "output_type": "stream",
     "name": "stdout",
     "text": "{'friend1': {'name': 'hakan', 'surname': 'kan'}, 'friend2': {'name': 'haso', 'surname': 'hüso'}, 'friend3': {'name': 'kenan', 'surname': 'Den'}}\n{'father': {'name': 'celal', 'lastname': 'kova'}, 'mother': {'name': 'mary', 'lastname': 'merdiven'}, 'sister': {'name': 'sue', 'lastname': 'çatı'}}\n"
    }
   ],
   "source": [
    "friends = {    \n",
    "        \"friend1\":{\"name\" : \"hakan\", \"surname\" : \"kan\"},\n",
    "        \"friend2\":{\"name\" : \"haso\", \"surname\" : \"hüso\"},\n",
    "        \"friend3\":{\"name\" : \"kenan\", \"surname\" : \"Den\"}\n",
    "}\n",
    "\n",
    "family =   {\n",
    "    \"father\" : {\"name\" : \"celal\", \"lastname\" : \"kova\"},\n",
    "    \"mother\" : {\"name\" : \"mary\", \"lastname\"  : \"merdiven\"},\n",
    "    \"sister\" : {\"name\" : \"sue\", \"lastname\"  : \"çatı\"}    \n",
    "}\n",
    "\n",
    "print(friends)\n",
    "print(family)"
   ]
  },
  {
   "cell_type": "code",
   "execution_count": 64,
   "metadata": {
    "tags": []
   },
   "outputs": [
    {
     "output_type": "stream",
     "name": "stdout",
     "text": "dict_items([('name', 'sue'), ('lastname', 'çatı')])\n[('name', 'sue'), ('lastname', 'çatı')]\n"
    }
   ],
   "source": [
    "favourite = {\n",
    "    \"friends\" : {    \n",
    "        \"friend1\":{\"name\" : \"hakan\", \"surname\" : \"kan\"},\n",
    "        \"friend2\":{\"name\" : \"haso\", \"surname\" : \"hüso\"},\n",
    "        \"friend3\":{\"name\" : \"kenan\", \"surname\" : \"Den\"}\n",
    "        },\n",
    "\n",
    "    \"family\" :   {\n",
    "        \"father\" : {\"name\" : \"celal\", \"lastname\" : \"kova\"},\n",
    "        \"mother\" : {\"name\" : \"mary\", \"lastname\"  : \"merdiven\"},\n",
    "        \"sister\" : {\"name\" : \"sue\", \"lastname\"  : \"çatı\"}    \n",
    "        }   \n",
    "}\n",
    "#print(favourite)\n",
    "print(favourite[\"family\"][\"sister\"].items())\n",
    "print(list(favourite[\"family\"][\"sister\"].items()))\n"
   ]
  },
  {
   "cell_type": "code",
   "execution_count": null,
   "metadata": {},
   "outputs": [],
   "source": []
  }
 ],
 "metadata": {
  "language_info": {
   "codemirror_mode": {
    "name": "ipython",
    "version": 3
   },
   "file_extension": ".py",
   "mimetype": "text/x-python",
   "name": "python",
   "nbconvert_exporter": "python",
   "pygments_lexer": "ipython3",
   "version": "3.7.6-final"
  },
  "orig_nbformat": 2,
  "kernelspec": {
   "name": "python37664bitbaseconda9a20b4a3b7cd4508ae732f7e651c4b25",
   "display_name": "Python 3.7.6 64-bit ('base': conda)"
  }
 },
 "nbformat": 4,
 "nbformat_minor": 2
}