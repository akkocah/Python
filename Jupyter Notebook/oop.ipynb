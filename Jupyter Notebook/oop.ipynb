{
 "metadata": {
  "language_info": {
   "codemirror_mode": {
    "name": "ipython",
    "version": 3
   },
   "file_extension": ".py",
   "mimetype": "text/x-python",
   "name": "python",
   "nbconvert_exporter": "python",
   "pygments_lexer": "ipython3",
   "version": 3
  },
  "orig_nbformat": 2,
  "kernelspec": {
   "name": "python_defaultSpec_1596607582356",
   "display_name": "Python 3.8.3 64-bit ('base': conda)"
  }
 },
 "nbformat": 4,
 "nbformat_minor": 2,
 "cells": [
  {
   "cell_type": "code",
   "execution_count": null,
   "metadata": {},
   "outputs": [],
   "source": [
    "# Python Object-Oriented Programming"
   ]
  },
  {
   "cell_type": "code",
   "execution_count": 1,
   "metadata": {
    "tags": []
   },
   "outputs": [
    {
     "output_type": "stream",
     "name": "stdout",
     "text": "<__main__.Employee object at 0x00000271BBE7FC40>\n<__main__.Employee object at 0x00000271BBE7F190>\nCorey.Schafer@company.com\nTest.User@company.com\nCorey Schafer\nCorey Schafer\n"
    }
   ],
   "source": [
    "############ lesson 1 - Classes and Instances  #################\n",
    "\n",
    "class Employee:\n",
    "    #pass # if it is empty. \n",
    "    def __init__(self, first, last, pay):\n",
    "        self.first = first\n",
    "        self.last = last\n",
    "        self.pay = pay\n",
    "        self.email = first + '.' + last + '@company.com'\n",
    "    \n",
    "    def fullname(self):\n",
    "        # return \"{} {}\".format(self.first, self.last)\n",
    "        return f\"{self.first} {self.last}\"\n",
    "\n",
    "emp_1 = Employee(\"Corey\", \"Schafer\", 50000)\n",
    "emp_2 = Employee(\"Test\", \"User\", 60000)\n",
    "\n",
    "print(emp_1)\n",
    "print(emp_2)\n",
    "\n",
    "print(emp_1.email)\n",
    "print(emp_2.email)\n",
    "\n",
    "print(emp_1.fullname())\n",
    "print(Employee.fullname(emp_1))\n",
    "\n",
    "emp_1.first = 'Corey'\n",
    "emp_1.last = \"Schafer\"\n",
    "emp_1.email = \"Corey.Schafer@company.com\"\n",
    "emp_1.pay = 50000\n",
    "\n",
    "emp_2.first = 'Test'\n",
    "emp_2.last = \"User\"\n",
    "emp_2.email = \"Test.User@company.com\"\n",
    "emp_2.pay = 60000"
   ]
  },
  {
   "cell_type": "code",
   "execution_count": 9,
   "metadata": {
    "tags": []
   },
   "outputs": [
    {
     "output_type": "stream",
     "name": "stdout",
     "text": "0\n2\n50000\n52000\n1.04\n1.05\n1.06\n1.05\n{'first': 'Corey', 'last': 'Schafer', 'pay': 52000, 'email': 'Corey.Schafer@company.com', 'raise_amount': 1.06}\n"
    }
   ],
   "source": [
    "############ lesson 2 - class variable #################\n",
    "\n",
    "class Employee:\n",
    "    num_of_emps = 0  # numbers of employees\n",
    "    raise_amount = 1.04  # raise amount\n",
    "    \n",
    "    def __init__(self, first, last, pay):\n",
    "        self.first = first\n",
    "        self.last = last\n",
    "        self.pay = pay\n",
    "        self.email = first + '.' + last + '@company.com'\n",
    "\n",
    "        Employee.num_of_emps += 1\n",
    "    \n",
    "    def fullname(self):\n",
    "       # return \"{} {}\".format(self.first, self.last)\n",
    "         return f\"{self.first} {self.last}\"\n",
    "\n",
    "    def apply_raise(self):\n",
    "        self.pay = int(self.pay * self.raise_amount)\n",
    "\n",
    "print(Employee.num_of_emps) # first it is 0\n",
    "\n",
    "emp_1 = Employee(\"Corey\", \"Schafer\", 50000)\n",
    "emp_2 = Employee(\"Test\", \"User\", 60000)\n",
    "\n",
    "print(Employee.num_of_emps) # now it is 2 employees\n",
    "\n",
    "print(emp_1.pay)  # ex pay\n",
    "emp_1.apply_raise()  # raise amount\n",
    "print(emp_1.pay)  # new pay\n",
    "\n",
    "print(Employee.raise_amount)  # it is first variable value.\n",
    "\n",
    "Employee.raise_amount = 1.05  # all of them have changes, it is change all variables of above to bottom\n",
    "emp_1.raise_amount = 1.06  # only emp_1 has change\n",
    "\n",
    "print(Employee.raise_amount)  # now Employee raise amount is 1.05 because it have new assignment\n",
    "# print(self.raise_amount) # it has a error\n",
    "print(emp_1.raise_amount)  # now emp_1 raise amount is 1.06 because it have new assignment\n",
    "print(emp_2.raise_amount)  \n",
    "print(emp_1.__dict__)"
   ]
  },
  {
   "cell_type": "code",
   "execution_count": 12,
   "metadata": {
    "tags": []
   },
   "outputs": [
    {
     "output_type": "stream",
     "name": "stdout",
     "text": "True\nJohn.Doe@company.com 70000\n1.05\n1.05\n1.05\n"
    },
    {
     "output_type": "execute_result",
     "data": {
      "text/plain": "\"  \\nStatic methods now a lot of people gets class methods and static methods confused now when working with classes regular methods automatically pass the instance as the first argument and we call that self and class methods automatically pass the class as the first argument and we call that CLS and static methods don't pass anything automatically they don't pass the instance or the class so really they behave just like regular functions except we include them in our classes because they have some logical connection with the class.\\n\""
     },
     "metadata": {},
     "execution_count": 12
    }
   ],
   "source": [
    "############ lesson 3 - classmethods and staticmethods #################\n",
    "\n",
    "class Employee:\n",
    "    num_of_emps = 0\n",
    "    raise_amt = 1.04\n",
    "    \n",
    "    def __init__(self, first, last, pay):\n",
    "        self.first = first\n",
    "        self.last = last\n",
    "        self.pay = pay\n",
    "        self.email = first + '.' + last + '@company.com'\n",
    "\n",
    "        Employee.num_of_emps += 1\n",
    "    \n",
    "    def fullname(self):\n",
    "        return \"{} {}\".format(self.first, self.last)\n",
    "    \n",
    "    def apply_raise(self):\n",
    "        self.pay = int(self.pay * self.raise_amt)\n",
    "    \n",
    "    @classmethod\n",
    "    def set_raise_amt(cls, amount):  # Employee.raise_amt = 1.05 -- actually same thing \n",
    "        # pass  # if it is empty\n",
    "        cls.raise_amt = amount\n",
    "    \n",
    "    @classmethod\n",
    "    def from_string(cls, emp_str):            # first, last, pay = emp_str_1.split(\"-\"\")  \n",
    "        first, last, pay = emp_str.split(\"-\") # new_emp_1 = Employee(first, last, pay) is same thing\n",
    "        return cls(first, last, pay)\n",
    "    \n",
    "    @staticmethod\n",
    "    def is_workday(day):  # python monday = 0, tuesday = 1 ...\n",
    "        if day.weekday() == 5 or day.weekday() == 6:  # except saturday and sunday \n",
    "            return False\n",
    "        return True\n",
    "\n",
    "emp_1 = Employee(\"Corey\", \"Schafer\", 50000)\n",
    "emp_2 = Employee(\"Test\", \"User\", 60000)\n",
    "\n",
    "import datetime\n",
    "my_date = datetime.date(2020, 7, 10)\n",
    "\n",
    "print(Employee.is_workday(my_date))\n",
    "\n",
    "emp_str_1 = 'John-Doe-70000'\n",
    "emp_str_2 = 'Steve-Smith-30000'\n",
    "emp_str_3 = 'Jane-Doe-90000'\n",
    "\n",
    "new_emp_1 = Employee.from_string(emp_str_1)\n",
    "print(new_emp_1.email, new_emp_1.pay)\n",
    "\n",
    "Employee.set_raise_amt(1.05)\n",
    "emp_1.set_raise_amt(1.05)  # all of them have changes, it is change all variables of above to bottom.\n",
    "\n",
    "print(Employee.raise_amt)\n",
    "print(emp_1.raise_amt)\n",
    "print(emp_2.raise_amt)\n",
    "\n",
    "\"\"\"  \n",
    "Static methods now a lot of people gets class methods and static methods confused now when working with classes regular methods automatically pass the instance as the first argument and we call that self and class methods automatically pass the class as the first argument and we call that CLS and static methods don't pass anything automatically they don't pass the instance or the class so really they behave just like regular functions except we include them in our classes because they have some logical connection with the class.\n",
    "\"\"\""
   ]
  },
  {
   "cell_type": "code",
   "execution_count": null,
   "metadata": {},
   "outputs": [],
   "source": [
    "@classmethod\n",
    "def fromtimestamp(cls, t):\n",
    "    \"Construct a date from a POSIX timestamp (like time.time()).\"\n",
    "    y, m, d, hh, mm, ss, weekday, jday, dst = _time.localtime(t)\n",
    "    return cls(y, m, d)\n",
    "\n",
    "@classmethod\n",
    "def today(cls):\n",
    "    \"Construct a date from time.time().\"\n",
    "    t = _time.time()\n",
    "    return cls.fromtimestamp(t)\n",
    "\n",
    "@classmethod\n",
    "def fromordinal(cls, n):\n",
    "    \"\"\" Construct a date form a proleptic Gregorian ordinal.\n",
    "\n",
    "    January 1 of year 1 is dat 1. Only year, month and day are\n",
    "    non-zero in the result.\n",
    "    \"\"\"\n"
   ]
  },
  {
   "cell_type": "code",
   "execution_count": 17,
   "metadata": {
    "tags": []
   },
   "outputs": [
    {
     "output_type": "stream",
     "name": "stdout",
     "text": "--> Corey Schafer\n--> Corey Schafer\n--> Test User\nTrue\nTrue\nFalse\nFalse\nFalse\nTrue\n50000\n55000\nSue.Smith@company.com\nJava\n"
    }
   ],
   "source": [
    "############ lesson 4 INHERITANCE - CREATING SUBCLASS #################\n",
    "\n",
    "class Employee:\n",
    "    \n",
    "    raise_amt = 1.04\n",
    "    \n",
    "    def __init__(self, first, last, pay):\n",
    "        self.first = first\n",
    "        self.last = last\n",
    "        self.pay = pay\n",
    "        self.email = first + '.' + last + '@company.com'\n",
    "\n",
    "           \n",
    "    def fullname(self):\n",
    "        return \"{} {}\".format(self.first, self.last)\n",
    "    \n",
    "    def apply_raise(self):\n",
    "        self.pay = int(self.pay * self.raise_amt)\n",
    "        \n",
    "\n",
    "class Developer(Employee):  # inherit from Employee class\n",
    "    # pass  # all inherit from Employee class all of functionallty\n",
    "    raise_amt = 1.10\n",
    "\n",
    "    def __init__(self, first, last, pay, prog_lang):\n",
    "        super().__init__(first, last, pay) # inherit from Employees __init__ function (fist, last, pay)\n",
    "        # Employee.__init__(self, first, last, pay)  # other handling\n",
    "        self.prog_lang = prog_lang\n",
    "\n",
    "class Manager(Employee):\n",
    "    def __init__(self, first, last, pay, employees = None):\n",
    "        super().__init__(first, last, pay) # burası sayesinde employeeden otomatik olarak aldık\n",
    "        if employees is None:\n",
    "            self.employees = []\n",
    "        else:\n",
    "            self.employees = employees\n",
    "    \n",
    "    def add_emp(self, emp):\n",
    "        if emp not in self.employees:\n",
    "            self.employees.append(emp)\n",
    "    \n",
    "    def remove_emp(self, emp):\n",
    "        if emp not in self.employees:\n",
    "            self.employees.remove(emp)\n",
    "    \n",
    "    def print_emps(self):\n",
    "        for emp in self.employees:\n",
    "            print(\"-->\", emp.fullname())\n",
    "    \n",
    "dev_1 = Developer(\"Corey\", \"Schafer\", 50000, 'Python')\n",
    "dev_2 = Developer(\"Test\", \"User\", 60000, 'Java')\n",
    "\n",
    "mgr_1 = Manager(\"Sue\", \"Smith\", 90000, [dev_1])\n",
    "mgr_1.print_emps()\n",
    "mgr_1.remove_emp(dev_1)\n",
    "\n",
    "mgr_1.add_emp(dev_2)\n",
    "mgr_1.print_emps()\n",
    "\n",
    "print(isinstance(mgr_1, Manager))\n",
    "print(isinstance(mgr_1, Employee))\n",
    "print(isinstance(mgr_1, Developer))\n",
    "\n",
    "print(issubclass(Manager, Developer))\n",
    "print(issubclass(Developer, Manager))\n",
    "print(issubclass(Manager, Employee))\n",
    "\n",
    "\n",
    "print(dev_1.pay)\n",
    "dev_1.apply_raise()\n",
    "print(dev_1.pay)\n",
    "\n",
    "emp_1 = Employee(\"Corey\", \"Schafer\", 50000)\n",
    "# emp_2 = Employee(\"Test\", \"User\", 60000)\n",
    "# print(emp_1.pay)\n",
    "# emp_1.apply_raise()\n",
    "# print(emp_1.pay)\n",
    "# print(help(Developer))\n",
    "\n",
    "print(mgr_1.email)\n",
    "print(dev_2.prog_lang)\n",
    "#print(dev_1.__dict__)"
   ]
  },
  {
   "cell_type": "code",
   "execution_count": 20,
   "metadata": {},
   "outputs": [],
   "source": [
    "class HTTPException(Exception):\n",
    "    \"\"\"\n",
    "    Baseclass for all HTTP exeptions. This exception can be called as WSGI \n",
    "    application to render a defounl error page or you can catch the subclasses \n",
    "    of it independently and render nicer error messages.\n",
    "    \"\"\"\n",
    "\n",
    "    code = None\n",
    "    description = None\n",
    "\n",
    "    def __init__(self, description=None, response=None):\n",
    "        Exception.__init__(self)\n",
    "        if description is not None:\n",
    "            self.description = description\n",
    "        self.response = response\n",
    "    \n",
    "    @classmethod\n",
    "    def wrap(cls, exception, name=None):\n",
    "        \"\"\"\n",
    "        This method returns a new subclass of the exception provided that\n",
    "        als is a subclass of \"BadRequest\".\n",
    "        \"\"\"\n",
    "        class newcls(cls, exception):\n",
    "\n",
    "            def __init__(self, arg=None, *args, **kwargs):\n",
    "                cls.__init__(self, *arg, **kwargs)\n",
    "                exception.__init__(self, arg)\n",
    "        newcls.__module__ = sys.getframe(1).f_globalsget(\"__name__\")\n",
    "        newcls.__name__ = name or cls.__name__ + exception.__name__\n",
    "        return newcls\n",
    "    \n",
    "    @property\n",
    "    def name(self):\n",
    "        \"\"\" The status name. \"\"\"\n",
    "        return HTTP_STATUS_CODES.get(self.code, \"Unknown Error\")\n",
    "\n",
    "    def get_description(self, environ=None):\n",
    "        \"\"\" Get the description \"\"\"\n",
    "        return u\"<p>%s</p>\" % escape(self.description)\n",
    "\n",
    "    def get_body(self, environ=None):\n",
    "        \"\"\" Get the HTML body \"\"\"\n",
    "        return text_type((\n",
    "        u'<!DOCTYPE HTML PUBLIC \"-//W3C//DTD HTML 3.2 Final//EN\">\\n'\n",
    "        u'<title>%(code)s %(name)s</title>\\n'\n",
    "        u'<h1>%(name)s</h1>\\n'\n",
    "        u'%(description)s\\n'\n",
    "    ) % {\n",
    "        \"code\":         self.code,\n",
    "        \"name\":         escape(self.name),\n",
    "        \"description\":  self.get_description(environ)\n",
    "    })\n",
    "\n",
    "def get_headers(self, environ=None):\n",
    "    \"\"\" Get a list of headers \"\"\"\n",
    "    return [(\"Content-Type\", \"text/html\")]\n",
    "\n",
    "def get_response(self, environ=None):\n",
    "    \"\"\" Get a responce object. If one was passed to the exception\n",
    "    it's returned directly. \n",
    "\n",
    "    :param environ: the optional environ for the request. This\n",
    "                    can be used to modify the response depending\n",
    "                    on how the request looked like.\n",
    "    :return: a :class: \"Response\" object or a subclass thereof.\n",
    "    \"\"\"\n",
    "    if self.response is not None:\n",
    "        return self.response\n",
    "    if environ is not None:\n",
    "        environ = _get_environ(environ)\n",
    "    headers = self.get_headers(environ)\n",
    "    return Response(self.get_body(environ), self.code, headers)\n",
    "\n",
    "def __call__(self, environ, start_response):\n",
    "    \"\"\"\n",
    "    Call the exception as WSGI  application.\n",
    "\n",
    "    :param environ: the WSGI environment.\n",
    "    :param start_response:  the response callable provided by th WSGI\n",
    "                            server\n",
    "    \"\"\"\n",
    "    response = self.get_response(environ)\n",
    "    return response(environ, start_response)\n",
    "\n",
    "def __str__(self):\n",
    "    return \"%d: %s\" % (self.code, self.name)\n",
    "\n",
    "def __repr__(self):\n",
    "    return \"<%s \\\"%s\\\">\" % (self.__class__.__name__, self)\n",
    "    \n",
    "class BadRequest(HTTPException):\n",
    "    \"\"\"\n",
    "    *400* \"Bad Request\"\n",
    "\n",
    "    Raise if the browser sends something to the application the application\n",
    "    or server cannot handle.\n",
    "    \"\"\"\n",
    "    code = 400\n",
    "    description = (\n",
    "        \"The browser (or proxy) sent a request that this server could \"\n",
    "        \"not understand.\"\n",
    "    )"
   ]
  },
  {
   "cell_type": "code",
   "execution_count": 23,
   "metadata": {
    "tags": []
   },
   "outputs": [
    {
     "output_type": "stream",
     "name": "stdout",
     "text": "110000\n13\nEmployee(Corey, Schafer, 50000)\nCorey Schafer - Corey.Schafer@company.com\n"
    }
   ],
   "source": [
    "############ lesson 5 Special (Magic / Dunder) Methods #################\n",
    "\n",
    "class Employee:\n",
    "    \n",
    "    raise_amt = 1.04\n",
    "    \n",
    "    def __init__(self, first, last, pay):\n",
    "        self.first = first\n",
    "        self.last = last\n",
    "        self.pay = pay\n",
    "        self.email = first + '.' + last + '@company.com'\n",
    "\n",
    "           \n",
    "    def fullname(self):\n",
    "        return \"{} {}\".format(self.first, self.last)\n",
    "    \n",
    "    def apply_raise(self):\n",
    "        self.pay = int(self.pay * self.raise_amt)\n",
    "    \n",
    "    def __repr__(self):\n",
    "        return \"Employee({}, {}, {})\".format(self.first, self.last, self.pay)\n",
    "\n",
    "    def __str__(self):# dunder fonksiyon diye geçiyor\n",
    "        return \"{} - {}\".format(self.fullname(), self.email)\n",
    "    \n",
    "    def __add__(self, other):\n",
    "        return self.pay + other.pay\n",
    "    \n",
    "    def __len__(self):\n",
    "        return len(self.fullname())\n",
    "    \n",
    "\n",
    "    \n",
    "emp_1 = Employee(\"Corey\", \"Schafer\", 50000)\n",
    "emp_2 = Employee(\"Test\", \"User\", 60000)\n",
    "\n",
    "print(emp_1 + emp_2)  # use  __add__ method (__ is dunder)\n",
    "\n",
    "print(len(emp_1))\n",
    "\n",
    "\n",
    "# print(emp_1)\n",
    "\n",
    "# print(repr(emp_1))\n",
    "# print(str(emp_1))\n",
    "\n",
    "print(emp_1.__repr__())\n",
    "print(emp_1.__str__())\n",
    "\n",
    "# print(1 + 2)\n",
    "# print(int.__add__(1, 2))  # dunder __add__ method\n",
    "# print(str.__add__(\"a\", \"b\"))  # dunder __add__ method, concatanate\n",
    "\n"
   ]
  },
  {
   "cell_type": "code",
   "execution_count": 6,
   "metadata": {
    "tags": []
   },
   "outputs": [
    {
     "output_type": "stream",
     "name": "stdout",
     "text": "Corey\nCorey.Schafer@company.com\nCorey Schafer\nDelete Name!\n"
    }
   ],
   "source": [
    "############ lesson 6  Property Decorators - Getters, Setters, and Deleters #################\n",
    "\n",
    "class Employee:\n",
    "    \n",
    "    raise_amt = 1.04\n",
    "    \n",
    "    def __init__(self, first, last): #pay):\n",
    "        self.first = first\n",
    "        self.last = last\n",
    "        #self.pay = pay\n",
    "        #self.email = first + '.' + last + '@company.com'\n",
    "    @property # aşağıda yazarken parantez yazmamıza gerek kalmıyor.\n",
    "    def email(self):\n",
    "        return \"{}.{}@company.com\".format(self.first, self.last)\n",
    "    @property           \n",
    "    def fullname(self):\n",
    "        return \"{} {}\".format(self.first, self.last)\n",
    "    \n",
    "    @fullname.setter\n",
    "    def fullname(self, name):\n",
    "        first, last = name.split(\" \")\n",
    "        self.first = first\n",
    "        self.last = last\n",
    "    \n",
    "    @fullname.deleter\n",
    "    def fullname(self):\n",
    "        print('Delete Name!')\n",
    "        self.first = None\n",
    "        self.last = None\n",
    "    \n",
    "emp_1 = Employee('John', 'Smith')\n",
    "\n",
    "emp_1.fullname = \"Corey Schafer\" # bu şekilde kullanırsak hata verir (@property) attribute olduğuiçin @ fullname.setter yaparak \n",
    "#çalıştırdık\n",
    "\n",
    "#emp_1.first = 'jim'\n",
    "\n",
    "print(emp_1.first)\n",
    "print(emp_1.email)\n",
    "print(emp_1.fullname)\n",
    "\n",
    "del emp_1.fullname\n"
   ]
  },
  {
   "cell_type": "code",
   "execution_count": 7,
   "metadata": {
    "tags": []
   },
   "outputs": [
    {
     "output_type": "stream",
     "name": "stdout",
     "text": "15\n20\n20\n"
    }
   ],
   "source": [
    "# ########################33  ORNEKLER  ##############33333333\n",
    "\n",
    "class Human: \n",
    "\n",
    "    age = 15\t\n",
    "\n",
    "    def __init__(self, name): \n",
    "\n",
    "         self._name = name \n",
    "\n",
    "hmn_1 = Human('Corey')\n",
    "\n",
    "hmn_1.age = 20\n",
    "\n",
    "\n",
    "print(Human.age)\n",
    "print(hmn_1.age)\n",
    "#del hmn_1\n",
    "print(hmn_1.age)\n",
    "\n",
    "class A:\n",
    "\tdef __init__(self,b):\n",
    "\t\tself.b=b\n",
    "\tdef display(self):\n",
    "\t\tprint(self.b)\n",
    "obj=A(\"Hello\")\n",
    "del obj"
   ]
  },
  {
   "cell_type": "code",
   "execution_count": 36,
   "metadata": {
    "tags": []
   },
   "outputs": [
    {
     "output_type": "stream",
     "name": "stdout",
     "text": "Yippee! You can buy your PS4\n"
    }
   ],
   "source": [
    "# ########################33  IF ORNEKLERI ##############\n",
    "\n",
    "class PlayStation(object):\n",
    "    #model = \"PS4\"\n",
    "    #price = 99\n",
    "    def __init__(self, model, price):\n",
    "        \"initialize properties\"\n",
    "        #pass\n",
    "        self.model = model\n",
    "        self.__price = price\n",
    "    def set_price(self, price):\n",
    "        self.__price = price\n",
    "    def get_price(self):\n",
    "        return self.__price\n",
    "    def save_more(self):\n",
    "            if self.amount >= self.__price:\n",
    "                self.buying_message = \"Yippee! You can buy your \" + self.model\n",
    "            elif self.amount > self.__price/2:\n",
    "                self.buying_message = \"You saved more than half, keep saving!\"\n",
    "            elif self.amount <= self.__price/2:\n",
    "                self.buying_message = \"You must save more, keep saving!\"\n",
    "model = \"PS4\"\n",
    "price = 99\n",
    "playstation1 = PlayStation(model, price)\n",
    "playstation1.set_price(price)\n",
    "#playstation1.amount=25\n",
    "#playstation1.amount=50\n",
    "playstation1.amount=100\n",
    "playstation1.save_more()\n",
    "print(playstation1.buying_message)"
   ]
  },
  {
   "cell_type": "code",
   "execution_count": null,
   "metadata": {},
   "outputs": [],
   "source": [
    "class Car():\n",
    "    pass"
   ]
  },
  {
   "cell_type": "code",
   "execution_count": 37,
   "metadata": {
    "tags": []
   },
   "outputs": [
    {
     "output_type": "stream",
     "name": "stdout",
     "text": "<__main__.PlayStation object at 0x0000020313DA9820>\n"
    }
   ],
   "source": [
    "print(playstation1)"
   ]
  },
  {
   "cell_type": "code",
   "execution_count": 38,
   "metadata": {},
   "outputs": [
    {
     "output_type": "execute_result",
     "data": {
      "text/plain": "100"
     },
     "metadata": {},
     "execution_count": 38
    }
   ],
   "source": [
    "playstation1.amount"
   ]
  },
  {
   "cell_type": "code",
   "execution_count": 42,
   "metadata": {},
   "outputs": [
    {
     "output_type": "execute_result",
     "data": {
      "text/plain": "'PS4'"
     },
     "metadata": {},
     "execution_count": 42
    }
   ],
   "source": [
    "playstation1.model"
   ]
  },
  {
   "cell_type": "code",
   "execution_count": 40,
   "metadata": {},
   "outputs": [
    {
     "output_type": "execute_result",
     "data": {
      "text/plain": "<function __main__.PlayStation.get_price(self)>"
     },
     "metadata": {},
     "execution_count": 40
    }
   ],
   "source": [
    "PlayStation.get_price"
   ]
  },
  {
   "cell_type": "code",
   "execution_count": 24,
   "metadata": {},
   "outputs": [],
   "source": [
    "class Car:\n",
    "      pass\n",
    "class Buggati(Car):\n",
    "      pass"
   ]
  },
  {
   "cell_type": "code",
   "execution_count": 25,
   "metadata": {},
   "outputs": [
    {
     "output_type": "execute_result",
     "data": {
      "text/plain": "True"
     },
     "metadata": {},
     "execution_count": 25
    }
   ],
   "source": [
    "issubclass(Buggati, Car)"
   ]
  },
  {
   "cell_type": "code",
   "execution_count": 26,
   "metadata": {},
   "outputs": [
    {
     "output_type": "execute_result",
     "data": {
      "text/plain": "False"
     },
     "metadata": {},
     "execution_count": 26
    }
   ],
   "source": [
    "issubclass(Car, Buggati)"
   ]
  },
  {
   "cell_type": "code",
   "execution_count": 27,
   "metadata": {},
   "outputs": [],
   "source": [
    "class Human: \n",
    "\n",
    "    age = 15\t\n",
    "\n",
    "    def __init__(self, name): \n",
    "\n",
    "         self._name = name \n",
    "\n",
    "hmn_1 = Human('Corey')\n",
    "\n",
    "hmn_1.age = 20"
   ]
  },
  {
   "cell_type": "code",
   "execution_count": 28,
   "metadata": {
    "tags": []
   },
   "outputs": [
    {
     "output_type": "stream",
     "name": "stdout",
     "text": "15\n"
    }
   ],
   "source": [
    "print(Human.age)"
   ]
  },
  {
   "cell_type": "code",
   "execution_count": 29,
   "metadata": {
    "tags": []
   },
   "outputs": [
    {
     "output_type": "stream",
     "name": "stdout",
     "text": "20\n"
    }
   ],
   "source": [
    "print(hmn_1.age)"
   ]
  },
  {
   "cell_type": "code",
   "execution_count": 30,
   "metadata": {},
   "outputs": [],
   "source": [
    "class Dog:\n",
    "\n",
    "    def __init__(self, name, age):\n",
    "\n",
    "        self.name = name\n",
    "\n",
    "        self.age = age\n",
    "\n",
    "class Terrier(Dog):\n",
    "\n",
    "    pass\n",
    "\n",
    "class Dachshund(Dog):\n",
    "\n",
    "    pass\n",
    "\n",
    "class Bulldog(Dog):\n",
    "\n",
    "    pass\n",
    "\n",
    "dog1 = Terrier(\"Miles\", 4)\n",
    "\n",
    "dog2 = Dachshund(\"Buddy\", 9)\n",
    "\n",
    "dog3 = Bulldog(\"Jack\", 3)\n",
    "\n",
    "dog4 = Bulldog(\"Jim\", 5)"
   ]
  },
  {
   "cell_type": "code",
   "execution_count": 31,
   "metadata": {},
   "outputs": [
    {
     "output_type": "execute_result",
     "data": {
      "text/plain": "False"
     },
     "metadata": {},
     "execution_count": 31
    }
   ],
   "source": [
    "isinstance(dog2, Bulldog)"
   ]
  },
  {
   "cell_type": "code",
   "execution_count": 32,
   "metadata": {},
   "outputs": [
    {
     "output_type": "execute_result",
     "data": {
      "text/plain": "False"
     },
     "metadata": {},
     "execution_count": 32
    }
   ],
   "source": [
    "isinstance(dog3, Dachshund)"
   ]
  },
  {
   "cell_type": "code",
   "execution_count": 33,
   "metadata": {},
   "outputs": [
    {
     "output_type": "execute_result",
     "data": {
      "text/plain": "True"
     },
     "metadata": {},
     "execution_count": 33
    }
   ],
   "source": [
    "isinstance(dog4, Dog)"
   ]
  },
  {
   "cell_type": "code",
   "execution_count": 34,
   "metadata": {},
   "outputs": [
    {
     "output_type": "execute_result",
     "data": {
      "text/plain": "True"
     },
     "metadata": {},
     "execution_count": 34
    }
   ],
   "source": [
    "isinstance(dog1, Dog)"
   ]
  },
  {
   "cell_type": "code",
   "execution_count": 35,
   "metadata": {},
   "outputs": [
    {
     "output_type": "execute_result",
     "data": {
      "text/plain": "True"
     },
     "metadata": {},
     "execution_count": 35
    }
   ],
   "source": [
    "isinstance(dog3, Dog)"
   ]
  },
  {
   "cell_type": "code",
   "execution_count": 36,
   "metadata": {},
   "outputs": [
    {
     "output_type": "execute_result",
     "data": {
      "text/plain": "True"
     },
     "metadata": {},
     "execution_count": 36
    }
   ],
   "source": [
    "isinstance(dog1, Dog)"
   ]
  },
  {
   "cell_type": "code",
   "execution_count": 37,
   "metadata": {},
   "outputs": [
    {
     "output_type": "execute_result",
     "data": {
      "text/plain": "False"
     },
     "metadata": {},
     "execution_count": 37
    }
   ],
   "source": [
    "isinstance(dog1, Bulldog)"
   ]
  },
  {
   "cell_type": "code",
   "execution_count": 38,
   "metadata": {},
   "outputs": [
    {
     "output_type": "execute_result",
     "data": {
      "text/plain": "True"
     },
     "metadata": {},
     "execution_count": 38
    }
   ],
   "source": [
    "issubclass(Terrier, Dog)"
   ]
  },
  {
   "cell_type": "code",
   "execution_count": 39,
   "metadata": {},
   "outputs": [
    {
     "output_type": "execute_result",
     "data": {
      "text/plain": "False"
     },
     "metadata": {},
     "execution_count": 39
    }
   ],
   "source": [
    "issubclass(Dachshund, Terrier)"
   ]
  },
  {
   "cell_type": "code",
   "execution_count": 40,
   "metadata": {},
   "outputs": [
    {
     "output_type": "execute_result",
     "data": {
      "text/plain": "False"
     },
     "metadata": {},
     "execution_count": 40
    }
   ],
   "source": [
    "issubclass(Bulldog, Dachshund)"
   ]
  },
  {
   "cell_type": "code",
   "execution_count": 42,
   "metadata": {},
   "outputs": [
    {
     "output_type": "execute_result",
     "data": {
      "text/plain": "False"
     },
     "metadata": {},
     "execution_count": 42
    }
   ],
   "source": [
    "isinstance(dog2, Bulldog)"
   ]
  },
  {
   "cell_type": "code",
   "execution_count": 43,
   "metadata": {},
   "outputs": [
    {
     "output_type": "execute_result",
     "data": {
      "text/plain": "True"
     },
     "metadata": {},
     "execution_count": 43
    }
   ],
   "source": [
    "isinstance(dog4, Dog)"
   ]
  },
  {
   "cell_type": "code",
   "execution_count": 44,
   "metadata": {},
   "outputs": [
    {
     "output_type": "execute_result",
     "data": {
      "text/plain": "True"
     },
     "metadata": {},
     "execution_count": 44
    }
   ],
   "source": [
    "isinstance(dog1, Dog)"
   ]
  },
  {
   "cell_type": "code",
   "execution_count": 52,
   "metadata": {
    "tags": []
   },
   "outputs": [],
   "source": [
    "class A:\n",
    "\tdef __init__(self,b):\n",
    "\t\tself.b=b\n",
    "\tdef display(self):\n",
    "\t\tprint(self.b)\n",
    "obj = A(\"Hello\")\n",
    "del obj"
   ]
  },
  {
   "cell_type": "code",
   "execution_count": 53,
   "metadata": {},
   "outputs": [],
   "source": [
    "class Human: \n",
    "\n",
    "    age=15\t\n",
    "\n",
    "    def __init__(self, name): \n",
    "\n",
    "         self._name = name "
   ]
  },
  {
   "cell_type": "code",
   "execution_count": 54,
   "metadata": {
    "tags": []
   },
   "outputs": [
    {
     "output_type": "stream",
     "name": "stdout",
     "text": "15\n"
    }
   ],
   "source": [
    "hmn_1 = Human('Corey')\n",
    "\n",
    "print(hmn_1.age)"
   ]
  },
  {
   "cell_type": "code",
   "execution_count": 55,
   "metadata": {
    "tags": []
   },
   "outputs": [
    {
     "output_type": "stream",
     "name": "stdout",
     "text": "21\n"
    }
   ],
   "source": [
    "Human.age =21\n",
    "\n",
    "print(hmn_1.age)"
   ]
  },
  {
   "cell_type": "code",
   "execution_count": 56,
   "metadata": {
    "tags": []
   },
   "outputs": [
    {
     "output_type": "stream",
     "name": "stdout",
     "text": "21\n"
    }
   ],
   "source": [
    "hmn_1.age = 20\n",
    "\n",
    "print(Human.age)"
   ]
  },
  {
   "cell_type": "code",
   "execution_count": 57,
   "metadata": {},
   "outputs": [
    {
     "output_type": "execute_result",
     "data": {
      "text/plain": "'walking...'"
     },
     "metadata": {},
     "execution_count": 57
    }
   ],
   "source": [
    "class Dog:\n",
    "    def walk(self):\n",
    "         return \"walking...\"\n",
    "    def speak(self):\n",
    "         return \"Woof!\"\n",
    "\n",
    "class BabyDog(Dog):\n",
    "    def speak(self):\n",
    "         return \"Arff!\"\n",
    "\n",
    "dog = BabyDog()\n",
    "dog.walk()"
   ]
  },
  {
   "cell_type": "code",
   "execution_count": null,
   "metadata": {},
   "outputs": [],
   "source": []
  }
 ]
}