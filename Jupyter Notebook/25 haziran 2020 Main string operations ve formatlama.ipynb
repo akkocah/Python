{
 "cells": [
  {
   "cell_type": "code",
   "execution_count": 1,
   "metadata": {},
   "outputs": [
    {
     "name": "stdout",
     "output_type": "stream",
     "text": [
      "True\n",
      "False\n"
     ]
    }
   ],
   "source": [
    "text = \"www.clarusway.com\"\n",
    "print(text.endswith('com'))\n",
    "print(text.startswith('http:'))"
   ]
  },
  {
   "cell_type": "code",
   "execution_count": 3,
   "metadata": {},
   "outputs": [
    {
     "name": "stdout",
     "output_type": "stream",
     "text": [
      "True\n",
      "True\n"
     ]
    }
   ],
   "source": [
    "email = \"clarusway@clarusway.com is my e-mail address\"\n",
    "print(email.startswith(\"@\",9))\n",
    "print(email.endswith(\"-\", 10, 32)) #10 dan itibaren aramaya başlar 32 hariç arar - ile bitiyormu"
   ]
  },
  {
   "cell_type": "code",
   "execution_count": 5,
   "metadata": {},
   "outputs": [
    {
     "name": "stdout",
     "output_type": "stream",
     "text": [
      "True\n",
      "False\n"
     ]
    }
   ],
   "source": [
    "email = \"clarusway@clarusway.com is my e-mail address\"\n",
    "print(email.startswith(\"sw\",5))\n",
    "print(email.endswith(\"my\", 10, 32))"
   ]
  },
  {
   "cell_type": "code",
   "execution_count": 8,
   "metadata": {},
   "outputs": [
    {
     "data": {
      "text/plain": [
       "True"
      ]
     },
     "execution_count": 8,
     "metadata": {},
     "output_type": "execute_result"
    }
   ],
   "source": [
    "\"ahmet\".startswith((\"a\",\"h\"))"
   ]
  },
  {
   "cell_type": "code",
   "execution_count": 9,
   "metadata": {},
   "outputs": [
    {
     "data": {
      "text/plain": [
       "False"
      ]
     },
     "execution_count": 9,
     "metadata": {},
     "output_type": "execute_result"
    }
   ],
   "source": [
    "\"ahmet\".startswith((\"a\",\"h\"),2,3)"
   ]
  },
  {
   "cell_type": "code",
   "execution_count": 11,
   "metadata": {},
   "outputs": [
    {
     "data": {
      "text/plain": [
       "True"
      ]
     },
     "execution_count": 11,
     "metadata": {},
     "output_type": "execute_result"
    }
   ],
   "source": [
    "\"ahmetahmetahmetahmetahmetahmetahmetahmetahmetahmet\".startswith((\"a\",\"h\",\"m\"),21)"
   ]
  },
  {
   "cell_type": "code",
   "execution_count": 12,
   "metadata": {},
   "outputs": [
    {
     "data": {
      "text/plain": [
       "True"
      ]
     },
     "execution_count": 12,
     "metadata": {},
     "output_type": "execute_result"
    }
   ],
   "source": [
    "\"ayçiçeği\".endswith((\"ğ\",\"i\"))"
   ]
  },
  {
   "cell_type": "code",
   "execution_count": 14,
   "metadata": {},
   "outputs": [
    {
     "data": {
      "text/plain": [
       "True"
      ]
     },
     "execution_count": 14,
     "metadata": {},
     "output_type": "execute_result"
    }
   ],
   "source": [
    "\"ayçiçeği\".endswith((\"ğ\",\"i\"),0,4)"
   ]
  },
  {
   "cell_type": "code",
   "execution_count": 15,
   "metadata": {},
   "outputs": [
    {
     "data": {
      "text/plain": [
       "'ahmet'"
      ]
     },
     "execution_count": 15,
     "metadata": {},
     "output_type": "execute_result"
    }
   ],
   "source": [
    "str = \"a-h-me-t\"\n",
    "str.replace(\"-\", \"\")"
   ]
  },
  {
   "cell_type": "code",
   "execution_count": 16,
   "metadata": {},
   "outputs": [
    {
     "data": {
      "text/plain": [
       "'ahme-t'"
      ]
     },
     "execution_count": 16,
     "metadata": {},
     "output_type": "execute_result"
    }
   ],
   "source": [
    "str = \"a-h-me-t\"\n",
    "str.replace(\"-\", \"\",2)"
   ]
  },
  {
   "cell_type": "code",
   "execution_count": 17,
   "metadata": {},
   "outputs": [
    {
     "data": {
      "text/plain": [
       "'a*h*me*t'"
      ]
     },
     "execution_count": 17,
     "metadata": {},
     "output_type": "execute_result"
    }
   ],
   "source": [
    "str = \"a-h-me-t\"\n",
    "str.replace(\"-\", \"*\")"
   ]
  },
  {
   "cell_type": "code",
   "execution_count": 19,
   "metadata": {},
   "outputs": [
    {
     "name": "stdout",
     "output_type": "stream",
     "text": [
      "I LIVE AND WORK IN VIRGINIA\n",
      "i live and work in virginia\n",
      "i LIVE AND WORK IN vIRGINIA\n",
      "I l+ve and work +n V+rg+n+a\n"
     ]
    }
   ],
   "source": [
    "sentence = \"I live and work in Virginia\"\n",
    "print(sentence.upper())  \n",
    "print(sentence.lower())\n",
    "print(sentence.swapcase())\n",
    "print(sentence.replace(\"i\",\"+\"))"
   ]
  },
  {
   "cell_type": "code",
   "execution_count": 21,
   "metadata": {},
   "outputs": [
    {
     "name": "stdout",
     "output_type": "stream",
     "text": [
      "Sodome and Gomore\n"
     ]
    }
   ],
   "source": [
    "text = 'S0d0me and G0m0re'\n",
    "text = text.replace(\"0\",\"o\")\n",
    "print(text)"
   ]
  },
  {
   "cell_type": "code",
   "execution_count": 22,
   "metadata": {},
   "outputs": [
    {
     "name": "stdout",
     "output_type": "stream",
     "text": [
      "interoperabili\n"
     ]
    }
   ],
   "source": [
    "source_string = \"interoperability\"\n",
    "print(source_string.strip(\"yt\"))"
   ]
  },
  {
   "cell_type": "code",
   "execution_count": 23,
   "metadata": {},
   "outputs": [
    {
     "name": "stdout",
     "output_type": "stream",
     "text": [
      "nteroperabilit\n"
     ]
    }
   ],
   "source": [
    "source_string = \"interoperability\"\n",
    "print(source_string.strip(\"yi\"))"
   ]
  },
  {
   "cell_type": "code",
   "execution_count": 27,
   "metadata": {},
   "outputs": [
    {
     "name": "stdout",
     "output_type": "stream",
     "text": [
      "asanem\n"
     ]
    }
   ],
   "source": [
    "text = \"hasanemel\"\n",
    "text = text.strip(\"elh\")\n",
    "print(text)"
   ]
  },
  {
   "cell_type": "code",
   "execution_count": 29,
   "metadata": {},
   "outputs": [
    {
     "name": "stdout",
     "output_type": "stream",
     "text": [
      "asanem\n"
     ]
    }
   ],
   "source": [
    "text = \"hasanemel\"\n",
    "text = text.strip(\"elh\")\n",
    "print(text)"
   ]
  },
  {
   "cell_type": "code",
   "execution_count": 30,
   "metadata": {},
   "outputs": [
    {
     "name": "stdout",
     "output_type": "stream",
     "text": [
      "Hello! I am a new programmer and I love Clarusway \n"
     ]
    }
   ],
   "source": [
    "# Hello! I am a new programmer and I love Clarusway.\n",
    "\n",
    "text = \"{}! I am a {} programmer and I {} Clarusway. \".format(\"Hello\", \"new\", \"love\")\n",
    "print(text)"
   ]
  },
  {
   "cell_type": "code",
   "execution_count": 39,
   "metadata": {},
   "outputs": [
    {
     "ename": "TypeError",
     "evalue": "strip arg must be None or str",
     "output_type": "error",
     "traceback": [
      "\u001b[0;31m---------------------------------------------------------------------------\u001b[0m",
      "\u001b[0;31mTypeError\u001b[0m                                 Traceback (most recent call last)",
      "\u001b[0;32m<ipython-input-39-5dbbee652056>\u001b[0m in \u001b[0;36m<module>\u001b[0;34m\u001b[0m\n\u001b[1;32m      1\u001b[0m \u001b[0mword\u001b[0m \u001b[0;34m=\u001b[0m \u001b[0;34m'clarusway'\u001b[0m\u001b[0;34m\u001b[0m\u001b[0;34m\u001b[0m\u001b[0m\n\u001b[1;32m      2\u001b[0m \u001b[0mn\u001b[0m \u001b[0;34m=\u001b[0m \u001b[0;36m3\u001b[0m\u001b[0;34m\u001b[0m\u001b[0;34m\u001b[0m\u001b[0m\n\u001b[0;32m----> 3\u001b[0;31m \u001b[0mfront\u001b[0m \u001b[0;34m=\u001b[0m \u001b[0mword\u001b[0m\u001b[0;34m.\u001b[0m\u001b[0mstrip\u001b[0m\u001b[0;34m(\u001b[0m\u001b[0mn\u001b[0m\u001b[0;34m)\u001b[0m\u001b[0;34m\u001b[0m\u001b[0;34m\u001b[0m\u001b[0m\n\u001b[0m\u001b[1;32m      4\u001b[0m \u001b[0;31m#back = word.lstrip(\"clar\")\u001b[0m\u001b[0;34m\u001b[0m\u001b[0;34m\u001b[0m\u001b[0;34m\u001b[0m\u001b[0m\n\u001b[1;32m      5\u001b[0m \u001b[0mprint\u001b[0m\u001b[0;34m(\u001b[0m\u001b[0mfront\u001b[0m \u001b[0;34m)\u001b[0m\u001b[0;34m\u001b[0m\u001b[0;34m\u001b[0m\u001b[0m\n",
      "\u001b[0;31mTypeError\u001b[0m: strip arg must be None or str"
     ]
    }
   ],
   "source": [
    "word = 'clarusway'\n",
    "n = 3\n",
    "front = word.strip(n)\n",
    "#back = word.lstrip(\"clar\")\n",
    "print(front )"
   ]
  },
  {
   "cell_type": "code",
   "execution_count": 1,
   "metadata": {},
   "outputs": [
    {
     "name": "stdout",
     "output_type": "stream",
     "text": [
      "nteroperabilit\n"
     ]
    }
   ],
   "source": [
    "source_string = \"interoperability\"\n",
    "print(source_string.strip(\"yi\"))  # removes trailing \"y\" or \"i\" or \"yi\" or \"iy\" from both "
   ]
  },
  {
   "cell_type": "code",
   "execution_count": 2,
   "metadata": {},
   "outputs": [
    {
     "name": "stdout",
     "output_type": "stream",
     "text": [
      "teroperability\n"
     ]
    }
   ],
   "source": [
    "source_string = \"interoperability\"\n",
    "print(source_string.lstrip(\"ni\"))  \n",
    "# removes \"i\" or \"n\" or \"in\" or \"ni\" from the left side"
   ]
  },
  {
   "cell_type": "code",
   "execution_count": 4,
   "metadata": {},
   "outputs": [
    {
     "name": "stdout",
     "output_type": "stream",
     "text": [
      "asan hüseyin\n"
     ]
    }
   ],
   "source": [
    "source_string = \"hasan hüseyin\"\n",
    "print(source_string.lstrip(\"sh\"))"
   ]
  },
  {
   "cell_type": "code",
   "execution_count": 8,
   "metadata": {},
   "outputs": [
    {
     "name": "stdout",
     "output_type": "stream",
     "text": [
      "interoperabili\n"
     ]
    }
   ],
   "source": [
    "source_string = \"interoperabilitytytyty\"\n",
    "print(source_string.rstrip(\"yt\"))  \n",
    "# removes \"i\" or \"n\" or \"in\" or \"ni\" from the right side tüm ty leri siler"
   ]
  },
  {
   "cell_type": "code",
   "execution_count": 9,
   "metadata": {},
   "outputs": [
    {
     "name": "stdout",
     "output_type": "stream",
     "text": [
      "YOU CAN LEARN ALMOST EVERYTHING IN PRE-CLASS\n"
     ]
    }
   ],
   "source": [
    "text = 'tyou can learn almost everything in pre-classz'\n",
    "a =text.rstrip('z').lstrip('t').upper()\n",
    "print(a)"
   ]
  },
  {
   "cell_type": "code",
   "execution_count": 10,
   "metadata": {},
   "outputs": [
    {
     "name": "stdout",
     "output_type": "stream",
     "text": [
      "In God we Trust\n"
     ]
    }
   ],
   "source": [
    "text = 'In God wee Trust'\n",
    "print(text.replace('ee','e'))"
   ]
  },
  {
   "cell_type": "code",
   "execution_count": 11,
   "metadata": {},
   "outputs": [
    {
     "name": "stdout",
     "output_type": "stream",
     "text": [
      "In God we Trust\n"
     ]
    }
   ],
   "source": [
    "text = 'In God wee Trust'\n",
    "text1 = text[:9]\n",
    "text2 = text[10:]\n",
    "print(text1 + text2)"
   ]
  },
  {
   "cell_type": "code",
   "execution_count": 12,
   "metadata": {},
   "outputs": [
    {
     "name": "stdout",
     "output_type": "stream",
     "text": [
      "erzurum\n",
      "erzurumerzurum\n"
     ]
    }
   ],
   "source": [
    "print(\"erzurum\")\n",
    "print(\"erzurum\" * 2, sep = \" \")"
   ]
  },
  {
   "cell_type": "code",
   "execution_count": 16,
   "metadata": {},
   "outputs": [
    {
     "name": "stdout",
     "output_type": "stream",
     "text": [
      "e-r-z-u-r-u-m\n"
     ]
    }
   ],
   "source": [
    "print(* \"erzurum\", sep = \"-\")"
   ]
  },
  {
   "cell_type": "code",
   "execution_count": 20,
   "metadata": {},
   "outputs": [
    {
     "name": "stdout",
     "output_type": "stream",
     "text": [
      "erzurum\n",
      "e -r -z -u -r -u -m -e -r -z -u -r -u -m\n"
     ]
    }
   ],
   "source": [
    "print(\"erzurum\")\n",
    "print(* \"erzurum\" * 2, sep = \" -\")"
   ]
  },
  {
   "cell_type": "code",
   "execution_count": 22,
   "metadata": {},
   "outputs": [],
   "source": [
    "sehir = \"erzurum\""
   ]
  },
  {
   "cell_type": "code",
   "execution_count": 23,
   "metadata": {},
   "outputs": [
    {
     "name": "stdout",
     "output_type": "stream",
     "text": [
      "erzurum istanbul\n"
     ]
    }
   ],
   "source": [
    "sehir += \" istanbul\"\n",
    "print(sehir)"
   ]
  },
  {
   "cell_type": "code",
   "execution_count": 24,
   "metadata": {},
   "outputs": [
    {
     "name": "stdout",
     "output_type": "stream",
     "text": [
      "erzurum istanbul sinop\n"
     ]
    }
   ],
   "source": [
    "sehir += \" sinop\"\n",
    "print(sehir)"
   ]
  },
  {
   "cell_type": "code",
   "execution_count": 26,
   "metadata": {},
   "outputs": [
    {
     "name": "stdout",
     "output_type": "stream",
     "text": [
      "enter a number :5\n",
      "<class 'str'>\n"
     ]
    }
   ],
   "source": [
    "print(type(input(\"enter a number :\")))"
   ]
  },
  {
   "cell_type": "raw",
   "metadata": {},
   "source": [
    "#Malzemeler\n",
    "#Kadayıf\n",
    "#iç(ceviziçi, Fındıkiçi, fıstıkiçi)\n",
    "#şerbet\n",
    "#yumurta\n"
   ]
  },
  {
   "cell_type": "code",
   "execution_count": 34,
   "metadata": {},
   "outputs": [],
   "source": [
    "kadayif = True\n",
    "#ic\n",
    "ceviz = True\n",
    "findik =False\n",
    "fistik=False\n",
    "#serbet\n",
    "su =True\n",
    "seker =True\n",
    "\n",
    "yumurta =True\n",
    "\n",
    "#icecek\n",
    "cay = True\n",
    "kola = True\n",
    "limonata = False"
   ]
  },
  {
   "cell_type": "code",
   "execution_count": 35,
   "metadata": {},
   "outputs": [
    {
     "name": "stdout",
     "output_type": "stream",
     "text": [
      "True\n"
     ]
    }
   ],
   "source": [
    "kdyf_dolma = kadayif and yumurta and (ceviz or findik or fistik) \\\n",
    "and (su and seker) or (cay or kola or limonata)\n",
    "print(kdyf_dolma)"
   ]
  },
  {
   "cell_type": "code",
   "execution_count": 38,
   "metadata": {},
   "outputs": [
    {
     "name": "stdout",
     "output_type": "stream",
     "text": [
      "3 + 4'nin toplamı 7'dır.\n"
     ]
    }
   ],
   "source": [
    "a = 3\n",
    "b = 4\n",
    "\n",
    "print(\"{} + {}'nin toplamı {}'dır.\".format(a,b,a+b))"
   ]
  },
  {
   "cell_type": "code",
   "execution_count": 39,
   "metadata": {},
   "outputs": [
    {
     "name": "stdout",
     "output_type": "stream",
     "text": [
      "3.15, 5.37, 7.324\n"
     ]
    }
   ],
   "source": [
    "text = \"{:.2f}, {:.2f}, {:.3f}\".format(3.1463, 5.367, 7.324323)\n",
    "print(text)"
   ]
  },
  {
   "cell_type": "code",
   "execution_count": 40,
   "metadata": {},
   "outputs": [
    {
     "name": "stdout",
     "output_type": "stream",
     "text": [
      "3., 5., 7.3\n"
     ]
    }
   ],
   "source": [
    "text = \"{:.2s}, {:.2s}, {:.3s}\".format(\"3.1463\", \"5.367\", \"7.324323\") #stringin ilk iki karekterini alır.\n",
    "print(text)"
   ]
  },
  {
   "cell_type": "code",
   "execution_count": 42,
   "metadata": {},
   "outputs": [
    {
     "name": "stdout",
     "output_type": "stream",
     "text": [
      "      test\n"
     ]
    }
   ],
   "source": [
    "text1 = \"{:>10}\".format(\"test\")\n",
    "print(text1)"
   ]
  },
  {
   "cell_type": "code",
   "execution_count": 44,
   "metadata": {},
   "outputs": [
    {
     "name": "stdout",
     "output_type": "stream",
     "text": [
      "                     test test\n"
     ]
    }
   ],
   "source": [
    "text1 = \"{:>30}\".format(\"test test\")\n",
    "print(text1)"
   ]
  },
  {
   "cell_type": "code",
   "execution_count": 45,
   "metadata": {},
   "outputs": [
    {
     "name": "stdout",
     "output_type": "stream",
     "text": [
      "test test                     \n"
     ]
    }
   ],
   "source": []
  },
  {
   "cell_type": "code",
   "execution_count": 46,
   "metadata": {},
   "outputs": [
    {
     "name": "stdout",
     "output_type": "stream",
     "text": [
      "formatlama                      test test formatlama\n"
     ]
    }
   ],
   "source": [
    "text1 = \"formatlama {:>30} formatlama\".format(\"test test\")\n",
    "print(text1)"
   ]
  },
  {
   "cell_type": "code",
   "execution_count": null,
   "metadata": {},
   "outputs": [],
   "source": [
    "text1 = \"{:<30}\".format(\"test test\")\n",
    "print(text1)"
   ]
  },
  {
   "cell_type": "code",
   "execution_count": 47,
   "metadata": {},
   "outputs": [
    {
     "name": "stdout",
     "output_type": "stream",
     "text": [
      "formatlama test test                      formatlama\n"
     ]
    }
   ],
   "source": [
    "text1 = \"formatlama {:<30} formatlama\".format(\"test test\")\n",
    "print(text1)"
   ]
  },
  {
   "cell_type": "code",
   "execution_count": 48,
   "metadata": {},
   "outputs": [
    {
     "name": "stdout",
     "output_type": "stream",
     "text": [
      "formatlama        hasan         formatlama\n"
     ]
    }
   ],
   "source": [
    "text1 = \"formatlama {:^20} formatlama\".format(\"hasan\")\n",
    "print(text1)"
   ]
  },
  {
   "cell_type": "code",
   "execution_count": null,
   "metadata": {},
   "outputs": [],
   "source": [
    "sudo apt-get remove --purge libreoffice*\n",
    "sudo apt-get clean\n",
    "sudo apt-get autoremove"
   ]
  }
 ],
 "metadata": {
  "kernelspec": {
   "display_name": "Python 3",
   "language": "python",
   "name": "python3"
  },
  "language_info": {
   "codemirror_mode": {
    "name": "ipython",
    "version": 3
   },
   "file_extension": ".py",
   "mimetype": "text/x-python",
   "name": "python",
   "nbconvert_exporter": "python",
   "pygments_lexer": "ipython3",
   "version": "3.6.9"
  }
 },
 "nbformat": 4,
 "nbformat_minor": 4
}
