{
 "metadata": {
  "language_info": {
   "codemirror_mode": {
    "name": "ipython",
    "version": 3
   },
   "file_extension": ".py",
   "mimetype": "text/x-python",
   "name": "python",
   "nbconvert_exporter": "python",
   "pygments_lexer": "ipython3",
   "version": "3.8.2-final"
  },
  "orig_nbformat": 2,
  "kernelspec": {
   "name": "python36964bit03789e678b2849149d608e9dc1d904bf",
   "display_name": "Python 3.6.9 64-bit"
  }
 },
 "nbformat": 4,
 "nbformat_minor": 2,
 "cells": [
  {
   "cell_type": "code",
   "execution_count": 3,
   "metadata": {
    "tags": []
   },
   "outputs": [
    {
     "output_type": "stream",
     "name": "stdout",
     "text": "Don't ever give up!\n"
    }
   ],
   "source": [
    "variable = \"Don't ever give up!\"\n",
    "print(variable)\n",
    "#variable = \"Don't ever give up!\" burada yazılırsa hata döndürür"
   ]
  },
  {
   "cell_type": "code",
   "execution_count": null,
   "metadata": {},
   "outputs": [],
   "source": [
    "try:\n",
    "    code block to be normally executed\n",
    "except:\n",
    "    code block to be exceptionally executed"
   ]
  },
  {
   "cell_type": "code",
   "execution_count": 9,
   "metadata": {
    "tags": []
   },
   "outputs": [
    {
     "output_type": "stream",
     "name": "stdout",
     "text": "You can't divide by zero! Try again.\nThe result of the division is :  1.0\n"
    }
   ],
   "source": [
    "while True:\n",
    "    no_one = int(input(\"The first number please : \"))\n",
    "    no_two = int(input(\"The second number please : \"))\n",
    "    try:\n",
    "        division = no_one / no_two\n",
    "        print(\"The result of the division is : \", division)\n",
    "        break\n",
    "    except:\n",
    "        print(\"You can't divide by zero! Try again.\")"
   ]
  },
  {
   "cell_type": "code",
   "execution_count": 9,
   "metadata": {
    "tags": []
   },
   "outputs": [
    {
     "output_type": "stream",
     "name": "stdout",
     "text": "the result of division is :  0.8333333333333334\nThanks for using our mini division calculator\n"
    }
   ],
   "source": [
    "while True:\n",
    "    number_one = int(input(\"The first number please\"))\n",
    "    number_two = int(input(\"The second number pleaese\"))\n",
    "    try:\n",
    "        division = number_one/number_two\n",
    "    except:\n",
    "        print(\"you can not divide by zero\")\n",
    "    else:\n",
    "        print(\"the result of division is : \", division)\n",
    "        break\n",
    "    finally:\n",
    "        print(\"Thanks for using our mini division calculator\")\n",
    "        "
   ]
  },
  {
   "cell_type": "code",
   "execution_count": 14,
   "metadata": {
    "tags": []
   },
   "outputs": [
    {
     "output_type": "stream",
     "name": "stdout",
     "text": "Something went wrong try again\nprobably because of the 'division by zero' error\nThanks for using our mini division calculator\n"
    },
    {
     "output_type": "error",
     "ename": "ValueError",
     "evalue": "invalid literal for int() with base 10: 'ff'",
     "traceback": [
      "\u001b[0;31m---------------------------------------------------------------------------\u001b[0m",
      "\u001b[0;31mValueError\u001b[0m                                Traceback (most recent call last)",
      "\u001b[0;32m<ipython-input-14-3a47985ca67f>\u001b[0m in \u001b[0;36m<module>\u001b[0;34m\u001b[0m\n\u001b[1;32m      1\u001b[0m \u001b[0;32mwhile\u001b[0m \u001b[0;32mTrue\u001b[0m\u001b[0;34m:\u001b[0m\u001b[0;34m\u001b[0m\u001b[0;34m\u001b[0m\u001b[0m\n\u001b[1;32m      2\u001b[0m     \u001b[0mnumber_one\u001b[0m \u001b[0;34m=\u001b[0m \u001b[0mint\u001b[0m\u001b[0;34m(\u001b[0m\u001b[0minput\u001b[0m\u001b[0;34m(\u001b[0m\u001b[0;34m\"The first number please\"\u001b[0m\u001b[0;34m)\u001b[0m\u001b[0;34m)\u001b[0m\u001b[0;34m\u001b[0m\u001b[0;34m\u001b[0m\u001b[0m\n\u001b[0;32m----> 3\u001b[0;31m     \u001b[0mnumber_two\u001b[0m \u001b[0;34m=\u001b[0m \u001b[0mint\u001b[0m\u001b[0;34m(\u001b[0m\u001b[0minput\u001b[0m\u001b[0;34m(\u001b[0m\u001b[0;34m\"The second number pleaese\"\u001b[0m\u001b[0;34m)\u001b[0m\u001b[0;34m)\u001b[0m\u001b[0;34m\u001b[0m\u001b[0;34m\u001b[0m\u001b[0m\n\u001b[0m\u001b[1;32m      4\u001b[0m     \u001b[0;32mtry\u001b[0m\u001b[0;34m:\u001b[0m\u001b[0;34m\u001b[0m\u001b[0;34m\u001b[0m\u001b[0m\n\u001b[1;32m      5\u001b[0m         \u001b[0mdivision\u001b[0m \u001b[0;34m=\u001b[0m \u001b[0mnumber_one\u001b[0m\u001b[0;34m/\u001b[0m\u001b[0mnumber_two\u001b[0m\u001b[0;34m\u001b[0m\u001b[0;34m\u001b[0m\u001b[0m\n",
      "\u001b[0;31mValueError\u001b[0m: invalid literal for int() with base 10: 'ff'"
     ]
    }
   ],
   "source": [
    "while True:\n",
    "    number_one = int(input(\"The first number please\"))\n",
    "    number_two = int(input(\"The second number pleaese\"))\n",
    "    try:\n",
    "        division = number_one/number_two\n",
    "    except Exception as e:\n",
    "        print(\"Something went wrong try again\")\n",
    "        print(\"probably because of the '{}' error\".format(e))\n",
    "    else:\n",
    "        print(\"the result of division is : \", division)\n",
    "        break\n",
    "    finally:\n",
    "        print(\"Thanks for using our mini division calculator\")"
   ]
  },
  {
   "cell_type": "code",
   "execution_count": 16,
   "metadata": {
    "tags": []
   },
   "outputs": [
    {
     "output_type": "stream",
     "name": "stdout",
     "text": "the error message is : name 'c' is not defined\n"
    }
   ],
   "source": [
    "try:\n",
    "    a = 10\n",
    "    b = 2\n",
    "    print(\"the result of the division ic :\" ,c)\n",
    "except Exception as e:\n",
    "    print(\"the error message is :\", e)"
   ]
  },
  {
   "cell_type": "code",
   "execution_count": 17,
   "metadata": {
    "tags": []
   },
   "outputs": [
    {
     "output_type": "stream",
     "name": "stdout",
     "text": "Nothing went wrong\n"
    }
   ],
   "source": [
    "try:\n",
    "    x = 4 / 1\n",
    "except:\n",
    "    print('Something went wrong')\n",
    "else:\n",
    "    print('Nothing went wrong') # hata dönmezse çalışır"
   ]
  },
  {
   "cell_type": "code",
   "execution_count": 18,
   "metadata": {
    "tags": []
   },
   "outputs": [
    {
     "output_type": "stream",
     "name": "stdout",
     "text": "something went wrong\nalways execute this\n"
    }
   ],
   "source": [
    "# The try…except block has another optional finally clause. The finally clause is always executed, whether an exception has occurred or not. Consider the following example of the finally clause :\n",
    "try:\n",
    "    x = 3/0\n",
    "except:\n",
    "    print(\"something went wrong\")\n",
    "else:\n",
    "    print(x)\n",
    "finally:\n",
    "    print(\"always execute this\")\n"
   ]
  },
  {
   "cell_type": "code",
   "execution_count": 24,
   "metadata": {
    "tags": []
   },
   "outputs": [
    {
     "output_type": "stream",
     "name": "stdout",
     "text": "something went wrong\n"
    }
   ],
   "source": [
    "try:\n",
    "    f = open(\"myfile.txt\")\n",
    "    print(f.read())\n",
    "except:\n",
    "    print(\"something went wrong\")\n",
    "finally:\n",
    "    f. close()"
   ]
  },
  {
   "cell_type": "code",
   "execution_count": 23,
   "metadata": {
    "tags": []
   },
   "outputs": [
    {
     "output_type": "stream",
     "name": "stdout",
     "text": "Something went wrong\n"
    }
   ],
   "source": [
    "try:\n",
    "    f = open('new.txt')\n",
    "    print(f.read())\n",
    "except:\n",
    "    print(\"Something went wrong\")\n",
    "finally:\n",
    "    f. close()"
   ]
  },
  {
   "cell_type": "code",
   "execution_count": 25,
   "metadata": {
    "tags": []
   },
   "outputs": [
    {
     "output_type": "stream",
     "name": "stdout",
     "text": "Attempt to divide by zero\n"
    }
   ],
   "source": [
    "try:\n",
    "    x =  2/0\n",
    "except ZeroDivisionError:\n",
    "    print(\"Attempt to divide by zero\")\n",
    "except:\n",
    "    print(\"something went wrong\")"
   ]
  },
  {
   "cell_type": "code",
   "execution_count": 28,
   "metadata": {
    "tags": []
   },
   "outputs": [
    {
     "output_type": "stream",
     "name": "stdout",
     "text": "Attempt to divide by zero\n"
    }
   ],
   "source": [
    "try:\n",
    "    x =  2/0\n",
    "except ZeroDivisionError:\n",
    "    print(\"Attempt to divide by zero\")\n",
    "except ValueError:\n",
    "    print(\"You can only enter numbers consisting of digits, not text!!\")"
   ]
  },
  {
   "cell_type": "code",
   "execution_count": 31,
   "metadata": {
    "tags": []
   },
   "outputs": [
    {
     "output_type": "stream",
     "name": "stdout",
     "text": "Attempt to divide by zero\n"
    }
   ],
   "source": [
    "try:\n",
    "    x =  2/0\n",
    "except ZeroDivisionError:\n",
    "    print(\"Attempt to divide by zero\")\n",
    "except (ValueError, TypeError):\n",
    "    print(\"You can only enter numbers consisting of digits, not text!!\")"
   ]
  },
  {
   "cell_type": "code",
   "execution_count": 32,
   "metadata": {
    "tags": []
   },
   "outputs": [
    {
     "output_type": "stream",
     "name": "stdout",
     "text": "I will also catch OverflowError, FloatingPointError and ZeroDivisionError\n"
    }
   ],
   "source": [
    "# because of the hierarchical structure, one exception can actually catch various exceptions.\n",
    "try:\n",
    "    x =  2/0\n",
    "except ArithmeticError:\n",
    "    print(\"I will also catch OverflowError, FloatingPointError and ZeroDivisionError\")"
   ]
  },
  {
   "cell_type": "code",
   "execution_count": 2,
   "metadata": {
    "tags": []
   },
   "outputs": [
    {
     "output_type": "stream",
     "name": "stdout",
     "text": "1\n"
    }
   ],
   "source": [
    "a = int(1)\n",
    "print(a)"
   ]
  },
  {
   "cell_type": "code",
   "execution_count": 5,
   "metadata": {},
   "outputs": [
    {
     "output_type": "error",
     "ename": "ValueError",
     "evalue": "factorial() not defined for negative values",
     "traceback": [
      "\u001b[0;31m---------------------------------------------------------------------------\u001b[0m",
      "\u001b[0;31mValueError\u001b[0m                                Traceback (most recent call last)",
      "\u001b[0;32m<ipython-input-5-d193f41d2f01>\u001b[0m in \u001b[0;36m<module>\u001b[0;34m\u001b[0m\n\u001b[1;32m      1\u001b[0m \u001b[0;32mimport\u001b[0m \u001b[0mmath\u001b[0m\u001b[0;34m\u001b[0m\u001b[0;34m\u001b[0m\u001b[0m\n\u001b[1;32m      2\u001b[0m \u001b[0;31m#math.sqrt(-5)\u001b[0m\u001b[0;34m\u001b[0m\u001b[0;34m\u001b[0m\u001b[0;34m\u001b[0m\u001b[0m\n\u001b[0;32m----> 3\u001b[0;31m \u001b[0mmath\u001b[0m\u001b[0;34m.\u001b[0m\u001b[0mfactorial\u001b[0m\u001b[0;34m(\u001b[0m\u001b[0;34m-\u001b[0m\u001b[0;36m5\u001b[0m\u001b[0;34m)\u001b[0m\u001b[0;34m\u001b[0m\u001b[0;34m\u001b[0m\u001b[0m\n\u001b[0m",
      "\u001b[0;31mValueError\u001b[0m: factorial() not defined for negative values"
     ]
    }
   ],
   "source": [
    "import math\n",
    "#math.sqrt(-5)\n",
    "math.factorial(-5)"
   ]
  },
  {
   "cell_type": "code",
   "execution_count": 6,
   "metadata": {},
   "outputs": [
    {
     "output_type": "error",
     "ename": "NameError",
     "evalue": "name 'Value' is not defined",
     "traceback": [
      "\u001b[0;31m---------------------------------------------------------------------------\u001b[0m",
      "\u001b[0;31mNameError\u001b[0m                                 Traceback (most recent call last)",
      "\u001b[0;32m<ipython-input-6-7669de720dd1>\u001b[0m in \u001b[0;36m<module>\u001b[0;34m\u001b[0m\n\u001b[1;32m      1\u001b[0m \u001b[0mvalue\u001b[0m \u001b[0;34m=\u001b[0m \u001b[0;34m\"Thanks \"\u001b[0m\u001b[0;34m\u001b[0m\u001b[0;34m\u001b[0m\u001b[0m\n\u001b[0;32m----> 2\u001b[0;31m \u001b[0mprint\u001b[0m\u001b[0;34m(\u001b[0m\u001b[0mValue\u001b[0m\u001b[0;34m)\u001b[0m\u001b[0;34m\u001b[0m\u001b[0;34m\u001b[0m\u001b[0m\n\u001b[0m",
      "\u001b[0;31mNameError\u001b[0m: name 'Value' is not defined"
     ]
    }
   ],
   "source": [
    "value = \"Thanks \"\n",
    "print(Value)"
   ]
  },
  {
   "cell_type": "code",
   "execution_count": 8,
   "metadata": {
    "tags": []
   },
   "outputs": [
    {
     "output_type": "stream",
     "name": "stdout",
     "text": "[1, 2, 3, 4, 5]\n"
    }
   ],
   "source": [
    "list = [1,2,3,4,5,6]\n",
    "print(list[\":4\"])"
   ]
  },
  {
   "cell_type": "code",
   "execution_count": 20,
   "metadata": {
    "tags": []
   },
   "outputs": [
    {
     "output_type": "stream",
     "name": "stdout",
     "text": "you input wrong YOur error explation is :  invalid literal for int() with base 10: 'y'\nThe result of the division is :  1.0\n"
    }
   ],
   "source": [
    "while True:\n",
    "    try:\n",
    "        no_one = int(input(\"The first number please : \"))\n",
    "        no_two = int(input(\"The second number please : \"))\n",
    "        division = no_one / no_two\n",
    "        print(\"The result of the division is : \", division)\n",
    "        break\n",
    "    except (ValueError, TypeError,ArithmeticError) as e:\n",
    "        print(\"you input wrong YOur error explation is : \", e)\n",
    "        "
   ]
  },
  {
   "cell_type": "code",
   "execution_count": 3,
   "metadata": {
    "tags": []
   },
   "outputs": [
    {
     "output_type": "stream",
     "name": "stdout",
     "text": "birşeyler ters gitti\n"
    }
   ],
   "source": [
    "try:\n",
    "    print(\"x\" + 4)\n",
    "except:\n",
    "    print(\"birşeyler ters gitti\")"
   ]
  },
  {
   "cell_type": "code",
   "execution_count": null,
   "metadata": {},
   "outputs": [],
   "source": [
    "try:\n",
    "    print(\"x\" + 4)\n",
    "except Exception as e:\n",
    "    print(\"birşeyler ters gitti\", e)"
   ]
  },
  {
   "cell_type": "code",
   "execution_count": 8,
   "metadata": {
    "tags": []
   },
   "outputs": [
    {
     "output_type": "stream",
     "name": "stdout",
     "text": "There is not such a file or the path is incorrect [Errno 2] No such file or directory: 'my_file.text'\n"
    }
   ],
   "source": [
    "try:\n",
    "    with open(\"my_file.text\",\"r\") as file:\n",
    "        print(file.read())\n",
    "except FileNotFoundError as e:\n",
    "    print(\"There is not such a file or the path is incorrect\", e)\n",
    "\n"
   ]
  },
  {
   "cell_type": "code",
   "execution_count": 25,
   "metadata": {
    "tags": []
   },
   "outputs": [
    {
     "output_type": "stream",
     "name": "stdout",
     "text": "There is not such a file or the path is incorrect, hatalı dosya okuma kaydedildi\n"
    }
   ],
   "source": [
    "#counter = 0\n",
    "try:\n",
    "    with open(\"my_file.text\",\"r\") as file:\n",
    "        print(file.read())\n",
    "except FileNotFoundError:\n",
    "    counter +=1\n",
    "    with open(\"hata.txt\", \"a\", encoding =\"utf - 8\") as f :\n",
    "        f.write(\"hatalı giriş sayısı : \" + str(counter) + \"\\n\")\n",
    "    print(\"There is not such a file or the path is incorrect, hatalı dosya okuma kaydedildi\")"
   ]
  },
  {
   "cell_type": "code",
   "execution_count": 28,
   "metadata": {
    "tags": []
   },
   "outputs": [
    {
     "output_type": "stream",
     "name": "stdout",
     "text": "Değeri yanlış\nnihayet ben çalıştım\n"
    }
   ],
   "source": [
    "try:\n",
    "    print(\"x\" + 4)\n",
    "except TypeError:\n",
    "    print(\"Değeri yanlış\")\n",
    "else:\n",
    "    print(\"demekki ki exception yükselmemiş\")\n",
    "finally:\n",
    "    print(\"nihayet ben çalıştım\")"
   ]
  },
  {
   "cell_type": "code",
   "execution_count": 29,
   "metadata": {
    "tags": []
   },
   "outputs": [
    {
     "output_type": "stream",
     "name": "stdout",
     "text": "x4\ndemekki ki exception yükselmemiş\nnihayet ben çalıştım\n"
    }
   ],
   "source": [
    "try:\n",
    "    print(\"x\" + \"4\")\n",
    "except TypeError:\n",
    "    print(\"Değeri yanlış\")\n",
    "else:\n",
    "    print(\"demekki ki exception yükselmemiş\")\n",
    "finally:\n",
    "    print(\"nihayet ben çalıştım\")"
   ]
  },
  {
   "cell_type": "code",
   "execution_count": 33,
   "metadata": {
    "tags": []
   },
   "outputs": [
    {
     "output_type": "stream",
     "name": "stdout",
     "text": "you can not enter other than numeric\nThanks for using our mini division calculator\n"
    }
   ],
   "source": [
    "while True:\n",
    "    \n",
    "    try :\n",
    "        number_one = int(input(\"The first number please\"))\n",
    "        number_two = int(input(\"The second number pleaese\"))\n",
    "        division = number_one/number_two\n",
    "    except ZeroDivisionError:\n",
    "        print(\"you can not divide by zero\")\n",
    "    except ValueError:\n",
    "        print(\"you can not enter other than numeric\")\n",
    "    else:\n",
    "        print(\"the result of division is : \", division)\n",
    "    finally:\n",
    "        print(\"Thanks for using our mini division calculator\")\n",
    "        break"
   ]
  },
  {
   "cell_type": "code",
   "execution_count": 2,
   "metadata": {
    "tags": []
   },
   "outputs": [
    {
     "output_type": "stream",
     "name": "stdout",
     "text": "the result of division is :  1.0\n"
    }
   ],
   "source": [
    "while True:\n",
    "    \n",
    "    try :\n",
    "        number_one = int(input(\"The first number please\"))\n",
    "        number_two = int(input(\"The second number pleaese\"))\n",
    "        division = number_one/number_two\n",
    "        print(\"the result of division is : \", division)\n",
    "        break\n",
    "    except Exception as e:\n",
    "        print(\"Something went wrong.. Try Again\")\n",
    "        print(\"ıt is probably of the {} errror\".format(e))\n",
    "        break  \n",
    "        "
   ]
  },
  {
   "cell_type": "code",
   "execution_count": 11,
   "metadata": {},
   "outputs": [],
   "source": [
    "\n",
    "try:\n",
    "    isim = input(\"isminiz  : \")\n",
    "    a\n",
    "except Exception as e:\n",
    "    with open(\"hata.txt\", \"a\", encoding = \"utf -8\") as file:\n",
    "        #file.write(isim + \",\" + str(e) + \"\\n\")\n",
    "        file.write(isim + \",{}\".format(e) + \"\\n\")"
   ]
  },
  {
   "cell_type": "code",
   "execution_count": 12,
   "metadata": {},
   "outputs": [],
   "source": [
    "try:\n",
    "    isim = input(\"isminiz  : \")\n",
    "    4/0\n",
    "except Exception as e:\n",
    "    with open(\"hata.txt\", \"a\", encoding = \"utf -8\") as file:\n",
    "        #file.write(isim + \",\" + str(e) + \"\\n\")\n",
    "        file.write(isim + \",{}\".format(e) + \"\\n\")"
   ]
  },
  {
   "cell_type": "code",
   "execution_count": 14,
   "metadata": {},
   "outputs": [],
   "source": [
    "try:\n",
    "    isim = input(\"isminiz  : \")\n",
    "    int(\"beş\")\n",
    "except Exception as e:\n",
    "    with open(\"hata.txt\", \"a\", encoding = \"utf -8\") as file:\n",
    "        #file.write(isim + \",\" + str(e) + \"\\n\")\n",
    "        file.write(isim + \",{}\".format(e) + \"\\n\")"
   ]
  },
  {
   "cell_type": "code",
   "execution_count": 2,
   "metadata": {
    "tags": []
   },
   "outputs": [
    {
     "output_type": "stream",
     "name": "stdout",
     "text": "hasan                        name 'a' is not defined\n0   kemal                        name 'a' is not defined\n1     fff                        name 'a' is not defined\n2     NaN                        name 'a' is not defined\n3     NaN                        name 'a' is not defined\n4     ley                        name 'a' is not defined\n5   naber                        name 'a' is not defined\n6   dfdsf                               division by zero\n7  ghjhgj  invalid literal for int() with base 10: 'beş'\n8   ghjgh  invalid literal for int() with base 10: 'beş'\n"
    }
   ],
   "source": [
    "import pandas as pd \n",
    "#df = pd.read_csv(\"hata.txt\")\n",
    "df = pd.read_csv(\"hata.txt\")\n",
    "print(df)"
   ]
  },
  {
   "cell_type": "code",
   "execution_count": 33,
   "metadata": {
    "tags": []
   },
   "outputs": [
    {
     "output_type": "stream",
     "name": "stdout",
     "text": "there is no such a value\nThere is no such an index Try Again\nthere is no such a value\nthere is no such a value\nthere is no such a value\nMy favorite fruit is grape \n"
    }
   ],
   "source": [
    "while True:\n",
    "    \n",
    "    try:\n",
    "        fruits = [\"banana\", \"mango\", \"pear\", \"apple\", \"kiwi\", \"grape\"]\n",
    "        select = int(input(\"enter the index number your fruit\"))\n",
    "        print(f\"My favorite fruit is {fruits[select]} \")\n",
    "        break\n",
    "    except IndexError:\n",
    "        print(\"There is no such an index Try Again\")\n",
    "    except ValueError:\n",
    "        print(\"there is no such a value\")\n",
    "\n"
   ]
  },
  {
   "cell_type": "code",
   "execution_count": 41,
   "metadata": {
    "tags": []
   },
   "outputs": [
    {
     "output_type": "stream",
     "name": "stdout",
     "text": "My favorite fruit is grape \nCongrats! You have entered a valid input\nOur fruits are always fresh!\n"
    }
   ],
   "source": [
    "count = 0\n",
    "while count < 3:\n",
    "    try:\n",
    "        \n",
    "        fruits = [\"banana\", \"mango\", \"pear\", \"apple\", \"kiwi\", \"grape\"]\n",
    "        select = int(input(\"enter the index number your fruit\"))\n",
    "        print(f\"My favorite fruit is {fruits[select]} \")\n",
    "        \n",
    "    except IndexError:\n",
    "        print(\"There is no such an index Try Again\")\n",
    "        count +=1\n",
    "        print(f\"you have {3-count} right left\")\n",
    "        print(\"There is no such an index Try Again\")\n",
    "    except ValueError:\n",
    "        print(\"there is no such a value\")\n",
    "        count +=1\n",
    "        print(f\"you have {3-count} right left\")\n",
    "    else:\n",
    "        print(\"Congrats! You have entered a valid input\")\n",
    "        break\n",
    "    finally:\n",
    "        print(\"Our fruits are always fresh!\")\n"
   ]
  },
  {
   "cell_type": "code",
   "execution_count": 49,
   "metadata": {},
   "outputs": [
    {
     "output_type": "execute_result",
     "data": {
      "text/plain": "[('b', 2), ('c', 3), ('e', 4), ('f', 1)]"
     },
     "metadata": {},
     "execution_count": 49
    }
   ],
   "source": [
    "xx = {\"e\" : 4, \"b\" : 2, \"c\" : 3, \"f\" : 1}\n",
    "sorted(xx.items())[0]\n",
    "#sorted(xx.items())"
   ]
  },
  {
   "cell_type": "code",
   "execution_count": 48,
   "metadata": {},
   "outputs": [
    {
     "output_type": "execute_result",
     "data": {
      "text/plain": "[('f', 1), ('b', 2), ('c', 3), ('e', 4)]"
     },
     "metadata": {},
     "execution_count": 48
    }
   ],
   "source": [
    "xx = {\"e\" : 4, \"b\" : 2, \"c\" : 3, \"f\" : 1}\n",
    "sorted(xx.items())\n",
    "sorted(xx.items(), key = lambda x : x[1])  # key fonksiyon yada metod alır"
   ]
  },
  {
   "cell_type": "code",
   "execution_count": 53,
   "metadata": {
    "tags": []
   },
   "outputs": [
    {
     "output_type": "stream",
     "name": "stdout",
     "text": "[1, 4, 9, 16, 25]\n"
    }
   ],
   "source": [
    "my_list = [1, 2,3,4,5]\n",
    "a = (x**2 for x in my_list)\n",
    "print(list(a))"
   ]
  },
  {
   "cell_type": "code",
   "execution_count": 51,
   "metadata": {},
   "outputs": [
    {
     "output_type": "execute_result",
     "data": {
      "text/plain": "[1, 4, 9, 16, 25]"
     },
     "metadata": {},
     "execution_count": 51
    }
   ],
   "source": [
    "my_list = [1, 2,3,4,5]\n",
    "[x**2 for x in my_list]"
   ]
  },
  {
   "cell_type": "code",
   "execution_count": 54,
   "metadata": {
    "tags": []
   },
   "outputs": [
    {
     "output_type": "stream",
     "name": "stdout",
     "text": "1\n4\n9\n16\n25\n"
    }
   ],
   "source": [
    "my_list = [1, 2,3,4,5]\n",
    "a = (x**2 for x in my_list)\n",
    "for i in a:\n",
    "    print(i)"
   ]
  },
  {
   "cell_type": "code",
   "execution_count": 55,
   "metadata": {},
   "outputs": [
    {
     "output_type": "execute_result",
     "data": {
      "text/plain": "55"
     },
     "metadata": {},
     "execution_count": 55
    }
   ],
   "source": [
    "my_list = [1, 2,3,4,5]\n",
    "sum(x**2 for x in my_list)"
   ]
  },
  {
   "cell_type": "code",
   "execution_count": 56,
   "metadata": {},
   "outputs": [
    {
     "output_type": "execute_result",
     "data": {
      "text/plain": "25"
     },
     "metadata": {},
     "execution_count": 56
    }
   ],
   "source": [
    "max(x**2 for x in my_list)"
   ]
  },
  {
   "cell_type": "code",
   "execution_count": 59,
   "metadata": {
    "tags": []
   },
   "outputs": [
    {
     "output_type": "stream",
     "name": "stdout",
     "text": "[1, 2, 3, 'a']\n[1, 2, 3, 'a']\n"
    }
   ],
   "source": [
    "eski = [1,2,3]\n",
    "yeni = eski\n",
    "yeni.append(\"a\")\n",
    "print(yeni)\n",
    "print(eski)"
   ]
  },
  {
   "cell_type": "code",
   "execution_count": 62,
   "metadata": {
    "tags": []
   },
   "outputs": [
    {
     "output_type": "stream",
     "name": "stdout",
     "text": "['kedi', 0, 5, 6, 7]\n['kedi', 0, 5, 6, 7, 'tavşan']\n"
    }
   ],
   "source": [
    "eskim = [\"kedi\", 0,5,6,7]\n",
    "yenim = eskim.copy()\n",
    "yenim.append(\"tavşan\")\n",
    "print(eskim)\n",
    "print(yenim)"
   ]
  },
  {
   "cell_type": "code",
   "execution_count": 65,
   "metadata": {
    "tags": []
   },
   "outputs": [
    {
     "output_type": "stream",
     "name": "stdout",
     "text": "['kedi', 0, 5, 6, 7, 'dana']\n"
    }
   ],
   "source": [
    "yenim = eskim[:] # copy() metodu iile aynı işlemi görüyor\n",
    "yenim.append(\"dana\")\n",
    "print(yenim)"
   ]
  },
  {
   "cell_type": "code",
   "execution_count": 5,
   "metadata": {},
   "outputs": [],
   "source": [
    "diller = [\"fransızca\", \"ingilizce\", \"flemenkce\"]\n",
    "diller2 = [\"ispanyolca\", \"Arapça\"]\n",
    "diller + diller2 # ikinciyi birinciye ekler\n",
    "diller.extend(diller2)"
   ]
  },
  {
   "cell_type": "code",
   "execution_count": 11,
   "metadata": {
    "tags": []
   },
   "outputs": [
    {
     "output_type": "stream",
     "name": "stdout",
     "text": "['fransızca', 'ingilizce', 'ispanyolca', 'Arapça', 'rusca', 'almanca', 'rusca', 'almanca']\n"
    }
   ],
   "source": [
    "dil_tuple = (\"rusca\", \"almanca\")\n",
    "dil_kume =  {\"japonca\", \"çince\"}\n",
    "diller.extend(dil_tuple)\n",
    "print(diller)"
   ]
  },
  {
   "cell_type": "code",
   "execution_count": 8,
   "metadata": {},
   "outputs": [
    {
     "output_type": "error",
     "ename": "NameError",
     "evalue": "name 'dil_tuple' is not defined",
     "traceback": [
      "\u001b[0;31m---------------------------------------------------------------------------\u001b[0m",
      "\u001b[0;31mNameError\u001b[0m                                 Traceback (most recent call last)",
      "\u001b[0;32m<ipython-input-8-c529ed4076c1>\u001b[0m in \u001b[0;36m<module>\u001b[0;34m\u001b[0m\n\u001b[0;32m----> 1\u001b[0;31m \u001b[0mdiller\u001b[0m\u001b[0;34m.\u001b[0m\u001b[0mextend\u001b[0m\u001b[0;34m(\u001b[0m\u001b[0mdil_tuple\u001b[0m\u001b[0;34m)\u001b[0m\u001b[0;34m\u001b[0m\u001b[0;34m\u001b[0m\u001b[0m\n\u001b[0m",
      "\u001b[0;31mNameError\u001b[0m: name 'dil_tuple' is not defined"
     ]
    }
   ],
   "source": []
  },
  {
   "cell_type": "code",
   "execution_count": 68,
   "metadata": {
    "tags": []
   },
   "outputs": [
    {
     "output_type": "stream",
     "name": "stdout",
     "text": "fransız\n['python', 'java', 'c++', 'c']\n"
    }
   ],
   "source": [
    "diller = [\"python\", \"java\",\"c++\",\"fransız\",\"c\"]\n",
    "yenideger = diller.pop(3)\n",
    "print(yenideger)\n",
    "print(diller)"
   ]
  },
  {
   "cell_type": "code",
   "execution_count": 69,
   "metadata": {
    "tags": []
   },
   "outputs": [
    {
     "output_type": "stream",
     "name": "stdout",
     "text": "['python', 'java', 'c++']\n"
    }
   ],
   "source": [
    "diller.pop() # ensondaki gider\n",
    "print(diller)"
   ]
  },
  {
   "cell_type": "code",
   "execution_count": 7,
   "metadata": {},
   "outputs": [
    {
     "output_type": "execute_result",
     "data": {
      "text/plain": "'flemenkce'"
     },
     "metadata": {},
     "execution_count": 7
    }
   ],
   "source": [
    "diller.pop(-3)"
   ]
  },
  {
   "cell_type": "code",
   "execution_count": 13,
   "metadata": {
    "tags": []
   },
   "outputs": [
    {
     "output_type": "stream",
     "name": "stdout",
     "text": "dummy.txt\nfishes.txt\nflowers.txt\nfruits.txt\nhata.txt\nistiklal.txt\nistiklal1.txt\nnew_file.txt\nrumi.txt\n"
    }
   ],
   "source": [
    "import os, glob\n",
    "os.chdir(\"/home/pc/Desktop/python notebook/INCLASS\")\n",
    "for file in glob.glob(\"*.txt\"):\n",
    "    print(file)"
   ]
  },
  {
   "cell_type": "code",
   "execution_count": null,
   "metadata": {},
   "outputs": [],
   "source": [
    "# recursion, recursive FONKSİYON İÇİNDE FONKSİYON KULLANMA"
   ]
  },
  {
   "cell_type": "code",
   "execution_count": 71,
   "metadata": {},
   "outputs": [
    {
     "output_type": "execute_result",
     "data": {
      "text/plain": "24"
     },
     "metadata": {},
     "execution_count": 71
    }
   ],
   "source": [
    "def facto(n):\n",
    "    if n == 1:\n",
    "        return n\n",
    "    else:\n",
    "        return n * facto(n - 1)\n",
    "facto(4)"
   ]
  },
  {
   "cell_type": "code",
   "execution_count": 78,
   "metadata": {
    "tags": []
   },
   "outputs": [
    {
     "output_type": "stream",
     "name": "stdout",
     "text": "105\n"
    }
   ],
   "source": [
    "def facto(n):\n",
    "    if n == 1:\n",
    "        return n\n",
    "    else:\n",
    "        return n * facto(n - 2)\n",
    "print(facto(7))"
   ]
  },
  {
   "cell_type": "code",
   "execution_count": null,
   "metadata": {},
   "outputs": [],
   "source": []
  }
 ]
}