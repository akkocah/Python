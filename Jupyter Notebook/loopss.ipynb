{
 "cells": [
  {
   "cell_type": "code",
   "execution_count": 1,
   "metadata": {
    "tags": []
   },
   "outputs": [
    {
     "output_type": "stream",
     "name": "stdout",
     "text": "0\n1\n2\n3\n4\n5\nnow, number is bigger or equal to 6\n"
    }
   ],
   "source": [
    "##################     WHILE    ###############3\n",
    "num = 0\n",
    "while num < 6:\n",
    "    print(num)\n",
    "    num +=1\n",
    "print(\"now, number is bigger or equal to 6\")"
   ]
  },
  {
   "cell_type": "code",
   "execution_count": null,
   "metadata": {},
   "outputs": [],
   "source": [
    "my_list=[\"a\", \"b\", \"c\", \"d\", \"e\"]\n",
    "a = 0\n",
    "while a < len(my_list):\n",
    "    print(\"square {} is : \".format{a}, {a*a})\n",
    "    a+=1"
   ]
  },
  {
   "cell_type": "code",
   "execution_count": 2,
   "metadata": {
    "tags": []
   },
   "outputs": [
    {
     "output_type": "stream",
     "name": "stdout",
     "text": "Day 1 : Monday\nDay 2 : Tuesday\nDay 3 : Wednesday\nDay 4 : Thursday\nDay 5 : Friday\n"
    }
   ],
   "source": [
    "weekdays = ['Monday', 'Tuesday', 'Wednesday', 'Thursday', 'Friday']\n",
    "for day in range(len(weekdays)):\n",
    "    print('Day', day+1, ':', weekdays[day])"
   ]
  },
  {
   "cell_type": "code",
   "execution_count": 4,
   "metadata": {
    "tags": []
   },
   "outputs": [
    {
     "output_type": "stream",
     "name": "stdout",
     "text": "0\n1\n4\n9\n16\n25\n"
    }
   ],
   "source": [
    "number = int(input('Please enter a number: '))\n",
    "a = 0\n",
    "while a < number:\n",
    "    print(a*a)\n",
    "    a +=1 "
   ]
  },
  {
   "cell_type": "code",
   "execution_count": 8,
   "metadata": {
    "tags": []
   },
   "outputs": [
    {
     "output_type": "stream",
     "name": "stdout",
     "text": "The type of {'section': 5, 'topic': 2} is <class 'dict'>\nThe type of clarusway is <class 'str'>\nThe type of [1, 4] is <class 'list'>\nThe type of 2020 is <class 'int'>\nThe type of 3.14 is <class 'float'>\nThe type of (1+618j) is <class 'complex'>\nThe type of False is <class 'bool'>\nThe type of (10, 20) is <class 'tuple'>\n"
    }
   ],
   "source": [
    "sample_list = [{\"section\":5, \"topic\":2}, 'clarusway', [1, 4], 2020, 3.14, 1+618j, False, (10, 20)]\n",
    "\n",
    "for i in sample_list:\n",
    "    #print(type(i), i)\n",
    "    print(f\"The type of {i} is {type(i)}\")"
   ]
  },
  {
   "cell_type": "code",
   "execution_count": 3,
   "metadata": {
    "tags": []
   },
   "outputs": [
    {
     "output_type": "stream",
     "name": "stdout",
     "text": "1\n2\n3\n4\n5\n"
    }
   ],
   "source": [
    "for i in [1, 2, 3, 4, 5] :\n",
    "    print(i)"
   ]
  },
  {
   "cell_type": "code",
   "execution_count": 4,
   "metadata": {
    "tags": []
   },
   "outputs": [
    {
     "output_type": "stream",
     "name": "stdout",
     "text": "spring\nsummer\nautumn\nwinter\n"
    }
   ],
   "source": [
    "seasons = ['spring', 'summer', 'autumn', 'winter']\n",
    "\n",
    "for season in seasons :\n",
    "    print(season)"
   ]
  },
  {
   "cell_type": "code",
   "execution_count": 1,
   "metadata": {
    "tags": []
   },
   "outputs": [
    {
     "output_type": "stream",
     "name": "stdout",
     "text": "range(0, 5)\n0 1 2 3 4\n"
    }
   ],
   "source": [
    "print(range(5))  # it will not print the numbers in sequence\n",
    "\n",
    "print(*range(5))  # '*' separates its elements"
   ]
  },
  {
   "cell_type": "code",
   "execution_count": 2,
   "metadata": {
    "tags": []
   },
   "outputs": [
    {
     "output_type": "stream",
     "name": "stdout",
     "text": "5 7 9 11 13 15 17 19 21 23\n"
    }
   ],
   "source": [
    "print(*range(5,25,2))"
   ]
  },
  {
   "cell_type": "code",
   "execution_count": 3,
   "metadata": {
    "tags": []
   },
   "outputs": [
    {
     "output_type": "stream",
     "name": "stdout",
     "text": "s e p a r a t e\n"
    }
   ],
   "source": [
    "print(*('separate'))"
   ]
  },
  {
   "cell_type": "code",
   "execution_count": 4,
   "metadata": {
    "tags": []
   },
   "outputs": [
    {
     "output_type": "stream",
     "name": "stdout",
     "text": "10 8 6 4 2\n"
    }
   ],
   "source": [
    "print(*range(10,0,-2))"
   ]
  },
  {
   "cell_type": "code",
   "execution_count": 5,
   "metadata": {
    "tags": []
   },
   "outputs": [
    {
     "output_type": "stream",
     "name": "stdout",
     "text": "one : 1\ntwo : 2\nthree : 3\nfour : 4\nfive : 5\n"
    }
   ],
   "source": [
    "#zip() function make an iterator that aggregates elements from each of the iterables.\n",
    "text = ['one','two','three','four','five']\n",
    "numbers = [1, 2, 3, 4, 5]\n",
    "for x, y in zip(text,numbers):\n",
    "    print(x, \":\", y)"
   ]
  },
  {
   "cell_type": "code",
   "execution_count": 6,
   "metadata": {
    "tags": []
   },
   "outputs": [
    {
     "output_type": "stream",
     "name": "stdout",
     "text": "I am happy\nI am confident\nYou are happy\nYou are confident\n"
    }
   ],
   "source": [
    "who = ['I am ', 'You are ']\n",
    "mood = ['happy', 'confident']\n",
    "for i in who:\n",
    "    for ii in mood:\n",
    "        print(i + ii)"
   ]
  },
  {
   "cell_type": "code",
   "execution_count": 7,
   "metadata": {
    "tags": []
   },
   "outputs": [
    {
     "output_type": "stream",
     "name": "stdout",
     "text": "5\n10\n15\n20\n********\n10\n20\n30\n40\n********\n15\n30\n45\n60\n********\n20\n40\n60\n80\n********\n25\n50\n75\n100\n********\n30\n60\n90\n120\n********\n35\n70\n105\n140\n********\n"
    }
   ],
   "source": [
    "list1 = [1,2,3,4,5,6,7]\n",
    "list2 = [5,10,15,20]\n",
    "for i in list1:\n",
    "    for kk in list2:\n",
    "        print(i*kk)\n",
    "    print(\"********\")"
   ]
  },
  {
   "cell_type": "code",
   "execution_count": null,
   "metadata": {},
   "outputs": [],
   "source": [
    "############################### LOOPs ######################"
   ]
  },
  {
   "cell_type": "code",
   "execution_count": 3,
   "metadata": {
    "tags": []
   },
   "outputs": [
    {
     "output_type": "stream",
     "name": "stdout",
     "text": "1\n2\n3\n4\n5\n6\n7\nnow number is equal or bigger than six\n"
    }
   ],
   "source": [
    "number = 0\n",
    "\n",
    "while number < 7:\n",
    "    print(number)\n",
    "    number += 1\n",
    "print(\"now number is equal or bigger than six\")"
   ]
  },
  {
   "cell_type": "code",
   "execution_count": 4,
   "metadata": {
    "tags": []
   },
   "outputs": [
    {
     "output_type": "stream",
     "name": "stdout",
     "text": "square of the 0 is 0\nsquare of the 1 is 1\nsquare of the 2 is 4\nsquare of the 3 is 9\nsquare of the 4 is 16\n"
    }
   ],
   "source": [
    "my_list = [\"a\", \"b\", \"c\", \"d\", \"e\"]\n",
    "a = 0\n",
    "while a < len(my_list):\n",
    "    print(\"square of the {} is {}\".format(a, a**2))\n",
    "    a += 1"
   ]
  },
  {
   "cell_type": "code",
   "execution_count": 8,
   "metadata": {
    "tags": []
   },
   "outputs": [
    {
     "output_type": "stream",
     "name": "stdout",
     "text": "You entered incorrectly!\nYou entered incorrectly!\nYou entered incorrectly!\nyou enter valid input :  40\n"
    }
   ],
   "source": [
    "age = input(\"Enter your age please\")\n",
    "while not age.isdigit():\n",
    "    print(\"You entered incorrectly!\")\n",
    "    age = input(\"Enter your age please\")\n",
    "print(\"you enter valid input : \",age)\n"
   ]
  },
  {
   "cell_type": "code",
   "execution_count": null,
   "metadata": {},
   "outputs": [],
   "source": [
    "#string metod\n",
    "\"1312\".isdigit()"
   ]
  },
  {
   "cell_type": "code",
   "execution_count": 15,
   "metadata": {
    "tags": []
   },
   "outputs": [
    {
     "output_type": "error",
     "ename": "ValueError",
     "evalue": "invalid literal for int() with base 10: ''",
     "traceback": [
      "\u001b[0;31m---------------------------------------------------------------------------\u001b[0m",
      "\u001b[0;31mValueError\u001b[0m                                Traceback (most recent call last)",
      "\u001b[0;32m<ipython-input-15-7ae144eae6cd>\u001b[0m in \u001b[0;36m<module>\u001b[0;34m\u001b[0m\n\u001b[1;32m      2\u001b[0m \u001b[0;34m\u001b[0m\u001b[0m\n\u001b[1;32m      3\u001b[0m \u001b[0;32mwhile\u001b[0m \u001b[0;32mTrue\u001b[0m\u001b[0;34m:\u001b[0m\u001b[0;34m\u001b[0m\u001b[0;34m\u001b[0m\u001b[0m\n\u001b[0;32m----> 4\u001b[0;31m     \u001b[0mguess\u001b[0m \u001b[0;34m=\u001b[0m \u001b[0mint\u001b[0m\u001b[0;34m(\u001b[0m\u001b[0minput\u001b[0m\u001b[0;34m(\u001b[0m\u001b[0;34m\"lütfen sayıyı gir\"\u001b[0m\u001b[0;34m)\u001b[0m\u001b[0;34m)\u001b[0m\u001b[0;34m\u001b[0m\u001b[0;34m\u001b[0m\u001b[0m\n\u001b[0m\u001b[1;32m      5\u001b[0m     \u001b[0;32mif\u001b[0m \u001b[0mguess\u001b[0m \u001b[0;34m>\u001b[0m \u001b[0mnumber\u001b[0m\u001b[0;34m:\u001b[0m\u001b[0;34m\u001b[0m\u001b[0;34m\u001b[0m\u001b[0m\n\u001b[1;32m      6\u001b[0m         \u001b[0mprint\u001b[0m\u001b[0;34m(\u001b[0m\u001b[0;34m\"aşağı lütfen\"\u001b[0m\u001b[0;34m)\u001b[0m\u001b[0;34m\u001b[0m\u001b[0;34m\u001b[0m\u001b[0m\n",
      "\u001b[0;31mValueError\u001b[0m: invalid literal for int() with base 10: ''"
     ]
    }
   ],
   "source": [
    "# number = 45\n",
    "\n",
    "# while True:\n",
    "#     guess = int(input(\"lütfen sayıyı gir\"))\n",
    "#     if guess > number:\n",
    "#         print(\"aşağı lütfen\")\n",
    "#     elif guess < number:\n",
    "#         print(\"yukları\")\n",
    "#     else:\n",
    "#         print(\"yoksa aklımımı okuyorsun\")\n",
    "#         break"
   ]
  },
  {
   "cell_type": "code",
   "execution_count": null,
   "metadata": {},
   "outputs": [],
   "source": [
    "# num=46\n",
    "# while True:\n",
    "#     num=int(input(\"guess a number\"))\n",
    "#     if  a< num:\n",
    "#         print(\"enter higher\")\n",
    "#     elif a>num:\n",
    "#         print(\"enter lower\")\n",
    "#     else:\n",
    "#         print(\"You are win\")\n",
    "#         break  "
   ]
  },
  {
   "cell_type": "code",
   "execution_count": 1,
   "metadata": {
    "tags": []
   },
   "outputs": [
    {
     "output_type": "stream",
     "name": "stdout",
     "text": "lets play guessing game\nlittle lower\nlittle lower\nlittle higher\nare you a mindreader\n"
    }
   ],
   "source": [
    "answer = 28\n",
    "question = \"what a two digit number am I thinking\"\n",
    "print (\"lets play guessing game\")\n",
    "while True:\n",
    "    guess = int(input(question))\n",
    "    if guess < answer:\n",
    "        print(\"little higher\")\n",
    "    elif guess > answer:\n",
    "        print(\"little lower\")\n",
    "    else:\n",
    "        print(\"are you a mindreader\")\n",
    "        break"
   ]
  },
  {
   "cell_type": "code",
   "execution_count": 2,
   "metadata": {
    "tags": []
   },
   "outputs": [
    {
     "output_type": "stream",
     "name": "stdout",
     "text": "['s', 'e', 'n', ' ', 'ç', 'o', 'k', ' ', 's', 'e', 'v', 'i', 'y', 'o', 'm']\n"
    }
   ],
   "source": [
    "sentence = input(\"cümleyi giriniz\")\n",
    "sentence = sentence.split(\" \")\n",
    "print(sentence)"
   ]
  },
  {
   "cell_type": "code",
   "execution_count": 10,
   "metadata": {
    "tags": []
   },
   "outputs": [
    {
     "output_type": "stream",
     "name": "stdout",
     "text": "name\nsurname\nage\n"
    }
   ],
   "source": [
    "user = {\n",
    "    \"name\" : \"Daniel\",\n",
    "    \"surname\" : \"Smith\",\n",
    "    \"age\"  : 35\n",
    "}\n",
    "for i in user:\n",
    "    print(i)"
   ]
  },
  {
   "cell_type": "code",
   "execution_count": 2,
   "metadata": {
    "tags": []
   },
   "outputs": [
    {
     "output_type": "stream",
     "name": "stdout",
     "text": "Daniel\nSmith\n35\n"
    }
   ],
   "source": [
    "user = {\n",
    "    \"name\" : \"Daniel\",\n",
    "    \"surname\" : \"Smith\",\n",
    "    \"age\"  : 35\n",
    "}\n",
    "for i in user.values():\n",
    "    print(i)"
   ]
  },
  {
   "cell_type": "code",
   "execution_count": 5,
   "metadata": {
    "tags": []
   },
   "outputs": [
    {
     "output_type": "stream",
     "name": "stdout",
     "text": "('name', 'Daniel')\n('surname', 'Smith')\n('age', 35)\n"
    }
   ],
   "source": [
    "user = {\n",
    "    \"name\" : \"Daniel\",\n",
    "    \"surname\" : \"Smith\",\n",
    "    \"age\"  : 35\n",
    "}\n",
    "for i in user.items():\n",
    "    print(i)"
   ]
  },
  {
   "cell_type": "code",
   "execution_count": 6,
   "metadata": {
    "tags": []
   },
   "outputs": [
    {
     "output_type": "stream",
     "name": "stdout",
     "text": "name : Daniel\nsurname : Smith\nage : 35\n"
    }
   ],
   "source": [
    "user = {\n",
    "    \"name\" : \"Daniel\",\n",
    "    \"surname\" : \"Smith\",\n",
    "    \"age\"  : 35\n",
    "}\n",
    "for key, value in user.items():\n",
    "    print(key, \":\", value)"
   ]
  },
  {
   "cell_type": "code",
   "execution_count": 3,
   "metadata": {
    "tags": []
   },
   "outputs": [
    {
     "output_type": "stream",
     "name": "stdout",
     "text": "I love you\nI love you\nI love you\nI love you\nI love you\n"
    }
   ],
   "source": [
    "times = int(input(\"How many times should I say 'I love you'\"))\n",
    "for i in range(times):\n",
    "    print('I love you')"
   ]
  },
  {
   "cell_type": "code",
   "execution_count": 13,
   "metadata": {
    "tags": []
   },
   "outputs": [
    {
     "output_type": "stream",
     "name": "stdout",
     "text": "5 x 0 =  0\n5 x 1 =  5\n5 x 2 =  10\n5 x 3 =  15\n5 x 4 =  20\n5 x 5 =  25\n5 x 6 =  30\n5 x 7 =  35\n5 x 8 =  40\n5 x 9 =  45\n"
    }
   ],
   "source": [
    "carp = int(input(\"lütfen bir sayıyı giriniz\"))\n",
    "\n",
    "for i in range(10):\n",
    "    print(\"{} x {} = \".format(carp,i), i * carp)"
   ]
  },
  {
   "cell_type": "code",
   "execution_count": 14,
   "metadata": {
    "tags": []
   },
   "outputs": [
    {
     "output_type": "stream",
     "name": "stdout",
     "text": "4x0 =  0\n4x1 =  4\n4x2 =  8\n4x3 =  12\n4x4 =  16\n4x5 =  20\n4x6 =  24\n4x7 =  28\n4x8 =  32\n4x9 =  36\n4x10 =  40\n"
    }
   ],
   "source": [
    "n = int(input('enter a number between 1-10 : '))\n",
    "for i in range(11):\n",
    "    print('{}x{} = '.format(n, i), n*i)"
   ]
  },
  {
   "cell_type": "code",
   "execution_count": 15,
   "metadata": {
    "tags": []
   },
   "outputs": [
    {
     "output_type": "stream",
     "name": "stdout",
     "text": "5x0 =  0\n5x1 =  5\n5x2 =  10\n5x3 =  15\n5x4 =  20\n5x5 =  25\n5x6 =  30\n5x7 =  35\n5x8 =  40\n5x9 =  45\n5x10 =  50\n"
    }
   ],
   "source": [
    "n = int(input('enter a number between 1-10'))\n",
    "for i in range(11):\n",
    "    print('{}x{} = '.format(n, i), n*i)"
   ]
  },
  {
   "cell_type": "code",
   "execution_count": 1,
   "metadata": {
    "tags": []
   },
   "outputs": [
    {
     "output_type": "stream",
     "name": "stdout",
     "text": "[0, 1, 2, 3, 4, 5, 6, 7, 8, 9, 10]\n"
    }
   ],
   "source": [
    "b = list(range(11))\n",
    "\n",
    "print(b)"
   ]
  },
  {
   "cell_type": "code",
   "execution_count": 2,
   "metadata": {
    "tags": []
   },
   "outputs": [
    {
     "output_type": "stream",
     "name": "stdout",
     "text": "{0, 1, 2, 3, 4, 5, 6, 7, 8, 9}\n"
    }
   ],
   "source": [
    "a = set(range(0,10))\n",
    "print(a)"
   ]
  },
  {
   "cell_type": "code",
   "execution_count": 3,
   "metadata": {
    "tags": []
   },
   "outputs": [
    {
     "output_type": "stream",
     "name": "stdout",
     "text": "(0, 1, 2, 3, 4, 5, 6, 7, 8, 9)\n"
    }
   ],
   "source": [
    "c = tuple(range(0,10))\n",
    "print(c)"
   ]
  },
  {
   "cell_type": "code",
   "execution_count": 5,
   "metadata": {
    "tags": []
   },
   "outputs": [
    {
     "output_type": "stream",
     "name": "stdout",
     "text": "range(0, 5)\n0 1 2 3 4\n"
    }
   ],
   "source": [
    "print(range(5))\n",
    "print(*range(5))"
   ]
  },
  {
   "cell_type": "code",
   "execution_count": 6,
   "metadata": {
    "tags": []
   },
   "outputs": [
    {
     "output_type": "stream",
     "name": "stdout",
     "text": "5 7 9 11 13 15 17 19 21 23\n"
    }
   ],
   "source": [
    "print(*range(5,25,2))"
   ]
  },
  {
   "cell_type": "code",
   "execution_count": 7,
   "metadata": {
    "tags": []
   },
   "outputs": [
    {
     "output_type": "stream",
     "name": "stdout",
     "text": "s e p a r a t e\n"
    }
   ],
   "source": [
    "print(*(\"separate\"))"
   ]
  },
  {
   "cell_type": "code",
   "execution_count": 8,
   "metadata": {
    "tags": []
   },
   "outputs": [
    {
     "output_type": "stream",
     "name": "stdout",
     "text": "10 8 6 4 2\n"
    }
   ],
   "source": [
    "print(*range(10,0,-2))"
   ]
  },
  {
   "cell_type": "code",
   "execution_count": 9,
   "metadata": {
    "tags": []
   },
   "outputs": [
    {
     "output_type": "stream",
     "name": "stdout",
     "text": "10 8 6 4 2 0\n"
    }
   ],
   "source": [
    "print(*range(10,-2,-2))"
   ]
  },
  {
   "cell_type": "code",
   "execution_count": 11,
   "metadata": {
    "tags": []
   },
   "outputs": [
    {
     "output_type": "stream",
     "name": "stdout",
     "text": "-33 -36 -39 -42 -45 -48 -51 -54 -57 -60 -63 -66 -69 -72 -75 -78 -81 -84 -87 -90 -93 -96\n"
    }
   ],
   "source": [
    "print(*range(-33,-99,-3))"
   ]
  },
  {
   "cell_type": "code",
   "execution_count": 16,
   "metadata": {
    "tags": []
   },
   "outputs": [
    {
     "output_type": "stream",
     "name": "stdout",
     "text": "one : 1\ntwo : 2\nthree : 3\nfour : 4\nfive : 5\nsix : 100\n"
    }
   ],
   "source": [
    "text = [\"one\", \"two\",\"three\",\"four\",\"five\",\"six\"]\n",
    "numbers = [1,2,3,4,5,100]\n",
    "for x, y in zip(text, numbers): #zip tuple haline dönüştürür\n",
    "    print(x, \":\", y )"
   ]
  },
  {
   "cell_type": "code",
   "execution_count": 20,
   "metadata": {
    "tags": []
   },
   "outputs": [
    {
     "output_type": "stream",
     "name": "stdout",
     "text": "<zip object at 0x7ff5e26810c0>\n[('one', 1), ('two', 2), ('three', 3), ('four', 4), ('five', 5), ('six', 100)]\n{'one': 1, 'two': 2, 'three': 3, 'four': 4, 'five': 5, 'six': 100}\n(('one', 1), ('two', 2), ('three', 3), ('four', 4), ('five', 5), ('six', 100))\n"
    }
   ],
   "source": [
    "text = [\"one\", \"two\",\"three\",\"four\",\"five\",\"six\"]\n",
    "numbers = [1,2,3,4,5,100]\n",
    "print(zip(text, numbers))\n",
    "print(list(zip(text, numbers)))\n",
    "print(dict(zip(text, numbers)))  #zip i dict ile açabiliriz. zip önemli\n",
    "print(tuple(zip(text, numbers)))"
   ]
  },
  {
   "cell_type": "code",
   "execution_count": 26,
   "metadata": {
    "tags": []
   },
   "outputs": [
    {
     "output_type": "stream",
     "name": "stdout",
     "text": "evens : [0, 2, 4, 6, 8, 10]\nodds : [1, 3, 5, 7, 9]\n"
    }
   ],
   "source": [
    "evens= []\n",
    "odds=[]\n",
    "for i in range(11):\n",
    "    if i % 2 == 0:\n",
    "        evens.append(i)\n",
    "    else:\n",
    "        odds.append(i)\n",
    "print(\"evens :\", evens)\n",
    "print(\"odds :\", odds)"
   ]
  },
  {
   "cell_type": "code",
   "execution_count": 27,
   "metadata": {
    "tags": []
   },
   "outputs": [
    {
     "output_type": "stream",
     "name": "stdout",
     "text": "[1, 3, 5, 7, 9]\n[2, 4, 6, 8, 10]\n"
    }
   ],
   "source": [
    "evens=[]\n",
    "odds = []\n",
    "for i in range(1,11,2):\n",
    "    if i % 2 == 0:\n",
    "        evens.append(i)\n",
    "    else:\n",
    "        odds.append(i)\n",
    "print(evens)\n",
    "print(odds)"
   ]
  },
  {
   "cell_type": "code",
   "execution_count": 29,
   "metadata": {
    "tags": []
   },
   "outputs": [
    {
     "output_type": "stream",
     "name": "stdout",
     "text": "the number of even numbers : 3\nthe number of odd numbers : 4\n"
    }
   ],
   "source": [
    "list = [11, 2, 24, 61, 48, 33, 3]\n",
    "evens = 0\n",
    "odds = 0\n",
    "for i in (list):\n",
    "    if i % 2 == 0:\n",
    "        evens +=1\n",
    "    else:\n",
    "        odds += 1\n",
    "print(\"the number of even numbers :\", evens)\n",
    "print(\"the number of odd numbers :\", odds)"
   ]
  },
  {
   "cell_type": "code",
   "execution_count": 30,
   "metadata": {
    "tags": []
   },
   "outputs": [
    {
     "output_type": "stream",
     "name": "stdout",
     "text": "The number of even numbers: 3\nThe number of odd numbers: 4\n"
    }
   ],
   "source": [
    "listeen = [11, 2, 24, 61, 48, 33 , 3]\n",
    "evens = 0\n",
    "odds = 0\n",
    "for i in listeen:\n",
    "    if i%2 == 0: evens += 1\n",
    "    else: odds += 1\n",
    "print(\"The number of even numbers: {}\".format(evens))\n",
    "print(\"The number of odd numbers: {}\".format(odds))"
   ]
  },
  {
   "cell_type": "code",
   "execution_count": 32,
   "metadata": {
    "tags": []
   },
   "outputs": [
    {
     "output_type": "stream",
     "name": "stdout",
     "text": "the number of even numbers : 3\nthe number of odd numbers : 4\n"
    }
   ],
   "source": [
    "liste = [11, 2, 24, 61, 48, 33, 3]\n",
    "evens = 0\n",
    "odds = 0\n",
    "for i in (liste):\n",
    "    if not i % 2:\n",
    "        evens +=1\n",
    "    else:\n",
    "        odds += 1\n",
    "print(\"the number of even numbers :\", evens)\n",
    "print(\"the number of odd numbers :\", odds)"
   ]
  },
  {
   "cell_type": "code",
   "execution_count": 37,
   "metadata": {
    "tags": []
   },
   "outputs": [
    {
     "output_type": "stream",
     "name": "stdout",
     "text": "1\n22\n333\n4444\n55555\n666666\n7777777\n88888888\n999999999\n"
    }
   ],
   "source": [
    "for i in range(1,10):\n",
    "    print(str(i)*i)"
   ]
  },
  {
   "cell_type": "code",
   "execution_count": 38,
   "metadata": {
    "tags": []
   },
   "outputs": [
    {
     "output_type": "stream",
     "name": "stdout",
     "text": "1\n22\n333\n4444\n55555\n666666\n7777777\n88888888\n999999999\n"
    }
   ],
   "source": [
    "\n",
    "for i in range(1,10):\n",
    "    print('{}'.format(i)*i)\n",
    "    i+=1"
   ]
  },
  {
   "cell_type": "code",
   "execution_count": 39,
   "metadata": {
    "tags": []
   },
   "outputs": [
    {
     "output_type": "stream",
     "name": "stdout",
     "text": "1\n22\n333\n4444\n55555\n666666\n7777777\n88888888\n999999999\n"
    }
   ],
   "source": [
    "for i in range(1,10):\n",
    "    print(f\"{i}\"*i)\n",
    "    i+=1"
   ]
  },
  {
   "cell_type": "code",
   "execution_count": 41,
   "metadata": {
    "tags": []
   },
   "outputs": [
    {
     "output_type": "stream",
     "name": "stdout",
     "text": "2775\n"
    }
   ],
   "source": [
    "sum_num = 0\n",
    "for i in range(1,75):\n",
    "    sum_num += i\n",
    "print(sum_num)"
   ]
  },
  {
   "cell_type": "code",
   "execution_count": 43,
   "metadata": {
    "tags": []
   },
   "outputs": [
    {
     "output_type": "stream",
     "name": "stdout",
     "text": "0\n         111\n        22222\n       3333333\n      444444444\n     55555555555\n    6666666666666\n   777777777777777\n  88888888888888888\n 9999999999999999999\n"
    }
   ],
   "source": [
    "for i in range(10):\n",
    "    print(\" \"*(10-i)+ str(i)*(2*i+1))"
   ]
  },
  {
   "cell_type": "code",
   "execution_count": 46,
   "metadata": {
    "tags": []
   },
   "outputs": [
    {
     "output_type": "stream",
     "name": "stdout",
     "text": "ı am happy\nı am confident\nı am crazzy\nyou are happy\nyou are confident\nyou are crazzy\n"
    }
   ],
   "source": [
    "who = [\"ı am \", \"you are \"]\n",
    "mood = [\"happy\", \"confident\", \"crazzy\"]\n",
    "for i in who:\n",
    "    for ii in mood:\n",
    "        print(i + ii)"
   ]
  },
  {
   "cell_type": "code",
   "execution_count": 48,
   "metadata": {
    "tags": []
   },
   "outputs": [
    {
     "output_type": "stream",
     "name": "stdout",
     "text": "susan happy\nsusan sad\ntom happy\ntom sad\nedward happy\nedward sad\n"
    }
   ],
   "source": [
    "names = [\"susan \", \"tom \", \"edward \"]\n",
    "mood = [\"happy\", \"sad\"]\n",
    "for i in names:\n",
    "    for ii in mood:\n",
    "        print(i + ii)"
   ]
  },
  {
   "cell_type": "code",
   "execution_count": 51,
   "metadata": {
    "tags": []
   },
   "outputs": [
    {
     "output_type": "stream",
     "name": "stdout",
     "text": "\n        11        \n       2222       \n      333333      \n     44444444     \n    5555555555    \n   666666666666   \n  77777777777777  \n 8888888888888888 \n999999999999999999\n"
    }
   ],
   "source": [
    "for i in range(10):\n",
    "    print(\"{:>9}{:<9}\".format(str(i)*i,str(i)*i))"
   ]
  },
  {
   "cell_type": "code",
   "execution_count": 54,
   "metadata": {
    "tags": []
   },
   "outputs": [
    {
     "output_type": "stream",
     "name": "stdout",
     "text": "0\n"
    }
   ],
   "source": [
    "print(1 and \"s\" and 0)"
   ]
  },
  {
   "cell_type": "code",
   "execution_count": 58,
   "metadata": {
    "tags": []
   },
   "outputs": [
    {
     "output_type": "stream",
     "name": "stdout",
     "text": "ıt is working\n"
    }
   ],
   "source": [
    "if ['condition']:\n",
    "    print(\"ıt is working\")"
   ]
  },
  {
   "cell_type": "code",
   "execution_count": 3,
   "metadata": {
    "tags": []
   },
   "outputs": [
    {
     "output_type": "stream",
     "name": "stdout",
     "text": "[2, 11, 12, 45, 77, 99, 333, 999, 8982]\n"
    }
   ],
   "source": [
    "# QUESTION:\n",
    "# Write a Python code to sort the list at below without using .sort() method of list.\n",
    "# elements of list = [999, 333, 2, 8982, 12, 45, 77, 99, 11]\n",
    "# Expected output:\n",
    "# [2, 11, 12, 45, 77, 99, 333, 999, 8982]\n",
    "# ANSWER:\n",
    "mylist = [999, 333, 2, 8982, 12, 45, 77, 99, 11]\n",
    "\n",
    "for i in range(len(mylist)):\n",
    "   for j in range(i+1,len(mylist)):\n",
    "       if mylist[i] > mylist[j]:\n",
    "           temp = mylist[i]\n",
    "           mylist[i] = mylist[j]\n",
    "           mylist[j] = temp\n",
    "print(mylist)"
   ]
  },
  {
   "cell_type": "code",
   "execution_count": 8,
   "metadata": {
    "tags": []
   },
   "outputs": [
    {
     "output_type": "stream",
     "name": "stdout",
     "text": "Weird\n"
    }
   ],
   "source": [
    "n = 5\n",
    "if n % 2 != 0:\n",
    "    print(\"Weird\")\n",
    "elif n % 2 == 0:\n",
    "    if n < 2:\n",
    "        print(n)\n",
    "    elif n >= 2 and n <=5:\n",
    "        print(\"Not Weird\")\n",
    "    elif n >= 6 and n <=20:\n",
    "        print(\"Weird\")\n",
    "    elif n >= 20:\n",
    "        print(\"Not Weird\")"
   ]
  },
  {
   "cell_type": "code",
   "execution_count": null,
   "metadata": {},
   "outputs": [],
   "source": []
  }
 ],
 "metadata": {
  "language_info": {
   "codemirror_mode": {
    "name": "ipython",
    "version": 3
   },
   "file_extension": ".py",
   "mimetype": "text/x-python",
   "name": "python",
   "nbconvert_exporter": "python",
   "pygments_lexer": "ipython3",
   "version": "3.8.2-final"
  },
  "orig_nbformat": 2,
  "kernelspec": {
   "name": "python36964bit03789e678b2849149d608e9dc1d904bf",
   "display_name": "Python 3.6.9 64-bit"
  }
 },
 "nbformat": 4,
 "nbformat_minor": 2
}