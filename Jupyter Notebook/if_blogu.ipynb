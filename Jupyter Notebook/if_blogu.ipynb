{
 "cells": [
  {
   "cell_type": "code",
   "execution_count": null,
   "metadata": {
    "tags": []
   },
   "outputs": [],
   "source": [
    "# Note that the condition ends with a colon and a new line starts with an indentation\n",
    "elif True:\n",
    "    print('it is true')\n"
   ]
  },
  {
   "cell_type": "code",
   "execution_count": 33,
   "metadata": {
    "tags": []
   },
   "outputs": [
    {
     "output_type": "stream",
     "name": "stdout",
     "text": "there is still seat to sit\n"
    }
   ],
   "source": [
    "empty_seat = 14\n",
    "\n",
    "if empty_seat > 3:  # in this case, 14>3=True, so the body will execute\n",
    "    print('there is still seat to sit')"
   ]
  },
  {
   "cell_type": "code",
   "execution_count": 34,
   "metadata": {
    "tags": []
   },
   "outputs": [
    {
     "output_type": "stream",
     "name": "stdout",
     "text": "is x equal to y?                 : False\nis x not equal to y?             : True\nis x less than y?                : True\nis x greater than y?             : False\nis x less than or equal to y?    : True\nis x greater than or equal to y? : False\n"
    }
   ],
   "source": [
    "# Do not use assignment operator = in comparison statements. In comparisons, you have to use == operator for equality.\n",
    "x = 6\n",
    "y = 9\n",
    "print (\"is x equal to y?                 :\" , x == y)\n",
    "print (\"is x not equal to y?             :\" , x != y)\n",
    "print (\"is x less than y?                :\" , x < y)\n",
    "print (\"is x greater than y?             :\" , x > y)\n",
    "print (\"is x less than or equal to y?    :\" , x <= y)\n",
    "print (\"is x greater than or equal to y? :\" , x >= y)"
   ]
  },
  {
   "cell_type": "code",
   "execution_count": 35,
   "metadata": {
    "tags": []
   },
   "outputs": [
    {
     "output_type": "stream",
     "name": "stdout",
     "text": "you guaranteed the job\n"
    }
   ],
   "source": [
    "#Note that, else doesn't require any condition and the body2 requires 4-space indentation here.\n",
    "course = 'clarusway'\n",
    "\n",
    "if course == \"clarusway\":\n",
    "    print(\"you guaranteed the job\")\n",
    "else:\n",
    "    print(\"think about it again\")\n"
   ]
  },
  {
   "cell_type": "code",
   "execution_count": 36,
   "metadata": {
    "tags": []
   },
   "outputs": [
    {
     "output_type": "stream",
     "name": "stdout",
     "text": "Number is bigger than 3\n"
    }
   ],
   "source": [
    "number = 5\n",
    "if number <= 3:    \n",
    "    print(\"Number is smaller than or equal to 3\") \n",
    "else:  # Optional clause (you can only have one else)\n",
    "    print(\"Number is bigger than 3\")"
   ]
  },
  {
   "cell_type": "code",
   "execution_count": 37,
   "metadata": {
    "tags": []
   },
   "outputs": [
    {
     "output_type": "stream",
     "name": "stdout",
     "text": "That's too light!\n"
    }
   ],
   "source": [
    "# if for the ﬁrst one,\n",
    "# elif for the rest, up until the ﬁnal (optional),\n",
    "# else for anything not caught by the other conditionals.\n",
    "weight = 75\n",
    "\n",
    "if weight > 100:\n",
    "    print(\"That's too heavy!\")\n",
    "elif weight > 75:\n",
    "    print(\"I can lift that!\")\n",
    "else:\n",
    "    print(\"That's too light!\")"
   ]
  },
  {
   "cell_type": "code",
   "execution_count": 38,
   "metadata": {
    "tags": []
   },
   "outputs": [
    {
     "output_type": "stream",
     "name": "stdout",
     "text": "No such auidince stay your at home\n"
    }
   ],
   "source": [
    "audince = \"baby\"\n",
    "if audince == \"kid\":\n",
    "    print(\"it is free to go to cinema\")\n",
    "elif audince == \"teen\":\n",
    "    print(\"discounted price\")\n",
    "elif audince == \"adult\":\n",
    "    print(\"normal price\")\n",
    "else:\n",
    "    print(\"No such auidince stay your at home\")"
   ]
  },
  {
   "cell_type": "code",
   "execution_count": 39,
   "metadata": {
    "tags": []
   },
   "outputs": [
    {
     "output_type": "stream",
     "name": "stdout",
     "text": "discounted price!\n"
    }
   ],
   "source": [
    "audience_group = 'kid', 'teen', 'adult'\n",
    "\n",
    "audience = \"teen\"\n",
    "\n",
    "if audience in audience_group:\n",
    "    if audience == \"kid\":\n",
    "        print(\"it is free to go to cinema\")\n",
    "    elif audience == \"teen\":\n",
    "        print(\"discounted price!\")\n",
    "    else: # audience == \"adult\":\n",
    "        print(\"normal price\")\n",
    "else:\n",
    "    print(\"No such audience, stay at your home!\")"
   ]
  },
  {
   "cell_type": "code",
   "execution_count": 2,
   "metadata": {
    "tags": []
   },
   "outputs": [
    {
     "output_type": "stream",
     "name": "stdout",
     "text": "Your degree :B+\n"
    }
   ],
   "source": [
    "score = int(input(\"enter your score :\"))\n",
    "\n",
    "if score >= 90:\n",
    "    if score >= 95:\n",
    "        Score_letter = \"A+\"\n",
    "    else:\n",
    "        Score_letter = \"A\"\n",
    "elif score >= 80:\n",
    "    if score >=85:\n",
    "        Score_letter = \"B+\"\n",
    "    else:\n",
    "        Score_letter = \"B\"\n",
    "else:\n",
    "    Score_letter = \"below B\"\n",
    "print(\"Your degree :%s\" % Score_letter )\n"
   ]
  },
  {
   "cell_type": "code",
   "execution_count": 3,
   "metadata": {},
   "outputs": [
    {
     "output_type": "execute_result",
     "data": {
      "text/plain": "6"
     },
     "metadata": {},
     "execution_count": 3
    }
   ],
   "source": [
    "sum(range(4))"
   ]
  },
  {
   "cell_type": "code",
   "execution_count": 4,
   "metadata": {
    "tags": []
   },
   "outputs": [
    {
     "output_type": "stream",
     "name": "stdout",
     "text": "Found an even number 2\nFound a number 3\nFound an even number 4\nFound a number 5\nFound an even number 6\nFound a number 7\nFound an even number 8\nFound a number 9\n"
    }
   ],
   "source": [
    "for num in range(2, 10):\n",
    "...     if num % 2 == 0:\n",
    "...         print(\"Found an even number\", num)\n",
    "...         continue\n",
    "...     print(\"Found a number\", num)"
   ]
  },
  {
   "cell_type": "code",
   "execution_count": 3,
   "metadata": {
    "tags": []
   },
   "outputs": [
    {
     "output_type": "stream",
     "name": "stdout",
     "text": "0\n"
    }
   ],
   "source": [
    "# price =12.00\n",
    "# if price >= 1.00:\n",
    "#     tax = .07\n",
    "#     print(tax)\n",
    "# else:\n",
    "#     tax =0\n",
    "#     print(tax)\n",
    "price =1\n",
    "if price >= 2.00:\n",
    "    tax = .07\n",
    "else:\n",
    "    tax = 0\n",
    "print(tax)"
   ]
  },
  {
   "cell_type": "code",
   "execution_count": 4,
   "metadata": {
    "tags": []
   },
   "outputs": [
    {
     "output_type": "stream",
     "name": "stdout",
     "text": "you are not from canada\n"
    }
   ],
   "source": [
    "country = 'CANADA'\n",
    "if country == \"canada\": #case sensetive\n",
    "    print('og look a canadian')\n",
    "else:\n",
    "    print(\"you are not from canada\")"
   ]
  },
  {
   "cell_type": "code",
   "execution_count": 5,
   "metadata": {
    "tags": []
   },
   "outputs": [
    {
     "output_type": "stream",
     "name": "stdout",
     "text": "og look a canadian\n"
    }
   ],
   "source": [
    "country =\"CANADA\"\n",
    "if country.lower() == \"canada\":\n",
    "    print(\"og look a canadian\")\n",
    "else:\n",
    "    print(\"you are not from canadian\")"
   ]
  },
  {
   "cell_type": "code",
   "execution_count": 11,
   "metadata": {
    "tags": []
   },
   "outputs": [
    {
     "output_type": "stream",
     "name": "stdout",
     "text": "0.15\n"
    }
   ],
   "source": [
    "province = \"Ontarioo\"\n",
    "if province == 'Alberta':\n",
    "    tax = 0.05\n",
    "elif province == 'Nunavut':\n",
    "    tax = 0.05\n",
    "elif province == 'Ontario':\n",
    "    tax = 0.13\n",
    "else:\n",
    "    tax = 0.15\n",
    "print(tax)"
   ]
  },
  {
   "cell_type": "code",
   "execution_count": 15,
   "metadata": {
    "tags": []
   },
   "outputs": [
    {
     "output_type": "stream",
     "name": "stdout",
     "text": "0.05\n"
    }
   ],
   "source": [
    "province = \"Alberta\"\n",
    "if province == 'Alberta' or province == 'Nunavut':\n",
    "    tax = 0.05\n",
    "elif province == 'Ontario':\n",
    "    tax = 0.13\n",
    "else:\n",
    "    tax = 0.15\n",
    "print(tax)"
   ]
  },
  {
   "cell_type": "code",
   "execution_count": 17,
   "metadata": {
    "tags": []
   },
   "outputs": [
    {
     "output_type": "stream",
     "name": "stdout",
     "text": "0.05\n"
    }
   ],
   "source": [
    "province = \"Yukon\"\n",
    "if province in ('Alberta','Nunavut','Yukon'):\n",
    "    tax = 0.05\n",
    "elif province == 'Ontario':\n",
    "    tax = 0.13\n",
    "else:\n",
    "    tax = 0.15\n",
    "print(tax)"
   ]
  },
  {
   "cell_type": "code",
   "execution_count": 19,
   "metadata": {
    "tags": []
   },
   "outputs": [
    {
     "output_type": "stream",
     "name": "stdout",
     "text": "0.05\n"
    }
   ],
   "source": [
    "country = 'Canada'\n",
    "province = \"Yukon\"\n",
    "if country.lower() == 'canada':\n",
    "    if province in ('Alberta','Nunavut','Yukon'):\n",
    "        tax = 0.05\n",
    "    elif province == 'Ontario':\n",
    "        tax = 0.13\n",
    "    else:\n",
    "        tax = 0.15\n",
    "else:\n",
    "    tax = 0.0\n",
    "print(tax)"
   ]
  },
  {
   "cell_type": "code",
   "execution_count": 22,
   "metadata": {
    "tags": []
   },
   "outputs": [
    {
     "output_type": "stream",
     "name": "stdout",
     "text": "You made the honour roll\n"
    }
   ],
   "source": [
    "gpa = float(input(\"what was your Grade Point Average\"))\n",
    "lowest_grade = float(input(\"What was your lowest grade\"))\n",
    "\n",
    "# if gpa >= .85:\n",
    "#     if lowest_grade >= .70:\n",
    "#         print(\"You made the honour roll\")\n",
    "\n",
    "if gpa >= .85 and lowest_grade >= .70:\n",
    "    #print(\"You made the honour roll\")\n",
    "    honour_role = True\n",
    "else:\n",
    "    honour_role = False\n",
    "###############################33\n",
    "if honour_role: #otomatik olarak true kabul ediyor\n",
    "    print(\"You made the honour roll\")\n",
    "else: \n",
    "    print(\"You could not made the honour roll\")"
   ]
  },
  {
   "cell_type": "code",
   "execution_count": null,
   "metadata": {},
   "outputs": [],
   "source": [
    "##############################  IN CLASS   #####################"
   ]
  },
  {
   "cell_type": "code",
   "execution_count": 1,
   "metadata": {
    "tags": []
   },
   "outputs": [
    {
     "output_type": "stream",
     "name": "stdout",
     "text": "there is still seat to sit\n"
    }
   ],
   "source": [
    "empty_seat = 14\n",
    "if empty_seat > 3:\n",
    "    print(\"there is still seat to sit\")"
   ]
  },
  {
   "cell_type": "code",
   "execution_count": 4,
   "metadata": {
    "tags": []
   },
   "outputs": [],
   "source": [
    "minced = True\n",
    "bread = True\n",
    "lettuce = True\n",
    "pepper = False\n",
    "grocery_store = True\n",
    "\n",
    "hamburger = (minced and bread and grocery_store) and (lettuce or pepper) \n",
    "\n",
    "if hamburger :\n",
    "    print(\"Bon Appetit\")"
   ]
  },
  {
   "cell_type": "code",
   "execution_count": 5,
   "metadata": {},
   "outputs": [],
   "source": [
    "if 0:\n",
    "    print(\"hello\") #bişey vermez"
   ]
  },
  {
   "cell_type": "code",
   "execution_count": 7,
   "metadata": {
    "tags": []
   },
   "outputs": [
    {
     "output_type": "stream",
     "name": "stdout",
     "text": "hello\nhello\n"
    }
   ],
   "source": [
    "if \"ayşe\":\n",
    "    print(\"hello\")\n",
    "if 5:\n",
    "    print(\"hello\")"
   ]
  },
  {
   "cell_type": "code",
   "execution_count": 13,
   "metadata": {
    "tags": []
   },
   "outputs": [
    {
     "output_type": "stream",
     "name": "stdout",
     "text": "True\nFalse\nTrue\nTrue\n"
    }
   ],
   "source": [
    "print(1==1)\n",
    "print(\"henry\" == \"Henry\")\n",
    "print(12 < 12.1)\n",
    "print(\"hard\" != \"easy\")"
   ]
  },
  {
   "cell_type": "code",
   "execution_count": 15,
   "metadata": {},
   "outputs": [
    {
     "output_type": "execute_result",
     "data": {
      "text/plain": "False"
     },
     "metadata": {},
     "execution_count": 15
    }
   ],
   "source": [
    "1.0 == 1\n",
    "1 == \"1\""
   ]
  },
  {
   "cell_type": "code",
   "execution_count": 17,
   "metadata": {},
   "outputs": [
    {
     "output_type": "execute_result",
     "data": {
      "text/plain": "True"
     },
     "metadata": {},
     "execution_count": 17
    }
   ],
   "source": [
    "a = set(\"asap\")\n",
    "b = set(\"pasa\")\n",
    "a == b #true döner"
   ]
  },
  {
   "cell_type": "code",
   "execution_count": 21,
   "metadata": {
    "tags": []
   },
   "outputs": [
    {
     "output_type": "stream",
     "name": "stdout",
     "text": "False\nTrue\nTrue\nTrue\nFalse\n"
    }
   ],
   "source": [
    "x = 6\n",
    "y = 9\n",
    "print(x == y)\n",
    "print(x != y)\n",
    "print(x < y)\n",
    "print(x <= y)\n",
    "print(x>y)\n"
   ]
  },
  {
   "cell_type": "code",
   "execution_count": 23,
   "metadata": {
    "tags": []
   },
   "outputs": [
    {
     "output_type": "stream",
     "name": "stdout",
     "text": "{'S', ' ', 'O', 'N', 'E', 'W', 'L', 'T', 'V', 'U', 'P'}\n{'S', ' ', 'O', 'N', 'E', 'W', 'V', 'T', 'L', 'U', 'P'}\nwe are the same\n"
    }
   ],
   "source": [
    "set1 = set(\"TWELVE PLUS ONE\")\n",
    "set2 = set(\"ELEVEN PLUS TWO\")\n",
    "print(set1)\n",
    "print(set2)\n",
    "if set1 == set2:\n",
    "    print(\"we are the same\")"
   ]
  },
  {
   "cell_type": "code",
   "execution_count": 27,
   "metadata": {
    "tags": []
   },
   "outputs": [
    {
     "output_type": "stream",
     "name": "stdout",
     "text": "You entered False\n"
    }
   ],
   "source": [
    "convert = input(\"Lütfen yes yada No giriniz\").title().strip() == \"Yes\"\n",
    "print(\"You entered\" , convert)"
   ]
  },
  {
   "cell_type": "code",
   "execution_count": 28,
   "metadata": {
    "tags": []
   },
   "outputs": [
    {
     "output_type": "stream",
     "name": "stdout",
     "text": "number is bigger than 3\n"
    }
   ],
   "source": [
    "number = 5\n",
    "if number <= 3:\n",
    "    print(\"Number is smaller than 3\")\n",
    "else:\n",
    "    print(\"number is bigger than 3\")"
   ]
  },
  {
   "cell_type": "code",
   "execution_count": 31,
   "metadata": {
    "tags": []
   },
   "outputs": [
    {
     "output_type": "stream",
     "name": "stdout",
     "text": "girdiğiniz 5 is odd\n"
    }
   ],
   "source": [
    "number = int(input(\"bir rakam giriniz\"))\n",
    "if number %2 == 0:\n",
    "    print(f\"girdiğiniz {number} is even\")\n",
    "else:\n",
    "    print(\"girdiğiniz {} is odd\".format(number))"
   ]
  },
  {
   "cell_type": "code",
   "execution_count": 33,
   "metadata": {
    "tags": []
   },
   "outputs": [
    {
     "output_type": "stream",
     "name": "stdout",
     "text": "girdiğiniz -25 is negative\n"
    }
   ],
   "source": [
    "number = float(input(\"bir rakam giriniz\"))\n",
    "if number > 0:\n",
    "    print(f\"girdiğiniz {number} is positive\")\n",
    "else:\n",
    "    print(\"girdiğiniz {} is negative\".format(number))"
   ]
  },
  {
   "cell_type": "code",
   "execution_count": 34,
   "metadata": {
    "tags": []
   },
   "outputs": [
    {
     "output_type": "stream",
     "name": "stdout",
     "text": "The large number is  56.0\n"
    }
   ],
   "source": [
    "num1 = float(input(\"birinci rakamı giriniz\"))\n",
    "num2 = float(input(\"ikinci rakamı giriniz\"))\n",
    "if num1 > num2:\n",
    "    print(\"The large number is \", num1)\n",
    "else:\n",
    "    print(\"The large number is \", num2)"
   ]
  },
  {
   "cell_type": "code",
   "execution_count": 35,
   "metadata": {
    "tags": []
   },
   "outputs": [
    {
     "output_type": "stream",
     "name": "stdout",
     "text": "The large number is  45.0\n"
    }
   ],
   "source": [
    "num1 = float(input(\"birinci rakamı giriniz\"))\n",
    "num2 = float(input(\"ikinci rakamı giriniz\"))\n",
    "if num1 > num2:\n",
    "    larger = num1\n",
    "else:\n",
    "    larger = num2\n",
    "print(\"The large number is \", larger)"
   ]
  },
  {
   "cell_type": "code",
   "execution_count": 36,
   "metadata": {
    "tags": []
   },
   "outputs": [
    {
     "output_type": "stream",
     "name": "stdout",
     "text": "Yes\n"
    }
   ],
   "source": [
    "bool_value = True\n",
    "if bool_value == True:\n",
    "    print(\"Yes\")\n",
    "else: \n",
    "    print(\"No\")"
   ]
  },
  {
   "cell_type": "code",
   "execution_count": 38,
   "metadata": {
    "tags": []
   },
   "outputs": [
    {
     "output_type": "stream",
     "name": "stdout",
     "text": "girilen en büyük sayı  100.0\n"
    }
   ],
   "source": [
    "num1 = float(input(\"birinci rakamı giriniz\"))\n",
    "num2 = float(input(\"ikinci rakamı giriniz\"))\n",
    "num3 = float(input(\"üçüncü rakamı giriniz\"))\n",
    "\n",
    "if (num1 > num2) and (num1 > num3):\n",
    "    largest = num1\n",
    "elif (num2 > num1) and (num2 > num3):\n",
    "    largest = num2\n",
    "else:\n",
    "    largest = num3\n",
    "print(\"girilen en büyük sayı \", largest )\n"
   ]
  },
  {
   "cell_type": "code",
   "execution_count": 41,
   "metadata": {
    "tags": []
   },
   "outputs": [
    {
     "output_type": "stream",
     "name": "stdout",
     "text": "girilen sayı sıfırdır.\n"
    }
   ],
   "source": [
    "num = float(input(\"rakamı giriniz\"))\n",
    "if num > 0:\n",
    "    print(\"sayı pozitifdir\")\n",
    "elif num < 0:\n",
    "    print(\"sayı negatifdir\")\n",
    "else:\n",
    "    print (\"girilen sayı sıfırdır.\")"
   ]
  },
  {
   "cell_type": "code",
   "execution_count": 43,
   "metadata": {
    "tags": []
   },
   "outputs": [
    {
     "output_type": "stream",
     "name": "stdout",
     "text": "A+\n"
    }
   ],
   "source": [
    "score = int(input(\"enter your score :\"))\n",
    "\n",
    "if score >= 90:\n",
    "    if score >= 95:\n",
    "        score = \"A+\"\n",
    "    else:\n",
    "        score = \"A\"\n",
    "\n",
    "print(score)"
   ]
  },
  {
   "cell_type": "code",
   "execution_count": 1,
   "metadata": {
    "tags": []
   },
   "outputs": [
    {
     "output_type": "stream",
     "name": "stdout",
     "text": "Shipping Costs €10\n"
    }
   ],
   "source": [
    "total = 149\n",
    "country = \"FR\"\n",
    "\n",
    "if country == \"FR\":\n",
    "    if total <= 50:\n",
    "        print(\"Shipping Cost is  €30\")\n",
    "    elif total <= 100:\n",
    "        print(\"Shipping Cost is €15\")\n",
    "    elif total <= 150:\n",
    "        print(\"Shipping Costs €10\")\n",
    "    else:\n",
    "        print(\"Free Shipping\")\n",
    "if country == \"DE\": \n",
    "    if total <= 50:\n",
    "        print(\"Shipping Cost is  €25\")\n",
    "    else:\n",
    "        print(\"Free Shipping\")"
   ]
  },
  {
   "cell_type": "code",
   "execution_count": 16,
   "metadata": {
    "tags": []
   },
   "outputs": [
    {
     "output_type": "stream",
     "name": "stdout",
     "text": "You saved more than half, keep saving!\n"
    }
   ],
   "source": [
    "ps4_price = 200\n",
    "saved_amount = int(input('Please enter your saved amount: '))\n",
    "if saved_amount <= ps4_price/2:\n",
    "    print(\"You must save more, keep saving!\")\n",
    "elif saved_amount > ps4_price:\n",
    "    print(\"Yippee! You can buy your PS4\")\n",
    "elif saved_amount > ps4_price/2:\n",
    "    print(\"You saved more than half, keep saving!\")\n"
   ]
  },
  {
   "cell_type": "code",
   "execution_count": 1,
   "metadata": {},
   "outputs": [
    {
     "output_type": "execute_result",
     "data": {
      "text/plain": "True"
     },
     "metadata": {},
     "execution_count": 1
    }
   ],
   "source": [
    "benim = [\"kagit\", \"kalem\", \"masa\", \"kitap\"]\n",
    "\"kagit\" in benim"
   ]
  },
  {
   "cell_type": "code",
   "execution_count": 6,
   "metadata": {
    "tags": []
   },
   "outputs": [
    {
     "output_type": "stream",
     "name": "stdout",
     "text": "<class 'tuple'>\ndiscounted price\n"
    }
   ],
   "source": [
    "audience_group = \"kid\", \"teen\", \"adult\"\n",
    "print(type(audince_group))\n",
    "audience = \"teen\"\n",
    "\n",
    "if audience in audience_group:\n",
    "    if audience == \"kid\":\n",
    "        print(\"It is free to go to cinema\")\n",
    "    elif audience == \"teen\":\n",
    "        print(\"discounted price\")\n",
    "    else: #audience == \"adult\"\n",
    "        print(\"normal price\")\n",
    "else:\n",
    "    print(\"No such audince, stay at your home!\")"
   ]
  },
  {
   "cell_type": "code",
   "execution_count": 15,
   "metadata": {
    "tags": []
   },
   "outputs": [
    {
     "output_type": "stream",
     "name": "stdout",
     "text": "your degree is below B\n"
    }
   ],
   "source": [
    "degree = int(input(\"enter your degree\"))\n",
    "if degree >= 90:\n",
    "    if degree >94 and degree <= 100:\n",
    "        print(\"your degree is A+\")\n",
    "    else:\n",
    "        print(\"your degree is A\")\n",
    "elif degree >=80 and degree <90:\n",
    "    if degree >84:\n",
    "        print(\"your degree is B+\")\n",
    "    else:\n",
    "        print(\"your degree is B\")\n",
    "else:\n",
    "    print(\"your degree is below B\")"
   ]
  },
  {
   "cell_type": "code",
   "execution_count": 16,
   "metadata": {
    "tags": []
   },
   "outputs": [
    {
     "output_type": "stream",
     "name": "stdout",
     "text": "B\n"
    }
   ],
   "source": [
    "degree = int(input(\"enter your degree\"))\n",
    "if degree >= 90:\n",
    "    if degree >94 and degree <= 100:\n",
    "        score_letter = \"A+\"\n",
    "    else:\n",
    "        score_letter = \"A\"\n",
    "elif degree >=80:\n",
    "    if degree >84:\n",
    "        score_letter = \"B+\"\n",
    "    else:\n",
    "        score_letter = \"B\"\n",
    "else:\n",
    "    score_letter = \"B-\"\n",
    "print(score_letter)"
   ]
  },
  {
   "cell_type": "code",
   "execution_count": 2,
   "metadata": {
    "tags": []
   },
   "outputs": [
    {
     "output_type": "stream",
     "name": "stdout",
     "text": "Your text has 7 vowels and 4 constants\n"
    }
   ],
   "source": [
    "text = input(\"Please enter a string : \").lower()\n",
    "constants = 0\n",
    "vowels = 0\n",
    "for i in range(len(text)):\n",
    "   if text[i] in set(\"aeıioöuü\"):\n",
    "       vowels += 1\n",
    "   elif text[i] in set(\"bcçdfgğhjklmnpqrsştwxyz\"):\n",
    "       constants += 1\n",
    "print(f\"Your text has {vowels} vowels and {constants} constants\")"
   ]
  },
  {
   "cell_type": "code",
   "execution_count": null,
   "metadata": {},
   "outputs": [],
   "source": []
  }
 ],
 "metadata": {
  "language_info": {
   "codemirror_mode": {
    "name": "ipython",
    "version": 3
   },
   "file_extension": ".py",
   "mimetype": "text/x-python",
   "name": "python",
   "nbconvert_exporter": "python",
   "pygments_lexer": "ipython3",
   "version": "3.8.2-final"
  },
  "orig_nbformat": 2,
  "kernelspec": {
   "name": "python36964bit03789e678b2849149d608e9dc1d904bf",
   "display_name": "Python 3.6.9 64-bit"
  }
 },
 "nbformat": 4,
 "nbformat_minor": 2
}