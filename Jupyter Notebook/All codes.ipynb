{
 "cells": [
  {
   "cell_type": "code",
   "execution_count": null,
   "metadata": {},
   "outputs": [],
   "source": [
    "# print fonsiyon demek.\n",
    "#type string = str = # any textual characters\n",
    "#type Integers = int = #type is called int, they are whole numbers (positive, negative or zero), including no decimal point. For example: 71, -122, 0\n",
    "#floats = float = #type is called float and they stand for real numbers with a decimal point. For example: 71.0, -33.03\n",
    "#complex = #they are written in the form, x + yj , where x is the real part and y is the imaginary part.\n",
    "#boolean = bool = # False and True. \n",
    "#int() – converts some data types into integer type.\n",
    "#float() – converts some data types into float type.\n",
    "#str() – converts any data type into string type.\n",
    "#-= decrements the variable in place,s\n",
    "#+= increment the variable in place,\n",
    "#*= multiply the variable in place,\n",
    "#/= divide the variable in place,\n",
    "#//= ﬂoor divide the variable in place,\n",
    "#%= returns the modulus of the variable in place,\n",
    "#**= raise to power in place.\n",
    "#\\n : means new line,\n",
    "#\\t : means tab mark,\n",
    "#\\b : means backspace. It moves the cursor one character to the left\n",
    "# \\kendinden sonraki işelmi iptal ediyor. print('we', '\\bare', '\\bunited', sep= '  ') we are united. \n",
    "#their priorities:not, and, or : None.Zero of any numeric type: 0, 0.0, 0j\n",
    "#Empty sequences and collections: '', [], {}\n",
    "#Other than above values, any remaining value is evaluated as True.\n",
    "#str.swapcase() converts upper case to lower case and vice versa.\n",
    "#str.capitalize() changes the first character of the string to the upper case and the rest to the lower case.\n",
    "#str.upper() converts all characters of the string to the upper case.\n",
    "#str.lower() converts all characters of the string to the lower case.\n",
    "#str.title() converts the first character of each word to upper case.\n",
    "#str.split() converts all characters of the string to seperate character\n",
    "#The formula syntax is : string.method()#str.strip() : removes all spaces (or specified characters) from both sides.\n",
    "#str.rstrip() : removes spaces (or specified characters) from the right side.\n",
    "#str.lstrip() : removes spaces (or specified characters) from the left side.\n",
    "\"\"\"None.\n",
    "\tZero of any numeric type: 0, 0.0, 0j\n",
    "\tEmpty sequences and collections: '', [], {}.\n",
    "\t- Other than above values, any remaining value is evaluated as True.\n",
    "\t- print(*yazi) output y a z i şeklinde birer boşluk bırakır. \"\"\"\n",
    "#my_list.append('adil') # listeye yeni bir eleman ekler.\n",
    "#print(my_list.pop()) #listeye yeni eklenen elemanı siler.\n",
    "#city.remove('London') listeden eleman siler.\n",
    "#city.sort()  # lists the items in alphabetical order\n",
    "# Lists:Earlier when discussing strings we introduced the concept of a sequence in Python. Lists can be thought of the most general version of a sequence in Python. Unlike strings, they are mutable, meaning the elements inside a list can be changed!\n",
    "# Tuples: In Python tuples are very similar to lists, however, unlike lists they are immutable meaning they can not be changed. You would use tuples to present things that shouldn't be changed, such as days of the week, or dates on a calendar.\n"
   ]
  },
  {
   "cell_type": "code",
   "execution_count": null,
   "metadata": {},
   "outputs": [],
   "source": [
    "# data=\"arrb6???4xxbl5???eee5\" #=> true\n",
    "# data=\"acc?7??sss?3rr1??????5\" #=> true\n",
    "# data=\"5??aaaaaaaaaaaaaaaaaaa?5?5\" #3=> false\n",
    "# data=\"aa6?9\" #=> false\n",
    "data=\"9???1???9???1???9\" #=> true\n",
    "backup,status=[],False\n",
    "for index1,i in enumerate(data):\n",
    "    for index2,j in enumerate(data[::-1]):\n",
    "        if i.isdigit() and j.isdigit():\n",
    "            backup.append(data[index1:len(data)-index2])\n",
    "for item in backup:\n",
    "    if len(item)>1 and int(item[0]) + int(item[-1]) == 10:\n",
    "        if item.count ('?')>=3:\n",
    "            status=status or True\n",
    "        else:\n",
    "            status=status and False\n",
    "            print(status)\n",
    "            break\n",
    "else:\n",
    "    print(status)"
   ]
  },
  {
   "cell_type": "code",
   "execution_count": null,
   "metadata": {},
   "outputs": [],
   "source": [
    "Booleans\n",
    "Operator\tDescription\tExample\n",
    "==\tIf the values of two operands are equal, then the condition becomes true.\t(a == b) is not true.\n",
    "!=\tIf values of two operands are not equal, then condition becomes true.\t(a != b) is true.\n",
    ">\tIf the value of left operand is greater than the value of right operand, then condition becomes true.\t(a > b) is not true.\n",
    "<\tIf the value of left operand is less than the value of right operand, then condition becomes true.\t(a < b) is true.\n",
    ">=\tIf the value of left operand is greater than or equal to the value of right operand, then condition becomes true.\t(a >= b) is not true.\n",
    "<=\tIf the value of left operand is less than or equal to the value of right operand, then condition becomes true.\t(a <= b) is true."
   ]
  },
  {
   "cell_type": "code",
   "execution_count": 1,
   "metadata": {},
   "outputs": [
    {
     "name": "stdout",
     "output_type": "stream",
     "text": [
      "\n",
      "Hi, I am the docstring of this code. \n",
      "If you need any information about this function or module, read me. \n",
      "It can help you understand how the module or function works.\n",
      "    \n"
     ]
    }
   ],
   "source": [
    "def function(): # Don't be confused, we use 'def()' to create a function. \n",
    "    \"\"\"\n",
    "Hi, I am the docstring of this code. \n",
    "If you need any information about this function or module, read me. \n",
    "It can help you understand how the module or function works.\n",
    "    \"\"\"\n",
    "print(function.__doc__)"
   ]
  },
  {
   "cell_type": "code",
   "execution_count": 2,
   "metadata": {},
   "outputs": [
    {
     "name": "stdout",
     "output_type": "stream",
     "text": [
      "<class 'str'>\n"
     ]
    }
   ],
   "source": [
    "example1 = 'sometimes what you say is less important than how you say it'\n",
    "print(type(example1))"
   ]
  },
  {
   "cell_type": "code",
   "execution_count": 10,
   "metadata": {},
   "outputs": [
    {
     "name": "stdout",
     "output_type": "stream",
     "text": [
      "3.14 \n",
      "\n",
      "<class 'str'>\n"
     ]
    }
   ],
   "source": [
    "f = 3.14 # the type is float\n",
    "s = str(f) # converting float to string\n",
    "print(s, '\\n') # '\\n' paragraf atlatıyor.\n",
    "print(type(s))"
   ]
  },
  {
   "cell_type": "code",
   "execution_count": 14,
   "metadata": {},
   "outputs": [
    {
     "name": "stdout",
     "output_type": "stream",
     "text": [
      "28\n",
      "36.5\n",
      "I am at_39\n"
     ]
    }
   ],
   "source": [
    "x = 39\n",
    "v = \"11\"\n",
    "y = \"2.5\"\n",
    "z = \"I am at_\"\n",
    "print(x-int(v))\n",
    "print(x-float(y))\n",
    "print(z+str(x))"
   ]
  },
  {
   "cell_type": "code",
   "execution_count": 15,
   "metadata": {},
   "outputs": [
    {
     "name": "stdout",
     "output_type": "stream",
     "text": [
      "70.0 F is enough for room temperature.\n"
     ]
    }
   ],
   "source": [
    "a = 36.5\n",
    "b = '30'\n",
    "c = '3.5'\n",
    "d = ' F is enough for room temperature.'\n",
    "print(str(a+int(b)+float(c))+d)"
   ]
  },
  {
   "cell_type": "code",
   "execution_count": 16,
   "metadata": {},
   "outputs": [
    {
     "name": "stdout",
     "output_type": "stream",
     "text": [
      "blue, 100, winter\n"
     ]
    }
   ],
   "source": [
    "color = 'red'  # str type variable\n",
    "season = 'summer'\n",
    "price = 250  # int type variable\n",
    "pi = 3.14  # float type variable\n",
    "color = 'blue'  # You can always assign a new value to a created variable\n",
    "price = 100  # value of 'price' is changed\n",
    "season = 'winter'  \n",
    "\n",
    "print(color, price, season, sep=', ')"
   ]
  },
  {
   "cell_type": "code",
   "execution_count": 17,
   "metadata": {},
   "outputs": [
    {
     "name": "stdout",
     "output_type": "stream",
     "text": [
      "5, 5, 5\n"
     ]
    }
   ],
   "source": [
    "a = 5\n",
    "b = 55\n",
    "c = 555\n",
    "c = a\n",
    "b = c\n",
    "a = b\n",
    "\n",
    "print(a, b, c, sep=', ')\n"
   ]
  },
  {
   "cell_type": "code",
   "execution_count": 18,
   "metadata": {},
   "outputs": [
    {
     "name": "stdout",
     "output_type": "stream",
     "text": [
      "15\n",
      "40.0\n",
      "-6\n"
     ]
    }
   ],
   "source": [
    "print(4 + 11) # sum of integers gives integer\n",
    "print(39 + 1.0) # sum of an integer and float gives float\n",
    "no1, no2 = 46, 52\n",
    "no3 = no1 - no2\n",
    "print(no3)"
   ]
  },
  {
   "cell_type": "code",
   "execution_count": 19,
   "metadata": {},
   "outputs": [
    {
     "name": "stdout",
     "output_type": "stream",
     "text": [
      "2.0\n"
     ]
    }
   ],
   "source": [
    "no1 = 46\n",
    "print(no1/23)  # division gives float"
   ]
  },
  {
   "cell_type": "code",
   "execution_count": 20,
   "metadata": {},
   "outputs": [
    {
     "name": "stdout",
     "output_type": "stream",
     "text": [
      "6.0\n"
     ]
    }
   ],
   "source": [
    "print((3 * 4)/2)  # parentheses are used as in normal mathematics operations"
   ]
  },
  {
   "cell_type": "code",
   "execution_count": 21,
   "metadata": {},
   "outputs": [
    {
     "name": "stdout",
     "output_type": "stream",
     "text": [
      "3\n"
     ]
    }
   ],
   "source": [
    "print(7 // 2)  # it gives integer part of division\n",
    "# bölme işleminde sağ tarafta kalan sonucu verir."
   ]
  },
  {
   "cell_type": "code",
   "execution_count": 22,
   "metadata": {},
   "outputs": [
    {
     "name": "stdout",
     "output_type": "stream",
     "text": [
      "1\n"
     ]
    }
   ],
   "source": [
    "print(9 % 2)  # remainder of this division is 1\n",
    "# it means 9 is an odd number.a\n",
    "# bölme işleminde kalan sayıyı ifade eder. "
   ]
  },
  {
   "cell_type": "code",
   "execution_count": 23,
   "metadata": {},
   "outputs": [
    {
     "name": "stdout",
     "output_type": "stream",
     "text": [
      "9\n"
     ]
    }
   ],
   "source": [
    "print(3**2)\n",
    "# 3 üzeri 2 demek o da 9 yapar."
   ]
  },
  {
   "cell_type": "code",
   "execution_count": 24,
   "metadata": {},
   "outputs": [
    {
     "name": "stdout",
     "output_type": "stream",
     "text": [
      "children deserve respect as much as adults in 2020\n"
     ]
    }
   ],
   "source": [
    "number = 2020\n",
    "text = \"children deserve respect as much as adults in\"\n",
    "print(text, number)"
   ]
  },
  {
   "cell_type": "code",
   "execution_count": 30,
   "metadata": {},
   "outputs": [
    {
     "name": "stdout",
     "output_type": "stream",
     "text": [
      "yesterday I ate 2 apples\n"
     ]
    }
   ],
   "source": [
    "print(\"yesterday I ate\",2,\"apples\")"
   ]
  },
  {
   "cell_type": "code",
   "execution_count": null,
   "metadata": {},
   "outputs": [],
   "source": [
    "print('i', end=' ')\n",
    "print('will say', end=' ')\n",
    "print(\"'i missed you'\", end=' ')\n",
    "print('to my mother') \n"
   ]
  },
  {
   "cell_type": "code",
   "execution_count": 42,
   "metadata": {},
   "outputs": [
    {
     "name": "stdout",
     "output_type": "stream",
     "text": [
      "smoking + is + slowly + killing me\n"
     ]
    }
   ],
   "source": [
    "print('smoking', 'is', 'slowly', 'killing me', sep=' + ')"
   ]
  },
  {
   "cell_type": "code",
   "execution_count": 34,
   "metadata": {},
   "outputs": [
    {
     "name": "stdout",
     "output_type": "stream",
     "text": [
      "<class 'str'>\n",
      "<class 'float'>\n",
      "<class 'int'>\n"
     ]
    }
   ],
   "source": [
    " print(type('hello'), type(3.14), type(74), sep='\\n')"
   ]
  },
  {
   "cell_type": "code",
   "execution_count": 36,
   "metadata": {},
   "outputs": [
    {
     "name": "stdout",
     "output_type": "stream",
     "text": [
      "C:\\november\\number_expenditure.txt\n"
     ]
    }
   ],
   "source": [
    "print('C:\\\\november\\number_expenditure.txt')"
   ]
  },
  {
   "cell_type": "code",
   "execution_count": 39,
   "metadata": {},
   "outputs": [
    {
     "name": "stdout",
     "output_type": "stream",
     "text": [
      "one\ttwo\tthree\n"
     ]
    }
   ],
   "source": [
    "print(\"one\", \"two\", \"three\", sep=\"\\t\") # separated by tab marks"
   ]
  },
  {
   "cell_type": "code",
   "execution_count": 40,
   "metadata": {},
   "outputs": [
    {
     "name": "stdout",
     "output_type": "stream",
     "text": [
      "weareunited\n"
     ]
    }
   ],
   "source": [
    "print('we', '\\bare', '\\bunited') # remember, normally print() function\n",
    "# separates expressions by spaces\n"
   ]
  },
  {
   "cell_type": "code",
   "execution_count": 44,
   "metadata": {},
   "outputs": [
    {
     "name": "stdout",
     "output_type": "stream",
     "text": [
      "we are united\n"
     ]
    }
   ],
   "source": [
    "print('we', '\\bare', '\\bunited', sep= '  ') # remember, normally print() function\n",
    "# separates expressions by spaces\n"
   ]
  },
  {
   "cell_type": "code",
   "execution_count": 1,
   "metadata": {
    "tags": []
   },
   "outputs": [
    {
     "name": "stdout",
     "output_type": "stream",
     "text": [
      "it's very easy\n"
     ]
    }
   ],
   "source": [
    "text1 = 'it'\n",
    "text2 = 'easy'\n",
    "print(text1 + '\\'s very ' + text2)"
   ]
  },
  {
   "cell_type": "code",
   "execution_count": 1,
   "metadata": {
    "tags": []
   },
   "outputs": [
    {
     "name": "stdout",
     "output_type": "stream",
     "text": [
      "True\n"
     ]
    }
   ],
   "source": [
    "#their priorities:not, and, or : None.Zero of any numeric type: 0, 0.0, 0j\n",
    "#Empty sequences and collections: '', [], {}\n",
    "#Other than above values, any remaining value is evaluated as True.\n",
    "logic = True and False or not False or False\n",
    "print(logic)"
   ]
  },
  {
   "cell_type": "code",
   "execution_count": 1,
   "metadata": {},
   "outputs": [
    {
     "data": {
      "text/plain": [
       "3.143"
      ]
     },
     "execution_count": 1,
     "metadata": {},
     "output_type": "execute_result"
    }
   ],
   "source": [
    "round(22/7, 3)"
   ]
  },
  {
   "cell_type": "code",
   "execution_count": 2,
   "metadata": {},
   "outputs": [
    {
     "data": {
      "text/plain": [
       "['p', 'y', 't', 'h', 'o', 'n']"
      ]
     },
     "execution_count": 2,
     "metadata": {},
     "output_type": "execute_result"
    }
   ],
   "source": [
    "list('python')"
   ]
  },
  {
   "cell_type": "code",
   "execution_count": 3,
   "metadata": {
    "tags": []
   },
   "outputs": [
    {
     "name": "stdout",
     "output_type": "stream",
     "text": [
      "[2, 14, 23, 23, 44, 45, 65, 222, 345, 776, 6654]\n"
     ]
    }
   ],
   "source": [
    "liste = [14,44,45,65,23,23,222,2,345,6654,776]\n",
    "liste.sort()\n",
    "print(liste)\n"
   ]
  },
  {
   "cell_type": "code",
   "execution_count": 8,
   "metadata": {
    "tags": []
   },
   "outputs": [
    {
     "name": "stdout",
     "output_type": "stream",
     "text": [
      "[6654, 776, 345, 222, 65, 45, 44, 23, 23, 14, 2]\n"
     ]
    }
   ],
   "source": [
    "liste = [14,44,45,65,23,23,222,2,345,6654,776]\n",
    "liste.sort(reverse=True)\n",
    "print(liste)"
   ]
  },
  {
   "cell_type": "code",
   "execution_count": 7,
   "metadata": {
    "tags": []
   },
   "outputs": [
    {
     "name": "stdout",
     "output_type": "stream",
     "text": [
      "I am doing good!\n",
      "2\n",
      "1\n",
      "{}\n",
      "1\n",
      "[]\n",
      "Hello World!\n"
     ]
    }
   ],
   "source": [
    "print(1 and \"I am doing good!\")\n",
    "print(2 or 3)\n",
    "print(None or 1)\n",
    "print(0 or {})\n",
    "print(1 or {})\n",
    "print([] and \"Hello World!\")\n",
    "print([] or \"Hello World!\")"
   ]
  },
  {
   "cell_type": "code",
   "execution_count": 8,
   "metadata": {
    "tags": []
   },
   "outputs": [
    {
     "name": "stdout",
     "output_type": "stream",
     "text": [
      "Word                   :  Orange\n",
      "First letter           :  O\n",
      "Second letter          :  r\n",
      "3rd to 5th letters     :  ang\n",
      "Letter all after 3rd   :  ange\n"
     ]
    }
   ],
   "source": [
    "fruit = 'Orange'\n",
    "\n",
    "print('Word                   : ' , fruit)\n",
    "print('First letter           : ' , fruit[0])\n",
    "print('Second letter          : ' , fruit[1])\n",
    "print(\"3rd to 5th letters     : \" , fruit[2:5])\n",
    "print(\"Letter all after 3rd   : \" , fruit[2:])"
   ]
  },
  {
   "cell_type": "code",
   "execution_count": 9,
   "metadata": {
    "tags": []
   },
   "outputs": [
    {
     "name": "stdout",
     "output_type": "stream",
     "text": [
      "hoenix\n",
      "Phoeni\n",
      "Ponx\n",
      "hei\n",
      "nix\n",
      "xineohP\n"
     ]
    }
   ],
   "source": [
    "city = 'Phoenix'\n",
    "\n",
    "print(city[1:])  # starts from index 1 to the end\n",
    "print(city[:6])  # starts from zero to 5th index\n",
    "print(city[::2])  # starts from zero to end by 2 step\n",
    "print(city[1::2])  # starts from index 1 to the end by 2 step\n",
    "print(city[-3:])  # starts from index -3 to the end\n",
    "print(city[::-1])  # negative step starts from the end to zero"
   ]
  },
  {
   "cell_type": "code",
   "execution_count": 10,
   "metadata": {
    "tags": []
   },
   "outputs": [
    {
     "name": "stdout",
     "output_type": "stream",
     "text": [
      "length of the word Tomato is : 6\n"
     ]
    }
   ],
   "source": [
    "vegetable = 'Tomato'\n",
    "\n",
    "print('length of the word', vegetable, 'is :', len(vegetable))"
   ]
  },
  {
   "cell_type": "code",
   "execution_count": 11,
   "metadata": {
    "tags": []
   },
   "outputs": [
    {
     "name": "stdout",
     "output_type": "stream",
     "text": [
      "on Language\n"
     ]
    }
   ],
   "source": [
    "str = 'Python Language'\n",
    "print(str[4:]) "
   ]
  },
  {
   "cell_type": "code",
   "execution_count": 24,
   "metadata": {
    "tags": []
   },
   "outputs": [
    {
     "name": "stdout",
     "output_type": "stream",
     "text": [
      "clarusway\n",
      "no way!no way!no way! no way!no way!no way!\n"
     ]
    }
   ],
   "source": [
    "print('clarus' + 'way')\n",
    "print(3*'no way!', 3*'no way!')"
   ]
  },
  {
   "cell_type": "code",
   "execution_count": 25,
   "metadata": {
    "tags": []
   },
   "outputs": [
    {
     "name": "stdout",
     "output_type": "stream",
     "text": [
      "using + : OrangeTomato\n",
      "using * : OrangeOrangeOrange\n"
     ]
    }
   ],
   "source": [
    "fruit = 'Orange'\n",
    "vegetable = 'Tomato'\n",
    "print(\"using + :\", fruit + vegetable)\n",
    "print(\"using * :\", 3 * fruit)"
   ]
  },
  {
   "cell_type": "code",
   "execution_count": 26,
   "metadata": {
    "tags": []
   },
   "outputs": [
    {
     "name": "stdout",
     "output_type": "stream",
     "text": [
      "orange apple\n"
     ]
    }
   ],
   "source": [
    "fruit = 'orange'\n",
    "fruit += ' apple'\n",
    "\n",
    "print(fruit)"
   ]
  },
  {
   "cell_type": "code",
   "execution_count": 28,
   "metadata": {
    "tags": []
   },
   "outputs": [
    {
     "name": "stdout",
     "output_type": "stream",
     "text": [
      "orange apple banana apricot\n"
     ]
    }
   ],
   "source": [
    "fruit = 'orange'\n",
    "fruit += ' apple'\n",
    "fruit += ' banana'\n",
    "fruit += ' apricot'\n",
    "\n",
    "print(fruit)"
   ]
  },
  {
   "cell_type": "code",
   "execution_count": 29,
   "metadata": {
    "tags": []
   },
   "outputs": [
    {
     "name": "stdout",
     "output_type": "stream",
     "text": [
      "AppleApple OrangeOrangeOrange\n"
     ]
    }
   ],
   "source": [
    "fruit1 = 'Apple'\n",
    "fruit2 = 'Orange'\n",
    "print(2*fruit1+' '+3*fruit2)"
   ]
  },
  {
   "cell_type": "code",
   "execution_count": 30,
   "metadata": {
    "tags": []
   },
   "outputs": [
    {
     "name": "stdout",
     "output_type": "stream",
     "text": [
      "apologizing\n"
     ]
    }
   ],
   "source": [
    "sentence = \"apologizing is a virtue\"\n",
    "\n",
    "print(\"%.11s\" % sentence)"
   ]
  },
  {
   "cell_type": "code",
   "execution_count": 1,
   "metadata": {
    "tags": []
   },
   "outputs": [
    {
     "name": "stdout",
     "output_type": "stream",
     "text": [
      "I have 4 children and 5.00 brothers\n"
     ]
    }
   ],
   "source": [
    "phrase = 'I have %d %s and %.2f brothers' % (4, \"children\", 5)  \n",
    "print (phrase) \n",
    "#In the '%s' syntax : s stands for 'string'.\n",
    "#In the '%.2f' syntax : f stands for 'float'. In this example 2 digits after point.\n",
    "#In the '%d' syntax : d stands for 'numeric'.\n"
   ]
  },
  {
   "cell_type": "code",
   "execution_count": 31,
   "metadata": {
    "tags": []
   },
   "outputs": [
    {
     "name": "stdout",
     "output_type": "stream",
     "text": [
      "33 pounds of bananas left\n"
     ]
    }
   ],
   "source": [
    "print('%(amount)d pounds of %(fruit)s left' % {'amount': 33, 'fruit':'bananas'})\n",
    "#In this example, we used two variables which are amount and fruit. If you noticed, we assign values to variables in curly braces '{}'. This format is a dictionary type that you will learn in the next lessons."
   ]
  },
  {
   "cell_type": "code",
   "execution_count": 1,
   "metadata": {
    "tags": []
   },
   "outputs": [
    {
     "name": "stdout",
     "output_type": "stream",
     "text": [
      "Hello\n"
     ]
    }
   ],
   "source": [
    "x = \"HelloWorld!\"\n",
    "print('%.5s' % x)"
   ]
  },
  {
   "cell_type": "code",
   "execution_count": 33,
   "metadata": {
    "tags": []
   },
   "outputs": [
    {
     "name": "stdout",
     "output_type": "stream",
     "text": [
      "0.0004109919991606148\n"
     ]
    }
   ],
   "source": [
    "#Time is useful module in python can be used to calculate the execution time.\n",
    "\n",
    "import time\n",
    "start = time.clock()\n",
    "for x in range(1000):\n",
    "    pass\n",
    "end = time.clock()\n",
    "total = end - start\n",
    "print(total)"
   ]
  },
  {
   "cell_type": "code",
   "execution_count": 34,
   "metadata": {
    "tags": []
   },
   "outputs": [
    {
     "name": "stdout",
     "output_type": "stream",
     "text": [
      "[2, 6, 10, 14, 18, 22, 26, 30, 34, 38, 42, 46, 50, 54, 58, 62, 66, 70, 74, 78, 82, 86, 90, 94, 98]\n"
     ]
    }
   ],
   "source": [
    "#2'den başla 100'e kadar 4'er 4'er say...\n",
    "my_list = list(range(2, 100, 4))\n",
    "print(my_list)"
   ]
  },
  {
   "cell_type": "code",
   "execution_count": 35,
   "metadata": {
    "tags": []
   },
   "outputs": [
    {
     "name": "stdout",
     "output_type": "stream",
     "text": [
      "The amount of Orange we bought is 4 pounds\n"
     ]
    }
   ],
   "source": [
    "fruit = 'Orange'\n",
    "vegetable = 'Tomato'\n",
    "amount = 4\n",
    "print('The amount of {} we bought is {} pounds'.format(fruit,amount))"
   ]
  },
  {
   "cell_type": "code",
   "execution_count": 1,
   "metadata": {
    "tags": []
   },
   "outputs": [
    {
     "name": "stdout",
     "output_type": "stream",
     "text": [
      "California is the most crowded state of the USA\n"
     ]
    }
   ],
   "source": [
    "print('{state} is the most {adjective} state of the {country}'.format(state='California', country='USA', adjective='crowded'))"
   ]
  },
  {
   "cell_type": "code",
   "execution_count": 2,
   "metadata": {
    "tags": []
   },
   "outputs": [
    {
     "name": "stdout",
     "output_type": "stream",
     "text": [
      "California is the most crowded state of the USA\n"
     ]
    }
   ],
   "source": [
    "print('{0} is the most {adjective} state of the {country}'.format('California', country='USA', adjective='crowded'))"
   ]
  },
  {
   "cell_type": "code",
   "execution_count": 3,
   "metadata": {
    "tags": []
   },
   "outputs": [
    {
     "name": "stdout",
     "output_type": "stream",
     "text": [
      "I will have found a job in 6 months\n"
     ]
    }
   ],
   "source": [
    "print(\"{6} {0} {5} {3} {4} {1} {2}\".format('have', 6, 'months', 'a job', 'in', 'found', 'I will'))"
   ]
  },
  {
   "cell_type": "code",
   "execution_count": 4,
   "metadata": {
    "tags": []
   },
   "outputs": [
    {
     "name": "stdout",
     "output_type": "stream",
     "text": [
      "Good teachers know how to bring out the best in students.\n"
     ]
    }
   ],
   "source": [
    "print(\"{9} {7} {1} {10} {3} {2} {5} {8} {6} {0} {4}\".format('in', 'know', 'bring', 'to', 'students.', 'out', 'best', 'teachers', 'the', 'Good', 'how'))"
   ]
  },
  {
   "cell_type": "code",
   "execution_count": 5,
   "metadata": {
    "tags": []
   },
   "outputs": [
    {
     "name": "stdout",
     "output_type": "stream",
     "text": [
      "The amount of Orange and Tomato we bought are totally 6 pounds\n"
     ]
    }
   ],
   "source": [
    "fruit = 'Orange'\n",
    "vegetable = 'Tomato'\n",
    "amount = 6\n",
    "output = f\"The amount of {fruit} and {vegetable} we bought are totally {amount} pounds\"\n",
    "\n",
    "print(output)"
   ]
  },
  {
   "cell_type": "code",
   "execution_count": 6,
   "metadata": {
    "tags": []
   },
   "outputs": [
    {
     "name": "stdout",
     "output_type": "stream",
     "text": [
      "20\n"
     ]
    }
   ],
   "source": [
    "result = f\"{4 * 5}\"\n",
    "\n",
    "print(result)"
   ]
  },
  {
   "cell_type": "code",
   "execution_count": null,
   "metadata": {},
   "outputs": [],
   "source": [
    "my_name = 'JOSEPH'\n",
    "output = f\"My name is {my_name.capitalize()}\"\n",
    "\n",
    "print(output)\n"
   ]
  },
  {
   "cell_type": "code",
   "execution_count": 7,
   "metadata": {
    "tags": []
   },
   "outputs": [
    {
     "name": "stdout",
     "output_type": "stream",
     "text": [
      "Hi Joseph. You are one of the teachers in the Data Science section.\n"
     ]
    }
   ],
   "source": [
    "name = \"Joseph\"\n",
    "job = \"teachers\"\n",
    "domain = \"Data Science\"\n",
    "message = (\n",
    "     f\"Hi {name}. \"\n",
    "     f\"You are one of the {job} \"\n",
    "     f\"in the {domain} section.\"\n",
    ")\n",
    "print(message)"
   ]
  },
  {
   "cell_type": "code",
   "execution_count": 8,
   "metadata": {
    "tags": []
   },
   "outputs": [
    {
     "name": "stdout",
     "output_type": "stream",
     "text": [
      "Hi Joseph. You are one of the teachers in the Data Science section.\n"
     ]
    }
   ],
   "source": [
    "#If you want to use multiple f-string formatting lines without parentheses, you will have the other option that you can use backslash \\ between lines.name = \"Joseph\"\n",
    "job = \"teachers\"\n",
    "domain = \"Data Science\"\n",
    "message = f\"Hi {name}. \" \\\n",
    "     f\"You are one of the {job} \" \\\n",
    "     f\"in the {domain} section.\"\n",
    "\n",
    "print(message)\n"
   ]
  },
  {
   "cell_type": "code",
   "execution_count": 11,
   "metadata": {
    "tags": []
   },
   "outputs": [
    {
     "name": "stdout",
     "output_type": "stream",
     "text": [
      "Hello, Adil Basaran\n",
      "output\n"
     ]
    }
   ],
   "source": [
    "first_name = 'Adil'\n",
    "last_name = 'Basaran'\n",
    "output = 'Hello, ' + first_name+ ' ' + last_name\n",
    "print(output)\n",
    "print('output') # when we use quotion marks its write only output."
   ]
  },
  {
   "cell_type": "code",
   "execution_count": 12,
   "metadata": {
    "tags": []
   },
   "outputs": [
    {
     "name": "stdout",
     "output_type": "stream",
     "text": [
      "Hello, Adil Basaran\n"
     ]
    }
   ],
   "source": [
    "first_name = 'Adil'\n",
    "last_name = 'Basaran'\n",
    "output ='Hello, {} {}'.format(first_name, last_name)\n",
    "print(output)"
   ]
  },
  {
   "cell_type": "code",
   "execution_count": 13,
   "metadata": {
    "tags": []
   },
   "outputs": [
    {
     "name": "stdout",
     "output_type": "stream",
     "text": [
      "Hello, Adil Basaran\n"
     ]
    }
   ],
   "source": [
    "first_name = 'Adil'\n",
    "last_name = 'Basaran'\n",
    "output ='Hello, {0} {1}'.format(first_name, last_name)\n",
    "print(output)"
   ]
  },
  {
   "cell_type": "code",
   "execution_count": 14,
   "metadata": {
    "tags": []
   },
   "outputs": [
    {
     "name": "stdout",
     "output_type": "stream",
     "text": [
      "Hello, Adil Basaran\n"
     ]
    }
   ],
   "source": [
    "first_name = 'Adil'\n",
    "last_name = 'Basaran'\n",
    "output =f'Hello, {first_name} {last_name}'\n",
    "print(output)"
   ]
  },
  {
   "cell_type": "code",
   "execution_count": 15,
   "metadata": {
    "tags": []
   },
   "outputs": [
    {
     "name": "stdout",
     "output_type": "stream",
     "text": [
      "True\n",
      "False\n"
     ]
    }
   ],
   "source": [
    "text = 'www.clarusway.com'\n",
    "print(text.endswith('.com'))\n",
    "print(text.startswith('http:'))\n"
   ]
  },
  {
   "cell_type": "code",
   "execution_count": 16,
   "metadata": {
    "tags": []
   },
   "outputs": [
    {
     "name": "stdout",
     "output_type": "stream",
     "text": [
      "True\n",
      "True\n"
     ]
    }
   ],
   "source": [
    "text = 'www.clarusway.com'\n",
    "print(text.endswith('om'))\n",
    "print(text.startswith('w'))"
   ]
  },
  {
   "cell_type": "code",
   "execution_count": 17,
   "metadata": {
    "tags": []
   },
   "outputs": [
    {
     "name": "stdout",
     "output_type": "stream",
     "text": [
      "True\n",
      "True\n"
     ]
    }
   ],
   "source": [
    "email = \"clarusway@clarusway.com is my e-mail address\"\n",
    "print(email.startswith(\"@\", 9))\n",
    "print(email.endswith(\"-\", 10, 32))"
   ]
  },
  {
   "cell_type": "code",
   "execution_count": 8,
   "metadata": {
    "tags": []
   },
   "outputs": [
    {
     "name": "stdout",
     "output_type": "stream",
     "text": [
      "28\n",
      "True\n",
      "False\n"
     ]
    }
   ],
   "source": [
    "phrase = \"myemailaddress@clarusway.com\"\n",
    "print(len(phrase))\n",
    "print(phrase.startswith(\"@\", 14))\n",
    "print(phrase.endswith(\"-\", 15, 24))"
   ]
  },
  {
   "cell_type": "code",
   "execution_count": 11,
   "metadata": {},
   "outputs": [
    {
     "data": {
      "text/plain": [
       "True"
      ]
     },
     "execution_count": 11,
     "metadata": {},
     "output_type": "execute_result"
    }
   ],
   "source": [
    "\"ahmet\".startswith((\"a\", \"h\", \"m\"), 2)"
   ]
  },
  {
   "cell_type": "code",
   "execution_count": 14,
   "metadata": {},
   "outputs": [
    {
     "data": {
      "text/plain": [
       "True"
      ]
     },
     "execution_count": 14,
     "metadata": {},
     "output_type": "execute_result"
    }
   ],
   "source": [
    "\"ayçiçeği\".endswith((\"i\", \"ğ\"))"
   ]
  },
  {
   "cell_type": "code",
   "execution_count": 15,
   "metadata": {},
   "outputs": [
    {
     "data": {
      "text/plain": [
       "'ahm-e-t'"
      ]
     },
     "execution_count": 15,
     "metadata": {},
     "output_type": "execute_result"
    }
   ],
   "source": [
    "\"a-h-m-e-t\".replace(\"-\", \"\", 2) # 2 ssayısı kaç tane değişim yapılacağı bilgisini verir. Rakam girmezsek hepsini siler."
   ]
  },
  {
   "cell_type": "code",
   "execution_count": null,
   "metadata": {},
   "outputs": [],
   "source": []
  },
  {
   "cell_type": "code",
   "execution_count": 13,
   "metadata": {
    "tags": []
   },
   "outputs": [
    {
     "name": "stdout",
     "output_type": "stream",
     "text": [
      "I LIVE AND WORK IN VIRGINIA\n",
      "i live and work in virginia\n",
      "i LIVE AND WORK IN vIRGINIA\n",
      "I live and work in Virginia\n"
     ]
    }
   ],
   "source": [
    "sentence = \"I live and work in Virginia\"\n",
    "\n",
    "print(sentence.upper())  \n",
    "\n",
    "print(sentence.lower())\n",
    "\n",
    "print(sentence.swapcase())\n",
    "\n",
    "print(sentence)  # note that, source text is unchanged"
   ]
  },
  {
   "cell_type": "code",
   "execution_count": 20,
   "metadata": {
    "tags": []
   },
   "outputs": [
    {
     "name": "stdout",
     "output_type": "stream",
     "text": [
      "I Live And Work In Virginia\n",
      "I l+ve and work +n V+rg+n+a\n",
      "I live and work in Virginia\n"
     ]
    }
   ],
   "source": [
    "sentence = \"I live and work in Virginia\"\n",
    "title_sentence = sentence.title() \n",
    "print(title_sentence)  \n",
    "\n",
    "changed_sentence = sentence.replace(\"i\", \"+\")\n",
    "print(changed_sentence)  \n",
    "\n",
    "print(sentence)  \n",
    "# note that, again source text is unchanged"
   ]
  },
  {
   "cell_type": "code",
   "execution_count": 21,
   "metadata": {
    "tags": []
   },
   "outputs": [
    {
     "name": "stdout",
     "output_type": "stream",
     "text": [
      "i LIVE AND WORK IN vIRGINIA\n",
      "I live and work in virginia\n"
     ]
    }
   ],
   "source": [
    "sentence = \"I live and work in Virginia\"\n",
    "swap_case = sentence.swapcase()\n",
    "print(swap_case)\n",
    "print(swap_case.capitalize())  # changes 'i' to uppercase and\n",
    "# the rest to lowercase"
   ]
  },
  {
   "cell_type": "code",
   "execution_count": 22,
   "metadata": {
    "tags": []
   },
   "outputs": [
    {
     "name": "stdout",
     "output_type": "stream",
     "text": [
      "listen first\n"
     ]
    }
   ],
   "source": [
    "space_string = \"     listen first      \"\n",
    "print(space_string.strip())  # removes all spaces from both sides"
   ]
  },
  {
   "cell_type": "code",
   "execution_count": 23,
   "metadata": {
    "tags": []
   },
   "outputs": [
    {
     "name": "stdout",
     "output_type": "stream",
     "text": [
      "nteroperabilit\n"
     ]
    }
   ],
   "source": [
    "source_string = \"interoperability\"\n",
    "print(source_string.strip(\"yi\"))  \n",
    "# removes trailing \"y\" or \"i\" or \"yi\" or \"iy\" from both sides"
   ]
  },
  {
   "cell_type": "code",
   "execution_count": 24,
   "metadata": {
    "tags": []
   },
   "outputs": [
    {
     "name": "stdout",
     "output_type": "stream",
     "text": [
      "listen first\n"
     ]
    }
   ],
   "source": [
    "space_string = \"     listen first      \"\n",
    "print(space_string.rstrip())  # removes all spaces from right sides"
   ]
  },
  {
   "cell_type": "code",
   "execution_count": 25,
   "metadata": {
    "tags": []
   },
   "outputs": [
    {
     "name": "stdout",
     "output_type": "stream",
     "text": [
      "teroperability\n"
     ]
    }
   ],
   "source": [
    "source_string = \"interoperability\"\n",
    "print(source_string.lstrip(\"in\"))  \n",
    "# removes \"i\" or \"n\" or \"in\" or \"ni\" from the left side"
   ]
  },
  {
   "cell_type": "code",
   "execution_count": 5,
   "metadata": {
    "tags": []
   },
   "outputs": [
    {
     "name": "stdout",
     "output_type": "stream",
     "text": [
      "Merhaba sayın adilbasaran, sitemize hos geldiniz\n"
     ]
    }
   ],
   "source": [
    "isim = \"adil\"\n",
    "soyisim = \"basaran\"\n",
    "print(\"Merhaba sayın {}{}, sitemize hos geldiniz\".format(isim, soyisim)) "
   ]
  },
  {
   "cell_type": "code",
   "execution_count": 7,
   "metadata": {
    "tags": []
   },
   "outputs": [
    {
     "name": "stdout",
     "output_type": "stream",
     "text": [
      "Merhaba sayın adil basaran, sitemize hos geldiniz\n"
     ]
    }
   ],
   "source": [
    "isim = \"adil\"\n",
    "soyisim = \"basaran\"\n",
    "print(\"Merhaba sayın %s %s, sitemize hos geldiniz\" %(isim, soyisim)) "
   ]
  },
  {
   "cell_type": "code",
   "execution_count": 1,
   "metadata": {
    "tags": []
   },
   "outputs": [
    {
     "name": "stdout",
     "output_type": "stream",
     "text": [
      "4+ali+True\n"
     ]
    }
   ],
   "source": [
    "a = 4\n",
    "b = 'ali'\n",
    "c = True\n",
    "print(a, b, c,sep=\"+\")"
   ]
  },
  {
   "cell_type": "code",
   "execution_count": 6,
   "metadata": {
    "tags": []
   },
   "outputs": [
    {
     "name": "stdout",
     "output_type": "stream",
     "text": [
      "aliali\n"
     ]
    }
   ],
   "source": [
    "a = 4\n",
    "b = 'ali'\n",
    "c = True\n",
    "print(b, end=\"\")\n",
    "print(b)"
   ]
  },
  {
   "cell_type": "code",
   "execution_count": 10,
   "metadata": {
    "tags": []
   },
   "outputs": [
    {
     "name": "stdout",
     "output_type": "stream",
     "text": [
      "a l i\n"
     ]
    }
   ],
   "source": [
    "a = 4\n",
    "b = 'ali'\n",
    "c = True\n",
    "print(*b) "
   ]
  },
  {
   "cell_type": "code",
   "execution_count": 12,
   "metadata": {
    "tags": []
   },
   "outputs": [
    {
     "name": "stdout",
     "output_type": "stream",
     "text": [
      "T.B.M.M\n"
     ]
    }
   ],
   "source": [
    "yazi = \"TBMM\"\n",
    "print(*yazi,sep=\".\")"
   ]
  },
  {
   "cell_type": "code",
   "execution_count": 13,
   "metadata": {},
   "outputs": [
    {
     "data": {
      "text/plain": [
       "(3, 0)"
      ]
     },
     "execution_count": 13,
     "metadata": {},
     "output_type": "execute_result"
    }
   ],
   "source": [
    "divmod(12, 4)#bolme ve kalma cıkartıyor"
   ]
  },
  {
   "cell_type": "code",
   "execution_count": 22,
   "metadata": {},
   "outputs": [
    {
     "data": {
      "text/plain": [
       "[(0, 'p'), (1, 'y'), (2, 't'), (3, 'h'), (4, 'o'), (5, 'n')]"
      ]
     },
     "execution_count": 22,
     "metadata": {},
     "output_type": "execute_result"
    }
   ],
   "source": [
    "a = enumerate(\"python\")\n",
    "list(a) #super"
   ]
  },
  {
   "cell_type": "code",
   "execution_count": 32,
   "metadata": {
    "tags": []
   },
   "outputs": [
    {
     "name": "stdout",
     "output_type": "stream",
     "text": [
      "(0, 'p')\n",
      "(1, 'y')\n",
      "(2, 't')\n",
      "(3, 'h')\n",
      "(4, 'o')\n",
      "(5, 'n')\n"
     ]
    }
   ],
   "source": [
    "a = 'python'\n",
    "for eleman in enumerate(a):\n",
    "    print(eleman)"
   ]
  },
  {
   "cell_type": "code",
   "execution_count": 33,
   "metadata": {
    "tags": []
   },
   "outputs": [
    {
     "name": "stdout",
     "output_type": "stream",
     "text": [
      "\n",
      "Welcome to Python 3.7's help utility!\n",
      "\n",
      "If this is your first time using Python, you should definitely check out\n",
      "the tutorial on the Internet at https://docs.python.org/3.7/tutorial/.\n",
      "\n",
      "Enter the name of any module, keyword, or topic to get help on writing\n",
      "Python programs and using Python modules.  To quit this help utility and\n",
      "return to the interpreter, just type \"quit\".\n",
      "\n",
      "To get a list of available modules, keywords, symbols, or topics, type\n",
      "\"modules\", \"keywords\", \"symbols\", or \"topics\".  Each module also comes\n",
      "with a one-line summary of what it does; to list the modules whose name\n",
      "or summary contain a given string such as \"spam\", type \"modules spam\".\n",
      "\n",
      "\n",
      "You are now leaving help and returning to the Python interpreter.\n",
      "If you want to ask for help on a particular object directly from the\n",
      "interpreter, you can type \"help(object)\".  Executing \"help('string')\"\n",
      "has the same effect as typing a particular string at the help> prompt.\n"
     ]
    }
   ],
   "source": [
    "help()    # özellikle yeni oython shell acıp help() yazdığında her kod ile bilgi alınabilinir. "
   ]
  },
  {
   "cell_type": "code",
   "execution_count": 38,
   "metadata": {
    "tags": []
   },
   "outputs": [
    {
     "name": "stdout",
     "output_type": "stream",
     "text": [
      "asd\n",
      "<class 'str'>\n"
     ]
    }
   ],
   "source": [
    "isim = input(\"isim girin:\")\n",
    "print(isim)\n",
    "print(type(isim))\n"
   ]
  },
  {
   "cell_type": "code",
   "execution_count": 43,
   "metadata": {
    "tags": []
   },
   "outputs": [
    {
     "name": "stdout",
     "output_type": "stream",
     "text": [
      "giremezsiniz\n"
     ]
    }
   ],
   "source": [
    "isim = input(\"isim girin:\")\n",
    "yas = input(\"yaşınızı girin:\")\n",
    "\n",
    "if int(yas) < 18:\n",
    "    print(\"giremezsiniz\")\n",
    "else:\n",
    "    print(\"hoşgeldin\")    "
   ]
  },
  {
   "cell_type": "code",
   "execution_count": 46,
   "metadata": {},
   "outputs": [
    {
     "data": {
      "text/plain": [
       "49"
      ]
     },
     "execution_count": 46,
     "metadata": {},
     "output_type": "execute_result"
    }
   ],
   "source": [
    "ord(\"1\") #ASII code numarasını gösteriyor."
   ]
  },
  {
   "cell_type": "code",
   "execution_count": 47,
   "metadata": {},
   "outputs": [
    {
     "data": {
      "text/plain": [
       "8"
      ]
     },
     "execution_count": 47,
     "metadata": {},
     "output_type": "execute_result"
    }
   ],
   "source": [
    "pow(2,3) #x**y"
   ]
  },
  {
   "cell_type": "code",
   "execution_count": 48,
   "metadata": {},
   "outputs": [],
   "source": [
    "dosya = open(\"ornek.txt\", \"w\")\n",
    "print(\"jack\", file = dosya)\n",
    "dosya.close() #yan tarafta ornek isimli dosya oluşturdu."
   ]
  },
  {
   "cell_type": "code",
   "execution_count": 52,
   "metadata": {
    "tags": []
   },
   "outputs": [
    {
     "name": "stdout",
     "output_type": "stream",
     "text": [
      "0 1 2 3\n"
     ]
    }
   ],
   "source": [
    "print(*range(4))"
   ]
  },
  {
   "cell_type": "code",
   "execution_count": 53,
   "metadata": {
    "tags": []
   },
   "outputs": [
    {
     "name": "stdout",
     "output_type": "stream",
     "text": [
      "40 38 36 34 32 30 28 26 24 22 20 18 16 14 12 10 8 6 4\n"
     ]
    }
   ],
   "source": [
    "print(*range(40, 2, -2))"
   ]
  },
  {
   "cell_type": "code",
   "execution_count": 56,
   "metadata": {
    "tags": []
   },
   "outputs": [
    {
     "name": "stdout",
     "output_type": "stream",
     "text": [
      "0 1 2 3 4 5 6 7 8 9 10 11 12 13 14 15 16 17 18 19 20 21 22 23 24 25 26 27 28 29 30 31 32 33 34 35 36 37 38 39 40 41 42 43 44 45 46 47 48 49 50 51 52 53 54 55 56 57 58 59 60 61 62 63 64 65 66 67 68 69 70 71 72 73 74 75 76 77 78 79 80 81 82 83 84 85 86 87 88 89 90 91 92 93 94 95 96 97 98 99"
     ]
    }
   ],
   "source": [
    "aralık = range(100)\n",
    "for sayi in aralık:\n",
    "    print(sayi, end= \" \")"
   ]
  },
  {
   "cell_type": "code",
   "execution_count": 2,
   "metadata": {
    "tags": []
   },
   "outputs": [
    {
     "name": "stdout",
     "output_type": "stream",
     "text": [
      "value of x     :  5\n",
      "2 more of x    :  7 \n",
      "\n",
      "value of y     :  10\n",
      "2 minus y      :  8 \n",
      "\n",
      "value of z     :  6\n",
      "2 times z      :  12 \n",
      "\n"
     ]
    }
   ],
   "source": [
    "x = 5\n",
    "print('value of x     : ', x)\n",
    "x += 2\n",
    "print('2 more of x    : ', x, \"\\n\")\n",
    "y = 10\n",
    "print('value of y     : ', y)\n",
    "y -= 2 \n",
    "print(\"2 minus y      : \", y, \"\\n\") \n",
    "z = 6\n",
    "print('value of z     : ',z)\n",
    "z *=2\n",
    "print(\"2 times z      : \", z, \"\\n\")"
   ]
  },
  {
   "cell_type": "code",
   "execution_count": 9,
   "metadata": {
    "tags": []
   },
   "outputs": [
    {
     "name": "stdout",
     "output_type": "stream",
     "text": [
      "c:\\north pole\n",
      "oise_penguins.txt\n",
      "--------\n",
      "first\tsecond\tthird\n"
     ]
    }
   ],
   "source": [
    "print('c:\\\\north pole\\noise_penguins.txt')\n",
    "print(\"--------\")\n",
    "print('first', 'second', 'third', sep='\\t')"
   ]
  },
  {
   "cell_type": "code",
   "execution_count": 13,
   "metadata": {
    "tags": []
   },
   "outputs": [
    {
     "name": "stdout",
     "output_type": "stream",
     "text": [
      "we areoosting ourrotherhood\n",
      "it's essential to learn Python's libraries in TT World!\n"
     ]
    }
   ],
   "source": [
    "print('we are', '\\boosting', 'our', '\\brotherhood')\n",
    "print('it\\'s essential to learn Python\\'s libraries in TT World')"
   ]
  },
  {
   "cell_type": "code",
   "execution_count": 51,
   "metadata": {
    "tags": []
   },
   "outputs": [
    {
     "name": "stdout",
     "output_type": "stream",
     "text": [
      "Clarusway, Clarusway, Clarusway,\n",
      "        Clarusway, Clarusway, Clarusway,\n",
      "                Clarusway, Clarusway, Clarusway\n"
     ]
    }
   ],
   "source": [
    "text = \"Clarusway,\"\n",
    "text1 = \"       \"\n",
    "text2 = \"Clarusway\"\n",
    "print(text, text, text, sep=\" \")\n",
    "print(text1, text, text, text, sep=\" \")\n",
    "print(text1, text1, text, text, text2, sep=\" \")"
   ]
  },
  {
   "cell_type": "code",
   "execution_count": 57,
   "metadata": {
    "tags": []
   },
   "outputs": [
    {
     "name": "stdout",
     "output_type": "stream",
     "text": [
      "Clarusway, Clarusway, Clarusway,\n",
      "\tClarusway, Clarusway, Clarusway, \n",
      "\t\tClarusway, Clarusway, Clarusway\n"
     ]
    }
   ],
   "source": [
    "text = \"Clarusway, Clarusway, Clarusway,\\n\\tClarusway, Clarusway, Clarusway, \\n\\t\\tClarusway, Clarusway, Clarusway\"\n",
    "print(text)"
   ]
  },
  {
   "cell_type": "code",
   "execution_count": 58,
   "metadata": {
    "tags": []
   },
   "outputs": [
    {
     "name": "stdout",
     "output_type": "stream",
     "text": [
      "0\n",
      "True\n"
     ]
    }
   ],
   "source": [
    "print(1 and 0)\n",
    "print(not 0)"
   ]
  },
  {
   "cell_type": "code",
   "execution_count": 69,
   "metadata": {},
   "outputs": [
    {
     "data": {
      "text/plain": [
       "'adil'"
      ]
     },
     "execution_count": 69,
     "metadata": {},
     "output_type": "execute_result"
    }
   ],
   "source": [
    "\"\" or \"adil\" or \"istanbul\" or 0"
   ]
  },
  {
   "cell_type": "code",
   "execution_count": 70,
   "metadata": {},
   "outputs": [
    {
     "data": {
      "text/plain": [
       "'istanbul'"
      ]
     },
     "execution_count": 70,
     "metadata": {},
     "output_type": "execute_result"
    }
   ],
   "source": [
    "\"\" and \"adil\" or \"istanbul\" or 0"
   ]
  },
  {
   "cell_type": "code",
   "execution_count": 72,
   "metadata": {
    "tags": []
   },
   "outputs": [
    {
     "name": "stdout",
     "output_type": "stream",
     "text": [
      "1\n"
     ]
    }
   ],
   "source": [
    "print(None or 1)"
   ]
  },
  {
   "cell_type": "code",
   "execution_count": 74,
   "metadata": {
    "tags": []
   },
   "outputs": [
    {
     "name": "stdout",
     "output_type": "stream",
     "text": [
      "True\n"
     ]
    }
   ],
   "source": [
    "logic = True and not [] or 'False' or {'True'} #not operatörün yanına ne gelirse tesine cevirir. '' bu gelirse True yapar.\n",
    "print(logic)"
   ]
  },
  {
   "cell_type": "code",
   "execution_count": 77,
   "metadata": {
    "tags": []
   },
   "outputs": [
    {
     "name": "stdout",
     "output_type": "stream",
     "text": [
      "3\n",
      "0\n"
     ]
    }
   ],
   "source": [
    "print(2 and 3)\n",
    "print(1 and 0)"
   ]
  },
  {
   "cell_type": "code",
   "execution_count": 78,
   "metadata": {
    "tags": []
   },
   "outputs": [
    {
     "name": "stdout",
     "output_type": "stream",
     "text": [
      "hello world\n",
      "[]\n",
      "None\n"
     ]
    }
   ],
   "source": [
    "print(2 and \"hello world\")\n",
    "print([] and \"be happy\" )\n",
    "print(None and ())"
   ]
  },
  {
   "cell_type": "code",
   "execution_count": 81,
   "metadata": {
    "tags": []
   },
   "outputs": [
    {
     "name": "stdout",
     "output_type": "stream",
     "text": [
      "3\n",
      "2\n"
     ]
    }
   ],
   "source": [
    "print(None or 3)\n",
    "print(2 or 3)"
   ]
  },
  {
   "cell_type": "code",
   "execution_count": 86,
   "metadata": {
    "tags": []
   },
   "outputs": [
    {
     "name": "stdout",
     "output_type": "stream",
     "text": [
      "2\n",
      "happy\n",
      "()\n",
      "0\n",
      "{0}\n",
      "{}\n"
     ]
    }
   ],
   "source": [
    "print(2 or \"hello\")\n",
    "print([] or \"happy\")\n",
    "print(None or ())\n",
    "print({} or 0)\n",
    "print({0} or False)\n",
    "print ({} and 0)"
   ]
  },
  {
   "cell_type": "code",
   "execution_count": 87,
   "metadata": {
    "tags": []
   },
   "outputs": [
    {
     "name": "stdout",
     "output_type": "stream",
     "text": [
      "hello\n",
      "[]\n",
      "None\n",
      "2\n",
      "happy\n",
      "()\n"
     ]
    }
   ],
   "source": [
    "print(2 and \"hello\")\n",
    "print([] and \"happy\")\n",
    "print(None and ())\n",
    "print(2 or \"hello\")\n",
    "print([] or \"happy\")\n",
    "print(None or ())"
   ]
  },
  {
   "cell_type": "code",
   "execution_count": null,
   "metadata": {},
   "outputs": [],
   "source": [
    "Cryptocurrency_balance = 1000 # $\n",
    "daily_profit = 7 # %\n",
    "print(\"Beginning Cryptocurrency Balance :\", Cryptocurrency_balance, \"$\", \"\\n\") \n",
    "for a in range(1,8):\n",
    "    Cryptocurrency_balance += Cryptocurrency_balance * daily_profit/100\n",
    "    print(a, \"day: You have\",  round(Cryptocurrency_balance, 3), \"$\", \"end of the day.\")\n",
    "print()\n",
    "print(\"Total balance : You have\", round(Cryptocurrency_balance, 3), \"$\", \"end of the week.\")"
   ]
  },
  {
   "cell_type": "code",
   "execution_count": 8,
   "metadata": {
    "tags": []
   },
   "outputs": [
    {
     "name": "stdout",
     "output_type": "stream",
     "text": [
      "u p p e r c a s e c a s e c a s e l e t t e r\n"
     ]
    }
   ],
   "source": [
    "str_one = 'upper'\n",
    "str_one += 3 * 'case'\n",
    "str_one += 'letter'\n",
    "print(* str_one)\n"
   ]
  },
  {
   "cell_type": "code",
   "execution_count": 1,
   "metadata": {
    "tags": []
   },
   "outputs": [
    {
     "name": "stdout",
     "output_type": "stream",
     "text": [
      "['I', 'LIVE', 'AND', 'WORK', 'IN', 'VIRGINIA']\n",
      "I LIVE AND WORK IN VIRGINIA\n"
     ]
    }
   ],
   "source": [
    "sentence = \"I live and work in Virginia\"\n",
    "sentence = sentence.upper()\n",
    "print(sentence.split()) \n",
    "print(sentence) "
   ]
  },
  {
   "cell_type": "code",
   "execution_count": 4,
   "metadata": {
    "tags": []
   },
   "outputs": [
    {
     "name": "stdout",
     "output_type": "stream",
     "text": [
      "['I l', 've and work ', 'n V', 'rg', 'n', 'a']\n"
     ]
    }
   ],
   "source": [
    "sentence = \"I live and work in Virginia\"\n",
    "print(sentence.split('i')) \n"
   ]
  },
  {
   "cell_type": "code",
   "execution_count": 7,
   "metadata": {
    "tags": []
   },
   "outputs": [
    {
     "name": "stdout",
     "output_type": "stream",
     "text": [
      "My names Adil Basaran and ...\n"
     ]
    }
   ],
   "source": [
    "print(\"My names {} and ...\".format('Adil Basaran'))"
   ]
  },
  {
   "cell_type": "code",
   "execution_count": 8,
   "metadata": {
    "tags": []
   },
   "outputs": [
    {
     "name": "stdout",
     "output_type": "stream",
     "text": [
      "The quick brown fox\n"
     ]
    }
   ],
   "source": [
    "print('The {2} {1} {0}'.format('fox', 'brown', 'quick'))"
   ]
  },
  {
   "cell_type": "code",
   "execution_count": 9,
   "metadata": {
    "tags": []
   },
   "outputs": [
    {
     "name": "stdout",
     "output_type": "stream",
     "text": [
      "The quick fox brown\n"
     ]
    }
   ],
   "source": [
    "print('The {q} {f} {b}'.format(f = 'fox', b = 'brown', q= 'quick'))"
   ]
  },
  {
   "cell_type": "code",
   "execution_count": 20,
   "metadata": {
    "tags": []
   },
   "outputs": [
    {
     "name": "stdout",
     "output_type": "stream",
     "text": [
      "The result was 0.143\n"
     ]
    }
   ],
   "source": [
    "result = 100/700\n",
    "print(\"The result was {r:1.3f}\".format(r = result))"
   ]
  },
  {
   "cell_type": "code",
   "execution_count": 25,
   "metadata": {
    "tags": []
   },
   "outputs": [
    {
     "name": "stdout",
     "output_type": "stream",
     "text": [
      "Hello, his name is adil\n",
      "Hello, his name is adil\n"
     ]
    }
   ],
   "source": [
    "name = 'adil'\n",
    "print('Hello, his name is {}'.format(name))\n",
    "print(f'Hello, his name is {name}')"
   ]
  },
  {
   "cell_type": "code",
   "execution_count": 27,
   "metadata": {
    "tags": []
   },
   "outputs": [
    {
     "name": "stdout",
     "output_type": "stream",
     "text": [
      "adil is 38 years old.\n"
     ]
    }
   ],
   "source": [
    "name = 'adil'\n",
    "age = 38\n",
    "print(f'{name} is {age} years old.') #f başına yada sonuna birşey gelmiyor."
   ]
  },
  {
   "cell_type": "code",
   "execution_count": 28,
   "metadata": {
    "tags": []
   },
   "outputs": [
    {
     "name": "stdout",
     "output_type": "stream",
     "text": [
      "Python rules!\n"
     ]
    }
   ],
   "source": [
    "print('{p}'.format(p = 'Python rules!'))"
   ]
  },
  {
   "cell_type": "code",
   "execution_count": 42,
   "metadata": {
    "tags": []
   },
   "outputs": [
    {
     "name": "stdout",
     "output_type": "stream",
     "text": [
      "['string', 'all for one', 12.33, 'adil']\n",
      "adil\n",
      "['string', 'all for one', 12.33]\n"
     ]
    }
   ],
   "source": [
    "my_list = ['string', 300, 12.33]\n",
    "#print(len(my_list))\n",
    "my_list[1] = 'all for one'\n",
    "#print(my_list) \n",
    "my_list.append('adil') # listeye yeni bir eleman ekler.\n",
    "print(my_list)\n",
    "print(my_list.pop()) #listeye yeni eklenen elemanı siler.\n",
    "print(my_list)"
   ]
  },
  {
   "cell_type": "code",
   "execution_count": 46,
   "metadata": {
    "tags": []
   },
   "outputs": [
    {
     "name": "stdout",
     "output_type": "stream",
     "text": [
      "['a', 'e', 'f', 'k', 'o', 't', 'u', 'w']\n",
      "[2, 3, 4, 5, 6, 33, 76, 88, 444, 5565]\n",
      "[5565, 444, 88, 76, 33, 6, 5, 4, 3, 2]\n"
     ]
    }
   ],
   "source": [
    "new_list = ['a', 'o', 'u', 't', 'w', 'e', 'k', 'f']\n",
    "num_list = [4, 5, 6, 3, 2, 33, 444, 5565, 76, 88]\n",
    "new_list.sort()\n",
    "num_list.sort()\n",
    "print(new_list)\n",
    "print(num_list)\n",
    "num_list.reverse()\n",
    "print(num_list)\n"
   ]
  },
  {
   "cell_type": "code",
   "execution_count": 48,
   "metadata": {
    "tags": []
   },
   "outputs": [
    {
     "name": "stdout",
     "output_type": "stream",
     "text": [
      "{'key1': 'value1', 'key2': 'value2'}\n"
     ]
    }
   ],
   "source": [
    "my_dict = {'key1' : 'value1', 'key2': 'value2'}\n",
    "print(my_dict)"
   ]
  },
  {
   "cell_type": "code",
   "execution_count": 75,
   "metadata": {
    "tags": []
   },
   "outputs": [
    {
     "name": "stdout",
     "output_type": "stream",
     "text": [
      "{'apple': 2.99, 'oranges': 1.99, 'milk': 5.8}\n",
      "dict_keys(['apple', 'oranges', 'milk'])\n",
      "dict_values([2.99, 1.99, 5.8])\n",
      "dict_items([('apple', 2.99), ('oranges', 1.99), ('milk', 5.8)])\n"
     ]
    }
   ],
   "source": [
    "prices_lookup = {'apple' : 2.99, 'oranges' : 1.99, 'milk' : 5.80}\n",
    "#print(prices_lookup['apple'])\n",
    "#prices_lookup ['elma'] = 3.99\n",
    "#print(prices_lookup)\n",
    "#prices_lookup['apple'] = 10.99\n",
    "print(prices_lookup)\n",
    "print(prices_lookup.keys())\n",
    "print(prices_lookup.values())\n",
    "print(prices_lookup.items())"
   ]
  },
  {
   "cell_type": "code",
   "execution_count": 77,
   "metadata": {
    "tags": []
   },
   "outputs": [
    {
     "name": "stdout",
     "output_type": "stream",
     "text": [
      "{'apple': 5, 'orange': 10}\n"
     ]
    }
   ],
   "source": [
    "dict = {'apple' : 5, 'orange' : 10}\n",
    "print(dict)"
   ]
  },
  {
   "cell_type": "code",
   "execution_count": 87,
   "metadata": {
    "tags": []
   },
   "outputs": [
    {
     "ename": "SyntaxError",
     "evalue": "invalid syntax (<ipython-input-87-3c8a8a16d0a8>, line 1)",
     "output_type": "error",
     "traceback": [
      "\u001b[1;36m  File \u001b[1;32m\"<ipython-input-87-3c8a8a16d0a8>\"\u001b[1;36m, line \u001b[1;32m1\u001b[0m\n\u001b[1;33m    for sayi in *range(10):\u001b[0m\n\u001b[1;37m                ^\u001b[0m\n\u001b[1;31mSyntaxError\u001b[0m\u001b[1;31m:\u001b[0m invalid syntax\n"
     ]
    }
   ],
   "source": [
    "for sayi in range(10):\n",
    "    print(sayi)"
   ]
  },
  {
   "cell_type": "code",
   "execution_count": null,
   "metadata": {},
   "outputs": [],
   "source": []
  },
  {
   "cell_type": "code",
   "execution_count": 89,
   "metadata": {
    "tags": []
   },
   "outputs": [
    {
     "name": "stdout",
     "output_type": "stream",
     "text": [
      "-10\n",
      "-8\n",
      "-6\n",
      "-4\n",
      "-2\n",
      "0\n",
      "2\n",
      "4\n",
      "6\n",
      "8\n"
     ]
    }
   ],
   "source": [
    "for sayi in range(-10, 10, 2):\n",
    "    print(sayi)"
   ]
  },
  {
   "cell_type": "code",
   "execution_count": 1,
   "metadata": {
    "tags": []
   },
   "outputs": [
    {
     "name": "stdout",
     "output_type": "stream",
     "text": [
      "{'a': 0, 'b': 5, 'c': 10}\n",
      "a\n",
      "b\n",
      "c\n"
     ]
    }
   ],
   "source": [
    "def fonksiyon(**kwargs):\n",
    "    print(kwargs)\n",
    "    for i in kwargs:\n",
    "        print(i)\n",
    "fonksiyon(a = 0, b = 5, c = 10)\n"
   ]
  },
  {
   "cell_type": "code",
   "execution_count": 101,
   "metadata": {
    "tags": []
   },
   "outputs": [
    {
     "name": "stdout",
     "output_type": "stream",
     "text": [
      "(0, 5, 10, 15)\n",
      "5\n",
      "10\n",
      "15\n",
      "20\n"
     ]
    }
   ],
   "source": [
    "def fonksiyon(*args):\n",
    "    print(args)\n",
    "    for i in args:\n",
    "        print(i + 5)\n",
    "fonksiyon(0, 5, 10, 15)"
   ]
  },
  {
   "cell_type": "code",
   "execution_count": 1,
   "metadata": {},
   "outputs": [
    {
     "data": {
      "text/plain": [
       "tuple"
      ]
     },
     "execution_count": 1,
     "metadata": {},
     "output_type": "execute_result"
    }
   ],
   "source": [
    "t = (1, 2, 3)\n",
    "type(t)"
   ]
  },
  {
   "cell_type": "code",
   "execution_count": 4,
   "metadata": {},
   "outputs": [
    {
     "data": {
      "text/plain": [
       "0"
      ]
     },
     "execution_count": 4,
     "metadata": {},
     "output_type": "execute_result"
    }
   ],
   "source": [
    "t = ('a', 'a', 'b') # Tuple da () kullanılır. Listelerde [] bu.\n",
    "t.count('a')\n",
    "# 'a' kaç defa geçtiğini söylüyor.\n",
    "t.index('a')\n",
    "# 'a' nın kaçıncı sırada olduğunu söylüyor."
   ]
  },
  {
   "cell_type": "code",
   "execution_count": 9,
   "metadata": {
    "tags": []
   },
   "outputs": [
    {
     "name": "stdout",
     "output_type": "stream",
     "text": [
      "['NEW', 2, 3]\n"
     ]
    }
   ],
   "source": [
    "my_list = [1, 2, 3]\n",
    "my_list[0] = 'NEW' # Listedeki 0'cı elemanı değiştirir.\n",
    "print(my_list)"
   ]
  },
  {
   "cell_type": "code",
   "execution_count": 15,
   "metadata": {
    "tags": []
   },
   "outputs": [
    {
     "name": "stdout",
     "output_type": "stream",
     "text": [
      "{1, 2}\n"
     ]
    }
   ],
   "source": [
    "# Sets are unordered collections of unique elements. Meaning there can only be one represntative of the same object.\n",
    "myset = set()\n",
    "myset.add(1)\n",
    "myset.add(2)\n",
    "print(myset)\n",
    "# bir set elemenetinin içerisinde benzer karakterler var ise o karaktari sadece bir defa gösterir.\n"
   ]
  },
  {
   "cell_type": "code",
   "execution_count": 16,
   "metadata": {
    "tags": []
   },
   "outputs": [
    {
     "name": "stdout",
     "output_type": "stream",
     "text": [
      "Some people dream of success while others wake up and work.\n"
     ]
    }
   ],
   "source": [
    "print(\"{4} {9} {1} {7} {5} {0} {6} {8} {3} {2}\".format('while', 'dream', 'work.', 'and', 'Some', 'success', 'others', 'of', 'wake up', 'people'))\n"
   ]
  },
  {
   "cell_type": "code",
   "execution_count": 34,
   "metadata": {
    "tags": []
   },
   "outputs": [
    {
     "name": "stdout",
     "output_type": "stream",
     "text": [
      "True\n"
     ]
    }
   ],
   "source": [
    "print(not(None or 0))\n"
   ]
  },
  {
   "cell_type": "code",
   "execution_count": 29,
   "metadata": {
    "tags": []
   },
   "outputs": [
    {
     "name": "stdout",
     "output_type": "stream",
     "text": [
      "I will find a job.\n"
     ]
    }
   ],
   "source": [
    "print('{0}{1}{2}{3}{4}'.format('I ', 'will ', 'find ', 'a ','job.'))"
   ]
  },
  {
   "cell_type": "code",
   "execution_count": 31,
   "metadata": {
    "tags": []
   },
   "outputs": [
    {
     "name": "stdout",
     "output_type": "stream",
     "text": [
      "Python Data Types And Useful Operations\n"
     ]
    }
   ],
   "source": [
    "print(str.title(\"python data types and useful operations\"))"
   ]
  },
  {
   "cell_type": "code",
   "execution_count": 35,
   "metadata": {},
   "outputs": [
    {
     "data": {
      "text/plain": [
       "{'M', 'i', 'p', 's'}"
      ]
     },
     "execution_count": 35,
     "metadata": {},
     "output_type": "execute_result"
    }
   ],
   "source": [
    "set('Mississippi')"
   ]
  },
  {
   "cell_type": "code",
   "execution_count": 36,
   "metadata": {},
   "outputs": [
    {
     "data": {
      "text/plain": [
       "False"
      ]
     },
     "execution_count": 36,
     "metadata": {},
     "output_type": "execute_result"
    }
   ],
   "source": [
    "1 > 2"
   ]
  },
  {
   "cell_type": "code",
   "execution_count": 46,
   "metadata": {
    "tags": []
   },
   "outputs": [
    {
     "name": "stderr",
     "output_type": "stream",
     "text": [
      "UsageError: unrecognized arguments: # Yeni bir dosya oluşturuyor.\n"
     ]
    }
   ],
   "source": [
    "%%writefile aa.jpynb # Yeni bir dosya oluşturuyor.\n",
    "hello this is a text file\n",
    "aa.readlines"
   ]
  },
  {
   "cell_type": "code",
   "execution_count": 45,
   "metadata": {},
   "outputs": [
    {
     "data": {
      "text/plain": [
       "''"
      ]
     },
     "execution_count": 45,
     "metadata": {},
     "output_type": "execute_result"
    }
   ],
   "source": [
    "aa = open('aa.ipynb')\n",
    "aa.read()"
   ]
  },
  {
   "cell_type": "code",
   "execution_count": 48,
   "metadata": {},
   "outputs": [],
   "source": [
    "x = open('test.txt', 'w') # sol taraftaki menude yeni bir test adında bir txt dosyası olusturmamızı saglıyor.\n",
    "x.write('Hello World')\n",
    "x.close()"
   ]
  },
  {
   "cell_type": "code",
   "execution_count": 49,
   "metadata": {},
   "outputs": [
    {
     "data": {
      "text/plain": [
       "'hello'"
      ]
     },
     "execution_count": 49,
     "metadata": {},
     "output_type": "execute_result"
    }
   ],
   "source": [
    "#Dictionaries\n",
    "d = {'k1':{'k2':'hello'}}\n",
    "# Grab 'hello'\n",
    "\n",
    "d['k1']['k2']"
   ]
  },
  {
   "cell_type": "code",
   "execution_count": 51,
   "metadata": {},
   "outputs": [
    {
     "data": {
      "text/plain": [
       "'hello'"
      ]
     },
     "execution_count": 51,
     "metadata": {},
     "output_type": "execute_result"
    }
   ],
   "source": [
    "#Dictionaries: Can you sort a dictionary? Why or why not? Answer: No! Because normal dictionaries are mappings not a sequence.\n",
    "d = {'k1':[{'nest_key':['this is deep',['hello']]}]}\n",
    "d['k1'][0]['nest_key'][1][0]"
   ]
  },
  {
   "cell_type": "code",
   "execution_count": 2,
   "metadata": {
    "tags": []
   },
   "outputs": [
    {
     "name": "stdout",
     "output_type": "stream",
     "text": [
      "Im not hungry\n"
     ]
    }
   ],
   "source": [
    "hungry = False\n",
    "if hungry:\n",
    "    print('Feed me!')\n",
    "else:\n",
    "    print('Im not hungry')"
   ]
  },
  {
   "cell_type": "code",
   "execution_count": 9,
   "metadata": {
    "tags": []
   },
   "outputs": [
    {
     "name": "stdout",
     "output_type": "stream",
     "text": [
      "Welcome to the store!\n"
     ]
    }
   ],
   "source": [
    "loc = 'Store'\n",
    "if loc =='Auto shop':\n",
    "    print(\"Cars are cool!\")\n",
    "elif loc == 'Bank':\n",
    "    print(\"Money is cool!\")\n",
    "elif loc == 'Store':\n",
    "    print('Welcome to the store!')\n",
    "else:\n",
    "    print(\"I do not know much.\")\n"
   ]
  },
  {
   "cell_type": "code",
   "execution_count": 18,
   "metadata": {
    "tags": []
   },
   "outputs": [
    {
     "name": "stdout",
     "output_type": "stream",
     "text": [
      "num\n",
      "1\n",
      "num\n",
      "2\n",
      "num\n",
      "3\n",
      "num\n",
      "4\n",
      "num\n",
      "5\n",
      "num\n",
      "6\n",
      "num\n",
      "7\n",
      "num\n",
      "8\n",
      "num\n",
      "9\n",
      "num\n",
      "10\n"
     ]
    }
   ],
   "source": [
    "my_list = [1, 2, 3, 4, 5, 6, 7, 8, 9, 10]\n",
    "for num in my_list:\n",
    "    print('num')\n",
    "    print(num)\n"
   ]
  },
  {
   "cell_type": "code",
   "execution_count": 21,
   "metadata": {
    "tags": []
   },
   "outputs": [
    {
     "name": "stdout",
     "output_type": "stream",
     "text": [
      "odd number1\n",
      "2\n",
      "odd number3\n",
      "4\n",
      "odd number5\n",
      "6\n",
      "odd number7\n",
      "8\n",
      "odd number9\n",
      "10\n"
     ]
    }
   ],
   "source": [
    "# Özelikle tab geçişlerini unutma!!!\n",
    "my_list = [1, 2, 3, 4, 5, 6, 7, 8, 9, 10]\n",
    "\n",
    "for num in my_list:\n",
    "    if num % 2 == 0:\n",
    "        print(num)\n",
    "    else:\n",
    "        print(f'odd number{num}')"
   ]
  },
  {
   "cell_type": "code",
   "execution_count": 26,
   "metadata": {
    "tags": []
   },
   "outputs": [
    {
     "name": "stdout",
     "output_type": "stream",
     "text": [
      "55\n"
     ]
    }
   ],
   "source": [
    "# Özelikle tab geçişlerini unutma!!!\n",
    "my_list = [1, 2, 3, 4, 5, 6, 7, 8, 9, 10]\n",
    "list_sum = 0\n",
    "for num in my_list:\n",
    "     list_sum = list_sum + num\n",
    "print(list_sum)"
   ]
  },
  {
   "cell_type": "code",
   "execution_count": 29,
   "metadata": {
    "tags": []
   },
   "outputs": [
    {
     "name": "stdout",
     "output_type": "stream",
     "text": [
      "1\n",
      "3\n",
      "6\n",
      "10\n",
      "15\n",
      "21\n",
      "28\n",
      "36\n",
      "45\n",
      "55\n"
     ]
    }
   ],
   "source": [
    "# Özelikle tab geçişlerini unutma!!!\n",
    "my_list = [1, 2, 3, 4, 5, 6, 7, 8, 9, 10]\n",
    "list_sum = 0\n",
    "for num in my_list:\n",
    "    list_sum = list_sum + num\n",
    "    print(list_sum)"
   ]
  },
  {
   "cell_type": "code",
   "execution_count": 35,
   "metadata": {
    "tags": []
   },
   "outputs": [
    {
     "name": "stdout",
     "output_type": "stream",
     "text": [
      "letter\n",
      "H\n",
      "letter\n",
      "e\n",
      "letter\n",
      "l\n",
      "letter\n",
      "l\n",
      "letter\n",
      "o\n",
      "letter\n",
      " \n",
      "letter\n",
      "W\n",
      "letter\n",
      "o\n",
      "letter\n",
      "r\n",
      "letter\n",
      "l\n",
      "letter\n",
      "d\n"
     ]
    }
   ],
   "source": [
    "mystring = 'Hello World'\n",
    "\n",
    "for letter in mystring:\n",
    "    print('letter')\n",
    "    print(letter)    "
   ]
  },
  {
   "cell_type": "code",
   "execution_count": 40,
   "metadata": {
    "tags": []
   },
   "outputs": [
    {
     "name": "stdout",
     "output_type": "stream",
     "text": [
      "(1, 2)\n",
      "(3, 4)\n",
      "(5, 6)\n",
      "(7, 8)\n"
     ]
    }
   ],
   "source": [
    "my_list = [(1, 2), (3,4), (5,6), (7,8)]\n",
    "len(my_list)\n",
    "for item in my_list:\n",
    "    print(item)"
   ]
  },
  {
   "cell_type": "code",
   "execution_count": 41,
   "metadata": {
    "tags": []
   },
   "outputs": [
    {
     "name": "stdout",
     "output_type": "stream",
     "text": [
      "1\n",
      "2\n",
      "3\n",
      "4\n",
      "5\n",
      "6\n",
      "7\n",
      "8\n"
     ]
    }
   ],
   "source": [
    "my_list = [(1, 2), (3,4), (5,6), (7,8)]\n",
    "for (a,b) in my_list:\n",
    "    print(a)\n",
    "    print(b)"
   ]
  },
  {
   "cell_type": "code",
   "execution_count": 43,
   "metadata": {
    "tags": []
   },
   "outputs": [
    {
     "name": "stdout",
     "output_type": "stream",
     "text": [
      "('k1', 1)\n",
      "('k2', 2)\n",
      "('k3', 3)\n"
     ]
    }
   ],
   "source": [
    "d = {'k1':1,'k2':2,'k3':3}\n",
    "\n",
    "for item in d.items():\n",
    "    print(item)"
   ]
  },
  {
   "cell_type": "code",
   "execution_count": 2,
   "metadata": {
    "tags": []
   },
   "outputs": [
    {
     "name": "stdout",
     "output_type": "stream",
     "text": [
      "The current value of x is 0\n",
      "The current value of x is 1\n",
      "The current value of x is 2\n",
      "The current value of x is 3\n",
      "The current value of x is 4\n",
      "x is not less than 5\n"
     ]
    }
   ],
   "source": [
    "x = 0\n",
    "\n",
    "while x < 5:\n",
    "    print(f'The current value of x is {x}')\n",
    "    x = x + 1   # x += 1 de kullanılabilinir.\n",
    "else:\n",
    "    print('x is not less than 5')"
   ]
  },
  {
   "cell_type": "code",
   "execution_count": 6,
   "metadata": {
    "tags": []
   },
   "outputs": [
    {
     "name": "stdout",
     "output_type": "stream",
     "text": [
      "end of my script\n"
     ]
    }
   ],
   "source": [
    "x = [1, 2, 3]\n",
    "\n",
    "for item in x:\n",
    "    # pass yazarsak for döngüsünü iptal eder.\n",
    "    # break \n",
    "    pass\n",
    "print('ex =nd of my script')"
   ]
  },
  {
   "cell_type": "code",
   "execution_count": 11,
   "metadata": {
    "tags": []
   },
   "outputs": [
    {
     "name": "stdout",
     "output_type": "stream",
     "text": [
      "s\n"
     ]
    }
   ],
   "source": [
    "my_string = 'sammy'\n",
    "for letter in my_string:\n",
    "    if letter == 'a':\n",
    "        break # a harfine gelince döngüyü durdurur.\n",
    "    print(letter)"
   ]
  },
  {
   "cell_type": "code",
   "execution_count": 12,
   "metadata": {
    "tags": []
   },
   "outputs": [
    {
     "name": "stdout",
     "output_type": "stream",
     "text": [
      "s\n",
      "m\n",
      "m\n",
      "y\n"
     ]
    }
   ],
   "source": [
    "my_string = 'sammy'\n",
    "for letter in my_string:\n",
    "    if letter == 'a':\n",
    "        continue # a harfini döngüden kaldırır.\n",
    "    print(letter)"
   ]
  },
  {
   "cell_type": "code",
   "execution_count": 15,
   "metadata": {
    "tags": []
   },
   "outputs": [
    {
     "name": "stdout",
     "output_type": "stream",
     "text": [
      "0\n",
      "1\n"
     ]
    }
   ],
   "source": [
    "x = 0\n",
    "while x < 5:\n",
    "    if x == 2:\n",
    "        break\n",
    "    print(x)\n",
    "    x += 1"
   ]
  },
  {
   "cell_type": "code",
   "execution_count": 3,
   "metadata": {
    "tags": []
   },
   "outputs": [
    {
     "name": "stdout",
     "output_type": "stream",
     "text": [
      "0\n",
      "2\n",
      "4\n",
      "6\n",
      "8\n"
     ]
    }
   ],
   "source": [
    "for num in range(0,10,2):\n",
    "    print(num)"
   ]
  },
  {
   "cell_type": "code",
   "execution_count": 5,
   "metadata": {},
   "outputs": [
    {
     "data": {
      "text/plain": [
       "[0, 2, 4, 6, 8]"
      ]
     },
     "execution_count": 5,
     "metadata": {},
     "output_type": "execute_result"
    }
   ],
   "source": [
    "list(range(0,10,2))"
   ]
  },
  {
   "cell_type": "code",
   "execution_count": 7,
   "metadata": {
    "tags": []
   },
   "outputs": [
    {
     "name": "stdout",
     "output_type": "stream",
     "text": [
      "At index 0 the letter is a\n",
      "At index 1 the letter is b\n",
      "At index 2 the letter is c\n",
      "At index 3 the letter is d\n",
      "At index 4 the letter is e\n"
     ]
    }
   ],
   "source": [
    "index_count = 0\n",
    "for letter in 'abcde':\n",
    "    print('At index {} the letter is {}'.format(index_count, letter))\n",
    "    index_count += 1"
   ]
  },
  {
   "cell_type": "code",
   "execution_count": 9,
   "metadata": {
    "tags": []
   },
   "outputs": [
    {
     "name": "stdout",
     "output_type": "stream",
     "text": [
      "1\n",
      "2\n",
      "3\n",
      "4\n"
     ]
    }
   ],
   "source": []
  },
  {
   "cell_type": "code",
   "execution_count": 13,
   "metadata": {
    "tags": []
   },
   "outputs": [
    {
     "name": "stdout",
     "output_type": "stream",
     "text": [
      "0\n",
      "a\n",
      "1\n",
      "b\n",
      "2\n",
      "c\n",
      "3\n",
      "d\n",
      "4\n",
      "e\n"
     ]
    }
   ],
   "source": [
    "word = 'abcde'\n",
    "for index, letter in enumerate(word):\n",
    "    print(index)\n",
    "    print(letter)"
   ]
  },
  {
   "cell_type": "code",
   "execution_count": 19,
   "metadata": {
    "tags": []
   },
   "outputs": [
    {
     "name": "stdout",
     "output_type": "stream",
     "text": [
      "(1, 'a', 100)\n",
      "(2, 'b', 200)\n",
      "(3, 'c', 300)\n",
      "\n"
     ]
    },
    {
     "data": {
      "text/plain": [
       "6"
      ]
     },
     "execution_count": 19,
     "metadata": {},
     "output_type": "execute_result"
    }
   ],
   "source": [
    "mylist1 = [1,2,3,4,5,6]\n",
    "mylist2 = ['a','b','c']\n",
    "mylist3 = [100,200,300]\n",
    "for item in zip(mylist1, mylist2, mylist3):\n",
    "    print(item)\n",
    "min(mylist1)\n",
    "max(mylist1)"
   ]
  },
  {
   "cell_type": "code",
   "execution_count": 16,
   "metadata": {},
   "outputs": [
    {
     "data": {
      "text/plain": [
       "[(1, 'a', 100), (2, 'b', 200), (3, 'c', 300)]"
      ]
     },
     "execution_count": 16,
     "metadata": {},
     "output_type": "execute_result"
    }
   ],
   "source": [
    "list(zip(mylist1, mylist2, mylist3))"
   ]
  },
  {
   "cell_type": "code",
   "execution_count": 22,
   "metadata": {
    "tags": []
   },
   "outputs": [
    {
     "name": "stdout",
     "output_type": "stream",
     "text": [
      "[5, 3, 2, 8, 6, 1, 7, 9, 4]\n"
     ]
    }
   ],
   "source": [
    "from random import shuffle \n",
    "mylist = [1,2,3,4,5,6,7,8,9]\n",
    "shuffle(mylist)\n",
    "print(mylist)"
   ]
  },
  {
   "cell_type": "code",
   "execution_count": 23,
   "metadata": {},
   "outputs": [
    {
     "data": {
      "text/plain": [
       "90"
      ]
     },
     "execution_count": 23,
     "metadata": {},
     "output_type": "execute_result"
    }
   ],
   "source": [
    "from random import randint\n",
    "randint(0,100) #rasgele sayı secme "
   ]
  },
  {
   "cell_type": "code",
   "execution_count": 30,
   "metadata": {
    "tags": []
   },
   "outputs": [
    {
     "name": "stdout",
     "output_type": "stream",
     "text": [
      "22.0\n"
     ]
    }
   ],
   "source": [
    "#int(input ('enter number: '))\n",
    "result = input ('enter number: ')\n",
    "print(float(result))\n"
   ]
  },
  {
   "cell_type": "code",
   "execution_count": 34,
   "metadata": {
    "tags": []
   },
   "outputs": [
    {
     "name": "stdout",
     "output_type": "stream",
     "text": [
      "['H', 'e', 'l', 'l', 'o']\n"
     ]
    }
   ],
   "source": [
    "mystring = 'Hello'\n",
    "mylist = []\n",
    "for letter in mystring:\n",
    "    mylist.append(letter)\n",
    "print(mylist)"
   ]
  },
  {
   "cell_type": "code",
   "execution_count": 4,
   "metadata": {
    "tags": []
   },
   "outputs": [
    {
     "name": "stdout",
     "output_type": "stream",
     "text": [
      "[0, 1, 4, 9, 16, 25, 36, 49, 64, 81, 100]\n"
     ]
    }
   ],
   "source": [
    "mylist = [num**2 for num in range(0,11)]\n",
    "print(mylist)"
   ]
  },
  {
   "cell_type": "code",
   "execution_count": 5,
   "metadata": {
    "tags": []
   },
   "outputs": [
    {
     "name": "stdout",
     "output_type": "stream",
     "text": [
      "[0, 2, 4, 6, 8, 10]\n"
     ]
    }
   ],
   "source": [
    "mylist = [num for num in range(0,11) if num%2==0]\n",
    "print(mylist)"
   ]
  },
  {
   "cell_type": "code",
   "execution_count": 6,
   "metadata": {
    "tags": []
   },
   "outputs": [
    {
     "name": "stdout",
     "output_type": "stream",
     "text": [
      "[32.0, 50.0, 68.0, 94.1]\n"
     ]
    }
   ],
   "source": [
    "celsius = [0,10,20,34.5]\n",
    "fahrenheit = [((9/5)*temp +32) for temp in celsius]\n",
    "print(fahrenheit)"
   ]
  },
  {
   "cell_type": "code",
   "execution_count": 7,
   "metadata": {
    "tags": []
   },
   "outputs": [
    {
     "name": "stdout",
     "output_type": "stream",
     "text": [
      "[0, 'ODD', 2, 'ODD', 4, 'ODD', 6, 'ODD', 8, 'ODD', 10]\n"
     ]
    }
   ],
   "source": [
    "results = [x if x%2==0 else 'ODD' for x in range(0,11)]\n",
    "print(results)"
   ]
  },
  {
   "cell_type": "code",
   "execution_count": 8,
   "metadata": {
    "tags": []
   },
   "outputs": [
    {
     "name": "stdout",
     "output_type": "stream",
     "text": [
      "[200, 400, 600, 400, 800, 1200, 600, 1200, 1800]\n"
     ]
    }
   ],
   "source": [
    "mylist = []\n",
    "for x in [2,4,6]:\n",
    "    for y in [100,200,300]:\n",
    "        mylist.append(x*y)\n",
    "print(mylist)"
   ]
  },
  {
   "cell_type": "code",
   "execution_count": null,
   "metadata": {},
   "outputs": [],
   "source": [
    "list = [1,2,3,4,5,6,7,8,9]\n",
    "if "
   ]
  },
  {
   "cell_type": "code",
   "execution_count": 20,
   "metadata": {
    "tags": []
   },
   "outputs": [
    {
     "name": "stdout",
     "output_type": "stream",
     "text": [
      "3 bir tek sayıdır.\n"
     ]
    }
   ],
   "source": [
    "x = int(input('enter number'))\n",
    "\n",
    "if x%2 == 0:\n",
    "    print('x', 'Girilen değer çift sayıdır.')\n",
    "else:\n",
    "    print(x, 'tek sayıdır.')"
   ]
  },
  {
   "cell_type": "code",
   "execution_count": null,
   "metadata": {},
   "outputs": [],
   "source": [
    "x = int(input('enter number'))\n",
    "\n",
    "if x % 2 == 0:\n",
    "    print(x, 'Girilen değer çift sayıdır.')\n",
    "else:\n",
    "    print(x, 'tek sayıdır.')"
   ]
  },
  {
   "cell_type": "code",
   "execution_count": 21,
   "metadata": {
    "tags": []
   },
   "outputs": [
    {
     "name": "stdout",
     "output_type": "stream",
     "text": [
      "(10, 123, 1, 23, 56, 156)\n",
      "10 sayısı çiftir\n",
      "123 sayısı tektir\n",
      "1 sayısı tektir\n",
      "23 sayısı tektir\n",
      "56 sayısı çiftir\n",
      "156 sayısı çiftir\n"
     ]
    }
   ],
   "source": [
    "def tek_mi_çift_mi(*args):\n",
    "    print(args)\n",
    "    for i in args:\n",
    "        if i % 2 == 0:\n",
    "            print(i, \"sayısı çiftir\")\n",
    "        else:\n",
    "            print(i, \"sayısı tektir\")\n",
    "\n",
    "tek_mi_çift_mi(10, 123, 1, 23, 56, 156)\n"
   ]
  },
  {
   "cell_type": "code",
   "execution_count": 23,
   "metadata": {
    "tags": []
   },
   "outputs": [
    {
     "name": "stdout",
     "output_type": "stream",
     "text": [
      "5\n"
     ]
    }
   ],
   "source": [
    "def çıkarma(sayı1, sayı2):\n",
    "    sonuç = sayı1 - sayı2\n",
    "    return sonuç\n",
    "\n",
    "a = çıkarma(10, 5)\n",
    "print(a)"
   ]
  },
  {
   "cell_type": "code",
   "execution_count": 35,
   "metadata": {
    "tags": []
   },
   "outputs": [
    {
     "name": "stdout",
     "output_type": "stream",
     "text": [
      "['4', '8']\n",
      "4 8\n"
     ]
    }
   ],
   "source": [
    "def parametreler(sayı1, sayı2, sayı3, sayı4):\n",
    "    return  [sayı2, sayı4]\n",
    "result = parametreler('3', '4', sayı3 = '7', sayı4 = '8')\n",
    "print(result)\n",
    "print(result[0], result[1])"
   ]
  },
  {
   "cell_type": "code",
   "execution_count": 1,
   "metadata": {
    "tags": []
   },
   "outputs": [
    {
     "name": "stdout",
     "output_type": "stream",
     "text": [
      "write me\n"
     ]
    }
   ],
   "source": [
    "print(not 0 and \"write me\")"
   ]
  },
  {
   "cell_type": "code",
   "execution_count": 2,
   "metadata": {
    "tags": []
   },
   "outputs": [
    {
     "name": "stdout",
     "output_type": "stream",
     "text": [
      "['I', ' ', 'q', 'u', 'i', 't', ' ', 's', 'm', 'o', 'k', 'i', 'n', 'g']\n",
      "['I quit smoking']\n"
     ]
    }
   ],
   "source": [
    "string_1 = 'I quit smoking'\n",
    "\n",
    "new_list_1 = list(string_1)  # we created multi element list\n",
    "print(new_list_1)\n",
    "\n",
    "new_list_2 = [string_1]  # this is a single element list\n",
    "print(new_list_2)"
   ]
  },
  {
   "cell_type": "code",
   "execution_count": 3,
   "metadata": {
    "tags": []
   },
   "outputs": [
    {
     "name": "stdout",
     "output_type": "stream",
     "text": [
      "[11, 'Joseph', False, 3.14, None, [1, 2, 3]]\n",
      "11 Joseph False 3.14 None\n"
     ]
    }
   ],
   "source": [
    "mixed_list = [11, 'Joseph', False, 3.14, None, [1, 2, 3]]\n",
    "\n",
    "print(mixed_list)\n",
    "print(mixed_list[0], mixed_list[1], mixed_list[2], mixed_list[3], mixed_list[4])"
   ]
  },
  {
   "cell_type": "code",
   "execution_count": 4,
   "metadata": {
    "tags": []
   },
   "outputs": [
    {
     "name": "stdout",
     "output_type": "stream",
     "text": [
      "22\n"
     ]
    }
   ],
   "source": [
    "warning = 'You must quit smoking!'\n",
    "\n",
    "print(len(list(warning)))"
   ]
  },
  {
   "cell_type": "code",
   "execution_count": null,
   "metadata": {},
   "outputs": [],
   "source": [
    "empty_list_1 = []\n",
    "empty_list_1.append('114')\n",
    "empty_list_1.append('plastic-free sea')\n",
    "print(empty_list_1)\n"
   ]
  },
  {
   "cell_type": "code",
   "execution_count": null,
   "metadata": {},
   "outputs": [],
   "source": [
    "city = ['New York', 'London', 'Istanbul', 'Seoul', 'Sydney', 'Addis Ababa']\n",
    "city.insert(2, 'Stockholm')\n",
    "print(city)"
   ]
  },
  {
   "cell_type": "code",
   "execution_count": null,
   "metadata": {},
   "outputs": [],
   "source": [
    "city = ['New York', 'London', 'Stockholm', 'Istanbul', 'Seoul', 'Sydney', 'Addis Ababa']\n",
    "city.remove('London')\n",
    "print(city)  # we have deleted 'London'"
   ]
  },
  {
   "cell_type": "code",
   "execution_count": null,
   "metadata": {},
   "outputs": [],
   "source": [
    "city = ['New York', 'Stockholm', 'Istanbul', 'Seoul', 'Sydney', 'Addis Ababa']\n",
    "city.sort()  # lists the items in alphabetical order\n",
    "print(city)"
   ]
  },
  {
   "cell_type": "code",
   "execution_count": 6,
   "metadata": {
    "tags": []
   },
   "outputs": [
    {
     "name": "stdout",
     "output_type": "stream",
     "text": [
      "[['New York', 'London', 'Istanbul', 'Seoul', 'Sydney'], ['New York', 'London', 'Istanbul', 'Seoul', 'Sydney']]\n"
     ]
    }
   ],
   "source": [
    "city = ['New York', 'London', 'Istanbul', 'Seoul', 'Sydney']\n",
    "city_list = []\n",
    "city_list.append(city) # we have created a nested list\n",
    "print(city_list)\n",
    "# city_list includes only one element which is the city list. # Tips: If you notice that city_list has double square brackets."
   ]
  },
  {
   "cell_type": "code",
   "execution_count": 14,
   "metadata": {
    "tags": []
   },
   "outputs": [
    {
     "name": "stdout",
     "output_type": "stream",
     "text": [
      "['New York', 'London', 'Istanbul', 'Seoul', 'Sydney']\n"
     ]
    }
   ],
   "source": [
    "city_list = [['New York', 'London', 'Istanbul', 'Seoul', 'Sydney']]\n",
    "print(city_list[0]) \n",
    "# access to first and only element\n",
    "#'city_list[0]' is a list type data. So that, we can still access its elements via indexing."
   ]
  },
  {
   "cell_type": "code",
   "execution_count": 13,
   "metadata": {
    "tags": []
   },
   "outputs": [
    {
     "name": "stdout",
     "output_type": "stream",
     "text": [
      "Istanbul\n"
     ]
    }
   ],
   "source": [
    "city_list = [['New York', 'London', 'Istanbul', 'Seoul', 'Sydney']]\n",
    "print(city_list[0][2])"
   ]
  },
  {
   "cell_type": "code",
   "execution_count": 7,
   "metadata": {
    "tags": []
   },
   "outputs": [
    {
     "name": "stdout",
     "output_type": "stream",
     "text": [
      "a\n"
     ]
    }
   ],
   "source": [
    "city_list = [['New York', 'London', 'Istanbul', 'Seoul', 'Sydney']]\n",
    "print(city_list[0][2][3])"
   ]
  },
  {
   "cell_type": "code",
   "execution_count": 8,
   "metadata": {
    "tags": []
   },
   "outputs": [
    {
     "name": "stdout",
     "output_type": "stream",
     "text": [
      "27\n"
     ]
    }
   ],
   "source": [
    "odd_numbers = [[11, 13, 15], 17, 19, 21, 23, 25, 27, 29]\n",
    "\n",
    "print(odd_numbers[6])"
   ]
  },
  {
   "cell_type": "code",
   "execution_count": 12,
   "metadata": {
    "tags": []
   },
   "outputs": [
    {
     "name": "stdout",
     "output_type": "stream",
     "text": [
      "[['apple', 'banana', 'watermelon', 'orange', 'mango', 'avocado']]\n",
      "l\n"
     ]
    }
   ],
   "source": [
    "fruits = ['apple', 'banana', 'watermelon', 'orange', 'mango', 'avocado']\n",
    "\n",
    "fruit_list = []\n",
    "fruit_list.insert(0, fruits)\n",
    "print(fruit_list)\n",
    "print(fruit_list[0][2][7])"
   ]
  },
  {
   "cell_type": "code",
   "execution_count": 15,
   "metadata": {
    "tags": []
   },
   "outputs": [
    {
     "name": "stdout",
     "output_type": "stream",
     "text": [
      "[0, 1, 2, 3, 4, 5, 6, 7, 8, 9, 10]\n",
      "[0, 2, 4, 6, 8, 10]\n"
     ]
    }
   ],
   "source": [
    "count = list(range(11))\n",
    "print(count)\n",
    "\n",
    "print(count[0:11:2])"
   ]
  },
  {
   "cell_type": "code",
   "execution_count": 16,
   "metadata": {
    "tags": []
   },
   "outputs": [
    {
     "name": "stdout",
     "output_type": "stream",
     "text": [
      "[10, 12, 14, 16, 18]\n"
     ]
    }
   ],
   "source": [
    "even_numbers = [2, 4, 6, 8, 10, 12, 14, 16, 18, 20]\n",
    "\n",
    "print(even_numbers[4:9])"
   ]
  },
  {
   "cell_type": "code",
   "execution_count": 17,
   "metadata": {
    "tags": []
   },
   "outputs": [
    {
     "name": "stdout",
     "output_type": "stream",
     "text": [
      "1\n"
     ]
    }
   ],
   "source": [
    "print(len([[12, 34, 56]]))\n"
   ]
  },
  {
   "cell_type": "code",
   "execution_count": 18,
   "metadata": {
    "tags": []
   },
   "outputs": [
    {
     "name": "stdout",
     "output_type": "stream",
     "text": [
      "3\n"
     ]
    }
   ],
   "source": [
    "print(len([[12, 34, 56]][0]))\n"
   ]
  },
  {
   "cell_type": "code",
   "execution_count": 19,
   "metadata": {
    "tags": []
   },
   "outputs": [
    {
     "name": "stdout",
     "output_type": "stream",
     "text": [
      "[8, 7, 6, 5]\n",
      "[]\n"
     ]
    }
   ],
   "source": [
    "odd_no = [1, 2, 3, 4, 5, 6, 7, 8, 9, 10]\n",
    "\n",
    "print(odd_no[7:3:-1])\n",
    "print(odd_no[2:6:-1])"
   ]
  },
  {
   "cell_type": "code",
   "execution_count": null,
   "metadata": {},
   "outputs": [],
   "source": []
  },
  {
   "cell_type": "code",
   "execution_count": 39,
   "metadata": {
    "tags": []
   },
   "outputs": [
    {
     "name": "stdout",
     "output_type": "stream",
     "text": [
      "Sam\n",
      "start\n",
      "s\n",
      "sentence\n"
     ]
    }
   ],
   "source": [
    "st = 'Sam Print only the words that start with s in this sentence'\n",
    "\n",
    "for word in st.split():\n",
    "    if word[0] == 's' or word[0] == 'S':\n",
    "        print(word)"
   ]
  },
  {
   "cell_type": "code",
   "execution_count": 24,
   "metadata": {
    "tags": []
   },
   "outputs": [
    {
     "data": {
      "text/plain": [
       "[0, 2, 4, 6, 8, 10]"
      ]
     },
     "execution_count": 24,
     "metadata": {},
     "output_type": "execute_result"
    }
   ],
   "source": [
    "#Use range() to print all the even numbers from 0 to 10.\n",
    "list(range(0,11,2))\n",
    "# or \n",
    "for num in range(0,11,2)"
   ]
  },
  {
   "cell_type": "code",
   "execution_count": 31,
   "metadata": {},
   "outputs": [
    {
     "data": {
      "text/plain": [
       "[3, 6, 9, 12, 15, 18, 21, 24, 27, 30, 33, 36, 39, 42, 45, 48]"
      ]
     },
     "execution_count": 31,
     "metadata": {},
     "output_type": "execute_result"
    }
   ],
   "source": [
    "#Use List comprehension to create a list of all numbers between 1 and 50 that are divisible by 3.\n",
    "[x for x in range(1,51) if x%3 == 0]"
   ]
  },
  {
   "cell_type": "code",
   "execution_count": 43,
   "metadata": {
    "tags": []
   },
   "outputs": [
    {
     "name": "stdout",
     "output_type": "stream",
     "text": [
      "Go\n",
      "string\n",
      "if\n",
      "length\n",
      "of\n",
      "word\n",
      "is\n",
      "even\n"
     ]
    }
   ],
   "source": [
    "#Go through the string below and if the length of a word is even print \"even!\"\n",
    "st = 'Go through the string below and if the length of a word is even print'\n",
    "for word in st.split():\n",
    "    if len(word) % 2 == 0:\n",
    "        print(word)"
   ]
  },
  {
   "cell_type": "code",
   "execution_count": 46,
   "metadata": {
    "tags": []
   },
   "outputs": [
    {
     "ename": "SyntaxError",
     "evalue": "unexpected EOF while parsing (<ipython-input-46-07b9a911582b>, line 11)",
     "output_type": "error",
     "traceback": [
      "\u001b[1;36m  File \u001b[1;32m\"<ipython-input-46-07b9a911582b>\"\u001b[1;36m, line \u001b[1;32m11\u001b[0m\n\u001b[1;33m    print(num\u001b[0m\n\u001b[1;37m             ^\u001b[0m\n\u001b[1;31mSyntaxError\u001b[0m\u001b[1;31m:\u001b[0m unexpected EOF while parsing\n"
     ]
    }
   ],
   "source": [
    "# Write a program that prints the integers from 1 to 100. But for multiples of three print \"Fizz\" instead of the number, and for the multiples of five print \"Buzz\". For numbers which are multiples of both three and five print \"FizzBuzz\".\n",
    "\n",
    "for num in range(1,101):\n",
    "    if num % 3 == 0 and num % 5 == 0:\n",
    "        print(\"FizzBuzz\")\n",
    "    elif num % 3 == 0:\n",
    "        print(\"Fizz\")\n",
    "    elif num % 5 == 0:\n",
    "        print(\"Buzz\")\n",
    "    else:\n",
    "        print(num)"
   ]
  },
  {
   "cell_type": "code",
   "execution_count": 36,
   "metadata": {},
   "outputs": [
    {
     "data": {
      "text/plain": [
       "['C', 'a', 'l', 'o', 't', 'f', 'l', 'o', 'e', 'w', 'i', 't', 's']"
      ]
     },
     "execution_count": 36,
     "metadata": {},
     "output_type": "execute_result"
    }
   ],
   "source": [
    "#Use a List Comprehension to create a list of the first letters of every word in the string below:\n",
    "\n",
    "st = 'Create a list of the first letters of every word in this string'\n",
    "[word[0] for word in st.split()]"
   ]
  },
  {
   "cell_type": "code",
   "execution_count": 41,
   "metadata": {
    "tags": []
   },
   "outputs": [
    {
     "name": "stdout",
     "output_type": "stream",
     "text": [
      "Go string if length of word is even\n"
     ]
    }
   ],
   "source": [
    "word=\"Go through the string below and if the length of a word is even print \"\n",
    "A=[]\n",
    "for n_word in word.split():\n",
    "    if len(n_word)%2==0:\n",
    "        A.append(n_word)\n",
    "print(\" \".join(A))"
   ]
  },
  {
   "cell_type": "code",
   "execution_count": 47,
   "metadata": {
    "tags": []
   },
   "outputs": [
    {
     "ename": "SyntaxError",
     "evalue": "unexpected EOF while parsing (<ipython-input-47-a43596cf3613>, line 1)",
     "output_type": "error",
     "traceback": [
      "\u001b[1;36m  File \u001b[1;32m\"<ipython-input-47-a43596cf3613>\"\u001b[1;36m, line \u001b[1;32m1\u001b[0m\n\u001b[1;33m    print([\"FizzBuzz\"*(not i%15) or \"Fizz\"*(not i%3) or \"Buzz\"*(not i%5) or i for i in range(1,101)]\u001b[0m\n\u001b[1;37m                                                                                                    ^\u001b[0m\n\u001b[1;31mSyntaxError\u001b[0m\u001b[1;31m:\u001b[0m unexpected EOF while parsing\n"
     ]
    }
   ],
   "source": [
    "print([\"FizzBuzz\"*(not i%15) or \"Fizz\"*(not i%3) or \"Buzz\"*(not i%5) or i for i in range(1,101)])"
   ]
  },
  {
   "cell_type": "code",
   "execution_count": 49,
   "metadata": {
    "tags": []
   },
   "outputs": [
    {
     "name": "stdout",
     "output_type": "stream",
     "text": [
      "[1, 2, 3, 4]\n"
     ]
    }
   ],
   "source": [
    "mylist = [1, 2, 3]\n",
    "mylist.append(4) #mylist.pop() son ekleneni siler.\n",
    "print(mylist)"
   ]
  },
  {
   "cell_type": "code",
   "execution_count": 50,
   "metadata": {
    "tags": []
   },
   "outputs": [
    {
     "name": "stdout",
     "output_type": "stream",
     "text": [
      "Help on built-in function insert:\n",
      "\n",
      "insert(index, object, /) method of builtins.list instance\n",
      "    Insert object before index.\n",
      "\n"
     ]
    }
   ],
   "source": [
    "help(mylist.insert)"
   ]
  },
  {
   "cell_type": "code",
   "execution_count": 60,
   "metadata": {},
   "outputs": [],
   "source": [
    "phrase = '{morality} {1} {0} {condition}'.format('in all', 'wins', condition = 'circumstances', morality = 'generosity')"
   ]
  },
  {
   "cell_type": "code",
   "execution_count": 1,
   "metadata": {
    "tags": []
   },
   "outputs": [
    {
     "name": "stdout",
     "output_type": "stream",
     "text": [
      "8\n"
     ]
    }
   ],
   "source": [
    "sample = f\"{2 ** 3}\"\n",
    "print(sample)"
   ]
  },
  {
   "cell_type": "code",
   "execution_count": 16,
   "metadata": {
    "tags": []
   },
   "outputs": [
    {
     "name": "stdout",
     "output_type": "stream",
     "text": [
      "Sodome and Gomore\n"
     ]
    }
   ],
   "source": [
    "text = 'S0d0me and G0m0re'\n",
    "new_text = text.replace(\"0\", \"o\")\n",
    "print(new_text)"
   ]
  },
  {
   "cell_type": "code",
   "execution_count": 2,
   "metadata": {
    "tags": []
   },
   "outputs": [
    {
     "name": "stdout",
     "output_type": "stream",
     "text": [
      "My name is Mariam\n"
     ]
    }
   ],
   "source": [
    "name = \"MARIAM\"\n",
    "output = f'My name is {name.capitalize()}'\n",
    "print(output)"
   ]
  },
  {
   "cell_type": "code",
   "execution_count": 3,
   "metadata": {
    "tags": []
   },
   "outputs": [
    {
     "name": "stdout",
     "output_type": "stream",
     "text": [
      "Susan is a young lady and she is a student at the CLRWY IT university.\n"
     ]
    }
   ],
   "source": [
    "name = \"Susan\"\n",
    "age = \"young\"\n",
    "gender = \"lady\"\n",
    "school = \"CLRWY IT university\"\n",
    "output = f'{name} is a {age} {gender} and she is a student at the {school}.'\n",
    "print(output)"
   ]
  },
  {
   "cell_type": "code",
   "execution_count": 6,
   "metadata": {
    "tags": []
   },
   "outputs": [
    {
     "name": "stdout",
     "output_type": "stream",
     "text": [
      "Susan is a young lady and she is a student at the CLRWY IT university.\n"
     ]
    }
   ],
   "source": [
    "name = \"Susan\"\n",
    "age = \"young\"\n",
    "gender = \"lady\"\n",
    "school = \"CLRWY IT university\"\n",
    "output = (\n",
    "f'{name} is a {age} '\n",
    "f'{gender} and she is a student ' \n",
    "f'at the {school}.'\n",
    ")\n",
    "print(output)"
   ]
  },
  {
   "cell_type": "code",
   "execution_count": 74,
   "metadata": {
    "tags": []
   },
   "outputs": [
    {
     "name": "stdout",
     "output_type": "stream",
     "text": [
      "clausway\n"
     ]
    }
   ],
   "source": [
    "word = 'clarusway'\n",
    "\n",
    "front = word.rstrip(\"rusway\")\n",
    "back = word.lstrip(\"clar\")\n",
    "print(front + \"a\" + back)"
   ]
  },
  {
   "cell_type": "code",
   "execution_count": 70,
   "metadata": {
    "tags": []
   },
   "outputs": [
    {
     "name": "stdout",
     "output_type": "stream",
     "text": [
      "claruswa\n"
     ]
    }
   ],
   "source": [
    "word = 'clarusway'\n",
    "\n",
    "front = word.rstrip(\"rusway\")\n",
    "back = word.lstrip(\"clar\")\n",
    "print(front + \"a\" + back)"
   ]
  },
  {
   "cell_type": "code",
   "execution_count": 38,
   "metadata": {
    "tags": []
   },
   "outputs": [
    {
     "name": "stdout",
     "output_type": "stream",
     "text": [
      "Hello! I am a new programmer and I love Clarusway.\n"
     ]
    }
   ],
   "source": [
    "text = \"{0}! I am a {1} programmer and I {2} Clarusway.\".format(\"Hello\", \"new\", \"love\")\n",
    "print(text)"
   ]
  },
  {
   "cell_type": "code",
   "execution_count": 76,
   "metadata": {
    "tags": []
   },
   "outputs": [
    {
     "name": "stdout",
     "output_type": "stream",
     "text": [
      "[]\n"
     ]
    }
   ],
   "source": [
    "print({0} and False or [])"
   ]
  },
  {
   "cell_type": "code",
   "execution_count": 77,
   "metadata": {},
   "outputs": [
    {
     "data": {
      "text/plain": [
       "140140.0"
      ]
     },
     "execution_count": 77,
     "metadata": {},
     "output_type": "execute_result"
    }
   ],
   "source": [
    "float(\"140\" * int(input(\"Enter a number:\" )))"
   ]
  },
  {
   "cell_type": "code",
   "execution_count": 79,
   "metadata": {
    "tags": []
   },
   "outputs": [
    {
     "name": "stdout",
     "output_type": "stream",
     "text": [
      "51\n",
      "51\n",
      "51\n"
     ]
    }
   ],
   "source": [
    "print(int(\"5\" + \"1\"))\n",
    "print(str(\"5\" + \"1\"))\n",
    "print(\"5\" + \"1\")"
   ]
  },
  {
   "cell_type": "code",
   "execution_count": 83,
   "metadata": {
    "tags": []
   },
   "outputs": [
    {
     "name": "stdout",
     "output_type": "stream",
     "text": [
      "The less you sleep and eat, the better your life will be.\n"
     ]
    }
   ],
   "source": [
    "var1 = \"sleep\"\n",
    "var2 = \"eat\"\n",
    "var3 = \"better\"\n",
    "var4 = \"life\"\n",
    "\n",
    "text = f'The less you {var1} and {var2}, the {var3} your {var4} will be.'\n",
    "print(text)"
   ]
  },
  {
   "cell_type": "code",
   "execution_count": 88,
   "metadata": {
    "tags": []
   },
   "outputs": [
    {
     "name": "stdout",
     "output_type": "stream",
     "text": [
      "The less you sleep and eat, the better your life will be.\n"
     ]
    }
   ],
   "source": [
    "var1 = \"sleep\"\n",
    "var2 = \"eat\"\n",
    "var3 = \"better\"\n",
    "var4 = \"life\"\n",
    "\n",
    "text = 'The less you {} and {}, the {} your {} will be.'.format(\"sleep\", \"eat\", \"better\", \"life\")\n",
    "print(text)"
   ]
  },
  {
   "cell_type": "code",
   "execution_count": 97,
   "metadata": {
    "tags": []
   },
   "outputs": [
    {
     "name": "stdout",
     "output_type": "stream",
     "text": [
      "I live in Sarajevo.\n"
     ]
    }
   ],
   "source": [
    "city = \"SARAJEVO\"\n",
    "text = f'I live in {city.capitalize()}.'\n",
    "print(text)"
   ]
  },
  {
   "cell_type": "code",
   "execution_count": 98,
   "metadata": {
    "tags": []
   },
   "outputs": [
    {
     "name": "stdout",
     "output_type": "stream",
     "text": [
      "clausway\n"
     ]
    }
   ],
   "source": [
    "word = 'clarusway'\n",
    "n = 3\n",
    "front = word[:n]\n",
    "back = word[4:]\n",
    "print(front + back)"
   ]
  },
  {
   "cell_type": "code",
   "execution_count": 4,
   "metadata": {
    "tags": []
   },
   "outputs": [
    {
     "name": "stdout",
     "output_type": "stream",
     "text": [
      "abc\n"
     ]
    }
   ],
   "source": [
    "deger = input('deger gir: ')\n",
    "if deger == \"abc\":\n",
    "    print('girilen deger: ', deger)\n",
    "if deger != 'abc':\n",
    "    print('kullanıcı abc girmemiştir.')\n",
    "\n"
   ]
  },
  {
   "cell_type": "code",
   "execution_count": null,
   "metadata": {},
   "outputs": [],
   "source": [
    "sayı1 = int(input(\"Sayı1 girilsin\"))\n",
    "sayı2 = int(input(\"Sayı2 girilsin\"))\n",
    "\n",
    "if sayı1 > sayı2:\n",
    "    print(\"{} {}'den büyüktür \".format(sayı1, sayı2))\n",
    "elif sayı1 < sayı2:\n",
    "    print(\"{1} {0}'den büyüktür \".format(sayı1, sayı2))\n",
    "else:\n",
    "    print(\"{} {}'e eşittir \".format(sayı1, sayı2))"
   ]
  },
  {
   "cell_type": "code",
   "execution_count": null,
   "metadata": {},
   "outputs": [],
   "source": [
    "while True:\n",
    "    isim =  input('isim gir')\n",
    "    if isim == 'q':\n",
    "        print('Güle güle')\n",
    "        break\n",
    "    else:\n",
    "        print('merhaba sahip')"
   ]
  },
  {
   "cell_type": "code",
   "execution_count": null,
   "metadata": {},
   "outputs": [],
   "source": []
  }
 ],
 "metadata": {
  "kernelspec": {
   "display_name": "Python 3",
   "language": "python",
   "name": "python3"
  },
  "language_info": {
   "codemirror_mode": {
    "name": "ipython",
    "version": 3
   },
   "file_extension": ".py",
   "mimetype": "text/x-python",
   "name": "python",
   "nbconvert_exporter": "python",
   "pygments_lexer": "ipython3",
   "version": "3.6.9"
  }
 },
 "nbformat": 4,
 "nbformat_minor": 2
}
