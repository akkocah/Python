{
 "cells": [
  {
   "cell_type": "code",
   "execution_count": 1,
   "metadata": {},
   "outputs": [
    {
     "ename": "SyntaxError",
     "evalue": "invalid syntax (<ipython-input-1-fa69a50b6d13>, line 1)",
     "output_type": "error",
     "traceback": [
      "\u001b[0;36m  File \u001b[0;32m\"<ipython-input-1-fa69a50b6d13>\"\u001b[0;36m, line \u001b[0;32m1\u001b[0m\n\u001b[0;31m    phrase = {morality} {1} {0} {condition}\".format(\"in all\", contition = \"circumtances\", \"wins\", morality = \"generosity\")\u001b[0m\n\u001b[0m                        ^\u001b[0m\n\u001b[0;31mSyntaxError\u001b[0m\u001b[0;31m:\u001b[0m invalid syntax\n"
     ]
    }
   ],
   "source": [
    "phrase = {morality} {1} {0} {condition}\".format(\"in all\", contition = \"circumtances\", \"wins\", morality = \"generosity\")"
   ]
  },
  {
   "cell_type": "code",
   "execution_count": 3,
   "metadata": {},
   "outputs": [
    {
     "ename": "SyntaxError",
     "evalue": "invalid syntax (<ipython-input-3-f92b80f94c57>, line 1)",
     "output_type": "error",
     "traceback": [
      "\u001b[0;36m  File \u001b[0;32m\"<ipython-input-3-f92b80f94c57>\"\u001b[0;36m, line \u001b[0;32m1\u001b[0m\n\u001b[0;31m    phrase = {morality} {1} {0} {condition}\".format('in all', \"wins\", contition = \"circumtances\", morality = \"generosity\"\u001b[0m\n\u001b[0m                        ^\u001b[0m\n\u001b[0;31mSyntaxError\u001b[0m\u001b[0;31m:\u001b[0m invalid syntax\n"
     ]
    }
   ],
   "source": [
    "phrase = {morality} {1} {0} {condition}\".format('in all', \"wins\", contition = \"circumtances\", morality = \"generosity\""
   ]
  },
  {
   "cell_type": "code",
   "execution_count": 4,
   "metadata": {},
   "outputs": [
    {
     "name": "stdout",
     "output_type": "stream",
     "text": [
      "If we had bought $2000 crypto coins at the weekend, we would have had $4,152.32 with a profit share of 11% after 5 days.\n"
     ]
    }
   ],
   "source": [
    "main = 2000\n",
    "total = \"4,152.32\"\n",
    "profit = 11\n",
    "duration = 5\n",
    "\n",
    "print(\"If we had bought ${} crypto coins at the weekend, we would have had ${} with a profit share of {}% after {} days.\".format(main, total, profit, duration))"
   ]
  },
  {
   "cell_type": "code",
   "execution_count": 7,
   "metadata": {},
   "outputs": [
    {
     "name": "stdout",
     "output_type": "stream",
     "text": [
      "8\n"
     ]
    }
   ],
   "source": [
    "print(f\"{2 ** 3}\")"
   ]
  },
  {
   "cell_type": "code",
   "execution_count": 22,
   "metadata": {},
   "outputs": [
    {
     "name": "stdout",
     "output_type": "stream",
     "text": [
      "My name is Mariam.\n"
     ]
    }
   ],
   "source": [
    "name = \"MARIAM\"\n",
    "output = f'My name is {name.capitalize()}.'\n",
    "\n",
    "print(output)"
   ]
  },
  {
   "cell_type": "code",
   "execution_count": 27,
   "metadata": {},
   "outputs": [
    {
     "name": "stdout",
     "output_type": "stream",
     "text": [
      "Susan is a young lady and she is a student at the CLRWY IT university.\n"
     ]
    }
   ],
   "source": [
    "name = \"Susan\"\n",
    "age = \"young\"\n",
    "gender = \"lady\"\n",
    "school = \"CLRWY IT university\"\n",
    "\n",
    "output = (\n",
    "    f\"{name} is a {age} \"\n",
    "    f\"{gender} and she is a student \"\n",
    "    f\"at the {school}.\"\n",
    ")\n",
    "print(output)"
   ]
  },
  {
   "cell_type": "code",
   "execution_count": 28,
   "metadata": {},
   "outputs": [
    {
     "name": "stdout",
     "output_type": "stream",
     "text": [
      "True\n",
      "False\n"
     ]
    }
   ],
   "source": [
    "text = \"www.clarusway.com\"\n",
    "print(text.endswith(\".com\"))\n",
    "print(text.startswith(\"http:\"))"
   ]
  },
  {
   "cell_type": "code",
   "execution_count": 29,
   "metadata": {},
   "outputs": [],
   "source": [
    "# .startswith(prefix[, start[, end]])\n"
   ]
  },
  {
   "cell_type": "code",
   "execution_count": 35,
   "metadata": {},
   "outputs": [
    {
     "name": "stdout",
     "output_type": "stream",
     "text": [
      "True\n",
      "False\n"
     ]
    }
   ],
   "source": [
    "email = \"clarusway@clarusway.com is my e-mail address\"\n",
    "print(email.startswith(\"@\", 9))\n"
   ]
  },
  {
   "cell_type": "code",
   "execution_count": 36,
   "metadata": {},
   "outputs": [
    {
     "data": {
      "text/plain": [
       "False"
      ]
     },
     "execution_count": 36,
     "metadata": {},
     "output_type": "execute_result"
    }
   ],
   "source": [
    "\"ahmet\".startswith((\"h\" or \"a\" or \"t\"))"
   ]
  },
  {
   "cell_type": "code",
   "execution_count": null,
   "metadata": {},
   "outputs": [],
   "source": []
  }
 ],
 "metadata": {
  "kernelspec": {
   "display_name": "Python 3",
   "language": "python",
   "name": "python3"
  },
  "language_info": {
   "codemirror_mode": {
    "name": "ipython",
    "version": 3
   },
   "file_extension": ".py",
   "mimetype": "text/x-python",
   "name": "python",
   "nbconvert_exporter": "python",
   "pygments_lexer": "ipython3",
   "version": "3.7.6"
  }
 },
 "nbformat": 4,
 "nbformat_minor": 4
}
