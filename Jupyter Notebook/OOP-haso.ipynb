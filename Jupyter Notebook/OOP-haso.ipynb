{
 "metadata": {
  "language_info": {
   "codemirror_mode": {
    "name": "ipython",
    "version": 3
   },
   "file_extension": ".py",
   "mimetype": "text/x-python",
   "name": "python",
   "nbconvert_exporter": "python",
   "pygments_lexer": "ipython3",
   "version": "3.8.2-final"
  },
  "orig_nbformat": 2,
  "kernelspec": {
   "name": "python36964bit03789e678b2849149d608e9dc1d904bf",
   "display_name": "Python 3.6.9 64-bit"
  }
 },
 "nbformat": 4,
 "nbformat_minor": 2,
 "cells": [
  {
   "cell_type": "code",
   "execution_count": 53,
   "metadata": {
    "tags": []
   },
   "outputs": [
    {
     "output_type": "stream",
     "name": "stdout",
     "text": "<class 'list'>\n[1, 2, 3, 4]\n"
    }
   ],
   "source": [
    "# class \n",
    "\n",
    "lst1 = [1,2,3]\n",
    "print(type(lst1))  # list isimli class dan türetilmiştir.\n",
    "\n",
    "lst1.append(4)  # append ise list classına ait metod oluyor.\n",
    "print(lst1)"
   ]
  },
  {
   "cell_type": "code",
   "execution_count": 12,
   "metadata": {
    "tags": []
   },
   "outputs": [
    {
     "output_type": "stream",
     "name": "stdout",
     "text": "init metodu çalıştırıldı\ninit metodu çalıştırıldı\np1 name: ali year: 1990 adress : no information\np2 name: yağmur year: 1995 adress : no information \n\nBu satırdan sonraki çıktılar nesnenin update edilmişi hali \n\np1 name: Hasan year: 1990 adress : kocaeli\np2 name: yağmur year: 1995 adress : no information\n"
    }
   ],
   "source": [
    "# class Tanımlaması aşağıdaki gibi yapılıyor.\n",
    "class Person: # Class ismi genelde büyük harfle başlıyor.\n",
    "    # class attributes tüm sınıf bazında geçerli özellikleri burada tanımlıyoruz. Her zaman kullanmayacağımız özellikleri burada tanımlıyoruz\n",
    "    address = \"no information\"\n",
    "\n",
    "    # contructor (yapıcı metod) __init__ metodouna yapıcı metod denmesinin sebebi oluşturulan her bir object için otomatik olarak çalıştırıldığı için\n",
    "    def __init__(self, name, year): # buradaki self kavramı biraz karışık. ama aşağıda oluşturacağımız p1 ve p2 objelerine aktaracağımız değerleri temsil ediyor. self den sonra da hangi attributeleri yani özellikleri eklmek istiyorsak onu yazıyoruz. name year gibi\n",
    "        # object attributes (özellikler)\n",
    "        self.name = name\n",
    "        self.year = year\n",
    "            \n",
    "\n",
    "# object(instance)\n",
    "p1 = Person(\"ali\",1990) # burada Person classından p1 objesini tanımlıyoruz.\n",
    "p2 = Person(\"yağmur\", 1995)\n",
    "\n",
    "# accessing object attributes\n",
    "print(f\"p1 name: {p1.name} year: {p1.year} adress : {p1.address}\")\n",
    "print(f\"p2 name: {p2.name} year: {p2.year} adress : {p2.address} \\n\")\n",
    "\n",
    "# updating object attributes burada istersek nesnenin özelliklerini değiştirebiliyoruz\n",
    "p1.name = \"Hasan\"\n",
    "p1.address = \"kocaeli\"\n",
    "\n",
    "print(\"Bu satırdan sonraki çıktılar nesnenin update edilmişi hali \\n\")\n",
    "\n",
    "print(f\"p1 name: {p1.name} year: {p1.year} adress : {p1.address}\")\n",
    "print(f\"p2 name: {p2.name} year: {p2.year} adress : {p2.address}\")"
   ]
  },
  {
   "cell_type": "code",
   "execution_count": 55,
   "metadata": {
    "tags": []
   },
   "outputs": [
    {
     "output_type": "stream",
     "name": "stdout",
     "text": "p1 name: ali year: 1990 adress : no information\np2 name: yağmur year: 1995 adress : no information \n\nBu satırdan sonraki çıktılar nesnenin update edilmişi hali \n\np1 name: Hasan year: 1990 adress : kocaeli\np2 name: yağmur year: 1995 adress : no information\n"
    }
   ],
   "source": [
    "# Yukarıdaki çalışmanın komut satırları silinmiş hali\n",
    "class Person: \n",
    "    address = \"no information\"\n",
    "    \n",
    "    def __init__(self, name, year): \n",
    "        self.name = name\n",
    "        self.year = year        \n",
    "\n",
    "\n",
    "p1 = Person(\"ali\",1990) \n",
    "p2 = Person(\"yağmur\", 1995)\n",
    "\n",
    "print(f\"p1 name: {p1.name} year: {p1.year} adress : {p1.address}\")\n",
    "print(f\"p2 name: {p2.name} year: {p2.year} adress : {p2.address} \\n\")\n",
    "\n",
    "p1.name = \"Hasan\"\n",
    "p1.address = \"kocaeli\"\n",
    "\n",
    "print(\"Bu satırdan sonraki çıktılar nesnenin update edilmişi hali \\n\")\n",
    "\n",
    "print(f\"p1 name: {p1.name} year: {p1.year} adress : {p1.address}\")\n",
    "print(f\"p2 name: {p2.name} year: {p2.year} adress : {p2.address}\")"
   ]
  },
  {
   "cell_type": "code",
   "execution_count": 20,
   "metadata": {
    "tags": []
   },
   "outputs": [
    {
     "output_type": "stream",
     "name": "stdout",
     "text": "Hello There. I am ali\nHello There. I am yağmur\nname: ali ve yaşım: 29\nname: yağmur ve yaşım: 24\n"
    }
   ],
   "source": [
    "# burada class'a metod ekleyeceğiz\n",
    "class Person:\n",
    "    # class attributes\n",
    "    address = \"no information\"\n",
    "    # constructor (yapıcı metod)\n",
    "    def __init__(self, name, year):\n",
    "\n",
    "        # object attributes \n",
    "        self.name = name\n",
    "        self.year = year\n",
    "\n",
    "    # instance (object) methods  Aslında methodların bizim öğrendiğimiz fonksiyonlardan bir farkı yok gibi\n",
    "    def intro(self):\n",
    "        print('Hello There. I am ' + self.name) # buradaki name otomatik olarak init metodundan geliyor. \n",
    "    # instance (object) methods     \n",
    "    def calculateAge(self):\n",
    "        return 2019 - self.year # burada kişinin yaşını hesaplayan metodu yazdık\n",
    "\n",
    "p1 = Person(\"ali\",1990) \n",
    "p2 = Person(\"yağmur\", 1995)\n",
    "\n",
    "p1.intro() # burada zaten init metodundan gerekli bilgileri alıp intro metodunu da ekliyor.\n",
    "p2.intro()\n",
    "\n",
    "print(f\"name: {p1.name} ve yaşım: {p1.calculateAge()}\")\n",
    "print(f\"name: {p2.name} ve yaşım: {p2.calculateAge()}\")"
   ]
  },
  {
   "cell_type": "code",
   "execution_count": null,
   "metadata": {},
   "outputs": [],
   "source": [
    "# Yukarıdaki çalışmanın komut satırları silinmiş hali\n",
    "class Person:\n",
    "    \n",
    "    address = \"no information\"\n",
    "        \n",
    "    def __init__(self, name, year): \n",
    "        self.name = name\n",
    "        self.year = year\n",
    "\n",
    "    def intro(self):\n",
    "        print('Hello There. I am ' + self.name) \n",
    "\n",
    "    def calculateAge(self):\n",
    "        return 2019 - self.year \n",
    "\n",
    "p1 = Person(\"ali\",1990) \n",
    "p2 = Person(\"yağmur\", 1995)\n",
    "\n",
    "p1.intro() \n",
    "p2.intro()\n",
    "\n",
    "print(f\"name: {p1.name} ve yaşım: {p1.calculateAge()}\")\n",
    "print(f\"name: {p2.name} ve yaşım: {p2.calculateAge()}\")"
   ]
  },
  {
   "cell_type": "code",
   "execution_count": 31,
   "metadata": {
    "tags": []
   },
   "outputs": [
    {
     "output_type": "stream",
     "name": "stdout",
     "text": "c1 : alan = 314.0 çevre = 62.800000000000004\nc2 : alan = 78.5 çevre = 31.400000000000002\n"
    }
   ],
   "source": [
    "class Circle:\n",
    "    # Class object attribute\n",
    "    pi = 3.14\n",
    "\n",
    "    # constructor (yapıcı metod)\n",
    "    def __init__(self, yaricap = 1): \n",
    "        self.yaricap = yaricap\n",
    "\n",
    "    #instance (object) methods\n",
    "    def cevre_hesapla(self):\n",
    "        return 2*self.pi * self.yaricap\n",
    "    \n",
    "    #instance (object) methods\n",
    "    def alan_hesapla(self):\n",
    "        return self.pi * (self.yaricap**2)\n",
    "\n",
    "c1 = Circle(10)\n",
    "c2 = Circle(5)\n",
    "\n",
    "print(f\"c1 : alan = {c1.alan_hesapla()} çevre = {c1.cevre_hesapla()}\")\n",
    "print(f\"c2 : alan = {c2.alan_hesapla()} çevre = {c2.cevre_hesapla()}\")"
   ]
  },
  {
   "cell_type": "code",
   "execution_count": 51,
   "metadata": {
    "tags": []
   },
   "outputs": [
    {
     "output_type": "stream",
     "name": "stdout",
     "text": "Ali   Yılmaz\nÇınar   Turan   1256\nJoseph   Smith   Python\nI am a person\nI am a Student\nIam eating\nIam eating\nHello I am a student\nHello I am Python a teacher\nIam eating\n"
    }
   ],
   "source": [
    "### INHERITANCE (KALITIM) : Miras alma \n",
    "# person => name, lastname,  bunlar person da var . ama ben student ve teacher classı tanımlarsam bunları person clasından inherit edebilirim\n",
    "# student(Person), Teacher(person)\n",
    "\n",
    "class Person(): # Ana / Master Clasımız\n",
    "    def __init__(self, fname, lname):\n",
    "        self.firstname = fname # burada tanımladığımız değişkenleri Student clasında tanımlamamıza gerek kalmıyor. Orada sadece yapıcı metodun içine yazmammız yeterli oluyor.\n",
    "        self.lastname = lname\n",
    "        \n",
    "\n",
    "    #instance (object) methods\n",
    "    def whoami(self):\n",
    "        print(\"I am a person\")\n",
    "    #instance (object) methods\n",
    "    def eat(self):\n",
    "        print(\"Iam eating\")\n",
    "\n",
    "class Student(Person): #burada parantez içine Person yazarak bunun person clasından tüm değerleri inherit yani miraz alacağını belirttik \n",
    "    # constructor method\n",
    "    def __init__(self, fname, lname, number):# burada sadece number bu clasa ait, fname lname inherit olarak person classından geliyor.\n",
    "        Person.__init__(self, fname,lname) # bu şekildede Person sınıfını çağırmamız gerekiyor, Kural olarak bu şekilde çağırılıyormuş.\n",
    "        self.studentNumber = number\n",
    "       \n",
    "    \n",
    "    #Override  yani alt class daki aynı isme sahip metod üstteki metodu ezer. BUna override deniyor.\n",
    "    def whoami(self): # aynı isme sahip metod person clasında da var\n",
    "        print(\"I am a Student\")\n",
    "    \n",
    "    def sayHello(self):\n",
    "        print(\"Hello I am a student\")\n",
    "\n",
    "class Teacher(Person): # Person sınıfından inheritance yapıyoruz.\n",
    "    def __init__(self, fname, lname, branch):\n",
    "        Person.__init__(self, fname, lname) # bu şekildede Person sınıfını çağırmamız gerekiyor\n",
    "        self.branch = branch  # sadece branch tanımlamamız yeterli fname ve lname persondan alıyor\n",
    "    \n",
    "    def whoami(self): # aynı isme sahip metod person clasındada var. ama bu çalışır yani overide olur\n",
    "        print(f\"Hello I am {self.branch} a teacher\")\n",
    "\n",
    "\n",
    "p1 = Person(\"Ali\", \"Yılmaz\")\n",
    "s1 = Student(\"Çınar\", \"Turan\", 1256) # student classına ek olrak numarada tanımladığmız için numarayı girdik.\n",
    "t1 = Teacher(\"Joseph\", \"Smith\", \"Python\") # student classına ek olrak branch tanımladığmız için branch girdik.\n",
    "\n",
    "print(p1.firstname,\" \", p1.lastname)\n",
    "print(s1.firstname, \" \", s1.lastname, \" \", str(s1.studentNumber)) \n",
    "print(t1.firstname, \" \", t1.lastname, \" \", t1.branch) \n",
    "\n",
    "p1.whoami() # person clasının whoami metodunu çağırdık\n",
    "s1.whoami() # student clasının whoami metodunu çağırdık\n",
    "p1.eat() # person clasının whoami metodunu çağırdık\n",
    "s1.eat() # eat methodunu personda oluşturduk ama inheritance dan dolayı student da erişebiliiyor.\n",
    "s1.sayHello()# student clasının sayHello metodunu çağırdık\n",
    "t1.whoami() # teacher clasının whoami metodunu çağırdık\n",
    "t1.eat()# eat methodunu personda oluşturduk ama inheritance dan dolayı teacher da erişebiliiyor."
   ]
  },
  {
   "cell_type": "code",
   "execution_count": 52,
   "metadata": {
    "tags": []
   },
   "outputs": [
    {
     "output_type": "stream",
     "name": "stdout",
     "text": "Ali   Yılmaz\nÇınar   Turan   1256\nJoseph   Smith   Python\nI am a person\nI am a Student\nIam eating\nIam eating\nHello I am a student\nHello I am Python a teacher\nIam eating\n"
    }
   ],
   "source": [
    "### INHERITANCE (KALITIM) : Miras alma  KOmut satırları silinmiş hali\n",
    "\n",
    "class Person(): \n",
    "    def __init__(self, fname, lname):\n",
    "        self.firstname = fname \n",
    "        self.lastname = lname        \n",
    "\n",
    "    #instance (object) methods\n",
    "    def whoami(self):\n",
    "        print(\"I am a person\")\n",
    "    #instance (object) methods\n",
    "    def eat(self):\n",
    "        print(\"Iam eating\")\n",
    "\n",
    "class Student(Person):\n",
    "    def __init__(self, fname, lname, number):\n",
    "        Person.__init__(self, fname,lname) \n",
    "        self.studentNumber = number       \n",
    "    \n",
    "    #Override  \n",
    "    def whoami(self): \n",
    "        print(\"I am a Student\")\n",
    "    \n",
    "    def sayHello(self):\n",
    "        print(\"Hello I am a student\")\n",
    "\n",
    "class Teacher(Person): \n",
    "    def __init__(self, fname, lname, branch):\n",
    "        Person.__init__(self, fname, lname) \n",
    "        self.branch = branch \n",
    "    \n",
    "    def whoami(self): # aynı isme sahip metod person clasındada var. ama bu çalışır yani overide olur\n",
    "        print(f\"Hello I am {self.branch} a teacher\")\n",
    "\n",
    "\n",
    "p1 = Person(\"Ali\", \"Yılmaz\")\n",
    "s1 = Student(\"Çınar\", \"Turan\", 1256) \n",
    "t1 = Teacher(\"Joseph\", \"Smith\", \"Python\") #\n",
    "\n",
    "print(p1.firstname,\" \", p1.lastname)\n",
    "print(s1.firstname, \" \", s1.lastname, \" \", str(s1.studentNumber)) \n",
    "print(t1.firstname, \" \", t1.lastname, \" \", t1.branch) \n",
    "\n",
    "p1.whoami() \n",
    "s1.whoami() \n",
    "p1.eat() \n",
    "s1.eat() \n",
    "s1.sayHello()\n",
    "t1.whoami()\n",
    "t1.eat()"
   ]
  },
  {
   "cell_type": "code",
   "execution_count": null,
   "metadata": {},
   "outputs": [],
   "source": []
  }
 ]
}