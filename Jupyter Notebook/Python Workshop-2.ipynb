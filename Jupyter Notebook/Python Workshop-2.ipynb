{
 "cells": [
  {
   "cell_type": "code",
   "execution_count": 9,
   "metadata": {},
   "outputs": [
    {
     "name": "stdout",
     "output_type": "stream",
     "text": [
      "Lütfen ilk sayıyı giriniz: 6\n",
      "Lütfen ikinci sayıyı giriniz: 8\n",
      "Lütfen üçüncü sayıyı giriniz: 5\n",
      "Girilen sayıların toplamı =  240\n",
      "6 * 8 * 5 = 240 yapar.\n",
      "6 * 8 * 5 = 240 yapar.\n",
      "Girilen sayıların çarpımı = 240 dir.\n"
     ]
    }
   ],
   "source": [
    "first_int = int(input(\"Lütfen ilk sayıyı giriniz: \"))\n",
    "second_int = int(input(\"Lütfen ikinci sayıyı giriniz: \"))\n",
    "third_int = int(input(\"Lütfen üçüncü sayıyı giriniz: \"))\n",
    "\n",
    "summary = first_int * second_int * third_int\n",
    "print(\"Girilen sayıların toplamı = \", summary)\n",
    "print(\"{} * {} * {} = {} yapar.\".format(first_int, second_int, third_int, summary))\n",
    "print(f\"{first_int} * {second_int} * {third_int} = {summary} yapar.\")\n",
    "print(\"Girilen sayıların çarpımı = %d dir.\" %(summary))"
   ]
  },
  {
   "cell_type": "code",
   "execution_count": 12,
   "metadata": {},
   "outputs": [
    {
     "name": "stdout",
     "output_type": "stream",
     "text": [
      "Lütfen kilonuzu giriniz: 88\n",
      "Lütfen boyunuzu cm olarak giriniz: 175\n",
      "beden kitle endeksiniz =  28.73\n"
     ]
    }
   ],
   "source": [
    "kilo = int(input(\"Lütfen kilonuzu giriniz: \"))\n",
    "boy = int(input(\"Lütfen boyunuzu cm olarak giriniz: \"))\n",
    "boy = boy / 100\n",
    "vki = kilo / boy ** 2\n",
    "print(\"beden kitle endeksiniz = \", round(vki, 2))"
   ]
  },
  {
   "cell_type": "code",
   "execution_count": null,
   "metadata": {},
   "outputs": [],
   "source": [
    "money = 100\n",
    "value = 15\n",
    "max_buy = money // value\n",
    "remain_money = money % value\n",
    "\n",
    "print(\"{}$ ile {} malzeme alabilirsiniz. Geriye {}$ para kalır.\"\n",
    "      .format(money, max_buy, remain_money))\n",
    "print(f\"{money}$ ile {max_buy} malzeme alabilirsiniz. Geriye {remain_money}$ para kalır.\")"
   ]
  },
  {
   "cell_type": "code",
   "execution_count": null,
   "metadata": {},
   "outputs": [],
   "source": []
  },
  {
   "cell_type": "code",
   "execution_count": 18,
   "metadata": {},
   "outputs": [
    {
     "name": "stdout",
     "output_type": "stream",
     "text": [
      "Lütfen birinci sayıyı giriniz: 5\n",
      "Lütfen ikinci sayıyı giriniz: 8\n",
      "Girilen değerler: \n",
      "a = 5 b = 8\n",
      "Değiştirilen değerler: \n",
      "a = 8 b = 5\n"
     ]
    }
   ],
   "source": [
    "num_one = int(input(\"Lütfen birinci sayıyı giriniz: \"))\n",
    "num_two = int(input(\"Lütfen ikinci sayıyı giriniz: \"))\n",
    "\n",
    "print(f\"Girilen değerler: \\na = {num_one} b = {num_two}\")\n",
    "\n",
    "num_one, num_two = num_two, num_one\n",
    "\n",
    "print(f\"Değiştirilen değerler: \\na = {num_one} b = {num_two}\")\n"
   ]
  },
  {
   "cell_type": "code",
   "execution_count": null,
   "metadata": {},
   "outputs": [
    {
     "name": "stdout",
     "output_type": "stream",
     "text": [
      "Adınızı giriniz: Kenan\n"
     ]
    }
   ],
   "source": [
    "name = input(\"Adınızı giriniz: \")\n",
    "surname = input(\"Soyadınızı giriniz: \")\n",
    "tel_num = int(input(\"Telefon numaranızı giriniz: \"))\n",
    "\n",
    "print(\"Ad   :\\t {}\\nSoyad  :\\t Telefon:\\t {}\".format(name, surname, tel_num))\n",
    "# print(f\"Ad:\\t{name}\\nSoyad:\\t{surname}\\nTelefon:\\t{tel_num}\")\n"
   ]
  },
  {
   "cell_type": "code",
   "execution_count": null,
   "metadata": {},
   "outputs": [],
   "source": []
  },
  {
   "cell_type": "code",
   "execution_count": null,
   "metadata": {},
   "outputs": [],
   "source": [
    "money = 100\n",
    "value = 15\n",
    "max_buy = money // value\n",
    "remain_money = money % value\n",
    "\n",
    "print(\"{}$ ile {} malzeme alabilirsiniz. Geriye {}$ para kalır.\".format(money, max_buy, remain_money))\n",
    "print(f\"{money}$ ile {max_buy} malzeme alabilirsiniz. Geriye {remain_money}$ para kalır.\")"
   ]
  },
  {
   "cell_type": "code",
   "execution_count": null,
   "metadata": {},
   "outputs": [],
   "source": [
    "a = 5\n",
    "print(a)"
   ]
  },
  {
   "cell_type": "code",
   "execution_count": null,
   "metadata": {},
   "outputs": [],
   "source": []
  },
  {
   "cell_type": "code",
   "execution_count": 3,
   "metadata": {},
   "outputs": [
    {
     "name": "stdout",
     "output_type": "stream",
     "text": [
      "Word: abuzittin\n",
      "Seperator: -\n",
      "Repetitions: 5\n",
      "abuzittin-abuzittin-abuzittin-abuzittin-abuzittin\n"
     ]
    }
   ],
   "source": [
    "word = input(\"Word: \")\n",
    "seperator = input(\"Seperator: \")\n",
    "repetitions = int(input(\"Repetitions: \"))\n",
    "\n",
    "a = (word + seperator) * (repetitions -1) + word\n",
    "print(a)"
   ]
  },
  {
   "cell_type": "code",
   "execution_count": 6,
   "metadata": {},
   "outputs": [
    {
     "name": "stdout",
     "output_type": "stream",
     "text": [
      "Word: Clarusway\n",
      "Repetitions of the last n characters: 3\n",
      "waywayway\n",
      "waywayway\n"
     ]
    }
   ],
   "source": [
    "word = input(\"Word: \")\n",
    "n = int(input(\"Repetitions of the last n characters: \"))\n",
    "\n",
    "a = len(word)\n",
    "b = word [a-n:]\n",
    "c = word [-n:]\n",
    "print(b * n)\n",
    "print(c * n)"
   ]
  },
  {
   "cell_type": "code",
   "execution_count": null,
   "metadata": {},
   "outputs": [],
   "source": [
    "number = int(input(\"Lütfen sayıyı giriniz: \"))\n",
    "\n",
    "if number % 15 == 0:\n",
    "    print(\"Clarusway\")\n",
    "elif number % 3 == 0:\n",
    "    print(\"Clarus\")\n",
    "elif number % 5 == 0:\n",
    "    print(\"way\")\n",
    "else: \n",
    "    print(number)\n"
   ]
  },
  {
   "cell_type": "code",
   "execution_count": 14,
   "metadata": {},
   "outputs": [
    {
     "name": "stdout",
     "output_type": "stream",
     "text": [
      "Lütfen sayı girin: 25\n",
      "False\n",
      "True\n",
      "way\n"
     ]
    }
   ],
   "source": [
    "num = int(input(\"Lütfen sayı girin: \"))\n",
    "print(num % 3 == 0)\n",
    "print(num % 5 == 0)\n",
    "print(\"Clarus\" * (num % 3 == 0) + \"way\" * (num % 5 == 0) or num)"
   ]
  },
  {
   "cell_type": "code",
   "execution_count": null,
   "metadata": {},
   "outputs": [],
   "source": []
  }
 ],
 "metadata": {
  "kernelspec": {
   "display_name": "Python 3",
   "language": "python",
   "name": "python3"
  },
  "language_info": {
   "codemirror_mode": {
    "name": "ipython",
    "version": 3
   },
   "file_extension": ".py",
   "mimetype": "text/x-python",
   "name": "python",
   "nbconvert_exporter": "python",
   "pygments_lexer": "ipython3",
   "version": "3.7.6"
  }
 },
 "nbformat": 4,
 "nbformat_minor": 4
}
