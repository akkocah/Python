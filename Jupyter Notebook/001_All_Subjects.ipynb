{
 "metadata": {
  "language_info": {
   "codemirror_mode": {
    "name": "ipython",
    "version": 3
   },
   "file_extension": ".py",
   "mimetype": "text/x-python",
   "name": "python",
   "nbconvert_exporter": "python",
   "pygments_lexer": "ipython3",
   "version": "3.8.2-final"
  },
  "orig_nbformat": 2,
  "kernelspec": {
   "name": "python36964bit03789e678b2849149d608e9dc1d904bf",
   "display_name": "Python 3.6.9 64-bit"
  }
 },
 "nbformat": 4,
 "nbformat_minor": 2,
 "cells": [
  {
   "cell_type": "code",
   "execution_count": null,
   "metadata": {},
   "outputs": [],
   "source": [
    "##-- SESSION 1 - Python Basics-Session-1-Joseph-11/06/20 -- ##"
   ]
  },
  {
   "cell_type": "code",
   "execution_count": 1,
   "metadata": {
    "tags": []
   },
   "outputs": [
    {
     "output_type": "stream",
     "name": "stdout",
     "text": "Hello World\n"
    }
   ],
   "source": [
    "print('Hello World')  # First Program"
   ]
  },
  {
   "cell_type": "code",
   "execution_count": 2,
   "metadata": {},
   "outputs": [
    {
     "output_type": "error",
     "ename": "SyntaxError",
     "evalue": "invalid syntax (<ipython-input-2-1195d5cd42e3>, line 2)",
     "traceback": [
      "\u001b[0;36m  File \u001b[0;32m\"<ipython-input-2-1195d5cd42e3>\"\u001b[0;36m, line \u001b[0;32m2\u001b[0m\n\u001b[0;31m    print(\"I am \"happy\" to learn') # Hata verir\u001b[0m\n\u001b[0m                 ^\u001b[0m\n\u001b[0;31mSyntaxError\u001b[0m\u001b[0;31m:\u001b[0m invalid syntax\n"
     ]
    }
   ],
   "source": [
    "print('I am \"happy\" to learn')  # Hata vermez\n",
    "print(\"I am \"happy\" to learn')  # Hata verir"
   ]
  },
  {
   "cell_type": "code",
   "execution_count": 3,
   "metadata": {
    "tags": []
   },
   "outputs": [
    {
     "output_type": "stream",
     "name": "stdout",
     "text": "Lorem lorem ipsum dolor sit amet Lorem lorem ipsum dolor sit amet Lorem lorem ipsum dolor sit ametLorem lorem ipsum dolor sit amet Lorem lorem ipsum dolor sit amet Lorem lorem ipsum dolor sit amet\n"
    }
   ],
   "source": [
    "print(''' Lorem lorem ipsum dolor sit amet Lorem lorem ipsum dolor sit amet Lorem lorem ipsum dolor sit ametLorem lorem ipsum dolor sit amet Lorem lorem ipsum dolor sit amet Lorem lorem ipsum dolor sit amet''')\n",
    "\n",
    "print(\"\"\" Lorem lorem ipsum dolor sit amet Lorem lorem ipsum dolor sit amet Lorem lorem ipsum dolor sit ametLorem lorem ipsum dolor sit amet Lorem lorem ipsum dolor sit amet Lorem lorem ipsum dolor sit amet\"\"\")  ## --Triple use of 'single and double quotes' Daha çok birden fazla satırdan oluşan çıktılarda kullanılır."
   ]
  },
  {
   "cell_type": "code",
   "execution_count": 5,
   "metadata": {
    "tags": []
   },
   "outputs": [
    {
     "output_type": "stream",
     "name": "stdout",
     "text": "\nHi, I am the docstring of this code. \nIf you need any information about this function or module, read me. \nIt can help you understand how the module or function works.\n    \n"
    }
   ],
   "source": [
    "def function():  # Don't be confused, we use 'def()' to create a function. \n",
    "    \"\"\"\n",
    "Hi, I am the docstring of this code. \n",
    "If you need any information about this function or module, read me. \n",
    "It can help you understand how the module or function works.\n",
    "    \"\"\"\n",
    "print(function.__doc__)  # Docstrings are an explanatory text."
   ]
  },
  {
   "cell_type": "code",
   "execution_count": 6,
   "metadata": {
    "tags": []
   },
   "outputs": [
    {
     "output_type": "stream",
     "name": "stdout",
     "text": "print(value, ..., sep=' ', end='\\n', file=sys.stdout, flush=False)\n\nPrints the values to a stream, or to sys.stdout by default.\nOptional keyword arguments:\nfile:  a file-like object (stream); defaults to the current sys.stdout.\nsep:   string inserted between values, default a space.\nend:   string appended after the last value, default a newline.\nflush: whether to forcibly flush the stream.\n"
    }
   ],
   "source": [
    "print(print.__doc__)  #Display the docstring of the print function."
   ]
  },
  {
   "cell_type": "code",
   "execution_count": null,
   "metadata": {},
   "outputs": [],
   "source": [
    "##-- Python Basics-Session-2-Joseph-13/06/20 -- ##"
   ]
  },
  {
   "cell_type": "code",
   "execution_count": 7,
   "metadata": {
    "tags": []
   },
   "outputs": [
    {
     "output_type": "stream",
     "name": "stdout",
     "text": "40 joseph saturday\n"
    }
   ],
   "source": [
    "yas = 40  # Variable atamalarda küçük harf kullanıyoruz. Built in functionları değişken olarak atamıyoruz.\n",
    "isim = \"joseph\"\n",
    "day = \"saturday\"\n",
    "print(yas, isim, day)"
   ]
  },
  {
   "cell_type": "code",
   "execution_count": 10,
   "metadata": {
    "tags": []
   },
   "outputs": [
    {
     "output_type": "stream",
     "name": "stdout",
     "text": "31 28 31 30 31 30 31 31 30 31 30 31\n"
    }
   ],
   "source": [
    "january = march = may = july = august = october = december = 31  #değişkenleri birbirine eşitledik\n",
    "april = june = september = november = 30\n",
    "february = 28\n",
    "print(january, february, march, april, may, june, july, august, september, october, november, december)"
   ]
  },
  {
   "cell_type": "code",
   "execution_count": 11,
   "metadata": {
    "tags": []
   },
   "outputs": [
    {
     "output_type": "stream",
     "name": "stdout",
     "text": "33 33 15\n"
    }
   ],
   "source": [
    "x = 15\n",
    "y = 33\n",
    "z = x\n",
    "x = y\n",
    "print(x, y, z)"
   ]
  },
  {
   "cell_type": "code",
   "execution_count": 14,
   "metadata": {
    "tags": []
   },
   "outputs": [
    {
     "output_type": "stream",
     "name": "stdout",
     "text": "5 3.2 Hello\n5, 3.2, Hello\n"
    }
   ],
   "source": [
    "a, b, c = 5, 3.2, \"Hello\"\n",
    "print(a, b, c)\n",
    "print(a, b, c, sep=\", \") # Değerleri arasına virgül koyarak ayırır. Varsayılan eğeri boşluktur."
   ]
  },
  {
   "cell_type": "code",
   "execution_count": 15,
   "metadata": {
    "tags": []
   },
   "outputs": [
    {
     "output_type": "stream",
     "name": "stdout",
     "text": "<class 'str'>\n"
    }
   ],
   "source": [
    "my_data = \"I am String\"\n",
    "print(type(my_data))"
   ]
  },
  {
   "cell_type": "code",
   "execution_count": 16,
   "metadata": {
    "tags": []
   },
   "outputs": [
    {
     "output_type": "stream",
     "name": "stdout",
     "text": "3.14\n<class 'str'>\n"
    }
   ],
   "source": [
    "pi = 3.14\n",
    "converted_pi = str(pi)  # converting float to string\n",
    "print(converted_pi)\n",
    "print(type(converted_pi))"
   ]
  },
  {
   "cell_type": "code",
   "execution_count": 17,
   "metadata": {
    "tags": []
   },
   "outputs": [
    {
     "output_type": "stream",
     "name": "stdout",
     "text": "3\n<class 'int'>\n"
    }
   ],
   "source": [
    "pi = 3.14\n",
    "converted_pi = int(pi)  # converting float to int\n",
    "print(converted_pi)\n",
    "print(type(converted_pi))"
   ]
  },
  {
   "cell_type": "code",
   "execution_count": 18,
   "metadata": {
    "tags": []
   },
   "outputs": [
    {
     "output_type": "stream",
     "name": "stdout",
     "text": "3.14\n<class 'float'>\n"
    }
   ],
   "source": [
    "no = 3.14\n",
    "converted_no = float(no)  # converting int to float\n",
    "print(converted_no)\n",
    "print(type(converted_no))"
   ]
  },
  {
   "cell_type": "code",
   "execution_count": 20,
   "metadata": {
    "tags": []
   },
   "outputs": [
    {
     "output_type": "stream",
     "name": "stdout",
     "text": "124.23\n"
    }
   ],
   "source": [
    "number1 = 123  # int ve float toplanabilir. sonuç float döner.\n",
    "number2 = 1.23\n",
    "print(number1 + number2)"
   ]
  },
  {
   "cell_type": "code",
   "execution_count": null,
   "metadata": {},
   "outputs": [],
   "source": [
    "##-- Python Basics-Session-3-Joseph-14/06/20 -- ##\n"
   ]
  },
  {
   "cell_type": "code",
   "execution_count": null,
   "metadata": {},
   "outputs": [],
   "source": [
    "#  int() – converts some data types into integer type.\n",
    "#  float() – converts some data types into float type.\n",
    "#  str() – converts any data type into string type."
   ]
  },
  {
   "cell_type": "code",
   "execution_count": 21,
   "metadata": {},
   "outputs": [
    {
     "output_type": "error",
     "ename": "TypeError",
     "evalue": "unsupported operand type(s) for +: 'int' and 'str'",
     "traceback": [
      "\u001b[0;31m---------------------------------------------------------------------------\u001b[0m",
      "\u001b[0;31mTypeError\u001b[0m                                 Traceback (most recent call last)",
      "\u001b[0;32m<ipython-input-21-565cdfe2e99d>\u001b[0m in \u001b[0;36m<module>\u001b[0;34m\u001b[0m\n\u001b[1;32m      1\u001b[0m \u001b[0mnumber1\u001b[0m \u001b[0;34m=\u001b[0m \u001b[0;36m123\u001b[0m  \u001b[0;31m# int ve float toplanabilir. sonuç float döner.\u001b[0m\u001b[0;34m\u001b[0m\u001b[0;34m\u001b[0m\u001b[0m\n\u001b[1;32m      2\u001b[0m \u001b[0mnumber2\u001b[0m \u001b[0;34m=\u001b[0m \u001b[0;34m\"456\"\u001b[0m\u001b[0;34m\u001b[0m\u001b[0;34m\u001b[0m\u001b[0m\n\u001b[0;32m----> 3\u001b[0;31m \u001b[0mprint\u001b[0m\u001b[0;34m(\u001b[0m\u001b[0mnumber1\u001b[0m \u001b[0;34m+\u001b[0m \u001b[0mnumber2\u001b[0m\u001b[0;34m)\u001b[0m\u001b[0;34m\u001b[0m\u001b[0;34m\u001b[0m\u001b[0m\n\u001b[0m",
      "\u001b[0;31mTypeError\u001b[0m: unsupported operand type(s) for +: 'int' and 'str'"
     ]
    }
   ],
   "source": [
    "number_int = 123  # int ve string toplanamaz. hata döner.\n",
    "number_str = \"456\" \n",
    "print(number_int + number_str)"
   ]
  },
  {
   "cell_type": "code",
   "execution_count": null,
   "metadata": {},
   "outputs": [],
   "source": [
    "#  -= decrements the variable in place, SUBTRACTION\n",
    "#  += increment the variable in place,  ADDITION\n",
    "#  *= multiply the variable in place,   MULTIPLATION\n",
    "#  /= divide the variable in place,     DIVISION\n",
    "#  //= ﬂoor divide the variable in place, FLOOR DIVISION\n",
    "#  %= returns the modulus of the variable in place, MODULUS\n",
    "#  **= raise to power in place.               EXPONENTIATION"
   ]
  },
  {
   "cell_type": "code",
   "execution_count": 28,
   "metadata": {
    "tags": []
   },
   "outputs": [
    {
     "output_type": "stream",
     "name": "stdout",
     "text": "1\n3\n5\n125\n"
    }
   ],
   "source": [
    "print(27 % 2) # Çok fazla kullanımı var. özellikle çift ve tak işlemlerinde kullanılır.\n",
    "print(27 % 4)\n",
    "print(11 // 2) #  Floor Division sayının tam kısmını alır.\n",
    "print(5**3)\n"
   ]
  },
  {
   "cell_type": "code",
   "execution_count": 29,
   "metadata": {
    "tags": []
   },
   "outputs": [
    {
     "output_type": "stream",
     "name": "stdout",
     "text": "22\n27 - 5\n"
    }
   ],
   "source": [
    "print(27 - 5)\n",
    "print(\"27 - 5\")"
   ]
  },
  {
   "cell_type": "code",
   "execution_count": 32,
   "metadata": {
    "tags": []
   },
   "outputs": [
    {
     "output_type": "stream",
     "name": "stdout",
     "text": "4.0\n"
    }
   ],
   "source": [
    "a =2\n",
    "b = 8\n",
    "print((a * b) ** 0.5)  # square root"
   ]
  },
  {
   "cell_type": "code",
   "execution_count": 33,
   "metadata": {
    "tags": []
   },
   "outputs": [
    {
     "output_type": "stream",
     "name": "stdout",
     "text": "7\n9\n"
    }
   ],
   "source": [
    "x = 5\n",
    "x = x + 2\n",
    "print(x)\n",
    "x +=2\n",
    "print(x)"
   ]
  },
  {
   "cell_type": "code",
   "execution_count": 35,
   "metadata": {
    "tags": []
   },
   "outputs": [
    {
     "output_type": "stream",
     "name": "stdout",
     "text": "6\n"
    }
   ],
   "source": [
    "a = 3\n",
    "a *= 2\n",
    "print(a)"
   ]
  },
  {
   "cell_type": "code",
   "execution_count": null,
   "metadata": {},
   "outputs": [],
   "source": [
    "# # İŞlem sırası\n",
    "# 1. parentheses : ()\n",
    "# 2. power : **\n",
    "# 3. unary minus : -3\n",
    "# 4. division and multiplication : *, /\n",
    "# 5. addition and subtraction: +,-"
   ]
  },
  {
   "cell_type": "code",
   "execution_count": 36,
   "metadata": {
    "tags": []
   },
   "outputs": [
    {
     "output_type": "stream",
     "name": "stdout",
     "text": "4.0\n"
    }
   ],
   "source": [
    "a = (1 + 3) ** (2 ** (1 * 2 / 2) / 2)\n",
    "print(a)"
   ]
  },
  {
   "cell_type": "code",
   "execution_count": null,
   "metadata": {},
   "outputs": [],
   "source": [
    "##-- Python Basics-Session-4-Joseph-20/06/20 -- ##"
   ]
  },
  {
   "cell_type": "code",
   "execution_count": 2,
   "metadata": {
    "tags": []
   },
   "outputs": [
    {
     "output_type": "stream",
     "name": "stdout",
     "text": "5.0\n"
    }
   ],
   "source": [
    "# calculate the hypotenuse of the triangle\n",
    "a = 3\n",
    "b = 4\n",
    "c = (a ** 2 + b ** 2) ** 0.5\n",
    "print(c)"
   ]
  },
  {
   "cell_type": "code",
   "execution_count": null,
   "metadata": {},
   "outputs": [],
   "source": [
    "# print() function\n",
    "# print(value, ...,  sep=\" \", end=\"\\n\") separation argument default value = space  end default value = newline"
   ]
  },
  {
   "cell_type": "code",
   "execution_count": 3,
   "metadata": {
    "tags": []
   },
   "outputs": [
    {
     "output_type": "stream",
     "name": "stdout",
     "text": "ahmet---mehmet---aslı\n"
    }
   ],
   "source": [
    "print(\"ahmet\", \"mehmet\", \"aslı\", sep=\"---\")"
   ]
  },
  {
   "cell_type": "code",
   "execution_count": 4,
   "metadata": {
    "tags": []
   },
   "outputs": [
    {
     "output_type": "stream",
     "name": "stdout",
     "text": "ahmet---mehmet---aslı ahmet---mehmet---aslı\n"
    }
   ],
   "source": [
    "print(\"ahmet\", \"mehmet\", \"aslı\", sep=\"---\", end=\" \") #end boşluk değeri aldığı aynı satıra yazar.\n",
    "print(\"ahmet\", \"mehmet\", \"aslı\", sep=\"---\")"
   ]
  },
  {
   "cell_type": "code",
   "execution_count": null,
   "metadata": {},
   "outputs": [],
   "source": [
    "# Escape Sequences\n",
    "# \\n : means new line  \\t  tab mark  \\b backspace It moves the cursor one character to the left"
   ]
  },
  {
   "cell_type": "code",
   "execution_count": 5,
   "metadata": {
    "tags": []
   },
   "outputs": [
    {
     "output_type": "stream",
     "name": "stdout",
     "text": "C:\\north pole\noise_penguins.txt\n---------------\nfirst\tsecond\tthird\n"
    }
   ],
   "source": [
    "print('C:\\\\north pole\\noise_penguins.txt')\n",
    "print('---------------')\n",
    "print(\"first\", \"second\", \"third\", sep=\"\\t\")"
   ]
  },
  {
   "cell_type": "code",
   "execution_count": 6,
   "metadata": {
    "tags": []
   },
   "outputs": [
    {
     "output_type": "stream",
     "name": "stdout",
     "text": "benim \"bugün\" en mutlu günüm\n"
    }
   ],
   "source": [
    "print(\"benim \\\"bugün\\\" en mutlu günüm\")"
   ]
  },
  {
   "cell_type": "code",
   "execution_count": null,
   "metadata": {},
   "outputs": [],
   "source": [
    "#and = hepsi true is true döner or = herhangi biri true olursa sonuç true döner\n",
    "# Priorities  1- not  2- and   3- or"
   ]
  },
  {
   "cell_type": "code",
   "execution_count": 8,
   "metadata": {
    "tags": []
   },
   "outputs": [
    {
     "output_type": "stream",
     "name": "stdout",
     "text": "0\nTrue\n"
    }
   ],
   "source": [
    "print(1 and 0)\n",
    "print(not 0)"
   ]
  },
  {
   "cell_type": "code",
   "execution_count": null,
   "metadata": {},
   "outputs": [],
   "source": [
    "# None, 0, 0.0, 0j, \"\", [], {} False döndürür. Diğer değerler True döndürür"
   ]
  },
  {
   "cell_type": "code",
   "execution_count": 9,
   "metadata": {
    "tags": []
   },
   "outputs": [
    {
     "output_type": "stream",
     "name": "stdout",
     "text": "istanbul\n"
    }
   ],
   "source": [
    "print(1 and \"joseph\" and \"istanbul\") # sonuç and de hepsi True ise en son değer döner"
   ]
  },
  {
   "cell_type": "code",
   "execution_count": 16,
   "metadata": {
    "tags": []
   },
   "outputs": [
    {
     "output_type": "stream",
     "name": "stdout",
     "text": "joseph\n"
    }
   ],
   "source": [
    "print(\"\" or \"joseph\" or \"istanbul\" or 0)# sonuç orda True dönüyorsa ilk True döner "
   ]
  },
  {
   "cell_type": "code",
   "execution_count": 15,
   "metadata": {
    "tags": []
   },
   "outputs": [
    {
     "output_type": "stream",
     "name": "stdout",
     "text": "0\n"
    }
   ],
   "source": [
    "print(\"hasan\" and 0 and \"joseph\" and \"istanbul\" and '') # sonuç false ise ilk değer döner"
   ]
  },
  {
   "cell_type": "code",
   "execution_count": 23,
   "metadata": {
    "tags": []
   },
   "outputs": [
    {
     "output_type": "stream",
     "name": "stdout",
     "text": "3\n1\n2\n4\n"
    }
   ],
   "source": [
    "print(2 and 3)\n",
    "print(1 and 0 or 1 or 0) \n",
    "print(2 or 3)\n",
    "print(None or 4)"
   ]
  },
  {
   "cell_type": "code",
   "execution_count": 24,
   "metadata": {
    "tags": []
   },
   "outputs": [
    {
     "output_type": "stream",
     "name": "stdout",
     "text": "hello\n[]\nNone\n()\n"
    }
   ],
   "source": [
    "print(2 and \"hello\")\n",
    "print([] and \"be happy\")\n",
    "print(None and ())\n",
    "print(None or ())"
   ]
  },
  {
   "cell_type": "code",
   "execution_count": null,
   "metadata": {},
   "outputs": [],
   "source": [
    "##-- Python Basics-Session-5-Joseph-20/06/20 Session-6-Joseph-25/06/20MAIN STRING OPERATIONS -- ##"
   ]
  },
  {
   "cell_type": "code",
   "execution_count": 5,
   "metadata": {
    "tags": []
   },
   "outputs": [
    {
     "output_type": "stream",
     "name": "stdout",
     "text": "ang\negnarO\n"
    }
   ],
   "source": [
    "fruit = \"Orange\"\n",
    "print(fruit[2:5])\n",
    "print(fruit[::-1])"
   ]
  },
  {
   "cell_type": "code",
   "execution_count": 7,
   "metadata": {
    "tags": []
   },
   "outputs": [
    {
     "output_type": "stream",
     "name": "stdout",
     "text": "ang\nange\nOag\n"
    }
   ],
   "source": [
    "fruit = \"Orange\"\n",
    "print(fruit[2:5])\n",
    "print(fruit[2:])\n",
    "print(fruit[::2])"
   ]
  },
  {
   "cell_type": "code",
   "execution_count": 9,
   "metadata": {
    "tags": []
   },
   "outputs": [
    {
     "output_type": "stream",
     "name": "stdout",
     "text": "upperupperupper\nupper\nu p p e r\n"
    }
   ],
   "source": [
    "str_one = 'upper'\n",
    "str_two = 3 * 'upper'\n",
    "str_comb = 3 * str_one\n",
    "print(str_two)\n",
    "print(str_one)\n",
    "print(* str_one)  # * separates the string into its element"
   ]
  },
  {
   "cell_type": "code",
   "execution_count": 10,
   "metadata": {
    "tags": []
   },
   "outputs": [
    {
     "output_type": "stream",
     "name": "stdout",
     "text": "I   A M   A N G R Y\n"
    }
   ],
   "source": [
    "str1 = \"I AM ANGRY\"\n",
    "print(* str1)"
   ]
  },
  {
   "cell_type": "code",
   "execution_count": 12,
   "metadata": {
    "tags": []
   },
   "outputs": [
    {
     "output_type": "stream",
     "name": "stdout",
     "text": "I am 33 I have 2000.00 dollars.\n"
    }
   ],
   "source": [
    "age = 33\n",
    "dollar = 2000\n",
    "print(\"I am %d I have %.2f dollars.\" % (age, dollar))"
   ]
  },
  {
   "cell_type": "code",
   "execution_count": 14,
   "metadata": {
    "tags": []
   },
   "outputs": [
    {
     "output_type": "stream",
     "name": "stdout",
     "text": "generosity wins in all circumstances\n"
    }
   ],
   "source": [
    "phrase = \"{2} {3} {1} {0}\".format(\"circumstances\", \"in all\", \"generosity\", \"wins\")\n",
    "print(phrase)"
   ]
  },
  {
   "cell_type": "code",
   "execution_count": 15,
   "metadata": {
    "tags": []
   },
   "outputs": [
    {
     "output_type": "stream",
     "name": "stdout",
     "text": "I bought 6 orange and 6 spanich from grocery store\n"
    }
   ],
   "source": [
    "fruit = \"orange\"\n",
    "vegetable = \"spanich\"\n",
    "amount = 6\n",
    "output = f\"I bought {amount} {fruit} and {amount} {vegetable} from grocery store\"\n",
    "print(output)"
   ]
  },
  {
   "cell_type": "code",
   "execution_count": 16,
   "metadata": {
    "tags": []
   },
   "outputs": [
    {
     "output_type": "stream",
     "name": "stdout",
     "text": "8\n"
    }
   ],
   "source": [
    "sample = f\"{2 ** 3}\"\n",
    "print(sample)"
   ]
  },
  {
   "cell_type": "code",
   "execution_count": 19,
   "metadata": {
    "tags": []
   },
   "outputs": [
    {
     "output_type": "stream",
     "name": "stdout",
     "text": "My name is Mariam\n"
    }
   ],
   "source": [
    "name = \"MARIAM\"\n",
    "print(f\"My name is {name.capitalize()}\")"
   ]
  },
  {
   "cell_type": "code",
   "execution_count": 22,
   "metadata": {
    "tags": []
   },
   "outputs": [
    {
     "output_type": "stream",
     "name": "stdout",
     "text": "Hi hasan You are one of the student\n"
    }
   ],
   "source": [
    "name = \"hasan\"\n",
    "job = \"student\"\n",
    "message= (\n",
    "    f\"Hi {name} \"\n",
    "    f\"You are one of the {job}\"\n",
    ")\n",
    "print(message)"
   ]
  },
  {
   "cell_type": "code",
   "execution_count": 23,
   "metadata": {
    "tags": []
   },
   "outputs": [
    {
     "output_type": "stream",
     "name": "stdout",
     "text": "Hi hasan You are one of the student\n"
    }
   ],
   "source": [
    "name = \"hasan\"\n",
    "job = \"student\"\n",
    "message= f\"Hi {name} \" \\   \n",
    "    f\"You are one of the {job}\" # \\ satırı böler bu şekilde parantez yazmamıza gerek yok\n",
    "print(message)"
   ]
  },
  {
   "cell_type": "code",
   "execution_count": 24,
   "metadata": {
    "tags": []
   },
   "outputs": [
    {
     "output_type": "stream",
     "name": "stdout",
     "text": "clarusway\nClarusWay\nclarusway\n"
    }
   ],
   "source": [
    "var_string = \"ClarusWay\"\n",
    "print(var_string.lower()) # Biz stringi değiştiremiyoruz. \n",
    "print(var_string)\n",
    "var_string_new = var_string.lower() Değiştirmek için yeni bir değişkene atıyoruz.\n",
    "print(var_string_new)"
   ]
  },
  {
   "cell_type": "code",
   "execution_count": null,
   "metadata": {},
   "outputs": [],
   "source": [
    "# .startswith() and  .endswith()  True yada False döndürür."
   ]
  },
  {
   "cell_type": "code",
   "execution_count": 25,
   "metadata": {
    "tags": []
   },
   "outputs": [
    {
     "output_type": "stream",
     "name": "stdout",
     "text": "True\nFalse\n"
    }
   ],
   "source": [
    "text = \"www.clarusway.com\"\n",
    "print(text.endswith(\".com\"))\n",
    "print(text.startswith(\"http:\"))"
   ]
  },
  {
   "cell_type": "code",
   "execution_count": 30,
   "metadata": {
    "tags": []
   },
   "outputs": [
    {
     "output_type": "stream",
     "name": "stdout",
     "text": "True\nTrue\nFalse\n"
    }
   ],
   "source": [
    "email = \"clarusway@clarusway.com is my e-mail address\"\n",
    "print(email.startswith(\"@\", 9))\n",
    "print(email.endswith(\"-\", 25 , 32)) # 25. karekterden başlar 32 hariç kontrol eder.\n",
    "print(email.endswith(\"-\", 2 , 33))"
   ]
  },
  {
   "cell_type": "code",
   "execution_count": 34,
   "metadata": {},
   "outputs": [
    {
     "output_type": "execute_result",
     "data": {
      "text/plain": "False"
     },
     "metadata": {},
     "execution_count": 34
    }
   ],
   "source": [
    "\"ahmet\".startswith((\"a\", \"h\"), 2) # 2. indexten itibaren kontrol eder a veya h ile mi başlıyor diye kontroleder"
   ]
  },
  {
   "cell_type": "code",
   "execution_count": 33,
   "metadata": {},
   "outputs": [
    {
     "output_type": "execute_result",
     "data": {
      "text/plain": "True"
     },
     "metadata": {},
     "execution_count": 33
    }
   ],
   "source": [
    "\"ahmet\".startswith((\"a\", \"h\", \"m\"), 2)"
   ]
  },
  {
   "cell_type": "code",
   "execution_count": 35,
   "metadata": {},
   "outputs": [
    {
     "output_type": "execute_result",
     "data": {
      "text/plain": "'ahm-e-t'"
     },
     "metadata": {},
     "execution_count": 35
    }
   ],
   "source": [
    "\"a-h-m-e-t\".replace(\"-\", \"\",2)"
   ]
  },
  {
   "cell_type": "code",
   "execution_count": 36,
   "metadata": {
    "tags": []
   },
   "outputs": [
    {
     "output_type": "stream",
     "name": "stdout",
     "text": "I LIVE AND WORK IN VIRGINIA\ni live and work in virginia\ni LIVE AND WORK IN vIRGINIA\nI Live And Work In Virginia\n"
    }
   ],
   "source": [
    "sentence = \"I live and work in Virginia\"\n",
    "print(sentence.upper())\n",
    "print(sentence.lower())\n",
    "print(sentence.swapcase())\n",
    "print(sentence.title())"
   ]
  },
  {
   "cell_type": "code",
   "execution_count": 37,
   "metadata": {
    "tags": []
   },
   "outputs": [
    {
     "output_type": "stream",
     "name": "stdout",
     "text": "listen first\n"
    }
   ],
   "source": [
    "space_string = \"             listen first         \"\n",
    "print(space_string.strip())"
   ]
  },
  {
   "cell_type": "code",
   "execution_count": 1,
   "metadata": {
    "tags": []
   },
   "outputs": [
    {
     "output_type": "stream",
     "name": "stdout",
     "text": "nteroperabilit\n"
    }
   ],
   "source": [
    "source_string= \"interoperabilitiiiy\" #başta sonda bulunan i ve y silinir iy ve yi de dahil\n",
    "print(source_string.strip(\"yi\"))"
   ]
  },
  {
   "cell_type": "code",
   "execution_count": null,
   "metadata": {},
   "outputs": [],
   "source": [
    "# Python Basics-Session-7-Joseph-27/06/20 Editing String"
   ]
  },
  {
   "cell_type": "code",
   "execution_count": 2,
   "metadata": {
    "tags": []
   },
   "outputs": [
    {
     "output_type": "stream",
     "name": "stdout",
     "text": "In God we Trust\n"
    }
   ],
   "source": [
    "text = \"In God wee Trust\"\n",
    "print(text.replace(\"ee\", \"e\"))"
   ]
  },
  {
   "cell_type": "code",
   "execution_count": 3,
   "metadata": {
    "tags": []
   },
   "outputs": [
    {
     "output_type": "stream",
     "name": "stdout",
     "text": "In God we Trust\n"
    }
   ],
   "source": [
    "text = \"In God wee Trust\"\n",
    "print(text[:9] + text[10:])"
   ]
  },
  {
   "cell_type": "code",
   "execution_count": 4,
   "metadata": {
    "tags": []
   },
   "outputs": [
    {
     "output_type": "stream",
     "name": "stdout",
     "text": "3.14, 5.37, 7.324\n"
    }
   ],
   "source": [
    "text = \"{:.2f}, {:.2f}, {:.3f}\".format(3.1426, 5.3678, 7.324324)\n",
    "print(text)"
   ]
  },
  {
   "cell_type": "code",
   "execution_count": 6,
   "metadata": {
    "tags": []
   },
   "outputs": [
    {
     "output_type": "stream",
     "name": "stdout",
     "text": "3.14, 5., 7.3\n"
    }
   ],
   "source": [
    "text = \"{:.4s}, {:.2s}, {:.3s}\".format(\"3.1426\", \"5.3678\", \"7.324324\")\n",
    "print(text)"
   ]
  },
  {
   "cell_type": "code",
   "execution_count": 9,
   "metadata": {
    "tags": []
   },
   "outputs": [
    {
     "output_type": "stream",
     "name": "stdout",
     "text": "formatlama                       test test  formatlama\n"
    }
   ],
   "source": [
    "text1 = \"formatlama  {:>30}  formatlama\".format(\"test test\") #sağa doğru çıktı alır\n",
    "print(text1)"
   ]
  },
  {
   "cell_type": "code",
   "execution_count": 10,
   "metadata": {
    "tags": []
   },
   "outputs": [
    {
     "output_type": "stream",
     "name": "stdout",
     "text": "formatlama  test test                       formatlama\n"
    }
   ],
   "source": [
    "text1 = \"formatlama  {:<30}  formatlama\".format(\"test test\")#sola doğru çıktı alır\n",
    "print(text1)"
   ]
  },
  {
   "cell_type": "code",
   "execution_count": 11,
   "metadata": {
    "tags": []
   },
   "outputs": [
    {
     "output_type": "stream",
     "name": "stdout",
     "text": "formatlama            test test             formatlama\n"
    }
   ],
   "source": [
    "text1 = \"formatlama  {:^30}  formatlama\".format(\"test test\")#ortaya doğru çıktı alır\n",
    "print(text1)"
   ]
  },
  {
   "cell_type": "code",
   "execution_count": null,
   "metadata": {},
   "outputs": [],
   "source": [
    "# Python Basics-Session-8-Joseph-28/06/20  Listeler"
   ]
  },
  {
   "cell_type": "code",
   "execution_count": 1,
   "metadata": {
    "tags": []
   },
   "outputs": [
    {
     "output_type": "stream",
     "name": "stdout",
     "text": "['los angeles', 's', 'e', 'o', 'u', 'l']\n"
    }
   ],
   "source": [
    "# listeler içinde birden fazla value tutulabilen collectionlardır.\n",
    "city = [\"los angeles\", \"beirut\", \"tokyo\"]\n",
    "city[1:] = \"seoul\"\n",
    "print(city)"
   ]
  },
  {
   "cell_type": "code",
   "execution_count": 2,
   "metadata": {
    "tags": []
   },
   "outputs": [
    {
     "output_type": "stream",
     "name": "stdout",
     "text": "[1, 258, 3, 4, 5]\n"
    }
   ],
   "source": [
    "aa = [1,2,3,4,5]\n",
    "aa[1] = 258\n",
    "print(aa)"
   ]
  },
  {
   "cell_type": "code",
   "execution_count": 3,
   "metadata": {
    "tags": []
   },
   "outputs": [
    {
     "output_type": "stream",
     "name": "stdout",
     "text": "[1, 'c', 'l', 'a', 'r', 'u', 's', 'w', 'a', 'y']\n"
    }
   ],
   "source": [
    "aa = [1,2,3,4,5]\n",
    "aa[1:] = \"clarusway\" #1. indexden sonra sona kadar ekler\n",
    "print(aa)"
   ]
  },
  {
   "cell_type": "code",
   "execution_count": 4,
   "metadata": {
    "tags": []
   },
   "outputs": [
    {
     "output_type": "stream",
     "name": "stdout",
     "text": "['joseph', 'Clarusway', 2020]\n3\n[['joseph', 'Clarusway', 2020]]\n1\n"
    }
   ],
   "source": [
    "my_list = [\"joseph\", \"Clarusway\", 2020]\n",
    "newlist1 = list(my_list)\n",
    "newlist2 = [my_list]\n",
    "print(newlist1)\n",
    "print(len(newlist1))\n",
    "print(newlist2)\n",
    "print(len(newlist2))"
   ]
  },
  {
   "cell_type": "code",
   "execution_count": 5,
   "metadata": {
    "tags": []
   },
   "outputs": [
    {
     "output_type": "stream",
     "name": "stdout",
     "text": "[1, 4, 7, 9, '9']\n"
    }
   ],
   "source": [
    "numbers = [1, 4, 7]\n",
    "numbers.append(9) # listenin sonuna ekler.\n",
    "numbers.append(\"9\")\n",
    "print(numbers)"
   ]
  },
  {
   "cell_type": "code",
   "execution_count": 6,
   "metadata": {
    "tags": []
   },
   "outputs": [
    {
     "output_type": "stream",
     "name": "stdout",
     "text": "[1, 4, 9, 7]\n[1, 4, 6, 9, 7]\n"
    }
   ],
   "source": [
    "numbers = [1, 4, 7]\n",
    "numbers.insert(2, 9)\n",
    "print(numbers)\n",
    "numbers.insert(2, 6) # istediğimiz index numarasına ekler\n",
    "print(numbers)"
   ]
  },
  {
   "cell_type": "code",
   "execution_count": 7,
   "metadata": {
    "tags": []
   },
   "outputs": [
    {
     "output_type": "stream",
     "name": "stdout",
     "text": "[1, 4, 9]\n"
    }
   ],
   "source": [
    "numbers = [1, 4, 7,9]\n",
    "numbers.remove(7) # listeden eleman siler\n",
    "print(numbers)"
   ]
  },
  {
   "cell_type": "code",
   "execution_count": 8,
   "metadata": {
    "tags": []
   },
   "outputs": [
    {
     "output_type": "stream",
     "name": "stdout",
     "text": "[1, 4, 6, 7, 9]\n"
    }
   ],
   "source": [
    "numbers = [1, 4, 6, 9, 7]\n",
    "numbers.sort() # sıralama yapar\n",
    "print(numbers)"
   ]
  },
  {
   "cell_type": "code",
   "execution_count": 11,
   "metadata": {
    "tags": []
   },
   "outputs": [
    {
     "output_type": "stream",
     "name": "stdout",
     "text": "['eight', 'four', 'nine', 'one']\n"
    }
   ],
   "source": [
    "list1 = [\"nine\",\"one\", \"four\", \"eight\"]\n",
    "list1.sort()\n",
    "print(list1)"
   ]
  },
  {
   "cell_type": "code",
   "execution_count": 14,
   "metadata": {
    "tags": []
   },
   "outputs": [
    {
     "output_type": "stream",
     "name": "stdout",
     "text": "[[-12, 1], [1, 3], [44, -40]]\n3\n"
    }
   ],
   "source": [
    "list5 = [[1, 3], [44, -40], [-12, 1]]\n",
    "list5.sort()\n",
    "print(list5)\n",
    "print(len(list5))"
   ]
  },
  {
   "cell_type": "code",
   "execution_count": null,
   "metadata": {},
   "outputs": [],
   "source": [
    "# Accessing List"
   ]
  },
  {
   "cell_type": "code",
   "execution_count": 18,
   "metadata": {
    "tags": []
   },
   "outputs": [
    {
     "output_type": "stream",
     "name": "stdout",
     "text": "[['adana', 'ankara', 'aydın', 'aksaray']]\n['adana', 'ankara', 'aydın', 'aksaray']\naydın\nı\n"
    }
   ],
   "source": [
    "city = [\"adana\", \"ankara\", \"aydın\", \"aksaray\"]\n",
    "city_list = []\n",
    "city_list.append(city) # we have created a nested list\n",
    "print(city_list)\n",
    "print(city_list[0])\n",
    "print(city_list[0][2]) # aydın çıktısı alırız\n",
    "print(city_list[0][2][3])"
   ]
  },
  {
   "cell_type": "code",
   "execution_count": 20,
   "metadata": {},
   "outputs": [
    {
     "output_type": "execute_result",
     "data": {
      "text/plain": "[1, 3, 5, 7, 9]"
     },
     "metadata": {},
     "execution_count": 20
    }
   ],
   "source": [
    "list = list(range(11))\n",
    "list[1:11:2]"
   ]
  },
  {
   "cell_type": "code",
   "execution_count": 21,
   "metadata": {
    "tags": []
   },
   "outputs": [
    {
     "output_type": "stream",
     "name": "stdout",
     "text": "ankara\n"
    }
   ],
   "source": [
    "city = [\"adana\", \"ankara\", \"aydın\", \"aksaray\"]\n",
    "print(city[-3])"
   ]
  },
  {
   "cell_type": "code",
   "execution_count": 22,
   "metadata": {
    "tags": []
   },
   "outputs": [
    {
     "output_type": "stream",
     "name": "stdout",
     "text": "['aksaray', 'aydın', 'ankara', 'adana']\n"
    }
   ],
   "source": [
    "city = [\"adana\", \"ankara\", \"aydın\", \"aksaray\"]\n",
    "print(city[::-1]) # sondan başa doğru yazar"
   ]
  },
  {
   "cell_type": "code",
   "execution_count": 1,
   "metadata": {
    "tags": []
   },
   "outputs": [
    {
     "output_type": "stream",
     "name": "stdout",
     "text": "[0, 1, 2, 3, 4, 5, 6, 7, 8, 9, 10]\n"
    }
   ],
   "source": [
    "list = list(range(11))\n",
    "print(list)"
   ]
  },
  {
   "cell_type": "code",
   "execution_count": null,
   "metadata": {},
   "outputs": [],
   "source": [
    "# Python Basics-Session-9-Joseph-02/07/20 TUPLES / DICTIONARIES"
   ]
  },
  {
   "cell_type": "code",
   "execution_count": 6,
   "metadata": {
    "tags": []
   },
   "outputs": [
    {
     "output_type": "stream",
     "name": "stdout",
     "text": "[1, 2, 3]\n3\n"
    }
   ],
   "source": [
    "my = [[1,2,3]][0]\n",
    "print(my)\n",
    "print(len(my))"
   ]
  },
  {
   "cell_type": "code",
   "execution_count": null,
   "metadata": {},
   "outputs": [],
   "source": [
    "# TUPLES IMMUTABLE DIR. .append() aremocve(yoktur) it is faster than list"
   ]
  },
  {
   "cell_type": "code",
   "execution_count": 7,
   "metadata": {
    "tags": []
   },
   "outputs": [
    {
     "output_type": "stream",
     "name": "stdout",
     "text": "('h', 'a', 'p', 'p', 'y')\n('h', 'a', 'p', 'p', 'y')\n"
    }
   ],
   "source": [
    "tuple1 = (\"h\",\"a\",\"p\",\"p\",\"y\")\n",
    "word = \"happy\"\n",
    "tuple2 = tuple(word)\n",
    "print(tuple1)\n",
    "print(tuple2)"
   ]
  },
  {
   "cell_type": "code",
   "execution_count": 10,
   "metadata": {
    "tags": []
   },
   "outputs": [
    {
     "output_type": "stream",
     "name": "stdout",
     "text": "<class 'str'>\n<class 'tuple'>\n"
    }
   ],
   "source": [
    "my_tuple = (\"Solar\")\n",
    "print(type(my_tuple))\n",
    "my_real_tuple = (\"solor\",) #tuple olması için virgülü unutma\n",
    "print(type(my_real_tuple))"
   ]
  },
  {
   "cell_type": "code",
   "execution_count": 11,
   "metadata": {
    "tags": []
   },
   "outputs": [
    {
     "output_type": "stream",
     "name": "stdout",
     "text": "('earth', 'venus', 'uranus')\n<class 'tuple'>\n"
    }
   ],
   "source": [
    "solar = \"earth\", \"venus\", \"uranus\"\n",
    "print(solar, type(solar), sep=\"\\n\")"
   ]
  },
  {
   "cell_type": "code",
   "execution_count": 12,
   "metadata": {
    "tags": []
   },
   "outputs": [
    {
     "output_type": "stream",
     "name": "stdout",
     "text": "('A', 'l', 'p', 's')\n"
    }
   ],
   "source": [
    "mountain = tuple(\"Alps\")\n",
    "print(mountain)"
   ]
  },
  {
   "cell_type": "code",
   "execution_count": 17,
   "metadata": {
    "tags": []
   },
   "outputs": [
    {
     "output_type": "stream",
     "name": "stdout",
     "text": "(1, 2, 3, 4, 5, 6, 7, 8, 9, 10) <class 'tuple'>\n(3, 4, 5)\n"
    }
   ],
   "source": [
    "number = tuple(range(1,11))\n",
    "print(number, type(number))\n",
    "print(number[2:5])"
   ]
  },
  {
   "cell_type": "code",
   "execution_count": 16,
   "metadata": {
    "tags": []
   },
   "outputs": [
    {
     "output_type": "stream",
     "name": "stdout",
     "text": "range(1, 11) <class 'range'>\n"
    }
   ],
   "source": [
    "number = range(1,11) #bu şekilde tuple olmaz ama \n",
    "print(number, type(number))"
   ]
  },
  {
   "cell_type": "code",
   "execution_count": 19,
   "metadata": {
    "tags": []
   },
   "outputs": [
    {
     "output_type": "stream",
     "name": "stdout",
     "text": "fair\nfair\n"
    }
   ],
   "source": [
    "mix_tuple = (\"11\", 11, [2, \"two\", (\"six\", 6)], (5, \"fair\")) # fair elamanına ait\n",
    "print(mix_tuple[-1][1])\n",
    "print(mix_tuple[3][1])"
   ]
  },
  {
   "cell_type": "code",
   "execution_count": null,
   "metadata": {},
   "outputs": [],
   "source": [
    "# DICTIONARIES each pair has key and value  "
   ]
  },
  {
   "cell_type": "code",
   "execution_count": 21,
   "metadata": {
    "tags": []
   },
   "outputs": [
    {
     "output_type": "stream",
     "name": "stdout",
     "text": "{'fruit': 'apple', 'drink': 'water'}\n{'fruit': 'apple', 'drink': 'water'}\n"
    }
   ],
   "source": [
    "grocer1 = {\"fruit\" : \"apple\", \"drink\" : \"water\"}\n",
    "grocer2 = dict(fruit = \"apple\", drink = \"water\")\n",
    "print(grocer1)\n",
    "print(grocer2)"
   ]
  },
  {
   "cell_type": "code",
   "execution_count": 24,
   "metadata": {
    "tags": []
   },
   "outputs": [
    {
     "output_type": "stream",
     "name": "stdout",
     "text": "Denver\n"
    }
   ],
   "source": [
    "state_capitals = {\n",
    "    \"arkansas\" : \"Litle rock\",\n",
    "    \"colorado\" : \"Denver\",\n",
    "    \"california\" : \"sacramento\",\n",
    "    \"georgia\" : \"atlanta\"\n",
    "}\n",
    "print(state_capitals[\"colorado\"])"
   ]
  },
  {
   "cell_type": "code",
   "execution_count": 25,
   "metadata": {
    "tags": []
   },
   "outputs": [
    {
     "output_type": "stream",
     "name": "stdout",
     "text": "{'arkansas': 'Litle rock', 'colorado': 'Denver', 'california': 'sacramento', 'georgia': 'atlanta', 'Virginia': 'Richmond'}\n"
    }
   ],
   "source": [
    "state_capitals[\"Virginia\"] = \"Richmond\" #adding a new item to dictionary\n",
    "print(state_capitals)"
   ]
  },
  {
   "cell_type": "code",
   "execution_count": 26,
   "metadata": {
    "tags": []
   },
   "outputs": [
    {
     "output_type": "stream",
     "name": "stdout",
     "text": "{'animal': 'dog', 'planet': {'neptun'}, 'number': {40}, 'is_good': True}\n"
    }
   ],
   "source": [
    " dict_by_dict = dict(animal = \"dog\", planet = {\"neptun\"}, number = {40}, is_good = True)\n",
    " print(dict_by_dict)"
   ]
  },
  {
   "cell_type": "code",
   "execution_count": 27,
   "metadata": {
    "tags": []
   },
   "outputs": [
    {
     "output_type": "stream",
     "name": "stdout",
     "text": "{'animal': 'dog', 'planet': {'neptun'}, 'number': {40}, 'is_good': True, 'country': 'Turkey'}\n"
    }
   ],
   "source": [
    "dict_by_dict[\"country\"] = \"Turkey\"\n",
    "print(dict_by_dict)"
   ]
  },
  {
   "cell_type": "code",
   "execution_count": 35,
   "metadata": {
    "tags": []
   },
   "outputs": [
    {
     "output_type": "stream",
     "name": "stdout",
     "text": "dict_items([('animal', 'dog'), ('planet', {'neptun'}), ('number', {40}), ('is_good', True), ('country', 'Turkey')])\ndict_keys(['animal', 'planet', 'number', 'is_good', 'country'])\ndict_values(['dog', {'neptun'}, {40}, True, 'Turkey'])\n"
    }
   ],
   "source": [
    "print((dict_by_dict.items()))\n",
    "print(dict_by_dict.keys())\n",
    "print(dict_by_dict.values())"
   ]
  },
  {
   "cell_type": "code",
   "execution_count": 38,
   "metadata": {},
   "outputs": [],
   "source": [
    "dict_by_dict.update({\"is_bad\" : False})"
   ]
  },
  {
   "cell_type": "code",
   "execution_count": 39,
   "metadata": {
    "tags": []
   },
   "outputs": [
    {
     "output_type": "stream",
     "name": "stdout",
     "text": "{'animal': 'dog', 'planet': {'neptun'}, 'number': {40}, 'is_good': True, 'country': 'Turkey', 'is_bad': False}\n"
    }
   ],
   "source": [
    "print(dict_by_dict)"
   ]
  },
  {
   "cell_type": "code",
   "execution_count": 41,
   "metadata": {},
   "outputs": [],
   "source": [
    "del dict_by_dict[\"is_bad\"]"
   ]
  },
  {
   "cell_type": "code",
   "execution_count": 42,
   "metadata": {
    "tags": []
   },
   "outputs": [
    {
     "output_type": "stream",
     "name": "stdout",
     "text": "{'animal': 'dog', 'planet': {'neptun'}, 'number': {40}, 'is_good': True, 'country': 'Turkey'}\n"
    }
   ],
   "source": [
    "print(dict_by_dict)"
   ]
  },
  {
   "cell_type": "code",
   "execution_count": 44,
   "metadata": {
    "tags": []
   },
   "outputs": [
    {
     "output_type": "stream",
     "name": "stdout",
     "text": "False\nFalse\n"
    }
   ],
   "source": [
    "print(\"pi\" in dict_by_dict)\n",
    "print(\"animal\" not in dict_by_dict)"
   ]
  },
  {
   "cell_type": "code",
   "execution_count": null,
   "metadata": {},
   "outputs": [],
   "source": [
    "# Python Basics-Lab-Session - 1 -Joseph-22/06/20 "
   ]
  },
  {
   "cell_type": "code",
   "execution_count": 2,
   "metadata": {
    "tags": []
   },
   "outputs": [
    {
     "output_type": "stream",
     "name": "stdout",
     "text": "1605.78\n"
    }
   ],
   "source": [
    "# weekly pofit\n",
    "deposit = 1000\n",
    "deposit = deposit*(1.07 ** 7)\n",
    "print(round(deposit, 2))"
   ]
  },
  {
   "cell_type": "code",
   "execution_count": 5,
   "metadata": {
    "tags": []
   },
   "outputs": [
    {
     "output_type": "stream",
     "name": "stdout",
     "text": "[]\n"
    }
   ],
   "source": [
    "print({0} and False or [])"
   ]
  },
  {
   "cell_type": "code",
   "execution_count": 7,
   "metadata": {
    "tags": []
   },
   "outputs": [
    {
     "output_type": "stream",
     "name": "stdout",
     "text": "Celcius derece olarak 58.0 degeri, 136.4 fahrenheit eder \n"
    }
   ],
   "source": [
    "celsius = float(input(\"celcius ısı degeri giriniz\"))\n",
    "fahrenheit = (celsius * 1.8) + 32\n",
    "output = f\"Celcius derece olarak {celsius} degeri, {fahrenheit} fahrenheit eder \"\n",
    "print(output)"
   ]
  },
  {
   "cell_type": "code",
   "execution_count": null,
   "metadata": {},
   "outputs": [],
   "source": [
    "# Python Basics-Session-10-Joseph-04/07/20 sets ve condıtıonal statements"
   ]
  },
  {
   "cell_type": "code",
   "execution_count": null,
   "metadata": {},
   "outputs": [],
   "source": [
    "# creating set"
   ]
  },
  {
   "cell_type": "code",
   "execution_count": 10,
   "metadata": {
    "tags": []
   },
   "outputs": [
    {
     "output_type": "stream",
     "name": "stdout",
     "text": "{'blue', 'pink', 'red'}\n{'blue', 'pink', 'red'}\n"
    }
   ],
   "source": [
    "set_1 = {\"red\", \"blue\", \"pink\", \"red\"} # bu şekilde oluşturulabilir\n",
    "colors = \"red\", \"blue\", \"pink\", \"red\" # bu şekilde tuple\n",
    "set_2 = set(colors) # bu şekilde set oluşturulur\n",
    "print(set_1, set_2, sep=\"\\n\")"
   ]
  },
  {
   "cell_type": "code",
   "execution_count": 11,
   "metadata": {
    "tags": []
   },
   "outputs": [
    {
     "output_type": "stream",
     "name": "stdout",
     "text": "{'violet', 'carnation', 'rose', 'orchid'}\n{'violet', 'carnation', 'rose', 'orchid'}\n"
    }
   ],
   "source": [
    "c = {\"carnation\", \"orchid\", \"rose\", \"violet\"}\n",
    "d = {\"rose\", \"orchid\", \"rose\", \"violet\", \"carnation\"} # ikiside aynı çıktıyı verir. Set aynı elemanları sadece bir kere çıktı verir\n",
    "print(a, b, sep='\\n')"
   ]
  },
  {
   "cell_type": "code",
   "execution_count": 13,
   "metadata": {},
   "outputs": [],
   "source": [
    "#.add(), .remove(), .intersection(), .union(), .difference() \n",
    "\n",
    "a = set(\"philadelphia\")\n",
    "b = set(\"dolphin\")"
   ]
  },
  {
   "cell_type": "code",
   "execution_count": 14,
   "metadata": {
    "tags": []
   },
   "outputs": [
    {
     "output_type": "stream",
     "name": "stdout",
     "text": "{'p', 'l', 'i', 'e', 'h', 'd', 'a'}\n"
    }
   ],
   "source": [
    "print(a)"
   ]
  },
  {
   "cell_type": "code",
   "execution_count": 15,
   "metadata": {
    "tags": []
   },
   "outputs": [
    {
     "output_type": "stream",
     "name": "stdout",
     "text": "{'a', 'e'}\n{'a', 'e'}\n"
    }
   ],
   "source": [
    "print(a-b)\n",
    "print(a.difference(b)) # anın b den farkı"
   ]
  },
  {
   "cell_type": "code",
   "execution_count": 16,
   "metadata": {
    "tags": []
   },
   "outputs": [
    {
     "output_type": "stream",
     "name": "stdout",
     "text": "{'p', 'o', 'l', 'i', 'e', 'h', 'd', 'a', 'n'}\n{'p', 'o', 'l', 'i', 'e', 'h', 'd', 'a', 'n'}\n"
    }
   ],
   "source": [
    "print(a | b)\n",
    "print(a.union(b)) #a ile b birleşşimi"
   ]
  },
  {
   "cell_type": "code",
   "execution_count": 17,
   "metadata": {
    "tags": []
   },
   "outputs": [
    {
     "output_type": "stream",
     "name": "stdout",
     "text": "{'p', 'l', 'i', 'h', 'd'}\n{'p', 'l', 'i', 'h', 'd'}\n"
    }
   ],
   "source": [
    "print(a & b)\n",
    "print(a.intersection(b)) # a ile b nin kesişimi"
   ]
  },
  {
   "cell_type": "code",
   "execution_count": 18,
   "metadata": {
    "tags": []
   },
   "outputs": [
    {
     "output_type": "stream",
     "name": "stdout",
     "text": "{'0', '4', '/', '2', '7'}\n{'07/04/2020'}\n"
    }
   ],
   "source": [
    "a = set(\"07/04/2020\")\n",
    "b = {\"07/04/2020\"}\n",
    "print(a, b, sep = \"\\n\")"
   ]
  },
  {
   "cell_type": "code",
   "execution_count": 21,
   "metadata": {
    "tags": []
   },
   "outputs": [
    {
     "output_type": "stream",
     "name": "stdout",
     "text": "hello\nhi\n"
    }
   ],
   "source": [
    "# conditional Staments\n",
    "#if\n",
    "a = 1\n",
    "b = 0\n",
    "if a:\n",
    "    print(\"hello\")\n",
    "if b:\n",
    "    print(\"hi\")"
   ]
  },
  {
   "cell_type": "code",
   "execution_count": 22,
   "metadata": {
    "tags": []
   },
   "outputs": [
    {
     "output_type": "stream",
     "name": "stdout",
     "text": "naber\n"
    }
   ],
   "source": [
    "a = set(\"asap\")\n",
    "b = set(\"pasa\")\n",
    "if a == b:\n",
    "    print(\"naber\")"
   ]
  },
  {
   "cell_type": "code",
   "execution_count": 25,
   "metadata": {
    "tags": []
   },
   "outputs": [
    {
     "output_type": "stream",
     "name": "stdout",
     "text": "you entered False\n"
    }
   ],
   "source": [
    "convert = input(\"Enter Yes or No\").title().strip() == \"Yes\"\n",
    "print(\"you entered\", convert)"
   ]
  },
  {
   "cell_type": "code",
   "execution_count": 26,
   "metadata": {
    "tags": []
   },
   "outputs": [
    {
     "output_type": "stream",
     "name": "stdout",
     "text": "5 is a odd\n"
    }
   ],
   "source": [
    "num = int(input(\"bir sayı giriniz\"))\n",
    "if num % 2 == 0:\n",
    "    print(\"{} is a even\".format(num))\n",
    "else:\n",
    "    print(\"{} is a odd\".format(num))\n"
   ]
  },
  {
   "cell_type": "code",
   "execution_count": null,
   "metadata": {},
   "outputs": [],
   "source": [
    "# Python Basics-Session-11-Joseph-05/07/20 sets ve condıtıonal statements"
   ]
  },
  {
   "cell_type": "code",
   "execution_count": 2,
   "metadata": {
    "tags": []
   },
   "outputs": [
    {
     "output_type": "stream",
     "name": "stdout",
     "text": "girdiğiniz *  2110  * senesi artık yıl değildir.!\n"
    }
   ],
   "source": [
    "year = int(input(\"Yılı giriniz :\"))\n",
    "leap_year = ((year % 4 == 0) and (year % 100 != 0)) or (year % 400 == 0)\n",
    "result = (leap_year == True)*'artık yıldır.' + (leap_year == False)*'artık yıl değildir.'\n",
    "\n",
    "print(f\"girdiğiniz *{year:^8}* senesi {result:^16}!\")"
   ]
  },
  {
   "cell_type": "code",
   "execution_count": 4,
   "metadata": {
    "tags": []
   },
   "outputs": [
    {
     "output_type": "stream",
     "name": "stdout",
     "text": "\nThis sentences is not comfort words.\n"
    }
   ],
   "source": [
    "sentence = input(\"Please write your sentences: \")\n",
    "left_hand = (\"q\", \"a\", \"z\", \"w\", \"s\", \"x\", \"e\", \"d\",\n",
    "             \"c\", \"r\", \"f\", \"v\", \"t\", \"g\", \"b\")\n",
    "right_hand = (\"y\", \"h\", \"n\", \"u\", \"j\", \"m\", \"ı\", \"k\",\n",
    "              \"ö\", \"o\", \"l\", \"ç\", \"p\", \"ş\", \"ğ\", \"i\", \"ü\")\n",
    "a = set(sentence.lower())\n",
    "b = set(right_hand)\n",
    "c = set(left_hand)\n",
    "\n",
    "\n",
    "#comfort_words = (bool((a.intersection(b)) and (a.intersection(c)))) buda kullanılabilir.\n",
    "comfort_words = (bool((a & b) and (a & c)))\n",
    "print(\"This sentences is comfort words.\" * (comfort_words))\n",
    "print(\"This sentences is not comfort words.\" * (not comfort_words))"
   ]
  },
  {
   "cell_type": "code",
   "execution_count": 11,
   "metadata": {
    "tags": []
   },
   "outputs": [
    {
     "output_type": "stream",
     "name": "stdout",
     "text": "3\n4\nthe most frequent number is 3 an it is 4 times repeated\n"
    }
   ],
   "source": [
    "numbers = [1,3,7,4,3,0,3,6,3]\n",
    "item = max(numbers, key= numbers.count)\n",
    "print(item)\n",
    "repetetion = numbers.count(item)\n",
    "print(repetetion)\n",
    "print(f\"the most frequent number is {item} an it is {repetetion} times repeated\")"
   ]
  },
  {
   "cell_type": "code",
   "execution_count": 13,
   "metadata": {
    "tags": []
   },
   "outputs": [
    {
     "output_type": "stream",
     "name": "stdout",
     "text": "['rome', 'tokyo', 'istanbul', 'addis ababa']\n"
    }
   ],
   "source": [
    "sehir = [\"addis ababa\", \"tokyo\", \"rome\", \"istanbul\"]\n",
    "a =sorted(sehir, key= len)\n",
    "print(a)"
   ]
  },
  {
   "cell_type": "code",
   "execution_count": 14,
   "metadata": {},
   "outputs": [
    {
     "output_type": "execute_result",
     "data": {
      "text/plain": "4"
     },
     "metadata": {},
     "execution_count": 14
    }
   ],
   "source": [
    "samanlık = [\"yumurta\", \"saman\",\"tırpan\",\"tezek\", \"igne\", \"inek\", \"su\"]\n",
    "samanlık.index(\"igne\")"
   ]
  },
  {
   "cell_type": "code",
   "execution_count": 16,
   "metadata": {
    "tags": []
   },
   "outputs": [
    {
     "output_type": "stream",
     "name": "stdout",
     "text": "five\n5\nTrue\n"
    }
   ],
   "source": [
    "v = (\"five\", 5, True)\n",
    "x,y,z = v\n",
    "print(x,y,z, sep =\"\\n\")"
   ]
  },
  {
   "cell_type": "code",
   "execution_count": 20,
   "metadata": {},
   "outputs": [
    {
     "output_type": "execute_result",
     "data": {
      "text/plain": "2"
     },
     "metadata": {},
     "execution_count": 20
    }
   ],
   "source": [
    "(mon, tues,wed,thrs,friday,saturday,sunday) = tuple(range(1,8))\n",
    "tues"
   ]
  },
  {
   "cell_type": "code",
   "execution_count": 21,
   "metadata": {},
   "outputs": [
    {
     "output_type": "execute_result",
     "data": {
      "text/plain": "[1, 2, 3, 4, '11', '22', 33]"
     },
     "metadata": {},
     "execution_count": 21
    }
   ],
   "source": [
    "[1,2,3,4] + [\"11\", \"22\",33]"
   ]
  },
  {
   "cell_type": "code",
   "execution_count": 24,
   "metadata": {
    "tags": []
   },
   "outputs": [
    {
     "output_type": "stream",
     "name": "stdout",
     "text": "(1, 2, [1, 3, 5, 6])\n"
    }
   ],
   "source": [
    "tt = (1, 2, [1,3,5])\n",
    "tt[2].append(6)\n",
    "print(tt)"
   ]
  },
  {
   "cell_type": "code",
   "execution_count": 25,
   "metadata": {
    "tags": []
   },
   "outputs": [
    {
     "output_type": "stream",
     "name": "stdout",
     "text": "10 30\n"
    }
   ],
   "source": [
    "a, _, b, _ = (10, 20, 30, 40)\n",
    "print(a,b)"
   ]
  },
  {
   "cell_type": "code",
   "execution_count": 26,
   "metadata": {
    "tags": []
   },
   "outputs": [
    {
     "output_type": "stream",
     "name": "stdout",
     "text": "11\n22\n[33, 44, 55, 66]\n"
    }
   ],
   "source": [
    "x, y, *z = (11,22,33,44,55,66)\n",
    "print(x,y,z, sep=\"\\n\")"
   ]
  },
  {
   "cell_type": "code",
   "execution_count": 33,
   "metadata": {
    "tags": []
   },
   "outputs": [
    {
     "output_type": "stream",
     "name": "stdout",
     "text": "11\n22\n[33, 44, 55, 66]\n"
    }
   ],
   "source": [
    "x, y, *_ = (11,22,33,44,55,66)\n",
    "print(x,y,_, sep=\"\\n\")"
   ]
  },
  {
   "cell_type": "code",
   "execution_count": 31,
   "metadata": {
    "tags": []
   },
   "outputs": [
    {
     "output_type": "stream",
     "name": "stdout",
     "text": "11\n22\n[33, 44, 55]\n66\n"
    }
   ],
   "source": [
    "x, y, *z, t = (11,22,33,44,55,66)\n",
    "print(x,y,z,t, sep=\"\\n\")"
   ]
  },
  {
   "cell_type": "code",
   "execution_count": 35,
   "metadata": {
    "tags": []
   },
   "outputs": [
    {
     "output_type": "stream",
     "name": "stdout",
     "text": "10100000000\n10,100,000,000\n"
    }
   ],
   "source": [
    "no1 = 10_000_000_000\n",
    "no2 = 100_000_000\n",
    "adding = no1 + no2\n",
    "print(adding)\n",
    "print(f\"{adding:,}\")"
   ]
  },
  {
   "cell_type": "code",
   "execution_count": null,
   "metadata": {},
   "outputs": [],
   "source": [
    "# Python Basics-Session-12-Joseph-07/07/20  and Python Basics-Session-13-Joseph-09/07/20  # loops"
   ]
  },
  {
   "cell_type": "code",
   "execution_count": 1,
   "metadata": {
    "tags": []
   },
   "outputs": [
    {
     "output_type": "stream",
     "name": "stdout",
     "text": "It works\n"
    }
   ],
   "source": [
    "condition = (3 > 1) and (1 < 1)\n",
    "if not condition:\n",
    "    print(\"It works\")\n",
    "else:\n",
    "    print(\"SOmething went wrong\")"
   ]
  },
  {
   "cell_type": "code",
   "execution_count": 3,
   "metadata": {
    "tags": []
   },
   "outputs": [
    {
     "output_type": "stream",
     "name": "stdout",
     "text": "I LOVE YOU\nI LOVE YOU\nI LOVE YOU\nI LOVE YOU\nI LOVE YOU\n"
    }
   ],
   "source": [
    "times =  int(input(\"HOW MAny times should ı say I love you\"))\n",
    "for i in range(times):\n",
    "    print(\"I LOVE YOU\")"
   ]
  },
  {
   "cell_type": "code",
   "execution_count": 4,
   "metadata": {
    "tags": []
   },
   "outputs": [
    {
     "output_type": "stream",
     "name": "stdout",
     "text": "6 x 1  =  6\n6 x 2  =  12\n6 x 3  =  18\n6 x 4  =  24\n6 x 5  =  30\n6 x 6  =  36\n6 x 7  =  42\n6 x 8  =  48\n6 x 9  =  54\n6 x 10  =  60\n"
    }
   ],
   "source": [
    "times = int(input(\"enter the number for create multiplacition table\"))\n",
    "for i in range(1,11):\n",
    "    print(times,\"x\",i, \" = \",(times*i))"
   ]
  },
  {
   "cell_type": "code",
   "execution_count": 6,
   "metadata": {
    "tags": []
   },
   "outputs": [
    {
     "output_type": "stream",
     "name": "stdout",
     "text": "range(1, 50, 2)\n1 3 5 7 9 11 13 15 17 19 21 23 25 27 29 31 33 35 37 39 41 43 45 47 49\n"
    }
   ],
   "source": [
    "print(range(1,50,2)) #range ketum nazlı :)) bunu ya listle çözüyoruz yada * ile çözebiliriz.\n",
    "print(*range(1,50,2))"
   ]
  },
  {
   "cell_type": "code",
   "execution_count": 7,
   "metadata": {
    "tags": []
   },
   "outputs": [
    {
     "output_type": "stream",
     "name": "stdout",
     "text": "1 3 5 7 9 11 13 15 17 19 21 23\n"
    }
   ],
   "source": [
    "print(*range(1,25,2))"
   ]
  },
  {
   "cell_type": "code",
   "execution_count": 15,
   "metadata": {
    "tags": []
   },
   "outputs": [
    {
     "output_type": "stream",
     "name": "stdout",
     "text": "s e p a r a t e\n"
    }
   ],
   "source": [
    "print(*(\"separate\"))"
   ]
  },
  {
   "cell_type": "code",
   "execution_count": 12,
   "metadata": {
    "tags": []
   },
   "outputs": [
    {
     "output_type": "stream",
     "name": "stdout",
     "text": "10 8 6 4 2\n"
    }
   ],
   "source": [
    "print(*range(10,0,-2))"
   ]
  },
  {
   "cell_type": "code",
   "execution_count": 18,
   "metadata": {
    "tags": []
   },
   "outputs": [
    {
     "output_type": "stream",
     "name": "stdout",
     "text": "-33 -36 -39 -42 -45 -48 -51 -54 -57 -60 -63 -66 -69 -72 -75 -78 -81 -84 -87 -90 -93 -96\n"
    }
   ],
   "source": [
    "print(*range(-33,-99,-3))"
   ]
  },
  {
   "cell_type": "code",
   "execution_count": 19,
   "metadata": {
    "tags": []
   },
   "outputs": [
    {
     "output_type": "stream",
     "name": "stdout",
     "text": "one : 1\ntwo : 2\nthree : 3\nfour : 4\nfive : 5\n"
    }
   ],
   "source": [
    "text = [\"one\",\"two\",\"three\",\"four\",\"five\"]\n",
    "numbers = [1,2,3,4,5]\n",
    "for x, y in zip(text,numbers):\n",
    "    print(x, \":\", y)"
   ]
  },
  {
   "cell_type": "code",
   "execution_count": 23,
   "metadata": {
    "tags": []
   },
   "outputs": [
    {
     "output_type": "stream",
     "name": "stdout",
     "text": "[('one', 1), ('two', 2), ('three', 3), ('four', 4), ('five', 5)]\n{'one': 1, 'two': 2, 'three': 3, 'four': 4, 'five': 5}\n"
    }
   ],
   "source": [
    "text = [\"one\",\"two\",\"three\",\"four\",\"five\"]\n",
    "numbers = [1,2,3,4,5]\n",
    "print(list(zip(text,numbers)))\n",
    "print(dict(zip(text,numbers))) #zip dict ile çok uyumludur\n",
    " "
   ]
  },
  {
   "cell_type": "code",
   "execution_count": 21,
   "metadata": {
    "tags": []
   },
   "outputs": [
    {
     "output_type": "stream",
     "name": "stdout",
     "text": "('one', 1)\n('two', 2)\n('three', 3)\n('four', 4)\n('five', 5)\n"
    }
   ],
   "source": [
    "text = [\"one\",\"two\",\"three\",\"four\",\"five\"]\n",
    "numbers = [1,2,3,4,5]\n",
    "for x in zip(text,numbers):\n",
    "    print(x)"
   ]
  },
  {
   "cell_type": "code",
   "execution_count": 32,
   "metadata": {
    "tags": []
   },
   "outputs": [
    {
     "output_type": "stream",
     "name": "stdout",
     "text": "[('o', 't', 't', 'f', 'f'), ('n', 'w', 'h', 'o', 'i'), ('e', 'o', 'r', 'u', 'v')]\n[('one',), ('two',), ('three',), ('four',), ('five',)]\n"
    }
   ],
   "source": [
    "text = [\"one\",\"two\",\"three\",\"four\",\"five\"]\n",
    "print(list(zip(*text)))\n",
    "print(list(zip(text)))"
   ]
  },
  {
   "cell_type": "code",
   "execution_count": 33,
   "metadata": {
    "tags": []
   },
   "outputs": [
    {
     "output_type": "stream",
     "name": "stdout",
     "text": "[('one', 1), ('two', 2), ('three', 3), ('four', 4), ('five', 5)]\n[(['one', 'two', 'three', 'four', 'five'],), ([1, 2, 3, 4, 5],)]\n"
    }
   ],
   "source": [
    "text = [[\"one\",\"two\",\"three\",\"four\",\"five\"],[1,2,3,4,5]]\n",
    "print(list(zip(*text)))\n",
    "print(list(zip(text)))"
   ]
  },
  {
   "cell_type": "code",
   "execution_count": 45,
   "metadata": {
    "tags": []
   },
   "outputs": [
    {
     "output_type": "stream",
     "name": "stdout",
     "text": "The list and number of the odd = ([11, 33, 89, 21], 4) \nThe list and number of the odd = ([36, 66, 32, 16, 10], 5)\n"
    }
   ],
   "source": [
    "example_list = [11,36,33,66,89,21,32,16,10]\n",
    "odd = []\n",
    "even =[]\n",
    "for i in example_list:\n",
    "    if i % 2 == 0:\n",
    "        even.append(i)\n",
    "    if i % 2 != 0:\n",
    "        odd.append(i)\n",
    "print(f\"The list and number of the odd = {odd, len(odd)} \\nThe list and number of the odd = {even, len(even)}\")"
   ]
  },
  {
   "cell_type": "code",
   "execution_count": 57,
   "metadata": {
    "tags": []
   },
   "outputs": [
    {
     "output_type": "stream",
     "name": "stdout",
     "text": "\n1\n22\n333\n4444\n55555\n666666\n7777777\n88888888\n999999999\n999999999\n88888888\n7777777\n666666\n55555\n4444\n333\n22\n"
    }
   ],
   "source": [
    "for i in range(10):\n",
    "    print(str(i)* i)\n",
    "for i in range(9,1,-1):\n",
    "    print(str(i)* i)\n",
    "    "
   ]
  },
  {
   "cell_type": "code",
   "execution_count": 61,
   "metadata": {
    "tags": []
   },
   "outputs": [
    {
     "output_type": "stream",
     "name": "stdout",
     "text": "2775\n"
    }
   ],
   "source": [
    "print(sum(range(1,75)))"
   ]
  },
  {
   "cell_type": "code",
   "execution_count": 62,
   "metadata": {
    "tags": []
   },
   "outputs": [
    {
     "output_type": "stream",
     "name": "stdout",
     "text": "2775\n"
    }
   ],
   "source": [
    "sum_count = 0\n",
    "for i in range(1,75):\n",
    "    sum_count +=i\n",
    "print(sum_count)"
   ]
  },
  {
   "cell_type": "code",
   "execution_count": 66,
   "metadata": {
    "tags": []
   },
   "outputs": [
    {
     "output_type": "stream",
     "name": "stdout",
     "text": "I am happy\nI am confident\nyou are happy\nyou are confident\n"
    }
   ],
   "source": [
    "who = [\"I am \", \"you are \"]\n",
    "mood = [\"happy\",\"confident\" ]\n",
    "for i in who:\n",
    "    for j in mood:\n",
    "        print(i + j)"
   ]
  },
  {
   "cell_type": "code",
   "execution_count": 67,
   "metadata": {
    "tags": []
   },
   "outputs": [
    {
     "output_type": "stream",
     "name": "stdout",
     "text": "0\n1\n2\n3\n4\n5\n6\n7\n8\n9\n"
    }
   ],
   "source": [
    "count = 0\n",
    "while count >= 0:\n",
    "    print(count)\n",
    "    count += 1\n",
    "    if count == 10:\n",
    "        break"
   ]
  },
  {
   "cell_type": "code",
   "execution_count": 68,
   "metadata": {
    "tags": []
   },
   "outputs": [
    {
     "output_type": "stream",
     "name": "stdout",
     "text": "0\n1\n2\n3\n4\n5\n6\n7\n8\n9\n"
    }
   ],
   "source": [
    "count = 0 # yukarıdaki kod ile aynı sonucu verir\n",
    "while count >= 0:\n",
    "    print(count)\n",
    "    count += 1\n",
    "    if count == 10:\n",
    "        count = -1"
   ]
  },
  {
   "cell_type": "code",
   "execution_count": null,
   "metadata": {},
   "outputs": [],
   "source": [
    "################################################\n",
    "#Python Basics Plus#    #    # #####   #### ####   #Python Basics Plus# \n",
    "######################### ##########  ###  ###  ##### ###  "
   ]
  },
  {
   "cell_type": "code",
   "execution_count": null,
   "metadata": {},
   "outputs": [],
   "source": [
    "###  Python Basics Plus-Session-14-Joseph-11/07/20 FUNCTIONS"
   ]
  },
  {
   "cell_type": "code",
   "execution_count": 70,
   "metadata": {
    "tags": []
   },
   "outputs": [
    {
     "output_type": "stream",
     "name": "stdout",
     "text": "False\nFalse\nTrue\n"
    }
   ],
   "source": [
    "# all() function iterable ile çalışır hepsi true ise tru döndürür. Bir tane bile false varsa false döner. Dikkat boş kümede true döndürür\n",
    "names = [\"susan\", \"tom\",\"False\"]\n",
    "mood = [\"happy\", \"sad\", 0]\n",
    "empty = {}\n",
    "print(all(names), all(mood), all(empty), sep=\"\\n\")"
   ]
  },
  {
   "cell_type": "code",
   "execution_count": 73,
   "metadata": {
    "tags": []
   },
   "outputs": [
    {
     "output_type": "stream",
     "name": "stdout",
     "text": "False\nTrue\nFalse\n"
    }
   ],
   "source": [
    "names = [\"susan\", \"tom\",\"False\",\"\"]\n",
    "mood = [\"happy\", \"sad\", \"0\"]\n",
    "empty = {\"\"}\n",
    "print(all(names), all(mood), all(empty), sep=\"\\n\")"
   ]
  },
  {
   "cell_type": "code",
   "execution_count": 75,
   "metadata": {
    "tags": []
   },
   "outputs": [
    {
     "output_type": "stream",
     "name": "stdout",
     "text": "True\nFalse\nFalse\n"
    }
   ],
   "source": [
    "# any() function iterable ile çalışır bir tane bile  true ise tru döndürür. hepsi false ise false boş küme ve listede false döndürür\n",
    "names = [\"susan\", \"tom\",False]\n",
    "mood = [None, (), 0]\n",
    "empty = {}\n",
    "print(any(names), any(mood), any(empty), sep=\"\\n\")"
   ]
  },
  {
   "cell_type": "code",
   "execution_count": 76,
   "metadata": {
    "tags": []
   },
   "outputs": [
    {
     "output_type": "stream",
     "name": "stdout",
     "text": "60\n"
    }
   ],
   "source": [
    "def my_sum(*args):\n",
    "    return sum(args)\n",
    "print(my_sum(10, -20, 30, 40))"
   ]
  },
  {
   "cell_type": "code",
   "execution_count": 1,
   "metadata": {
    "tags": []
   },
   "outputs": [
    {
     "output_type": "stream",
     "name": "stdout",
     "text": "12\n"
    }
   ],
   "source": [
    "def my_sum(*args):\n",
    "    total = 0\n",
    "    for i in args:\n",
    "        total += i\n",
    "    return total\n",
    "print(my_sum(9, 1, 3, 0, -1))"
   ]
  },
  {
   "cell_type": "code",
   "execution_count": 77,
   "metadata": {
    "tags": []
   },
   "outputs": [
    {
     "output_type": "stream",
     "name": "stdout",
     "text": "['susan', 'tom', '0']\n"
    }
   ],
   "source": [
    "# filter listeleme için kullanılır\n",
    "lista = [\"susan\", \"tom\",False,0,\"0\"]\n",
    "filter_list = filter(None, lista) # burada fonksiyon vermediğimiz için None yazdık\n",
    "print(list(filter_list)) # sadece true olanları çıktı verir"
   ]
  },
  {
   "cell_type": "code",
   "execution_count": 78,
   "metadata": {
    "tags": []
   },
   "outputs": [
    {
     "output_type": "stream",
     "name": "stdout",
     "text": "[(0, 'bread'), (1, 'water'), (2, 'olive')]\n"
    }
   ],
   "source": [
    "# enumerate(iterable)\n",
    "grocery = [\"bread\", \"water\", \"olive\"]\n",
    "a = list(enumerate(grocery))\n",
    "print(a)"
   ]
  },
  {
   "cell_type": "code",
   "execution_count": 79,
   "metadata": {
    "tags": []
   },
   "outputs": [
    {
     "output_type": "stream",
     "name": "stdout",
     "text": "(0, 'bread')\n(1, 'water')\n(2, 'olive')\n"
    }
   ],
   "source": [
    "grocery = [\"bread\", \"water\", \"olive\"]\n",
    "b = enumerate(grocery)\n",
    "for i in b:\n",
    "    print(i)"
   ]
  },
  {
   "cell_type": "code",
   "execution_count": 80,
   "metadata": {
    "tags": []
   },
   "outputs": [
    {
     "output_type": "stream",
     "name": "stdout",
     "text": "{0: 'bread', 1: 'water', 2: 'olive'}\n"
    }
   ],
   "source": [
    "grocery = [\"bread\", \"water\", \"olive\"]\n",
    "b = dict(enumerate(grocery))\n",
    "print(b)"
   ]
  },
  {
   "cell_type": "code",
   "execution_count": 81,
   "metadata": {
    "tags": []
   },
   "outputs": [
    {
     "output_type": "stream",
     "name": "stdout",
     "text": "(10, 'bread')\n(11, 'water')\n(12, 'olive')\n"
    }
   ],
   "source": [
    "grocery = [\"bread\", \"water\", \"olive\"]\n",
    "b = enumerate(grocery, 10) # 10 sayısı burada optional 10 dan başlaması için kullandık\n",
    "for i in b:\n",
    "    print(i)"
   ]
  },
  {
   "cell_type": "code",
   "execution_count": 82,
   "metadata": {
    "tags": []
   },
   "outputs": [
    {
     "output_type": "stream",
     "name": "stdout",
     "text": "3.67\n"
    }
   ],
   "source": [
    "print(round(3.6687895, 2))"
   ]
  },
  {
   "cell_type": "code",
   "execution_count": 84,
   "metadata": {
    "tags": []
   },
   "outputs": [
    {
     "output_type": "stream",
     "name": "stdout",
     "text": "140\n240\n"
    }
   ],
   "source": [
    "numbers= [1,2,3,4,5,6,7,45,67]\n",
    "print(sum(numbers))\n",
    "print(sum(numbers, 100))"
   ]
  },
  {
   "cell_type": "code",
   "execution_count": 85,
   "metadata": {
    "tags": []
   },
   "outputs": [
    {
     "output_type": "stream",
     "name": "stdout",
     "text": "34\n"
    }
   ],
   "source": [
    "def kare(a,b):\n",
    "    print(a**2 + b**2)\n",
    "kare(3,5)"
   ]
  },
  {
   "cell_type": "code",
   "execution_count": 86,
   "metadata": {
    "tags": []
   },
   "outputs": [
    {
     "output_type": "stream",
     "name": "stdout",
     "text": "30\n"
    }
   ],
   "source": [
    "def multi1(a,b):\n",
    "    return a * b\n",
    "yeni = multi1(5, 6)\n",
    "print(yeni)"
   ]
  },
  {
   "cell_type": "code",
   "execution_count": 89,
   "metadata": {
    "tags": []
   },
   "outputs": [
    {
     "output_type": "stream",
     "name": "stdout",
     "text": "12\n\n    this function give the absolute value of the number\n    \n"
    }
   ],
   "source": [
    "def absolute_value(num):\n",
    "    \"\"\"\n",
    "    this function give the absolute value of the number\n",
    "    \"\"\"\n",
    "    if num >= 0:\n",
    "        return num\n",
    "    else:\n",
    "        return -num\n",
    "print(absolute_value(-12))\n",
    "print(absolute_value.__doc__)"
   ]
  },
  {
   "cell_type": "code",
   "execution_count": null,
   "metadata": {},
   "outputs": [],
   "source": [
    "# Python Basics Plus-Session-15-Joseph-12/07/20  Hands On Training"
   ]
  },
  {
   "cell_type": "code",
   "execution_count": null,
   "metadata": {},
   "outputs": [],
   "source": [
    "#Armstrong Number"
   ]
  },
  {
   "cell_type": "code",
   "execution_count": 6,
   "metadata": {
    "tags": []
   },
   "outputs": [
    {
     "output_type": "stream",
     "name": "stdout",
     "text": "25 is not an Armstrong number. \n"
    }
   ],
   "source": [
    "while True:\n",
    "    number = input(\"enter a positive number : \")\n",
    "    digits = len(number)\n",
    "    summ = 0\n",
    "\n",
    "    if not number.isdigit() :\n",
    "        print(number, \"It is an invalid entry\")\n",
    "\n",
    "    elif int(number) >= 0:\n",
    "        for i in range(digits):\n",
    "            summ += int(number[i]) ** digits\n",
    "        if summ == int(number):\n",
    "            print(number, \"is an Armstrong number. \")\n",
    "            break\n",
    "        else: \n",
    "            print(number, \"is not an Armstrong number. \" )\n",
    "            break"
   ]
  },
  {
   "cell_type": "code",
   "execution_count": null,
   "metadata": {},
   "outputs": [],
   "source": [
    "# prime numbers"
   ]
  },
  {
   "cell_type": "code",
   "execution_count": 7,
   "metadata": {
    "tags": []
   },
   "outputs": [
    {
     "output_type": "stream",
     "name": "stdout",
     "text": "It is a prime number\n"
    }
   ],
   "source": [
    "n = int(input(\"enter the number\"))\n",
    "count = 0\n",
    "for i in range(1, n+1) :\n",
    "    if not (n % i):\n",
    "        count += 1\n",
    "if (n == 0) or (n ==1) or (count > 2): print(\"It is not a prime number\")\n",
    "else: print(\"It is a prime number\")\n"
   ]
  },
  {
   "cell_type": "code",
   "execution_count": 8,
   "metadata": {
    "tags": []
   },
   "outputs": [
    {
     "output_type": "stream",
     "name": "stdout",
     "text": "[1, 1, 2, 3, 5, 8, 13, 21, 34, 55]\n"
    }
   ],
   "source": [
    "# fibonacci Numbers\n",
    "\n",
    "fibo = []\n",
    "for i in range(-2, 8) :\n",
    "    if i < 0: fibo.append(1)\n",
    "    else: fibo.append(fibo[i] + fibo[i+1])\n",
    "print(fibo)"
   ]
  },
  {
   "cell_type": "code",
   "execution_count": 11,
   "metadata": {
    "tags": []
   },
   "outputs": [
    {
     "output_type": "stream",
     "name": "stdout",
     "text": "['a', 'e', 'i', 'u']\n"
    }
   ],
   "source": [
    "# filter içine giren fonksiyon ya true yada false döndürmeli\n",
    "letters = [ \"a\",\"b\",\"c\",\"d\",\"e\",\"i\",\"j\",\"x\",\"t\",\"u\"]\n",
    "def fltVowel(let):\n",
    "    vowel = [\"a\",\"e\",\"i\",\"o\",\"u\"]\n",
    "    if let in vowel:\n",
    "        return True\n",
    "    else: return False\n",
    "print(list(filter(fltVowel, letters)))"
   ]
  },
  {
   "cell_type": "code",
   "execution_count": 17,
   "metadata": {
    "tags": []
   },
   "outputs": [
    {
     "output_type": "stream",
     "name": "stdout",
     "text": "1\n"
    }
   ],
   "source": [
    "condition = True\n",
    "a=1 if condition else 0\n",
    "print(a)"
   ]
  },
  {
   "cell_type": "code",
   "execution_count": 20,
   "metadata": {
    "tags": []
   },
   "outputs": [
    {
     "output_type": "stream",
     "name": "stdout",
     "text": "[1]\n"
    }
   ],
   "source": [
    "condition = True\n",
    "result = [1 if condition else 0]\n",
    "print(result)"
   ]
  },
  {
   "cell_type": "code",
   "execution_count": 22,
   "metadata": {
    "tags": []
   },
   "outputs": [
    {
     "output_type": "stream",
     "name": "stdout",
     "text": "[1, 9, 25]\n"
    }
   ],
   "source": [
    "# list comprehension\n",
    "my_list = [1,2,3,4,5,6]\n",
    "odd_sqr =[]\n",
    "for x in my_list:\n",
    "    if x % 2 != 0:\n",
    "        odd_sqr.append(x ** 2)\n",
    "print(odd_sqr)\n"
   ]
  },
  {
   "cell_type": "code",
   "execution_count": null,
   "metadata": {},
   "outputs": [],
   "source": [
    "#[expression for item in iterable]   köşeli parantez olmak zorunda"
   ]
  },
  {
   "cell_type": "code",
   "execution_count": 25,
   "metadata": {},
   "outputs": [
    {
     "output_type": "execute_result",
     "data": {
      "text/plain": "[1, 4, 9, 16, 25, 36]"
     },
     "metadata": {},
     "execution_count": 25
    }
   ],
   "source": [
    "my_list = [1,2,3,4,5,6]\n",
    "[x**2   for x in my_list]"
   ]
  },
  {
   "cell_type": "code",
   "execution_count": 26,
   "metadata": {},
   "outputs": [
    {
     "output_type": "execute_result",
     "data": {
      "text/plain": "[1, 9, 25]"
     },
     "metadata": {},
     "execution_count": 26
    }
   ],
   "source": [
    "my_list = [1,2,3,4,5,6]\n",
    "[x**2   for x in my_list if x % 2 !=0]"
   ]
  },
  {
   "cell_type": "code",
   "execution_count": 33,
   "metadata": {},
   "outputs": [
    {
     "output_type": "execute_result",
     "data": {
      "text/plain": "[3, 4, 4]"
     },
     "metadata": {},
     "execution_count": 33
    }
   ],
   "source": [
    "strings = [\"ali\",\"veli\",\"ayse\"]\n",
    "[len(i) for i in strings]"
   ]
  },
  {
   "cell_type": "code",
   "execution_count": 37,
   "metadata": {
    "tags": []
   },
   "outputs": [
    {
     "output_type": "execute_result",
     "data": {
      "text/plain": "4"
     },
     "metadata": {},
     "execution_count": 37
    }
   ],
   "source": [
    "my_list = [1,2,3,4,5,6]\n",
    "a = (x**2 for x in my_list) # bu tuple olduğu için for ile okutabliriz\n",
    "next(a) # adım adım çalıştırır\n",
    "next(a)"
   ]
  },
  {
   "cell_type": "code",
   "execution_count": 39,
   "metadata": {
    "tags": []
   },
   "outputs": [
    {
     "output_type": "stream",
     "name": "stdout",
     "text": "1\n4\n9\n16\n25\n36\n"
    }
   ],
   "source": [
    "my_list = [1,2,3,4,5,6]\n",
    "a = (x**2 for x in my_list)\n",
    "#print(list(a))\n",
    "for i in a:\n",
    "    print(i)"
   ]
  },
  {
   "cell_type": "code",
   "execution_count": 40,
   "metadata": {},
   "outputs": [
    {
     "output_type": "execute_result",
     "data": {
      "text/plain": "['C', 'l', 'a', 'r', 'u', 's', 'w', 'a', 'y']"
     },
     "metadata": {},
     "execution_count": 40
    }
   ],
   "source": [
    "[x for x in \"Clarusway\"]"
   ]
  },
  {
   "cell_type": "code",
   "execution_count": 42,
   "metadata": {},
   "outputs": [
    {
     "output_type": "execute_result",
     "data": {
      "text/plain": "['b', 'r', 'i', ' ', 'g', 'l', ' ', 'b', 'r', 'b', 'r', 'b', 'r']"
     },
     "metadata": {},
     "execution_count": 42
    }
   ],
   "source": [
    "[i for i in \"beri gel berberbeer\" if i !=\"e\"]"
   ]
  },
  {
   "cell_type": "code",
   "execution_count": null,
   "metadata": {},
   "outputs": [],
   "source": []
  }
 ]
}