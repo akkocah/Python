{
 "metadata": {
  "language_info": {
   "codemirror_mode": {
    "name": "ipython",
    "version": 3
   },
   "file_extension": ".py",
   "mimetype": "text/x-python",
   "name": "python",
   "nbconvert_exporter": "python",
   "pygments_lexer": "ipython3",
   "version": "3.8.2-final"
  },
  "orig_nbformat": 2,
  "kernelspec": {
   "name": "python36964bit03789e678b2849149d608e9dc1d904bf",
   "display_name": "Python 3.6.9 64-bit"
  }
 },
 "nbformat": 4,
 "nbformat_minor": 2,
 "cells": [
  {
   "cell_type": "code",
   "execution_count": null,
   "metadata": {},
   "outputs": [],
   "source": [
    "    #  open (file, mode='r', buffering=-1, encoding=None, errors=None, newline=None, closefd=True, opener=None)"
   ]
  },
  {
   "cell_type": "code",
   "execution_count": 4,
   "metadata": {
    "tags": []
   },
   "outputs": [
    {
     "output_type": "stream",
     "name": "stdout",
     "text": "<class '_io.TextIOWrapper'>\n"
    }
   ],
   "source": [
    "my_file = open(\"fishes.txt\", \"a\")\n",
    " \n",
    "print(type(my_file))"
   ]
  },
  {
   "cell_type": "code",
   "execution_count": 8,
   "metadata": {},
   "outputs": [],
   "source": [
    "my_file = open(\"fishes.txt\", \"a\")\n",
    "my_file.write(\"Hasannnnnnnnnnnnnnnnn\")\n",
    "my_file.close()"
   ]
  },
  {
   "cell_type": "code",
   "execution_count": null,
   "metadata": {},
   "outputs": [],
   "source": [
    "# You can use the following methods for reading this file :\n",
    "#         .read(size)\n",
    "#         .readline(size)\n",
    "#         .readlines()\n",
    "#         using loops"
   ]
  },
  {
   "cell_type": "code",
   "execution_count": 9,
   "metadata": {
    "tags": []
   },
   "outputs": [
    {
     "output_type": "stream",
     "name": "stdout",
     "text": "Orca is a kind of Dolphin.\nBlue Whale is the largest animal known on earth.\nSharks are the sister group to the Rays (batoids).\nThe Tuna Fish can weigh up to 260 kg.\nSquid and Octopus are in the same class.\n"
    }
   ],
   "source": [
    "#.read(size)\n",
    "sea = open(\"fishes.txt\", 'r')   \n",
    "print(sea.read())  # displays the entire text content\n",
    "sea.close()  # be sure to close the file"
   ]
  },
  {
   "cell_type": "code",
   "execution_count": 12,
   "metadata": {
    "tags": []
   },
   "outputs": [
    {
     "output_type": "stream",
     "name": "stdout",
     "text": "Orca is a kind of Dolphin.\nBlue W\n\nhale is the largest anima\n\nOrca is a kind of Dolphin.\nBlue W\n\n33\n"
    }
   ],
   "source": [
    "sea = open(\"fishes.txt\", 'r')   \n",
    "print(sea.read(33))  # displays the first 33 chars of the text\n",
    "print()\n",
    "print(sea.read(25))  # displays the next 25 chars of the text\n",
    "print()\n",
    "sea.seek(0)  # changes the stream (cursor) position to zero\n",
    "print(sea.read(33))  # displays the first 33 chars again\n",
    "print()\n",
    "print(sea.tell())  # returns the current stream (cursor) position\n",
    "sea.close()"
   ]
  },
  {
   "cell_type": "code",
   "execution_count": 14,
   "metadata": {
    "tags": []
   },
   "outputs": [
    {
     "output_type": "stream",
     "name": "stdout",
     "text": "Orca is a kind of Dolphin.\n\nBlue Whale is the largest animal known on earth.\n\nSharks are the sister group to the Rays (batoids).\n\n"
    }
   ],
   "source": [
    "sea = open(\"fishes.txt\", 'r')   \n",
    "print(sea.readline())  # displays the first line of the text\n",
    "print(sea.readline())  # displays the second line\n",
    "print(sea.readline())  # each time it goes to the new line\n",
    "sea.close()"
   ]
  },
  {
   "cell_type": "code",
   "execution_count": 15,
   "metadata": {
    "tags": []
   },
   "outputs": [
    {
     "output_type": "stream",
     "name": "stdout",
     "text": "Orca is a kin\nd of Dolphin.\n\n\nBlue Whale is\n"
    }
   ],
   "source": [
    "sea = open(\"fishes.txt\", \"r\")\n",
    "print(sea.readline(13))\n",
    "print(sea.readline(13))\n",
    "print(sea.readline(13))\n",
    "print(sea.readline(13))\n",
    "sea.close()"
   ]
  },
  {
   "cell_type": "code",
   "execution_count": 19,
   "metadata": {
    "tags": []
   },
   "outputs": [
    {
     "output_type": "stream",
     "name": "stdout",
     "text": "['Orca is a kind of Dolphin.\\n', 'Blue Whale is the largest animal known on earth.\\n', 'Sharks are the sister group to the Rays (batoids).\\n']\n"
    }
   ],
   "source": [
    "sea = open(\"fishes.txt\", \"r\")\n",
    "print(sea.readlines())  #list tipinde verir\n",
    "sea.close()"
   ]
  },
  {
   "cell_type": "code",
   "execution_count": 21,
   "metadata": {
    "tags": []
   },
   "outputs": [
    {
     "output_type": "stream",
     "name": "stdout",
     "text": "Orca is a kind of Dolphin.\n\n['Blue Whale is the largest animal known on earth.\\n', 'Sharks are the sister group to the Rays (batoids).\\n', 'The Tuna Fish can weigh up to 260 kg.\\n', 'Squid and Octopus are in the same class.']\n"
    }
   ],
   "source": [
    "sea = open(\"fishes.txt\", 'r')   \n",
    "print(sea.readline())  # first line\n",
    "print(sea.readlines())  # the rest of the lines\n",
    "sea.close()"
   ]
  },
  {
   "cell_type": "code",
   "execution_count": 22,
   "metadata": {
    "tags": []
   },
   "outputs": [
    {
     "output_type": "stream",
     "name": "stdout",
     "text": "Orca is a kind of Dolphin.\n\nBlue Whale is the largest animal known on earth.\n\nSharks are the sister group to the Rays (batoids).\n\nThe Tuna Fish can weigh up to 260 kg.\n\nSquid and Octopus are in the same class.\n"
    }
   ],
   "source": [
    "sea = open(\"fishes.txt\", \"r\")\n",
    "for i in sea:\n",
    "    print(i)\n",
    "sea.close()"
   ]
  },
  {
   "cell_type": "code",
   "execution_count": 23,
   "metadata": {
    "tags": []
   },
   "outputs": [
    {
     "output_type": "stream",
     "name": "stdout",
     "text": "Orca is a kind of Dolphin.\n\nBlue Whale is the largest animal known on earth.\n\nSharks are the sister group to the Rays (batoids).\n\nThe Tuna Fish can weigh up to 260 kg.\n\nSquid and Octopus are in the same class.\n"
    }
   ],
   "source": [
    "sea = open(\"fishes.txt\", \"r\")\n",
    "for i in sea.readlines():\n",
    "    print(i)\n",
    "sea.close()"
   ]
  },
  {
   "cell_type": "code",
   "execution_count": 24,
   "metadata": {
    "tags": []
   },
   "outputs": [
    {
     "output_type": "stream",
     "name": "stdout",
     "text": "Orca is a kind of Dolphin.\nBlue Whale is the largest animal known on earth.\nSharks are the sister group to the Rays (batoids).\nThe Tuna Fish can weigh up to 260 kg.\nSquid and Octopus are in the same class.\n"
    }
   ],
   "source": [
    "with open(\"fishes.txt\", \"r\") as sea:  # böyle açarsak close gerek kalmaz\n",
    "    print(sea.read())"
   ]
  },
  {
   "cell_type": "code",
   "execution_count": 25,
   "metadata": {
    "tags": []
   },
   "outputs": [
    {
     "output_type": "stream",
     "name": "stdout",
     "text": "Orca is a kind of Dolphin.\n\nBlue Whale is the largest animal known on earth.\n\nSharks are the sister group to the Rays (batoids).\n\nThe Tuna Fish can weigh up to 260 kg.\n\nSquid and Octopus are in the same class.\n"
    }
   ],
   "source": [
    "with open(\"fishes.txt\", \"r\") as sea:\n",
    "    for i in sea:\n",
    "        print(i)"
   ]
  },
  {
   "cell_type": "code",
   "execution_count": 26,
   "metadata": {},
   "outputs": [],
   "source": [
    "with open(\"dummy_file.txt\", \"w\", encoding=\"utf-8\") as file:\n",
    "    file.write(\"this is the first line of my text file\")"
   ]
  },
  {
   "cell_type": "code",
   "execution_count": 29,
   "metadata": {
    "tags": []
   },
   "outputs": [
    {
     "output_type": "stream",
     "name": "stdout",
     "text": "this is the new line for my file\n"
    }
   ],
   "source": [
    "with open(\"dummy_file.txt\", \"r\", encoding=\"utf-8\") as file:\n",
    "    print(file.read())"
   ]
  },
  {
   "cell_type": "code",
   "execution_count": 28,
   "metadata": {},
   "outputs": [],
   "source": [
    "with open(\"dummy_file.txt\", \"w\", encoding=\"utf-8\") as file:\n",
    "    file.write(\"this is the new line for my file\")"
   ]
  },
  {
   "cell_type": "code",
   "execution_count": 30,
   "metadata": {
    "tags": []
   },
   "outputs": [
    {
     "output_type": "stream",
     "name": "stdout",
     "text": "this is the new line for my file\n"
    }
   ],
   "source": [
    "with open(\"dummy_file.txt\", 'r', encoding=\"utf-8\") as file:\n",
    "    print(file.read())  # reads the content of the 'dummy_file'"
   ]
  },
  {
   "cell_type": "code",
   "execution_count": 31,
   "metadata": {},
   "outputs": [],
   "source": [
    "with open(\"dummy_file.txt\", 'w', encoding=\"utf-8\") as file:\n",
    "    file.write('My first sentence')\n",
    "    file.write('My second sentence,')\n",
    "    file.write('My third sentence\\n')\n",
    "    file.write('My fourth sentence ')\n",
    "    file.write('My last sentence')\n"
   ]
  },
  {
   "cell_type": "code",
   "execution_count": 32,
   "metadata": {
    "tags": []
   },
   "outputs": [
    {
     "output_type": "stream",
     "name": "stdout",
     "text": "My first sentenceMy second sentence,My third sentence\nMy fourth sentence My last sentence\n"
    }
   ],
   "source": [
    "with open(\"dummy_file.txt\", 'r', encoding=\"utf-8\") as file:\n",
    "    print(file.read())"
   ]
  },
  {
   "cell_type": "code",
   "execution_count": 33,
   "metadata": {},
   "outputs": [],
   "source": [
    "fruits = ['Banana', 'Orange', 'Apple', 'Strawberry', 'Cherry']\n",
    "with open(\"fruits.txt\", 'w', encoding=\"utf-8\") as file:\n",
    "    for i in fruits:\n",
    "        file.write(i + \"\\n\")"
   ]
  },
  {
   "cell_type": "code",
   "execution_count": 36,
   "metadata": {
    "tags": []
   },
   "outputs": [
    {
     "output_type": "stream",
     "name": "stdout",
     "text": "Banana\nOrange\nApple\nStrawberry\nCherry\n\n[]\n"
    }
   ],
   "source": [
    "with open(\"fruits.txt\", \"r\") as file:\n",
    "    print(file.read())\n",
    "    print(file.readlines())  "
   ]
  },
  {
   "cell_type": "code",
   "execution_count": 37,
   "metadata": {
    "tags": []
   },
   "outputs": [
    {
     "output_type": "stream",
     "name": "stdout",
     "text": "['Banana\\n', 'Orange\\n', 'Apple\\n', 'Strawberry\\n', 'Cherry\\n']\n"
    }
   ],
   "source": [
    "with open(\"fruits.txt\", 'r', encoding=\"utf-8\") as file:\n",
    "    print(file.readlines())  # reads and displays entire lines in a list"
   ]
  },
  {
   "cell_type": "code",
   "execution_count": 1,
   "metadata": {
    "tags": []
   },
   "outputs": [
    {
     "output_type": "stream",
     "name": "stdout",
     "text": "This is the first line of my text file\n"
    }
   ],
   "source": [
    "with open(\"dummy_file.txt\", 'w', encoding=\"utf-8\") as file:  \n",
    "# we create and open the file\n",
    "\n",
    "    file.write('This is the first line of my text file')  \n",
    "    # writes str data into file\n",
    "\n",
    "with open(\"dummy_file.txt\", 'r', encoding=\"utf-8\") as file:\n",
    "    print(file.read())  # reads the content of the 'dummy_file'"
   ]
  },
  {
   "cell_type": "code",
   "execution_count": 1,
   "metadata": {
    "tags": []
   },
   "outputs": [
    {
     "output_type": "stream",
     "name": "stdout",
     "text": "This is the new line for my dummy_file\n"
    }
   ],
   "source": [
    "with open(\"dummy_file.txt\", 'w', encoding=\"utf-8\") as file:\n",
    "    file.write('This is the new line for my dummy_file')  \n",
    "    # we write new str data into it \n",
    "\n",
    "with open(\"dummy_file.txt\", 'r', encoding=\"utf-8\") as file:\n",
    "    print(file.read())  # reads the content of the 'dummy_file'"
   ]
  },
  {
   "cell_type": "code",
   "execution_count": 2,
   "metadata": {
    "tags": []
   },
   "outputs": [
    {
     "output_type": "stream",
     "name": "stdout",
     "text": "My first sentenceMy second sentence,My third sentence\nMy fourth sentence My last sentence\n"
    }
   ],
   "source": [
    "with open(\"dummy_file.txt\", 'w', encoding=\"utf-8\") as file:\n",
    "    file.write('My first sentence')\n",
    "    file.write('My second sentence,')\n",
    "    file.write('My third sentence\\n')\n",
    "    file.write('My fourth sentence ')\n",
    "    file.write('My last sentence')\n",
    "\n",
    "with open(\"dummy_file.txt\", 'r', encoding=\"utf-8\") as file:\n",
    "    print(file.read())"
   ]
  },
  {
   "cell_type": "code",
   "execution_count": 3,
   "metadata": {
    "tags": []
   },
   "outputs": [
    {
     "output_type": "stream",
     "name": "stdout",
     "text": "Banana\nOrange\nApple\nStrawberry\nCherry\n\n['Banana\\n', 'Orange\\n', 'Apple\\n', 'Strawberry\\n', 'Cherry\\n']\n"
    }
   ],
   "source": [
    "fruits = ['Banana', 'Orange', 'Apple', 'Strawberry', 'Cherry']\n",
    "\n",
    "with open(\"fruits.txt\", 'w', encoding=\"utf-8\") as file:\n",
    "    for basket in fruits:\n",
    "        file.write(basket + '\\n')  # adds a newline character to each string\n",
    "   \n",
    "with open(\"fruits.txt\", 'r', encoding=\"utf-8\") as file:\n",
    "    print(file.read())\n",
    "\n",
    "with open(\"fruits.txt\", 'r', encoding=\"utf-8\") as file:\n",
    "    print(file.readlines())  # reads and displays entire lines in a list"
   ]
  },
  {
   "cell_type": "code",
   "execution_count": 4,
   "metadata": {
    "tags": []
   },
   "outputs": [
    {
     "output_type": "stream",
     "name": "stdout",
     "text": "Banana\nOrange\nApple\nStrawberry\nCherry\n\n['Banana\\n', 'Orange\\n', 'Apple\\n', 'Strawberry\\n', 'Cherry\\n']\n"
    }
   ],
   "source": [
    "fruits = ['Banana\\n', 'Orange\\n', 'Apple\\n', 'Strawberry\\n', 'Cherry\\n']\n",
    "\n",
    "with open(\"fruits.txt\", 'w', encoding=\"utf-8\") as file:\n",
    "    file.writelines(fruits)  # takes an iterator for writing\n",
    "   \n",
    "with open(\"fruits.txt\", 'r', encoding=\"utf-8\") as file:\n",
    "    print(file.read())\n",
    "\n",
    "with open(\"fruits.txt\", 'r', encoding=\"utf-8\") as file:\n",
    "    print(file.readlines())"
   ]
  },
  {
   "cell_type": "code",
   "execution_count": 6,
   "metadata": {
    "tags": []
   },
   "outputs": [
    {
     "output_type": "stream",
     "name": "stdout",
     "text": "Orca is a kind of Dolphin.\nBlue Whale is the largest animal known on earth.\nSharks are the sister group to the Rays (batoids).\nThe Tuna Fish can weigh up to 260 kg.\nSquid and Octopus are in the same class.Orca is a kind of Dolphin.\n\nBlue Whale is the largest animal known on earth.\n\nSharks are the sister group to the Rays (batoids).\n\nThe Tuna Fish can weigh up to 260 kg.\n\nSquid and Octopus are in the same class.\nOrca is a kind of Dolphin.\n\nBlue Whale is the largest animal known on earth.\n\nSharks are the sister group to the Rays (batoids).\n\nThe Tuna Fish can weigh up to 260 kg.\n\nSquid and Octopus are in the same class.Orca is a kind of Dolphin.\n\n\n\nBlue Whale is the largest animal known on earth.\n\n\n\nSharks are the sister group to the Rays (batoids).\n\n\n\nThe Tuna Fish can weigh up to 260 kg.\n\n\n\nSquid and Octopus are in the same class.\n\n\n"
    }
   ],
   "source": [
    "with open('fishes.txt', 'r', encoding = \"utf-8\") as sea:\n",
    "    fish_lines = sea.readlines()\n",
    "\n",
    "with open('fishes.txt', 'a', encoding = \"utf-8\") as sea:\n",
    "    for reef in fish_lines:\n",
    "        sea.write(reef + '\\n')\n",
    "        \n",
    "with open('fishes.txt', 'r', encoding = \"utf-8\") as sea:\n",
    "    print(sea.read())"
   ]
  },
  {
   "cell_type": "code",
   "execution_count": 8,
   "metadata": {
    "tags": []
   },
   "outputs": [
    {
     "output_type": "stream",
     "name": "stdout",
     "text": "Banana\nOrange\nApple\nStrawberry\tCherry\t\n['Banana\\n', 'Orange\\n', 'Apple\\n', 'Strawberry\\tCherry\\t']\n"
    }
   ],
   "source": [
    "fruits = ['Banana\\n', 'Orange\\n', 'Apple\\n', 'Strawberry\\n', 'Cherry\\n']\n",
    "with open(\"fruits.txt\", \"w\", encoding=\"utf-8\")as file:\n",
    "    file.writelines(fruits)\n",
    "with open(\"fruits.txt\", \"r\", encoding=\"utf-8\")as file:\n",
    "    print(file.read())\n",
    "with open(\"fruits.txt\", \"r\", encoding=\"utf-8\")as file:\n",
    "    print(file.readlines())"
   ]
  },
  {
   "cell_type": "code",
   "execution_count": 9,
   "metadata": {
    "tags": []
   },
   "outputs": [
    {
     "output_type": "stream",
     "name": "stdout",
     "text": "Orca is a kind of Dolphin.\n\nBlue Whale is the largest animal known on earth.\n\nSharks are the sister group to the Rays (batoids).\n\nThe Tuna Fish can weigh up to 260 kg.\n\nSquid and Octopus are in the same class.Orca is a kind of Dolphin.\n\n\n\nBlue Whale is the largest animal known on earth.\n\n\n\nSharks are the sister group to the Rays (batoids).\n\n\n\nThe Tuna Fish can weigh up to 260 kg.\n\n\n\nSquid and Octopus are in the same class.\n\nOrca is a kind of Dolphin.\n\n\n\nBlue Whale is the largest animal known on earth.\n\n\n\nSharks are the sister group to the Rays (batoids).\n\n\n\nThe Tuna Fish can weigh up to 260 kg.\n\n\n\nSquid and Octopus are in the same class.Orca is a kind of Dolphin.\n\n\n\n\n\n\n\nBlue Whale is the largest animal known on earth.\n\n\n\n\n\n\n\nSharks are the sister group to the Rays (batoids).\n\n\n\n\n\n\n\nThe Tuna Fish can weigh up to 260 kg.\n\n\n\n\n\n\n\nSquid and Octopus are in the same class.\n\n\n\n\n"
    }
   ],
   "source": [
    "with open('fishes.txt', 'r', encoding = \"utf-8\") as sea:\n",
    "    fish_lines = sea.readlines()\n",
    "with open('fishes.txt', 'w', encoding = \"utf-8\") as sea:\n",
    "    for reef in fish_lines:\n",
    "        sea.write(reef +'\\n')\n",
    "with open('fishes.txt', 'r', encoding = \"utf-8\") as sea:\n",
    "    print(sea.read())"
   ]
  },
  {
   "cell_type": "code",
   "execution_count": 10,
   "metadata": {
    "tags": []
   },
   "outputs": [
    {
     "output_type": "stream",
     "name": "stdout",
     "text": "Banana\nOrange\nApple\nStrawberry\tCherry\t\nBanana\nOrange\nApple\nStrawberry\tCherry\tMelon\n\n['Banana\\n', 'Orange\\n', 'Apple\\n', 'Strawberry\\tCherry\\tMelon\\n']\n"
    }
   ],
   "source": [
    "with open(\"fruits.txt\", 'r', encoding=\"utf-8\") as file:\n",
    "    print(file.read())  # reads the content of the file\n",
    "\n",
    "with open(\"fruits.txt\", 'a', encoding=\"utf-8\") as file:\n",
    "    file.write('Melon\\n')  # adds \"Melon\" to the end of the existing file\n",
    "   \n",
    "with open(\"fruits.txt\", 'r', encoding=\"utf-8\") as file:\n",
    "    print(file.read())  # reads the last content of the file\n",
    "\n",
    "with open(\"fruits.txt\", 'r', encoding=\"utf-8\") as file:\n",
    "    print(file.readlines())"
   ]
  },
  {
   "cell_type": "code",
   "execution_count": 11,
   "metadata": {},
   "outputs": [],
   "source": [
    "with open(\"new_file.txt\", 'w', encoding=\"utf-8\") as my_file:  \n",
    "# create and open the file\n",
    "\n",
    "    my_file.write('Hello Richard. This is my file.')  \n",
    "    # write str data into the file"
   ]
  },
  {
   "cell_type": "code",
   "execution_count": 19,
   "metadata": {},
   "outputs": [],
   "source": [
    "colors = ['red', 'green', 'yellow', 'white', 'black']\n",
    "\n",
    "with open(\"new_file.txt\", 'w', encoding=\"utf-8\") as file:\n",
    "    for i in colors:\n",
    "        file.write(i + '\\n')  # we create \"new_file.txt\" for you \n",
    "        \n",
    "with open(\"new_file.txt\", 'a', encoding=\"utf-8\") as file:\n",
    "    file.write(\"blue\")  # add \"blue\" to the end of the text\n",
    "with open(\"new_file.txt\", 'a', encoding=\"utf-8\") as file:\n",
    "    for i in colors:\n",
    "        file.write(i+ \"\\n\")"
   ]
  },
  {
   "cell_type": "code",
   "execution_count": 23,
   "metadata": {
    "tags": []
   },
   "outputs": [
    {
     "output_type": "stream",
     "name": "stdout",
     "text": "no,fruit,amount\n1,Banana,4 lb \n2,Orange, 5 lb\n3,Apple, 2 lb \n4,Strawberry, 6 lb\n5, Cherry, 3 lb \n\n"
    }
   ],
   "source": [
    "with open(\"fruits.csv\", \"r\", encoding=\"utf-8\" ) as file:\n",
    "    print(file.read())"
   ]
  },
  {
   "cell_type": "code",
   "execution_count": 26,
   "metadata": {
    "tags": []
   },
   "outputs": [
    {
     "output_type": "stream",
     "name": "stdout",
     "text": "['no', 'fruit', 'amount']\n['1', 'Banana', '4 lb ']\n['2', 'Orange', ' 5 lb']\n['3', 'Apple', ' 2 lb ']\n['4', 'Strawberry', ' 6 lb']\n['5', ' Cherry', ' 3 lb ']\n"
    }
   ],
   "source": [
    "import csv  # loads csv module\n",
    "with open(\"fruits.csv\", 'r', newline = '', encoding = 'utf-8') as file:\n",
    "    csv_rows = csv.reader(file)  # reader() function takes each\n",
    "                                 # row (lines) into a list\n",
    "    for row in csv_rows: \n",
    "        print(row) "
   ]
  },
  {
   "cell_type": "code",
   "execution_count": 28,
   "metadata": {
    "tags": []
   },
   "outputs": [
    {
     "output_type": "stream",
     "name": "stdout",
     "text": "['no,fruit,amount']\n['1,Banana,4 lb ']\n['2,Orange, 5 lb']\n['3,Apple, 2 lb ']\n['4,Strawberry, 6 lb']\n['5, Cherry, 3 lb ']\n"
    }
   ],
   "source": [
    "import csv \n",
    "with open(\"fruits.csv\", 'r', newline = '', encoding = 'utf-8') as file:\n",
    "    csv_rows = csv.reader(file, delimiter = ':')  # we specified a char \":\" that is not used\n",
    "                                                  # in the csv file as a value of delimiter\n",
    "    for row in csv_rows: \n",
    "        print(row) "
   ]
  },
  {
   "cell_type": "code",
   "execution_count": 1,
   "metadata": {},
   "outputs": [],
   "source": [
    "###############################################################\n",
    "###############    INCLASSS ############################3"
   ]
  },
  {
   "cell_type": "code",
   "execution_count": 6,
   "metadata": {
    "tags": []
   },
   "outputs": [
    {
     "output_type": "stream",
     "name": "stdout",
     "text": "Orca is a kind of Dolphin.\n\nBlue Whale is the largest animal known on earth.\n\nSharks are the sister group to the Rays (batoids).\n\nThe Tuna Fish can weigh up to 260 kg.\n\nSquid and Octopus are in the same class.\n\n"
    }
   ],
   "source": [
    "file = open(\"earth/fishes.txt\",\"r\")\n",
    "print(file.read())\n",
    "file.close()"
   ]
  },
  {
   "cell_type": "code",
   "execution_count": 4,
   "metadata": {
    "tags": []
   },
   "outputs": [
    {
     "output_type": "stream",
     "name": "stdout",
     "text": "Orca is a kind of Dolphin.\n\nBlue Whale is the largest animal known on earth.\n\nSharks are the sister group to the Rays (batoids).\n\nThe Tuna Fish can weigh up to 260 kg.\n\nSquid and Octopus are in the same class.\n\n"
    }
   ],
   "source": [
    "sea = open(\"fishes.txt\", \"r\")\n",
    "print(sea.read())\n",
    "sea.close()"
   ]
  },
  {
   "cell_type": "code",
   "execution_count": 5,
   "metadata": {
    "tags": []
   },
   "outputs": [
    {
     "output_type": "stream",
     "name": "stdout",
     "text": "Orca is a kind of Dolphin.\n\nBlue \n"
    }
   ],
   "source": [
    "sea = open(\"fishes.txt\", \"r\")\n",
    "print(sea.read(33))\n",
    "sea.close()"
   ]
  },
  {
   "cell_type": "code",
   "execution_count": 10,
   "metadata": {
    "tags": []
   },
   "outputs": [
    {
     "output_type": "stream",
     "name": "stdout",
     "text": "Orca is a kind of Dolphin.\n\nBlue \nWhale is the largest anim\nal \n"
    }
   ],
   "source": [
    "sea = open(\"fishes.txt\", \"r\")\n",
    "print(sea.read(33))\n",
    "print(sea.read(25))\n",
    "print(sea.read(3)) # kaldığı yerden devam eder ama yeni satırdan başlar\n",
    "sea.close()"
   ]
  },
  {
   "cell_type": "code",
   "execution_count": 12,
   "metadata": {
    "tags": []
   },
   "outputs": [
    {
     "output_type": "stream",
     "name": "stdout",
     "text": "Orca is a kind of Dolphin.\n\nBlue Whale is the largest animal known on earth.\n\nSharks are the sister group to the Rays (batoids).\n\nThe Tuna Fish can weigh up to 260 kg.\n\nSquid and Octopus are in the same class.\n\n"
    }
   ],
   "source": [
    "sea = open(\"fishes.txt\", \"r\")\n",
    "sea.seek(0)\n",
    "print(sea.read())"
   ]
  },
  {
   "cell_type": "code",
   "execution_count": 16,
   "metadata": {
    "tags": []
   },
   "outputs": [
    {
     "output_type": "stream",
     "name": "stdout",
     "text": "Orca is a kind of Dolphin.\n\nBlue \nOrca is a kind of Dolphin\n.\n\n\n28\n"
    }
   ],
   "source": [
    "sea = open(\"fishes.txt\") # \"r yazmasak da okur çünkü default read\"\n",
    "print(sea.read(33))\n",
    "sea.seek(0)\n",
    "print(sea.read(25))\n",
    "print(sea.read(3)) \n",
    "print(sea.tell())\n",
    "sea.close()"
   ]
  },
  {
   "cell_type": "code",
   "execution_count": 18,
   "metadata": {
    "tags": []
   },
   "outputs": [
    {
     "output_type": "stream",
     "name": "stdout",
     "text": "s a kind of Dolphin.\n\nBlue Whale \n39\n"
    }
   ],
   "source": [
    "sea = open(file='fishes.txt', mode='r', encoding = 'utf-8')\n",
    "sea.seek(6)\n",
    "print(sea.read(33))\n",
    "print(sea.tell())\n",
    "sea.close()"
   ]
  },
  {
   "cell_type": "code",
   "execution_count": 19,
   "metadata": {
    "tags": []
   },
   "outputs": [
    {
     "output_type": "stream",
     "name": "stdout",
     "text": "Orca is a kind of Dolphin.\n\nBlue \nOrca is a kind of Dolphin\n.\n\n\n28\n"
    }
   ],
   "source": [
    "sea = open(mode = \"r\", file=\"fishes.txt\")\n",
    "print(sea.read(33))\n",
    "sea.seek(0)\n",
    "print(sea.read(25))\n",
    "print(sea.read(3)) \n",
    "print(sea.tell())\n",
    "sea.close()"
   ]
  },
  {
   "cell_type": "code",
   "execution_count": 21,
   "metadata": {
    "tags": []
   },
   "outputs": [
    {
     "output_type": "stream",
     "name": "stdout",
     "text": "I want to sing\nLike the birds sing,\nNot worrying about\nWho hears or\nWhat they think.\n"
    }
   ],
   "source": [
    "rumi = open(\"rumi.txt\", \"r\")\n",
    "print(rumi.read())\n",
    "rumi.close()"
   ]
  },
  {
   "cell_type": "code",
   "execution_count": 46,
   "metadata": {
    "tags": []
   },
   "outputs": [
    {
     "output_type": "stream",
     "name": "stdout",
     "text": "I want to sing\nLike the birds sing,\nNot worrying about\nWho hears or\nWhat they think.\n"
    }
   ],
   "source": [
    "with open(\"rumi.txt\",\"r\") as sea:\n",
    "    print(sea.read())\n"
   ]
  },
  {
   "cell_type": "code",
   "execution_count": 29,
   "metadata": {
    "tags": []
   },
   "outputs": [
    {
     "output_type": "stream",
     "name": "stdout",
     "text": "I want to sing\nLike the birds sing,\n\nNot worrying\n50\nLike the birds sing,\n"
    }
   ],
   "source": [
    "rumi = open(\"rumi.txt\", \"r\")\n",
    "print(rumi.read(35))\n",
    "print(rumi.read(13))\n",
    "print(rumi.tell())\n",
    "rumi.seek(16)\n",
    "print(rumi.read(20))\n",
    "rumi.close()"
   ]
  },
  {
   "cell_type": "code",
   "execution_count": 9,
   "metadata": {
    "tags": []
   },
   "outputs": [
    {
     "output_type": "stream",
     "name": "stdout",
     "text": "Orca is a kind of Dolphin.\n\nBlue Whale is the largest animal known on earth.\n\nSharks are the sister group to the Rays (batoids).\n\nThe Tuna Fish can weigh up to 260 kg.\n\n"
    }
   ],
   "source": [
    "sea = open(\"fishes.txt\", \"r\")\n",
    "print(sea.readline())\n",
    "print(sea.readline())\n",
    "print(sea.readline())\n",
    "print(sea.readline())\n",
    "sea.close()"
   ]
  },
  {
   "cell_type": "code",
   "execution_count": 8,
   "metadata": {
    "tags": []
   },
   "outputs": [
    {
     "output_type": "stream",
     "name": "stdout",
     "text": "Orca is a kin\nd of Dolphin.\n\n\nBlue Whale is\n the largest \n"
    }
   ],
   "source": [
    "sea = open(\"fishes.txt\", \"r\")\n",
    "print(sea.readline(13))\n",
    "print(sea.readline(13))\n",
    "print(sea.readline(13))\n",
    "print(sea.readline(13))\n",
    "print(sea.readline(13))\n",
    "sea.close()"
   ]
  },
  {
   "cell_type": "code",
   "execution_count": 14,
   "metadata": {
    "tags": []
   },
   "outputs": [
    {
     "output_type": "stream",
     "name": "stdout",
     "text": "I want to sing\n\nLike the birds sing,\n\nNot worrying about\n"
    }
   ],
   "source": [
    "sea = open(\"rumi.txt\",\"r\")\n",
    "print(sea.readline())\n",
    "print(sea.readline())\n",
    "print(sea.readline(18))\n",
    "sea.close()"
   ]
  },
  {
   "cell_type": "code",
   "execution_count": 19,
   "metadata": {
    "tags": []
   },
   "outputs": [
    {
     "output_type": "stream",
     "name": "stdout",
     "text": "['Orca is a kind of Dolphin.\\n', 'Blue Whale is the largest animal known on earth.\\n', 'Sharks are the sister group to the Rays (batoids).\\n', 'The Tuna Fish can weigh up to 260 kg.\\n', 'Squid and Octopus are in the same class.\\n']\n"
    }
   ],
   "source": [
    "with open (\"fishes.txt\",\"r\") as sea:\n",
    "    print(sea.readlines())"
   ]
  },
  {
   "cell_type": "code",
   "execution_count": 21,
   "metadata": {
    "tags": []
   },
   "outputs": [
    {
     "output_type": "stream",
     "name": "stdout",
     "text": "Orca is a kind of Dolphin.\n\n['Blue Whale is the largest animal known on earth.\\n', 'Sharks are the sister group to the Rays (batoids).\\n', 'The Tuna Fish can weigh up to 260 kg.\\n', 'Squid and Octopus are in the same class.\\n']\n<class 'list'>\n"
    }
   ],
   "source": [
    "with open (\"fishes.txt\",\"r\") as sea:\n",
    "    print(sea.readline()) # bu ilk satırı okur\n",
    "    print(sea.readlines()) # buda geri kalan kısmını okur\n",
    "    print(type(sea.readlines()))"
   ]
  },
  {
   "cell_type": "code",
   "execution_count": 24,
   "metadata": {
    "tags": []
   },
   "outputs": [
    {
     "output_type": "stream",
     "name": "stdout",
     "text": "['I want to sing\\n', 'Like the birds sing,\\n', 'Not worrying about\\n', 'Who hears or\\n', 'What they think.']\n"
    }
   ],
   "source": [
    "sea = open(\"rumi.txt\",\"r\")\n",
    "print(sea.readlines())\n",
    "sea.close()"
   ]
  },
  {
   "cell_type": "code",
   "execution_count": 47,
   "metadata": {
    "tags": []
   },
   "outputs": [
    {
     "output_type": "stream",
     "name": "stdout",
     "text": "['I want to sing\\n', 'Like the birds sing,\\n', 'Not worrying about\\n', 'Who hears or\\n', 'What they think.']\n"
    }
   ],
   "source": [
    "with open(\"rumi.txt\") as f:\n",
    "    print(f.readlines())"
   ]
  },
  {
   "cell_type": "code",
   "execution_count": 32,
   "metadata": {
    "tags": []
   },
   "outputs": [
    {
     "output_type": "stream",
     "name": "stdout",
     "text": "Orca is a kind of Dolphin.\n\nBlue Whale is the largest animal known on earth.\n\nSharks are the sister group to the Rays (batoids).\n\nThe Tuna Fish can weigh up to 260 kg.\n\nSquid and Octopus are in the same class.\n\n"
    }
   ],
   "source": [
    "sea = open(\"fishes.txt\",\"r\")\n",
    "for line in sea:\n",
    "    # print(line[1:6]+line[-3:])\n",
    "    #print(line, end=\"\")\n",
    "    print(line)\n",
    "sea.close()"
   ]
  },
  {
   "cell_type": "code",
   "execution_count": 33,
   "metadata": {
    "tags": []
   },
   "outputs": [
    {
     "output_type": "stream",
     "name": "stdout",
     "text": "Orca is a kind of Dolphin.\n\nBlue Whale is the largest animal known on earth.\n\nSharks are the sister group to the Rays (batoids).\n\nThe Tuna Fish can weigh up to 260 kg.\n\nSquid and Octopus are in the same class.\n\n"
    }
   ],
   "source": [
    "sea = open(\"fishes.txt\",\"r\")\n",
    "for line in sea.readlines():\n",
    "    print(line)\n",
    "sea.close()"
   ]
  },
  {
   "cell_type": "code",
   "execution_count": 36,
   "metadata": {
    "tags": []
   },
   "outputs": [
    {
     "output_type": "stream",
     "name": "stdout",
     "text": "I want to sing\nLike the birds sing,\nNot worrying about\nWho hears or\nWhat they think\n"
    }
   ],
   "source": [
    "sea = open(\"rumi.txt\", \"r\", encoding=\"utf-8\")\n",
    "for i in sea:\n",
    "    #print(i)\n",
    "    print(i[:-1])\n",
    "sea.close()"
   ]
  },
  {
   "cell_type": "code",
   "execution_count": 40,
   "metadata": {
    "tags": []
   },
   "outputs": [
    {
     "output_type": "stream",
     "name": "stdout",
     "text": "I want to sing\nLike the birds sing,\nNot worrying about\nWho hears or\nWhat they think."
    }
   ],
   "source": [
    "sea = open(\"rumi.txt\", \"r\", encoding=\"utf-8\")\n",
    "for i in sea.readlines():\n",
    "    #print(i)\n",
    "    print(i, end=\"\")\n",
    "sea.close()"
   ]
  },
  {
   "cell_type": "code",
   "execution_count": 43,
   "metadata": {
    "tags": []
   },
   "outputs": [
    {
     "output_type": "stream",
     "name": "stdout",
     "text": "I want to sing\n\nI want to sing\nLike the birds sing,\n\nLike the birds sing,\nNot worrying about\n\nNot worrying about\nWho hears or\n\nWho hears or\nWhat they think.\nWhat they think.\n"
    }
   ],
   "source": [
    "sea = open(\"rumi.txt\", \"r\", encoding=\"utf-8\")\n",
    "for i in sea.readlines():\n",
    "    #print(i)\n",
    "    print(i.strip())\n",
    "sea.close()"
   ]
  },
  {
   "cell_type": "code",
   "execution_count": 44,
   "metadata": {
    "tags": []
   },
   "outputs": [
    {
     "output_type": "stream",
     "name": "stdout",
     "text": "Orca is a kind of Dolphin.\nBlue Whale is the largest animal known on earth.\nSharks are the sister group to the Rays (batoids).\nThe Tuna Fish can weigh up to 260 kg.\nSquid and Octopus are in the same class.\n\n"
    }
   ],
   "source": [
    "with open(\"fishes.txt\", \"r\") as sea:\n",
    "    print(sea.read())"
   ]
  },
  {
   "cell_type": "code",
   "execution_count": 45,
   "metadata": {
    "tags": []
   },
   "outputs": [
    {
     "output_type": "stream",
     "name": "stdout",
     "text": "Orca is a kind of Dolphin.\n\nBlue Whale is the largest animal known on earth.\n\nSharks are the sister group to the Rays (batoids).\n\nThe Tuna Fish can weigh up to 260 kg.\n\nSquid and Octopus are in the same class.\n\n"
    }
   ],
   "source": [
    "with open(\"fishes.txt\",\"r\", encoding=\"utf-8\") as sea:\n",
    "    for i in sea:\n",
    "        print(i)"
   ]
  },
  {
   "cell_type": "code",
   "execution_count": null,
   "metadata": {},
   "outputs": [],
   "source": [
    "with open(\"dummy.txt\", \"w\", encoding=\"utf-8\") as file:\n",
    "    file.write(\"this is the my first line\")"
   ]
  },
  {
   "cell_type": "code",
   "execution_count": null,
   "metadata": {},
   "outputs": [],
   "source": [
    "with open(\"dummy.txt\", \"r\", encoding=\"utf-8\") as file:\n",
    "    print(file.read())"
   ]
  },
  {
   "cell_type": "code",
   "execution_count": null,
   "metadata": {},
   "outputs": [],
   "source": [
    "with open(\"dummy.txt\",\"w\") as file:\n",
    "    file.write(\"this is my first line\")\n",
    "with open(\"dummy.txt\", \"r\", encoding=\"utf-8\") as file:\n",
    "    print(file.read())"
   ]
  },
  {
   "cell_type": "code",
   "execution_count": null,
   "metadata": {},
   "outputs": [],
   "source": [
    "with open(\"dummy.txt\",\"w\") as file:\n",
    "    file.write(\"this is my first line\\nthis is second line\")\n",
    "with open(\"dummy.txt\", \"r\", encoding=\"utf-8\") as file:\n",
    "    print(file.read())"
   ]
  },
  {
   "cell_type": "code",
   "execution_count": 53,
   "metadata": {
    "tags": []
   },
   "outputs": [
    {
     "output_type": "stream",
     "name": "stdout",
     "text": "['Banana\\n', 'Orange\\n', 'Apple\\n', 'Strawberry\\n', 'Cherry\\n']\n"
    }
   ],
   "source": [
    "fruits = ['Banana', 'Orange', 'Apple', 'Strawberry', 'Cherry']\n",
    "with open(\"fruits.txt\", \"w\", encoding=\"utf-8\") as file:\n",
    "    for i in fruits:\n",
    "        file.write(i +\"\\n\")\n",
    "with open(\"fruits.txt\", \"r\", encoding=\"utf-8\") as file:\n",
    "    #print(file.read())\n",
    "    print(file.readlines())"
   ]
  },
  {
   "cell_type": "code",
   "execution_count": 55,
   "metadata": {
    "tags": []
   },
   "outputs": [
    {
     "output_type": "stream",
     "name": "stdout",
     "text": "jasmine\n\nrose\n\nlily\n\nDaisy\n\ntulip\n\n\n"
    }
   ],
   "source": [
    "flowers = [\"jasmine\",\"rose\",\"lily\",\"Daisy\",\"tulip\"]\n",
    "with open(\"flowers.txt\", \"w\") as file:\n",
    "    for i in flowers:\n",
    "        file.write(i + \"\\n\\n\")\n",
    "with open(\"flowers.txt\", \"r\", encoding=\"utf-8\") as file:\n",
    "    print(file.read())"
   ]
  },
  {
   "cell_type": "code",
   "execution_count": 59,
   "metadata": {
    "tags": []
   },
   "outputs": [
    {
     "output_type": "stream",
     "name": "stdout",
     "text": "Banana\nOrange\nApple\nStrawberry\nCherry\n\n"
    }
   ],
   "source": [
    "#fruits = ['Banana', 'Orange', 'Apple', 'Strawberry', 'Cherry']\n",
    "fruits = ['Banana\\n', 'Orange\\n', 'Apple\\n', 'Strawberry\\n', 'Cherry\\n']\n",
    "with open(\"fruits.txt\", \"w\") as file:\n",
    "    file.writelines(fruits)\n",
    "with open(\"fruits.txt\", \"r\", encoding=\"utf-8\") as file:\n",
    "    print(file.read())"
   ]
  },
  {
   "cell_type": "code",
   "execution_count": 61,
   "metadata": {
    "tags": []
   },
   "outputs": [
    {
     "output_type": "stream",
     "name": "stdout",
     "text": "jasmine\nrose\nlily\nDaisy\ntulip\n\n"
    }
   ],
   "source": [
    "flowers = [\"jasmine\\n\",\"rose\\n\",\"lily\\n\",\"Daisy\\n\",\"tulip\\n\"]\n",
    "with open(\"flowers.txt\",\"w\") as file:\n",
    "    file.writelines(flowers)\n",
    "with open(\"flowers.txt\", \"r\", encoding=\"utf-8\") as file:\n",
    "    print(file.read())"
   ]
  },
  {
   "cell_type": "code",
   "execution_count": 65,
   "metadata": {
    "tags": []
   },
   "outputs": [
    {
     "output_type": "stream",
     "name": "stdout",
     "text": "Banana\nOrange\nApple\nStrawberry\nCherry\nmelonmelon\nmelon\n"
    }
   ],
   "source": [
    "#fruits = ['Banana\\n', 'Orange\\n', 'Apple\\n', 'Strawberry\\n', 'Cherry\\n']\n",
    "with open(\"fruits.txt\", \"a\") as file:\n",
    "    file.write(\"\\nmelon\")\n",
    "with open(\"fruits.txt\", \"r\", encoding=\"utf-8\") as file:\n",
    "    print(file.read())"
   ]
  },
  {
   "cell_type": "code",
   "execution_count": 67,
   "metadata": {
    "tags": []
   },
   "outputs": [
    {
     "output_type": "stream",
     "name": "stdout",
     "text": "jasmine\nrose\nlily\nDaisy\ntulip\norchidorchid\n"
    }
   ],
   "source": [
    "flowers = [\"jasmine\\n\",\"rose\\n\",\"lily\\n\",\"Daisy\\n\",\"tulip\\n\"]\n",
    "with open(\"flowers.txt\",\"a\") as file:\n",
    "    file.write(\"orchid\")\n",
    "with open(\"flowers.txt\", \"r\", encoding=\"utf-8\") as file:\n",
    "    print(file.read())"
   ]
  },
  {
   "cell_type": "code",
   "execution_count": 68,
   "metadata": {
    "tags": []
   },
   "outputs": [
    {
     "output_type": "stream",
     "name": "stdout",
     "text": "['Korkma, sönmez bu şafaklarda yüzen al sancak;\\n', 'Sönmeden yurdumun üstünde tüten en son ocak.\\n', 'O benim milletimin yıldızıdır, parlayacak;\\n', 'O benimdir, o benim milletimindir ancak.\\n', 'Çatma, kurban olayım, çehreni ey nazlı hilal!\\n', 'Kahraman ırkıma bir gül! Ne bu şiddet, bu celal?\\n', 'Sana olmaz dökülen kanlarımız sonra helal...\\n', \"Hakkıdır, hakk'a tapan, milletimin istiklal!\\n\", 'Ben ezelden beridir hür yaşadım, hür yaşarım.\\n', 'Hangi çılgın bana zincir vuracakmış? Şaşarım!\\n', 'Kükremiş sel gibiyim, bendimi çiğner, aşarım.\\n', 'Yırtarım dağları, enginlere sığmam, taşarım.\\n', 'Garbın afakını sarmışsa çelik zırhlı duvar,\\n', 'Benim iman dolu göğsüm gibi serhaddim var.\\n', 'Ulusun, korkma! Nasıl böyle bir imanı boğar,\\n', \"'Medeniyet!' dediğin tek dişi kalmış canavar?\\n\", 'Arkadaş! Yurduma alçakları uğratma, sakın.\\n', 'Siper et gövdeni, dursun bu hayasızca akın.\\n', \"Doğacaktır sana va'dettigi günler hakk'ın...\\n\", 'Kim bilir, belki yarın, belki yarından da yakın.\\n', \"Bastığın yerleri 'toprak!' diyerek geçme, tanı:\\n\", 'Düşün altında binlerce kefensiz yatanı.\\n', 'Sen şehit oğlusun, incitme, yazıktır, atanı:\\n', 'Verme, dünyaları alsan da, bu cennet vatanı.\\n', 'Kim bu cennet vatanın uğruna olmaz ki feda?\\n', 'Şuheda fışkıracak toprağı sıksan, şuheda!\\n', 'Canı, cananı, bütün varımı alsın da hüda,\\n', 'Etmesin tek vatanımdan beni dünyada cüda.\\n', 'Ruhumun senden, ilahi, şudur ancak emeli:\\n', 'Değmesin mabedimin göğsüne namahrem eli.\\n', 'Bu ezanlar-ki şahadetleri dinin temeli,\\n', 'Ebedi yurdumun üstünde benim inlemeli.']\n"
    }
   ],
   "source": []
  },
  {
   "cell_type": "code",
   "execution_count": 77,
   "metadata": {
    "tags": []
   },
   "outputs": [
    {
     "output_type": "stream",
     "name": "stdout",
     "text": "Korkma, sönmez bu şafaklarda yüzen al sancak;\nSönmeden yurdumun üstünde tüten en son ocak.\nO benim milletimin yıldızıdır, parlayacak;\nO benimdir, o benim milletimindir ancak.\n\nÇatma, kurban olayım, çehreni ey nazlı hilal!\nKahraman ırkıma bir gül! Ne bu şiddet, bu celal?\nSana olmaz dökülen kanlarımız sonra helal...\nHakkıdır, hakk'a tapan, milletimin istiklal!\n\nBen ezelden beridir hür yaşadım, hür yaşarım.\nHangi çılgın bana zincir vuracakmış? Şaşarım!\nKükremiş sel gibiyim, bendimi çiğner, aşarım.\nYırtarım dağları, enginlere sığmam, taşarım.\n\nGarbın afakını sarmışsa çelik zırhlı duvar,\nBenim iman dolu göğsüm gibi serhaddim var.\nUlusun, korkma! Nasıl böyle bir imanı boğar,\n'Medeniyet!' dediğin tek dişi kalmış canavar?\n\nArkadaş! Yurduma alçakları uğratma, sakın.\nSiper et gövdeni, dursun bu hayasızca akın.\nDoğacaktır sana va'dettigi günler hakk'ın...\nKim bilir, belki yarın, belki yarından da yakın.\n\nBastığın yerleri 'toprak!' diyerek geçme, tanı:\nDüşün altında binlerce kefensiz yatanı.\nSen şehit oğlusun, incitme, yazıktır, atanı:\nVerme, dünyaları alsan da, bu cennet vatanı.\n\nKim bu cennet vatanın uğruna olmaz ki feda?\nŞuheda fışkıracak toprağı sıksan, şuheda!\nCanı, cananı, bütün varımı alsın da hüda,\nEtmesin tek vatanımdan beni dünyada cüda.\n\nRuhumun senden, ilahi, şudur ancak emeli:\nDeğmesin mabedimin göğsüne namahrem eli.\nBu ezanlar-ki şahadetleri dinin temeli,\nEbedi yurdumun üstünde benim inlemeli.\n\n"
    }
   ],
   "source": [
    "counter = 0\n",
    "with open(\"istiklal.txt\", \"r\") as file:\n",
    "    ist = file.readlines()\n",
    "with open(\"istiklal.txt\", \"w\") as file:\n",
    "    for i in ist:\n",
    "        counter += 1\n",
    "        if counter % 4 == 0:\n",
    "            file.write(i + \"\\n\")\n",
    "        else:\n",
    "            file.write(i)\n",
    "with open(\"istiklal.txt\", \"r\") as file:\n",
    "    print(file.read())\n"
   ]
  },
  {
   "cell_type": "code",
   "execution_count": 80,
   "metadata": {
    "tags": []
   },
   "outputs": [
    {
     "output_type": "stream",
     "name": "stdout",
     "text": "\nKorkma, sönmez bu şafaklarda yüzen al sancak;\nSönmeden yurdumun üstünde tüten en son ocak.\nO benim milletimin yıldızıdır, parlayacak;\nO benimdir, o benim milletimindir ancak.\nÇatma, kurban olayım, çehreni ey nazlı hilal!\nKahraman ırkıma bir gül! Ne bu şiddet, bu celal?\nSana olmaz dökülen kanlarımız sonra helal...\nHakkıdır, hakk'a tapan, milletimin istiklal!\nBen ezelden beridir hür yaşadım, hür yaşarım.\nHangi çılgın bana zincir vuracakmış? Şaşarım!\nKükremiş sel gibiyim, bendimi çiğner, aşarım.\nYırtarım dağları, enginlere sığmam, taşarım.\nGarbın afakını sarmışsa çelik zırhlı duvar,\nBenim iman dolu göğsüm gibi serhaddim var.\nUlusun, korkma! Nasıl böyle bir imanı boğar,\n'Medeniyet!' dediğin tek dişi kalmış canavar?\nArkadaş! Yurduma alçakları uğratma, sakın.\nSiper et gövdeni, dursun bu hayasızca akın.\nDoğacaktır sana va'dettigi günler hakk'ın...\nKim bilir, belki yarın, belki yarından da yakın.\nBastığın yerleri 'toprak!' diyerek geçme, tanı:\nDüşün altında binlerce kefensiz yatanı.\nSen şehit oğlusun, incitme, yazıktır, atanı:\nVerme, dünyaları alsan da, bu cennet vatanı.\nKim bu cennet vatanın uğruna olmaz ki feda?\nŞuheda fışkıracak toprağı sıksan, şuheda!\nCanı, cananı, bütün varımı alsın da hüda,\nEtmesin tek vatanımdan beni dünyada cüda.\nRuhumun senden, ilahi, şudur ancak emeli:\nDeğmesin mabedimin göğsüne namahrem eli.\nBu ezanlar-ki şahadetleri dinin temeli,\nEbedi yurdumun üstünde benim inlemeli.\n\n"
    }
   ],
   "source": [
    "with open(\"istiklal.txt\", \"r\")  as f:\n",
    "    istikk = f.readlines()\n",
    "\n",
    "with open(\"istiklal1.txt\", \"a\")  as f:\n",
    "    f.write(\"\\n\")\n",
    "    for i in istikk:\n",
    "        if i == \"\\n\":\n",
    "            i.replace(\"\\n\", \"\")\n",
    "        else:\n",
    "            f.write(i)\n",
    "with open(\"istiklal1.txt\", \"r\")  as f:\n",
    "    print(f.read())"
   ]
  },
  {
   "cell_type": "code",
   "execution_count": null,
   "metadata": {},
   "outputs": [],
   "source": [
    "#######################################################333333333\n",
    "#####################3 CSV FILES ###############################\n",
    "#################################################################"
   ]
  },
  {
   "cell_type": "code",
   "execution_count": 2,
   "metadata": {
    "tags": []
   },
   "outputs": [
    {
     "output_type": "stream",
     "name": "stdout",
     "text": "no,fruit,amount\n1,Banana,4 lb \n2,Orange, 5 lb\n3,Apple, 2 lb \n4,Strawberry, 6 lb\n5, Cherry, 3 lb \n\n"
    }
   ],
   "source": [
    "with open(\"fruits.csv\", \"r\", encoding=\"utf-8\") as file:\n",
    "    print(file.read())"
   ]
  },
  {
   "cell_type": "code",
   "execution_count": 7,
   "metadata": {
    "tags": []
   },
   "outputs": [
    {
     "output_type": "stream",
     "name": "stdout",
     "text": "no,first_name,last_name,ages\n1,Hasan,Ak,35\n2,memo,ak,25\n3,kemal,ak,26\n4,celal,ak,23\n\n"
    }
   ],
   "source": [
    "with open(\"family.csv\", \"r\", encoding=\"utf-8\") as file:\n",
    "    print(file.read())"
   ]
  },
  {
   "cell_type": "code",
   "execution_count": 10,
   "metadata": {
    "tags": []
   },
   "outputs": [
    {
     "output_type": "stream",
     "name": "stdout",
     "text": "['no', 'fruit', 'amount']\n['1', 'Banana', '4 lb ']\n['2', 'Orange', ' 5 lb']\n['3', 'Apple', ' 2 lb ']\n['4', 'Strawberry', ' 6 lb']\n['5', ' Cherry', ' 3 lb ']\n"
    }
   ],
   "source": [
    "import csv \n",
    "with open(\"fruits.csv\",\"r\", newline=\"\", encoding=\"utf-8\") as file: #newline ile hata riskini sıfıra indiririz.\n",
    "    csv_rows = csv.reader(file)\n",
    "    for row in csv_rows:\n",
    "        print(row)\n",
    "\n"
   ]
  },
  {
   "cell_type": "code",
   "execution_count": 11,
   "metadata": {
    "tags": []
   },
   "outputs": [
    {
     "output_type": "stream",
     "name": "stdout",
     "text": "['no', 'fruit', 'amount']\n['1', 'Banana', '4 lb ']\n['2', 'Orange', ' 5 lb']\n['3', 'Apple', ' 2 lb ']\n['4', 'Strawberry', ' 6 lb']\n['5', ' Cherry', ' 3 lb ']\n"
    }
   ],
   "source": [
    "import csv \n",
    "with open(\"fruits.csv\",\"r\", newline=\"\", encoding=\"utf-8\") as file: #newline ile hata riskini sıfıra indiririz.\n",
    "    #csv_rows = csv.reader(file)\n",
    "    for row in csv.reader(file):\n",
    "        print(row)"
   ]
  },
  {
   "cell_type": "code",
   "execution_count": 12,
   "metadata": {
    "tags": []
   },
   "outputs": [
    {
     "output_type": "stream",
     "name": "stdout",
     "text": "['no', 'fruit', 'amount']\n['1', 'Banana', '4 lb ']\n['2', 'Orange', ' 5 lb']\n['3', 'Apple', ' 2 lb ']\n['4', 'Strawberry', ' 6 lb']\n['5', ' Cherry', ' 3 lb ']\n"
    }
   ],
   "source": [
    "import csv \n",
    "with open(\"fruits.csv\",\"r\", newline=\"\", encoding=\"utf-8\") as file: #newline ile hata riskini sıfıra indiririz.\n",
    "    csv_rows = csv.reader(file, delimiter=\",\")# dosya separatörü , olduğu için default değerdir.\n",
    "    for row in csv_rows:\n",
    "        print(row)"
   ]
  },
  {
   "cell_type": "code",
   "execution_count": 22,
   "metadata": {
    "tags": []
   },
   "outputs": [
    {
     "output_type": "stream",
     "name": "stdout",
     "text": "['no', 'first_name', 'last_name', 'ages']\n['1', 'Hasan', 'Ak', '35']\n['2', 'memo', 'ak', '25']\n['3', 'kemal', 'ak', '26']\n['4', 'celal', 'ak', '23']\n['5', 'can', 'ak', '45']\n"
    }
   ],
   "source": [
    "import csv\n",
    "with open(\"family.csv\", \"r\", newline=\"\", encoding=\"utf-8\") as file:\n",
    "    csv_row = csv.reader(file)\n",
    "    for i in csv_row:\n",
    "        print(i)"
   ]
  },
  {
   "cell_type": "code",
   "execution_count": 14,
   "metadata": {
    "tags": []
   },
   "outputs": [
    {
     "output_type": "stream",
     "name": "stdout",
     "text": "her\nkese\nselam\n"
    }
   ],
   "source": [
    "print(\"abc\\rher\\nghi\\rkese\\nccc\\rselam\")"
   ]
  },
  {
   "cell_type": "code",
   "execution_count": 17,
   "metadata": {
    "tags": []
   },
   "outputs": [
    {
     "output_type": "stream",
     "name": "stdout",
     "text": "['no,fruit,amount']\n['1,Banana,4 lb ']\n['2,Orange, 5 lb']\n['3,Apple, 2 lb ']\n['4,Strawberry, 6 lb']\n['5, Cherry, 3 lb ']\n"
    }
   ],
   "source": [
    "import csv \n",
    "with open(\"fruits.csv\", 'r', newline = '', encoding = 'utf-8') as file:\n",
    "    csv_rows = csv.reader(file, delimiter = ':')  # we specified a char \":\" that is not used\n",
    "                                                  # in the csv file as a value of delimiter\n",
    "    for row in csv_rows: \n",
    "        print(row) "
   ]
  },
  {
   "cell_type": "code",
   "execution_count": 28,
   "metadata": {
    "tags": []
   },
   "outputs": [
    {
     "output_type": "stream",
     "name": "stdout",
     "text": "['no,first_name,last_name,ages']\n['1,Hasan,Ak,35']\n['2,memo,ak,25']\n['3,kemal,ak,26']\n['4,celal,ak,23']\n['5,can,ak,45']\n"
    }
   ],
   "source": [
    "import csv\n",
    "with open(\"family.csv\", \"r\", newline=\"\", encoding=\"utf-8\") as file:\n",
    "    csv_row = csv.reader(file, delimiter = \"-\") #böylelikle olmayan karekterden dolayı bölünmez tek satır alır\n",
    "    for i in csv_row:\n",
    "        print(i)"
   ]
  },
  {
   "cell_type": "code",
   "execution_count": 4,
   "metadata": {
    "tags": []
   },
   "outputs": [
    {
     "output_type": "stream",
     "name": "stdout",
     "text": "['no', 'first_name', 'last_name', 'ages'] \n ['1', 'Hasan', 'Ak', '35']\n"
    }
   ],
   "source": [
    "import csv\n",
    "with open(\"family.csv\", \"r\", newline=\"\", encoding=\"utf-8\") as file:\n",
    "    csv_row = csv.reader(file)\n",
    "    data =[row for row in csv_row]\n",
    "    print(data[0],\"\\n\",data[1])"
   ]
  },
  {
   "cell_type": "code",
   "execution_count": 18,
   "metadata": {
    "tags": []
   },
   "outputs": [
    {
     "output_type": "stream",
     "name": "stdout",
     "text": "[['1', 'Hasan', 'Ak', '35'], ['2', 'memo', 'ak', '25'], ['3', 'kemal', 'ak', '26']]\n"
    }
   ],
   "source": [
    "import csv\n",
    "with open(\"family.csv\", \"r\", newline=\"\", encoding=\"utf-8\") as file:\n",
    "    satırlar = csv.reader(file)\n",
    "    print(list(satırlar)[1:4])"
   ]
  },
  {
   "cell_type": "code",
   "execution_count": 15,
   "metadata": {
    "tags": []
   },
   "outputs": [
    {
     "output_type": "stream",
     "name": "stdout",
     "text": "first_name last_name  ages\nno                           \n1       Hasan        Ak    35\n2        memo        ak    25\n3       kemal        ak    26\n4       celal        ak    23\n5         can        ak    45\n"
    }
   ],
   "source": [
    "import pandas as pd \n",
    "df = pd.read_csv(\"family.csv\", index_col = 0)\n",
    "print(df)"
   ]
  },
  {
   "cell_type": "code",
   "execution_count": null,
   "metadata": {},
   "outputs": [],
   "source": []
  }
 ]
}