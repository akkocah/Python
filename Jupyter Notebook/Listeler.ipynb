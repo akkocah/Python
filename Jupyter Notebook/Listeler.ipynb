{
 "cells": [
  {
   "cell_type": "code",
   "execution_count": 5,
   "metadata": {
    "tags": []
   },
   "outputs": [
    {
     "output_type": "stream",
     "name": "stdout",
     "text": "['h', 'a', 'p', 'p', 'y']\n['h', 'a', 'p', 'p', 'y']\n"
    }
   ],
   "source": [
    "list_1 = ['h','a','p','p','y']\n",
    "word = 'happy'\n",
    "list_2 = list(word)\n",
    "print(list_1)\n",
    "print(list_2)"
   ]
  },
  {
   "cell_type": "code",
   "execution_count": null,
   "metadata": {},
   "outputs": [],
   "source": [
    "mixed_list = [11, 'Joseph', False, 3.14, None, [1, 2, 3]]"
   ]
  },
  {
   "cell_type": "code",
   "execution_count": 6,
   "metadata": {},
   "outputs": [
    {
     "output_type": "execute_result",
     "data": {
      "text/plain": "['1', ',', '2', ',', '3']"
     },
     "metadata": {},
     "execution_count": 6
    }
   ],
   "source": [
    "list(\"1,2,3\")"
   ]
  },
  {
   "cell_type": "code",
   "execution_count": 9,
   "metadata": {
    "tags": []
   },
   "outputs": [
    {
     "output_type": "stream",
     "name": "stdout",
     "text": "['2', '0', '2', '0', \"'\", 's', ' ', 'h', 'a', 'r', 'd']\n[\"2020's hard\"]\n"
    }
   ],
   "source": [
    "list1 = list(\"2020's hard\")\n",
    "list2 = [\"2020's hard\"]\n",
    "print(list1)\n",
    "print(list2)"
   ]
  },
  {
   "cell_type": "code",
   "execution_count": 13,
   "metadata": {},
   "outputs": [],
   "source": [
    "empty_list1 = []\n",
    "empty_list2 = list()"
   ]
  },
  {
   "cell_type": "code",
   "execution_count": 17,
   "metadata": {
    "tags": []
   },
   "outputs": [
    {
     "output_type": "stream",
     "name": "stdout",
     "text": "[1, 4, 7, 6, 9, '9']\n"
    }
   ],
   "source": [
    "#append ile listeye ekleme yaparız. ancak SONUNA ekler\n",
    "numbers = [1,4,7]\n",
    "numbers.append(6)\n",
    "numbers.append(9)\n",
    "numbers.append('9')\n",
    "print(numbers)"
   ]
  },
  {
   "cell_type": "code",
   "execution_count": 22,
   "metadata": {
    "tags": []
   },
   "outputs": [
    {
     "output_type": "stream",
     "name": "stdout",
     "text": "[1, 2, 3, 4]\n"
    }
   ],
   "source": [
    "numbers = []\n",
    "numbers.append(1)\n",
    "numbers.append(2)\n",
    "numbers.append(3)\n",
    "numbers.append(4)\n",
    "print(numbers)"
   ]
  },
  {
   "cell_type": "code",
   "execution_count": 19,
   "metadata": {
    "tags": []
   },
   "outputs": [
    {
     "output_type": "stream",
     "name": "stdout",
     "text": "['Konya', 'Adana', 'Samsun']\n"
    }
   ],
   "source": [
    "city = ['Konya', 'Adana',]\n",
    "city.append('Samsun')\n",
    "print(city)"
   ]
  },
  {
   "cell_type": "code",
   "execution_count": 23,
   "metadata": {
    "tags": []
   },
   "outputs": [
    {
     "output_type": "stream",
     "name": "stdout",
     "text": "[1, 4, 9, 7]\n[1, 4, 6, 9, 7]\n"
    }
   ],
   "source": [
    "# İNSERT İSTEDİĞİMZ ARAYA EKLEMİZİ SAĞLAR\n",
    "numbers = [1, 4, 7]\n",
    "numbers.insert(2, 9)\n",
    "print(numbers)\n",
    "numbers.insert(2, 6)\n",
    "print(numbers)"
   ]
  },
  {
   "cell_type": "code",
   "execution_count": 26,
   "metadata": {
    "tags": []
   },
   "outputs": [
    {
     "output_type": "stream",
     "name": "stdout",
     "text": "['New York', 'London', 'Stockholm', 'Istanbul', 'Seoul', 'Sydney', 'Addis Ababa']\n"
    }
   ],
   "source": [
    "city = ['New York', 'London', 'Istanbul', 'Seoul', 'Sydney', 'Addis Ababa']\n",
    "city.insert(2, 'Stockholm')\n",
    "print(city)"
   ]
  },
  {
   "cell_type": "code",
   "execution_count": 27,
   "metadata": {
    "tags": []
   },
   "outputs": [
    {
     "output_type": "stream",
     "name": "stdout",
     "text": "[1, 2, 3, 4, 5]\n"
    }
   ],
   "source": [
    "numbers = [1, 2, 3, 4,]\n",
    "numbers.insert(4, 5)\n",
    "print(numbers)"
   ]
  },
  {
   "cell_type": "code",
   "execution_count": 28,
   "metadata": {
    "tags": []
   },
   "outputs": [
    {
     "output_type": "stream",
     "name": "stdout",
     "text": "[1, 2, 4]\n"
    }
   ],
   "source": [
    "# remove LİSTEDEN ELAMAN SİLER\n",
    "numbers = [1,2,4,7]\n",
    "numbers.remove(7)\n",
    "print(numbers)"
   ]
  },
  {
   "cell_type": "code",
   "execution_count": 29,
   "metadata": {
    "tags": []
   },
   "outputs": [
    {
     "output_type": "stream",
     "name": "stdout",
     "text": "['1', '2', '4']\n"
    }
   ],
   "source": [
    "numbers = ['1','2','4','7']\n",
    "numbers.remove('7')\n",
    "print(numbers)"
   ]
  },
  {
   "cell_type": "code",
   "execution_count": 30,
   "metadata": {
    "tags": []
   },
   "outputs": [
    {
     "output_type": "stream",
     "name": "stdout",
     "text": "['New York', 'Stockholm', 'Istanbul', 'Seoul', 'Sydney', 'Addis Ababa']\n"
    }
   ],
   "source": [
    "city = ['New York', 'London', 'Stockholm', 'Istanbul', 'Seoul', 'Sydney', 'Addis Ababa']\n",
    "city.remove('London')  # ilk gördüğü londonu siler. birden fazla ise\n",
    "print(city)  # we have deleted 'London'\n"
   ]
  },
  {
   "cell_type": "code",
   "execution_count": 32,
   "metadata": {
    "tags": []
   },
   "outputs": [
    {
     "output_type": "stream",
     "name": "stdout",
     "text": "[1, 2, 4, 7]\n"
    }
   ],
   "source": [
    "#SORT (sıralama yapar)\n",
    "numbers = [1,2,4,7]\n",
    "numbers.sort()\n",
    "print(numbers)"
   ]
  },
  {
   "cell_type": "code",
   "execution_count": 33,
   "metadata": {
    "tags": []
   },
   "outputs": [
    {
     "output_type": "stream",
     "name": "stdout",
     "text": "['Addis Ababa', 'Istanbul', 'London', 'New York', 'Seoul', 'Stockholm', 'Sydney']\n"
    }
   ],
   "source": [
    "city = ['New York', 'London', 'Stockholm', 'Istanbul', 'Seoul', 'Sydney', 'Addis Ababa']\n",
    "city.sort()\n",
    "print(city)"
   ]
  },
  {
   "cell_type": "code",
   "execution_count": 35,
   "metadata": {
    "tags": []
   },
   "outputs": [
    {
     "output_type": "stream",
     "name": "stdout",
     "text": "['one', 'four', 'nine']\n"
    }
   ],
   "source": [
    "list_1 = ['one', 'four', 'nine']\n",
    "list1.sort()\n",
    "print(list_1)\n",
    "list2 = ['*-', '@', 'False']\n",
    "list3 = [True, False]\n",
    "list4 = [[3], [44], [-12]]\n",
    "list5 = [[1, 3], [44, -40], [-12, 1]]"
   ]
  },
  {
   "cell_type": "code",
   "execution_count": 36,
   "metadata": {
    "tags": []
   },
   "outputs": [
    {
     "output_type": "stream",
     "name": "stdout",
     "text": "6\n"
    }
   ],
   "source": [
    "# LEN Listelerin uzunluğunu verir  sonuc 6verir index ile karıştırma\n",
    "city = ['Addis Ababa', 'Istanbul', 'New York', 'Seoul', 'Stockholm', \n",
    "    'Sydney']\n",
    "print(len(city))\n"
   ]
  },
  {
   "cell_type": "code",
   "execution_count": null,
   "metadata": {},
   "outputs": [],
   "source": [
    "list_1 = ['one', 'four', 'nine']"
   ]
  },
  {
   "cell_type": "code",
   "execution_count": null,
   "metadata": {},
   "outputs": [],
   "source": []
  },
  {
   "cell_type": "code",
   "execution_count": null,
   "metadata": {},
   "outputs": [],
   "source": []
  },
  {
   "cell_type": "code",
   "execution_count": 3,
   "metadata": {
    "tags": []
   },
   "outputs": [
    {
     "output_type": "stream",
     "name": "stdout",
     "text": "[1, 2, 3, 4, 5]\n"
    }
   ],
   "source": [
    "aa = [1,2,3,4,5]\n",
    "print(aa)"
   ]
  },
  {
   "cell_type": "code",
   "execution_count": 4,
   "metadata": {
    "tags": []
   },
   "outputs": [
    {
     "output_type": "stream",
     "name": "stdout",
     "text": "[1, 2, 3, 4, 5]\n[1, 0, 3, 4, 5]\n[1, 0, 'c', 'l', 'a', 'r', 'u', 's', 'w', 'a', 'y']\n"
    }
   ],
   "source": [
    "aa = [1,2,3,4,5]\n",
    "print(aa)\n",
    "aa[1] = 0\n",
    "print(aa)\n",
    "aa[2:] = \"clarusway\"  #iterable \n",
    "print(aa)"
   ]
  },
  {
   "cell_type": "code",
   "execution_count": null,
   "metadata": {},
   "outputs": [],
   "source": []
  }
 ],
 "metadata": {
  "language_info": {
   "codemirror_mode": {
    "name": "ipython",
    "version": 3
   },
   "file_extension": ".py",
   "mimetype": "text/x-python",
   "name": "python",
   "nbconvert_exporter": "python",
   "pygments_lexer": "ipython3",
   "version": "3.7.6-final"
  },
  "orig_nbformat": 2,
  "kernelspec": {
   "name": "python37664bitbaseconda9a20b4a3b7cd4508ae732f7e651c4b25",
   "display_name": "Python 3.7.6 64-bit ('base': conda)"
  }
 },
 "nbformat": 4,
 "nbformat_minor": 2
}