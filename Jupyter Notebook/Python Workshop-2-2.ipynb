{
 "metadata": {
  "language_info": {
   "codemirror_mode": {
    "name": "ipython",
    "version": 3
   },
   "file_extension": ".py",
   "mimetype": "text/x-python",
   "name": "python",
   "nbconvert_exporter": "python",
   "pygments_lexer": "ipython3",
   "version": "3.7.6-final"
  },
  "orig_nbformat": 2,
  "kernelspec": {
   "name": "python3",
   "display_name": "Python 3"
  }
 },
 "nbformat": 4,
 "nbformat_minor": 2,
 "cells": [
  {
   "cell_type": "code",
   "execution_count": 3,
   "metadata": {
    "tags": []
   },
   "outputs": [
    {
     "output_type": "stream",
     "name": "stdout",
     "text": "Think about it again\n"
    }
   ],
   "source": [
    "# SORU:1 Aldığınız kursun adına göre IT alanında meslek sahibi olup olamayacağınızı ekrana yazdıran bir kod yazınız.\n",
    "\n",
    "course = 'Xxxx'\n",
    "\n",
    "if course == 'Clarusway':\n",
    "    print(\"You guaranteed the job\")\n",
    "else:\n",
    "    print('Think about it again')"
   ]
  },
  {
   "cell_type": "code",
   "execution_count": 7,
   "metadata": {
    "tags": []
   },
   "outputs": [
    {
     "output_type": "stream",
     "name": "stdout",
     "text": "That's too heavy\n"
    }
   ],
   "source": [
    "# SORU:2 Alınan ağırlık değerine göre ağırlığı kaldırıp kaldıramayacağınızı ekrana yazdıran bir kod yazınız.\n",
    "\n",
    "weight = int(input(\"Ağırlığınızı giriniz: \"))\n",
    "if weight > 100:\n",
    "    print(\"That's too heavy\")\n",
    "elif weight > 75:\n",
    "    print(\"I can lift that\")\n",
    "else:\n",
    "    print(\"hadi yine iyisin\")"
   ]
  },
  {
   "cell_type": "code",
   "execution_count": 16,
   "metadata": {
    "tags": []
   },
   "outputs": [
    {
     "output_type": "stream",
     "name": "stdout",
     "text": "Sayı Sıfır\n"
    }
   ],
   "source": [
    "# SORU:3 Girilen sayının pozitif, negatif, ya da 0 olduğunu bulan kodu yazınız.\n",
    "\n",
    "number = int(input(\"Bir sayı giriniz: \"))\n",
    "\n",
    "if number<0:\n",
    "    print(\"Sayı negatif\")\n",
    "elif number>0:\n",
    "    print(\"Sayı pozitif\")\n",
    "else:\n",
    "    print(\"Sayı Sıfır\")"
   ]
  },
  {
   "cell_type": "code",
   "execution_count": 21,
   "metadata": {
    "tags": []
   },
   "outputs": [
    {
     "output_type": "stream",
     "name": "stdout",
     "text": "ss kilo indexin: 25.38 ve kilolusun.\n"
    }
   ],
   "source": [
    "# SORU:4 Kişinin ad, kilo ve boy bilgilerini alıp kilo indekslerini hesaplayan python uygulamasını yapınız.\n",
    "\n",
    "# Formül: (Kilo / boy uzunluğunun karesi)\n",
    "\n",
    "# Aşağıdaki tabloya göre kişi hangi gruba girmektedir.\n",
    "\n",
    "# 0-18.4 => Zayıf\n",
    "\n",
    "# 18.5-24.9 => Normal\n",
    "\n",
    "# 25.0-29.9 => Fazla Kilolu\n",
    "\n",
    "# 30.0-34.9 => Şişman (Obez)\n",
    "name = input(\"Adınız: \")\n",
    "weight = int(input(\"Kilonuz (kg): \"))\n",
    "height = float(input(\"Boyunuz (mt): \"))\n",
    "\n",
    "index = (weight) / (height**2)\n",
    "index = round(index,2)\n",
    "\n",
    "if 0<index<18.4:\n",
    "    print(f'{name} kilo indexin: {index} ve zayıfsın.')\n",
    "elif (index<24.9):\n",
    "    print(f'{name} kilo indexin: {index} ve normalsin.')\n",
    "elif (index<29.9):\n",
    "    print(f'{name} kilo indexin: {index} ve kilolusun.')\n",
    "elif (index<34.9):\n",
    "    print(f'{name} kilo indexin: {index} ve şişmansın.')\n",
    "else:\n",
    "    print('bilgileri hatalı girdiniz')"
   ]
  },
  {
   "cell_type": "code",
   "execution_count": 22,
   "metadata": {
    "tags": []
   },
   "outputs": [
    {
     "output_type": "stream",
     "name": "stdout",
     "text": "elma\narmut\nkarpuz\n"
    }
   ],
   "source": [
    "# SORU:5 Meyvelerden oluşan bir liste oluştur ve for kullanarak ekrana yazdır:\n",
    "\n",
    "L = [\"elma\", \"armut\", \"karpuz\"]\n",
    "\n",
    "for i in L:\n",
    "    print(i)"
   ]
  },
  {
   "cell_type": "code",
   "execution_count": 23,
   "metadata": {
    "tags": []
   },
   "outputs": [
    {
     "output_type": "stream",
     "name": "stdout",
     "text": "0 0\n1 1\n2 4\n3 9\n4 16\n5 25\n6 36\n7 49\n8 64\n9 81\n10 100\n"
    }
   ],
   "source": [
    "# SORU:6 0 ile 10 arasındaki sayıları ve karelerini for kullanarak ekrana yazdır.\n",
    "\n",
    "for i in range(11):\n",
    "    print(i, i**2)"
   ]
  },
  {
   "cell_type": "code",
   "execution_count": 30,
   "metadata": {
    "tags": []
   },
   "outputs": [
    {
     "output_type": "stream",
     "name": "stdout",
     "text": "1\n2\n3\n4\n5\n"
    }
   ],
   "source": [
    "# SORU:7 1 ile 10 arasında sayıları for kullanarak ekrana yazdır 5 i görünce döngüden çık.\n",
    "\n",
    "for i in range(1,11):\n",
    "    print(i)        \n",
    "    if (i%5==0):\n",
    "        break"
   ]
  },
  {
   "cell_type": "code",
   "execution_count": 36,
   "metadata": {
    "tags": []
   },
   "outputs": [
    {
     "output_type": "stream",
     "name": "stdout",
     "text": "1\n3\n5\n7\n9\n"
    }
   ],
   "source": [
    "# SORU:8 0 dan 10 a kadar olan tek sayıları for döngüsü kullanarak ekrana yazdır.\n",
    "\n",
    "for i in range(11):\n",
    "    if i % 2 == 0:\n",
    "        continue\n",
    "    print(i)\n"
   ]
  },
  {
   "cell_type": "code",
   "execution_count": 1,
   "metadata": {
    "tags": []
   },
   "outputs": [
    {
     "output_type": "stream",
     "name": "stdout",
     "text": "sonsuz döngü\n"
    }
   ],
   "source": [
    "# SORU:9 While döngüsü kullanarak sonsuz döngü örneği yazınız.\n",
    "\n",
    "flag = 1\n",
    "\n",
    "while (flag):\n",
    "    print(\"sonsuz döngü\")\n",
    "    break"
   ]
  },
  {
   "cell_type": "code",
   "execution_count": 5,
   "metadata": {
    "tags": []
   },
   "outputs": [
    {
     "output_type": "stream",
     "name": "stdout",
     "text": "5 sayısının faktoriyeli : 120\n"
    }
   ],
   "source": [
    "# SORU:10 Girilen sayının faktoriyelini alan kodu for döngüsü kullanarak yazınız.\n",
    "\n",
    "sonuc = 1\n",
    "sayi = int(input(\"birsayı giriniz: \"))\n",
    "\n",
    "for i in range(1,sayi+1):\n",
    "    sonuc *= i\n",
    "print(\"{} sayısının faktoriyeli : {}\".format(sayi,sonuc))"
   ]
  },
  {
   "cell_type": "code",
   "execution_count": 7,
   "metadata": {
    "tags": []
   },
   "outputs": [
    {
     "output_type": "stream",
     "name": "stdout",
     "text": "1 x 1 = 1\n1 x 2 = 2\n1 x 3 = 3\n1 x 4 = 4\n1 x 5 = 5\n2 x 1 = 2\n2 x 2 = 4\n2 x 3 = 6\n2 x 4 = 8\n2 x 5 = 10\n3 x 1 = 3\n3 x 2 = 6\n3 x 3 = 9\n3 x 4 = 12\n3 x 5 = 15\n4 x 1 = 4\n4 x 2 = 8\n4 x 3 = 12\n4 x 4 = 16\n4 x 5 = 20\n5 x 1 = 5\n5 x 2 = 10\n5 x 3 = 15\n5 x 4 = 20\n5 x 5 = 25\n"
    }
   ],
   "source": [
    "# SORU:11 for döngüsü kullanarak 1 den 5 e kadar çarpım tablosu oluşturunuz.\n",
    "\n",
    "for x in range(1,6):\n",
    "    for y in range(1,6):\n",
    "        print(x, \"x\", y, \"=\", x*y)"
   ]
  },
  {
   "cell_type": "code",
   "execution_count": 8,
   "metadata": {
    "tags": []
   },
   "outputs": [
    {
     "output_type": "stream",
     "name": "stdout",
     "text": "bir\niki\nüç\ndört\n"
    }
   ],
   "source": [
    "# SORU:12 for döngüsü kullanarak bir sözlüğün elemanlarını ekrana yazdırınız.\n",
    "sözlük = {\"bir\":1,\"iki\":2,\"üç\":3,\"dört\":4}\n",
    "for i in sözlük:\n",
    "    print(i)"
   ]
  },
  {
   "cell_type": "code",
   "execution_count": 14,
   "metadata": {
    "tags": []
   },
   "outputs": [
    {
     "output_type": "stream",
     "name": "stdout",
     "text": "bir\niki\nüç\ndört\n"
    }
   ],
   "source": [
    "sözlük = {\"bir\":1,\"iki\":2,\"üç\":3,\"dört\":4}\n",
    "for i in sözlük.keys():\n",
    "    print(i)"
   ]
  },
  {
   "cell_type": "code",
   "execution_count": 15,
   "metadata": {
    "tags": []
   },
   "outputs": [
    {
     "output_type": "stream",
     "name": "stdout",
     "text": "elma\narmut\nkarpuz\n"
    }
   ],
   "source": [
    "# SORU:13 Aşağıda verilen listenin tüm elemanlarını while döngüsü kullanarak ekrana yazdırınız.\n",
    "L = [\"elma\",\"armut\",\"karpuz\"]\n",
    "i=0\n",
    "while i < len(L):\n",
    "    print(L[i])\n",
    "    i += 1"
   ]
  },
  {
   "cell_type": "code",
   "execution_count": 17,
   "metadata": {
    "tags": []
   },
   "outputs": [
    {
     "output_type": "stream",
     "name": "stdout",
     "text": "1 2 3 4 5 6 7 8 9 10"
    }
   ],
   "source": [
    "# SORU:14 1'den 10' a kadar olan sayıları while kullanarak ekrana yazdırınız.\n",
    "a=1\n",
    "b=11\n",
    "while a<b:\n",
    "    print(a, end=\" \")\n",
    "    a += 1"
   ]
  },
  {
   "cell_type": "code",
   "execution_count": 19,
   "metadata": {
    "tags": []
   },
   "outputs": [
    {
     "output_type": "stream",
     "name": "stdout",
     "text": "Your text has 3 vowels and 3 consonants\n"
    }
   ],
   "source": [
    "# SORU:15 Write a Python code that counts how many vowels and consonants a string has that a user entered.\n",
    "text = input(\"Please enter a string: \").lower()\n",
    "consonants = 0\n",
    "vowels = 0\n",
    "\n",
    "for i in range(len(text)):\n",
    "    if text[i] in set(\"aeıioöuü\"):\n",
    "        vowels += 1\n",
    "    elif text[i] in set(\"bcçdfgğhjklmnpqrsştwxyz\"):\n",
    "        consonants += 1\n",
    "print(f\"Your text has {vowels} vowels and {consonants} consonants\")"
   ]
  },
  {
   "cell_type": "code",
   "execution_count": 20,
   "metadata": {
    "tags": []
   },
   "outputs": [
    {
     "output_type": "stream",
     "name": "stdout",
     "text": "(8, 7)\n<class 'tuple'>\n"
    }
   ],
   "source": [
    "def add(a,b):\n",
    "    return(a+5, b+5)\n",
    "add(3,2)\n",
    "result=add(3,2)\n",
    "print(result)\n",
    "print(type(result))"
   ]
  },
  {
   "cell_type": "code",
   "execution_count": 21,
   "metadata": {
    "tags": []
   },
   "outputs": [
    {
     "output_type": "stream",
     "name": "stdout",
     "text": "arg1: Clarusway\narg2: reinvent\narg3: yourself\narg1: Clarusway\narg2: reinvent\narg3: yourself\n"
    }
   ],
   "source": [
    "def myFun(arg1, arg2, arg3): \n",
    "    print(\"arg1:\", arg1) \n",
    "    print(\"arg2:\", arg2) \n",
    "    print(\"arg3:\", arg3) \n",
    "      \n",
    "# Now we can use *args or **kwargs to \n",
    "# pass arguments to this function :  \n",
    "args = [\"Clarusway\", \"reinvent\", \"yourself\"] \n",
    "myFun(*args) \n",
    "  \n",
    "kwargs = {\"arg1\" : \"Clarusway\", \"arg2\" : \"reinvent\", \"arg3\" : \"yourself\"} \n",
    "myFun(**kwargs)"
   ]
  },
  {
   "cell_type": "code",
   "execution_count": 23,
   "metadata": {
    "tags": []
   },
   "outputs": [
    {
     "output_type": "stream",
     "name": "stdout",
     "text": "args:  ('Clarusway', 'reinvent', 'yourself')\nkwargs:  {'first': 'Clarusway', 'mid': 'reinvent', 'last': 'yourself'}\n"
    }
   ],
   "source": [
    "#Using *args and **kwargs in same line to call a function\n",
    "\n",
    "def myFun(*args,**kwargs): \n",
    "    print(\"args: \", args) \n",
    "    print(\"kwargs: \", kwargs) \n",
    "  \n",
    "# Now we can use both *args ,**kwargs to pass arguments to this function : \n",
    "myFun('Clarusway','reinvent','yourself', first=\"Clarusway\",mid=\"reinvent\",last=\"yourself\") "
   ]
  },
  {
   "cell_type": "code",
   "execution_count": 26,
   "metadata": {},
   "outputs": [
    {
     "output_type": "execute_result",
     "data": {
      "text/plain": "331"
     },
     "metadata": {},
     "execution_count": 26
    }
   ],
   "source": [
    "# SORU:19 Define a function with 'arbitrary numbers of arguments' method named as ‘spec_opr(*numbers)' . This function sums all of the arguments after a process. This process is even numbers should be divided by 2 and odd numbers should be multiplied with 3 first and then added to the total sum.\n",
    "\n",
    "# Examples:\n",
    "\n",
    "# spec_opr(3, 2, 6) should return 13,\n",
    "\n",
    "# spec_opr(58, 53, 10, -10, -40, -28, 8, 34, 70, -16, 33) should return 301,\n",
    "\n",
    "# spec_opr(93, 12, 5, 84, -22) should return 331\n",
    "\n",
    "def spec_opr(*numbers):\n",
    "    total = 0\n",
    "    for number in numbers:\n",
    "        if number %2 == 0:\n",
    "            total += number/2\n",
    "        else:\n",
    "            total += number*3\n",
    "    return int(total)\n",
    "spec_opr(93, 12, 5, 84, -22)"
   ]
  },
  {
   "cell_type": "code",
   "execution_count": 30,
   "metadata": {
    "tags": []
   },
   "outputs": [
    {
     "output_type": "stream",
     "name": "stdout",
     "text": "original list\n[('English', 88), ('Science', 90), ('Maths', 97), ('Social sciences', 82)]\n\nsorting the original list:\n[('Social sciences', 82), ('English', 88), ('Science', 90), ('Maths', 97)]\n"
    }
   ],
   "source": [
    "# SORU:20 Write a Python program to sort a list of tuples using Lambda.\n",
    "subject_marks = [('English', 88), ('Science', 90), ('Maths', 97), ('Social sciences', 82)]\n",
    "\n",
    "print(\"original list\")\n",
    "print(subject_marks)\n",
    "subject_marks.sort(key = lambda x: x[1])\n",
    "print(\"\\nsorting the original list:\")\n",
    "print(subject_marks)"
   ]
  },
  {
   "cell_type": "code",
   "execution_count": 36,
   "metadata": {
    "tags": []
   },
   "outputs": [
    {
     "output_type": "stream",
     "name": "stdout",
     "text": "[1, 2, 3, 4, 5]\n"
    }
   ],
   "source": [
    "# SORU:21 Write a Python function that takes a list and returns a new list with unique elements of the first list.\n",
    "def unique_list(l):\n",
    "    x = []\n",
    "    for a in l:\n",
    "        if a not in x:\n",
    "            x.append(a)\n",
    "    return x\n",
    "print(unique_list([1,2,2,3,3,3,4,4,5,5,5])) "
   ]
  },
  {
   "cell_type": "code",
   "execution_count": 40,
   "metadata": {
    "tags": []
   },
   "outputs": [
    {
     "output_type": "stream",
     "name": "stdout",
     "text": "original list:\n[1, 2, 3, 4, 5, 6, 7, 8, 9, 10]\n\nEven numbers from the list:\n[2, 4, 6, 8, 10]\n\nOdd numbers from the list:\n[1, 3, 5, 7, 9]\n"
    }
   ],
   "source": [
    "# SORU:22 Write a Python program to filter a list of integers using Lambda.\n",
    "nums = [1, 2, 3, 4, 5, 6, 7, 8, 9, 10]\n",
    "\n",
    "print(\"original list:\")\n",
    "print(nums)\n",
    "print(\"\\nEven numbers from the list:\")\n",
    "even_numbers =  list(filter(lambda x: x%2 == 0, nums))\n",
    "print(even_numbers)\n",
    "print(\"\\nOdd numbers from the list:\")\n",
    "odd_numbers =  list(filter(lambda x: x%2 != 0, nums))\n",
    "print(odd_numbers)"
   ]
  }
 ]
}