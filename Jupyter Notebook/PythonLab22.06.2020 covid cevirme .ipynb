{
 "cells": [
  {
   "cell_type": "code",
   "execution_count": 1,
   "metadata": {},
   "outputs": [],
   "source": [
    "# aSSİGNMENT-1 (WEEKLY PROFIT)"
   ]
  },
  {
   "cell_type": "code",
   "execution_count": 8,
   "metadata": {},
   "outputs": [
    {
     "name": "stdout",
     "output_type": "stream",
     "text": [
      "1605.78\n"
     ]
    }
   ],
   "source": [
    "deposit = 1000 #ilk gün yatırdığımız para  pazartesi\n",
    "deposit = deposit * 7/100 + deposit #salı\n",
    "deposit = deposit * 7/100 + deposit # çarşamba\n",
    "deposit = deposit * 7/100 + deposit # perşembe\n",
    "deposit = deposit * 7/100 + deposit # cuma\n",
    "deposit = deposit * 7/100 + deposit # cumartesi\n",
    "deposit = deposit * 7/100 + deposit # pazar\n",
    "deposit = deposit * 7/100 + deposit # pazartesi\n",
    "print(round(deposit, 2))"
   ]
  },
  {
   "cell_type": "code",
   "execution_count": 12,
   "metadata": {},
   "outputs": [
    {
     "name": "stdout",
     "output_type": "stream",
     "text": [
      "1605.7814764784307\n"
     ]
    }
   ],
   "source": [
    "deposit = 1000\n",
    "deposit = deposit * 1.07 ** 7\n",
    "print(deposit)"
   ]
  },
  {
   "cell_type": "code",
   "execution_count": 13,
   "metadata": {},
   "outputs": [],
   "source": [
    "# COVID ASSIGNMENT"
   ]
  },
  {
   "cell_type": "code",
   "execution_count": 16,
   "metadata": {},
   "outputs": [
    {
     "data": {
      "text/plain": [
       "True"
      ]
     },
     "execution_count": 16,
     "metadata": {},
     "output_type": "execute_result"
    }
   ],
   "source": [
    "bool(1)\n",
    "bool(-1)"
   ]
  },
  {
   "cell_type": "code",
   "execution_count": 20,
   "metadata": {},
   "outputs": [
    {
     "data": {
      "text/plain": [
       "False"
      ]
     },
     "execution_count": 20,
     "metadata": {},
     "output_type": "execute_result"
    }
   ],
   "source": [
    "bool(None)\n",
    "bool([])\n",
    "bool(0)"
   ]
  },
  {
   "cell_type": "code",
   "execution_count": 24,
   "metadata": {},
   "outputs": [
    {
     "name": "stdout",
     "output_type": "stream",
     "text": [
      "True\n"
     ]
    }
   ],
   "source": [
    "age = False\n",
    "chronic = True\n",
    "immune = False\n",
    "risk = age or chronic or immune\n",
    "print(risk)"
   ]
  },
  {
   "cell_type": "code",
   "execution_count": 25,
   "metadata": {},
   "outputs": [
    {
     "name": "stdout",
     "output_type": "stream",
     "text": [
      "False\n"
     ]
    }
   ],
   "source": [
    "ısı = True\n",
    "madde = False\n",
    "oksijen = True\n",
    "yangın = ısı and madde and oksijen\n",
    "print(yangın)"
   ]
  },
  {
   "cell_type": "code",
   "execution_count": 26,
   "metadata": {},
   "outputs": [
    {
     "name": "stdout",
     "output_type": "stream",
     "text": [
      "[]\n"
     ]
    }
   ],
   "source": [
    "print({0} and False or [])"
   ]
  },
  {
   "cell_type": "code",
   "execution_count": 27,
   "metadata": {},
   "outputs": [
    {
     "data": {
      "text/plain": [
       "True"
      ]
     },
     "execution_count": 27,
     "metadata": {},
     "output_type": "execute_result"
    }
   ],
   "source": [
    "not(\"dolu_string\" and \"\" or 0 and False and \"False\") "
   ]
  },
  {
   "cell_type": "code",
   "execution_count": 28,
   "metadata": {},
   "outputs": [],
   "source": [
    "# CELCIUSDAN fAHRENHEITE CEVİRME"
   ]
  },
  {
   "cell_type": "code",
   "execution_count": 30,
   "metadata": {},
   "outputs": [
    {
     "name": "stdout",
     "output_type": "stream",
     "text": [
      "bir rakam gir :5\n",
      "başka bir rakam daha gir3\n",
      "53\n"
     ]
    }
   ],
   "source": [
    "first = input(\"bir rakam gir :\")\n",
    "second = input(\"başka bir rakam daha gir\")\n",
    "\n",
    "print(first + second)"
   ]
  },
  {
   "cell_type": "code",
   "execution_count": 31,
   "metadata": {},
   "outputs": [
    {
     "name": "stdout",
     "output_type": "stream",
     "text": [
      "bir rakam gir :5\n",
      "başka bir rakam daha gir3\n",
      "8\n"
     ]
    }
   ],
   "source": [
    "first = int(input(\"bir rakam gir :\"))\n",
    "second = int(input(\"başka bir rakam daha gir\"))\n",
    "\n",
    "print(first + second)"
   ]
  },
  {
   "cell_type": "code",
   "execution_count": 33,
   "metadata": {},
   "outputs": [
    {
     "name": "stdout",
     "output_type": "stream",
     "text": [
      "celsius ısı değeri girelim :33\n",
      "Celsius derece olarak 33.0 değeri, 91.4 fahrenheit eder\n"
     ]
    }
   ],
   "source": [
    "celsius = float(input(\"celsius ısı değeri girelim :\"))\n",
    "fahreinheit = (celsius * 1.8) + 32\n",
    "\n",
    "output = f\"Celsius derece olarak {celsius} değeri, {fahreinheit} fahrenheit eder\"\n",
    "\n",
    "print(output)"
   ]
  },
  {
   "cell_type": "code",
   "execution_count": 34,
   "metadata": {},
   "outputs": [
    {
     "name": "stdout",
     "output_type": "stream",
     "text": [
      "kilometre değeri giriniz  :500\n",
      "500.0 km değeri, 810.65 mil eder \n"
     ]
    }
   ],
   "source": [
    "kilometre = float(input(\"kilometre değeri giriniz  :\"))\n",
    "miles = kilometre * 1.6213\n",
    "\n",
    "output1 = f\"{kilometre} km değeri, {miles} mil eder \"\n",
    "print(output1)"
   ]
  },
  {
   "cell_type": "code",
   "execution_count": 41,
   "metadata": {},
   "outputs": [
    {
     "name": "stdout",
     "output_type": "stream",
     "text": [
      "Clarusway, Clarusway, Clarusway, \n",
      "\tClarusway,Clarusway,Clarusway,  \n",
      "\t\tClarusway,Clarusway,Clarusway\n"
     ]
    }
   ],
   "source": [
    "text = \"Clarusway, Clarusway, Clarusway, \\n\\tClarusway,Clarusway,Clarusway,  \\n\\t\\tClarusway,Clarusway,Clarusway\"\n",
    "print(text)"
   ]
  },
  {
   "cell_type": "code",
   "execution_count": null,
   "metadata": {},
   "outputs": [],
   "source": []
  }
 ],
 "metadata": {
  "kernelspec": {
   "display_name": "Python 3",
   "language": "python",
   "name": "python3"
  },
  "language_info": {
   "codemirror_mode": {
    "name": "ipython",
    "version": 3
   },
   "file_extension": ".py",
   "mimetype": "text/x-python",
   "name": "python",
   "nbconvert_exporter": "python",
   "pygments_lexer": "ipython3",
   "version": "3.7.6"
  }
 },
 "nbformat": 4,
 "nbformat_minor": 4
}
