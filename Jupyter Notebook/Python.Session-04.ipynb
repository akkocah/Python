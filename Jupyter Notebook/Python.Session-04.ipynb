{
 "cells": [
  {
   "cell_type": "code",
   "execution_count": 7,
   "metadata": {},
   "outputs": [
    {
     "name": "stdout",
     "output_type": "stream",
     "text": [
      "Hypotenuse is 5.0\n"
     ]
    }
   ],
   "source": [
    "a = 3\n",
    "b = 4\n",
    "c = (a ** 2 + b ** 2) ** 0.5\n",
    "print(f\"Hypotenuse is {c}\")"
   ]
  },
  {
   "cell_type": "code",
   "execution_count": 8,
   "metadata": {},
   "outputs": [
    {
     "name": "stdout",
     "output_type": "stream",
     "text": [
      "5 dir.\n"
     ]
    }
   ],
   "source": [
    "number = 5\n",
    "print(number, \"dir.\")"
   ]
  },
  {
   "cell_type": "code",
   "execution_count": 9,
   "metadata": {},
   "outputs": [
    {
     "name": "stdout",
     "output_type": "stream",
     "text": [
      "\n"
     ]
    }
   ],
   "source": [
    "print()  # shift + tab bilgi almak için "
   ]
  },
  {
   "cell_type": "code",
   "execution_count": 13,
   "metadata": {},
   "outputs": [
    {
     "name": "stdout",
     "output_type": "stream",
     "text": [
      "ahmet/mehmet/aslı\n"
     ]
    }
   ],
   "source": [
    "print(\"ahmet\", \"mehmet\", \"aslı\", sep=\"/\")"
   ]
  },
  {
   "cell_type": "code",
   "execution_count": 14,
   "metadata": {},
   "outputs": [
    {
     "name": "stdout",
     "output_type": "stream",
     "text": [
      "ahmet mehmet aslı\n",
      "ahmet mehmet aslı\n"
     ]
    }
   ],
   "source": [
    "print(\"ahmet\", \"mehmet\", \"aslı\", end=\"\\n\")\n",
    "print(\"ahmet\", \"mehmet\", \"aslı\")"
   ]
  },
  {
   "cell_type": "code",
   "execution_count": 15,
   "metadata": {},
   "outputs": [
    {
     "name": "stdout",
     "output_type": "stream",
     "text": [
      "ahmet mehmet aslı ahmet mehmet aslı\n"
     ]
    }
   ],
   "source": [
    "print(\"ahmet\", \"mehmet\", \"aslı\", end=\" \")\n",
    "print(\"ahmet\", \"mehmet\", \"aslı\")"
   ]
  },
  {
   "cell_type": "code",
   "execution_count": 16,
   "metadata": {},
   "outputs": [
    {
     "name": "stdout",
     "output_type": "stream",
     "text": [
      "ahmet mehmet aslı-ahmet mehmet aslı\n"
     ]
    }
   ],
   "source": [
    "print(\"ahmet\", \"mehmet\", \"aslı\", end=\"-\")\n",
    "print(\"ahmet\", \"mehmet\", \"aslı\")"
   ]
  },
  {
   "cell_type": "code",
   "execution_count": 24,
   "metadata": {},
   "outputs": [
    {
     "name": "stdout",
     "output_type": "stream",
     "text": [
      "value of x     :  5\n",
      "2 more of x    :  7 \n",
      "\n",
      "value of y     :  10\n",
      "2 minus y      :  8 \n",
      "\n",
      "value of z     :  6\n",
      "2 times z      :  12 \n",
      "\n"
     ]
    }
   ],
   "source": [
    "x = 5\n",
    "print(\"value of x     : \",x)\n",
    "\n",
    "x += 2\n",
    "print(\"2 more of x    : \", x, \"\\n\")\n",
    "\n",
    "y = 10\n",
    "print(\"value of y     : \", y)\n",
    "\n",
    "y -= 2\n",
    "print(\"2 minus y      : \", y, \"\\n\")\n",
    "\n",
    "z = 6\n",
    "print(\"value of z     : \", z)\n",
    "\n",
    "z *= 2\n",
    "print(\"2 times z      : \", z, \"\\n\")"
   ]
  },
  {
   "cell_type": "code",
   "execution_count": 20,
   "metadata": {},
   "outputs": [
    {
     "name": "stdout",
     "output_type": "stream",
     "text": [
      "2 more of x    :  11 \n",
      "\n"
     ]
    }
   ],
   "source": []
  },
  {
   "cell_type": "code",
   "execution_count": 25,
   "metadata": {},
   "outputs": [
    {
     "name": "stdout",
     "output_type": "stream",
     "text": [
      "'bugün' benim en mutlu günüm\n",
      "bugün \"benim\" en mutlu günüm\n"
     ]
    }
   ],
   "source": [
    "print(\"'bugün' benim en mutlu günüm\")\n",
    "print(\"bugün \\\"benim\\\" en mutlu günüm\")\n"
   ]
  },
  {
   "cell_type": "code",
   "execution_count": 31,
   "metadata": {},
   "outputs": [
    {
     "name": "stdout",
     "output_type": "stream",
     "text": [
      "Clarusway, Clarusway, Clarusway \n",
      "\n",
      "\t Clarusway, Clarusway, Clarusway \n",
      "\n",
      "\t \t Clarusway, Clarusway, Clarusway\n"
     ]
    }
   ],
   "source": [
    "text = \"Clarusway, Clarusway, Clarusway\"\n",
    "\n",
    "print(text, \"\\n\")\n",
    "print(\"\\t\", text, \"\\n\")\n",
    "print(\"\\t\", \"\\t\", text)"
   ]
  },
  {
   "cell_type": "code",
   "execution_count": 33,
   "metadata": {},
   "outputs": [
    {
     "name": "stdout",
     "output_type": "stream",
     "text": [
      "0\n",
      "True\n"
     ]
    }
   ],
   "source": [
    "print(1 and 0)\n",
    "print(not 0)"
   ]
  },
  {
   "cell_type": "code",
   "execution_count": 34,
   "metadata": {},
   "outputs": [
    {
     "name": "stdout",
     "output_type": "stream",
     "text": [
      "3\n"
     ]
    }
   ],
   "source": [
    "print(2 and 3)"
   ]
  },
  {
   "cell_type": "code",
   "execution_count": 35,
   "metadata": {},
   "outputs": [
    {
     "name": "stdout",
     "output_type": "stream",
     "text": [
      "0\n"
     ]
    }
   ],
   "source": [
    "print(0 and 1)"
   ]
  },
  {
   "cell_type": "code",
   "execution_count": 41,
   "metadata": {},
   "outputs": [
    {
     "name": "stdout",
     "output_type": "stream",
     "text": [
      "{}\n"
     ]
    }
   ],
   "source": [
    "print(0 or {})\n"
   ]
  },
  {
   "cell_type": "code",
   "execution_count": 43,
   "metadata": {},
   "outputs": [
    {
     "name": "stdout",
     "output_type": "stream",
     "text": [
      "Clarusway, Clarusway, Clarusway \n",
      "\n",
      "\t Clarusway, Clarusway, Clarusway \n",
      "\n",
      "\t \t Clarusway, Clarusway, Clarusway\n"
     ]
    }
   ],
   "source": [
    "text = \"Clarusway, Clarusway, Clarusway\"\n",
    "\n",
    "print(text, \"\\n\")\n",
    "print(\"\\t\", text, \"\\n\")\n",
    "print(\"\\t\", \"\\t\", text)"
   ]
  },
  {
   "cell_type": "code",
   "execution_count": 44,
   "metadata": {},
   "outputs": [
    {
     "name": "stdout",
     "output_type": "stream",
     "text": [
      "2\n"
     ]
    }
   ],
   "source": [
    "print(2 or 3)"
   ]
  },
  {
   "cell_type": "code",
   "execution_count": 45,
   "metadata": {},
   "outputs": [
    {
     "name": "stdout",
     "output_type": "stream",
     "text": [
      "hello world\n"
     ]
    }
   ],
   "source": [
    "print(2 and \"hello world\")\n"
   ]
  },
  {
   "cell_type": "code",
   "execution_count": null,
   "metadata": {},
   "outputs": [],
   "source": [
    "print"
   ]
  }
 ],
 "metadata": {
  "kernelspec": {
   "display_name": "Python 3",
   "language": "python",
   "name": "python3"
  },
  "language_info": {
   "codemirror_mode": {
    "name": "ipython",
    "version": 3
   },
   "file_extension": ".py",
   "mimetype": "text/x-python",
   "name": "python",
   "nbconvert_exporter": "python",
   "pygments_lexer": "ipython3",
   "version": "3.7.6"
  }
 },
 "nbformat": 4,
 "nbformat_minor": 4
}
