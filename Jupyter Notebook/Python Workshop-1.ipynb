
sales = {
  "cost_value": 31.87,
  "sell_value": 45.00,
  "inventory": 1000
}  

# the profit will be : 13130